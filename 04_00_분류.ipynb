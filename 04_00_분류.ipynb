{
  "nbformat": 4,
  "nbformat_minor": 0,
  "metadata": {
    "colab": {
      "name": "04_00_분류.ipynb",
      "provenance": [],
      "collapsed_sections": [],
      "toc_visible": true,
      "authorship_tag": "ABX9TyPmNIFOwVPiP5Z94uB1lCWp",
      "include_colab_link": true
    },
    "kernelspec": {
      "name": "python3",
      "display_name": "Python 3"
    }
  },
  "cells": [
    {
      "cell_type": "markdown",
      "metadata": {
        "id": "view-in-github",
        "colab_type": "text"
      },
      "source": [
        "<a href=\"https://colab.research.google.com/github/choi-yh/Pyhon_ML_Guide/blob/master/04_00_%EB%B6%84%EB%A5%98.ipynb\" target=\"_parent\"><img src=\"https://colab.research.google.com/assets/colab-badge.svg\" alt=\"Open In Colab\"/></a>"
      ]
    },
    {
      "cell_type": "markdown",
      "metadata": {
        "id": "bz-JECdl3JTI"
      },
      "source": [
        "## 01. 분류(Classification)의 개요"
      ]
    },
    {
      "cell_type": "markdown",
      "metadata": {
        "id": "rVnAnlMz3Sk4"
      },
      "source": [
        "* 학습 데이터로 주어진 데이터의 피처와 레이블값(결정 값, 클래스 값)을 머신러닝 알고리즘으로 학습해 모델을 생성하고, 이렇게 생성된 모델에 새로운 데이터 값이 주어졌을 때, 미지의 레이블 값을 예측하는 것\n",
        "\n",
        "\n",
        "* 분류 알고리즘\n",
        "    * **나이브 베이즈(Naive Bayes)**: 베이즈(Bayes) 통계와 생성 모델에 기반\n",
        "    * **로지스틱 회귀(Logistic Regression)**: 독립변수와 종속변수의 선형 관계성에 기반\n",
        "    * **결정 트리(Decision Tree)**: 데이터 균일도에 따른 규칙 기반\n",
        "    * **서포트 벡터 머신(Support Vector Machine)**: 개별 클래스 간의 최대 분류 마진을 효과적으로 찾아준다.\n",
        "    * **최소 근접(Nearest Neighbor) 알고리즘**: 근접 거리를 기준\n",
        "    * **신경망(Neural Network)**: 심층 연결 기반\n",
        "    * **앙상블(Ensemble)**: 서로 다른(또는 같은) 머신러닝 알고리즘을 결합\n",
        "\n",
        "\n",
        "* **앙상블(Ensemble)**\n",
        "    * 배깅(Bagging)\n",
        "        * 랜덤 포레스트(Random Forest)가 대표적\n",
        "    * 부스팅(Boosting)\n",
        "        * 초기 Gradient Boosting이 뛰어난 성능을 가지지만 수행 시간이 오래 걸리는 단점이 있다.\n",
        "        * 이를 보완하기 위해 XgBoost(eXtra Gradient Boosting), LightGBM 알고리즘 개발 "
      ]
    },
    {
      "cell_type": "markdown",
      "metadata": {
        "id": "K5OGCFir5zLj"
      },
      "source": [
        "## 02. 결정 트리"
      ]
    },
    {
      "cell_type": "markdown",
      "metadata": {
        "id": "IIsT8CT4520s"
      },
      "source": [
        "* 데이터에 있는 규칙을 학습을 통해 자동으로 찾아내 트리(Tree) 기반의 분류 규칙을 만드는 것\n",
        "* 데이터의 어떤 기준을 바탕으로 규칙을 만들어야 가장 효율적인 분류가 될 것인가가 알고리즘의 성능을 크게 좌우함\n",
        "\n",
        "\n",
        "* 규칙 조건에 따른 **규칙 노드(Decision Node)**, 결정된 클래스 값을 나타내는 **리프 노드(Leaf Node)**, 새로운 규칙 조건마다 서브 트리(Sub Tree) 생성\n",
        "* 데이터 세트에 있는 피처가 결합해 규칙 조건을 만들 때마다 규칙 노드 생성\n",
        "* 규칙이 많다 = 분류를 결정하는 방식이 복잡 => 과적합으로 이어질 수 있다.  \n",
        "트리의 깊이(depth)가 깊어질수록 결정 트리의 예측 성능이 저하될 가능성이 높다.\n",
        "\n",
        "\n",
        "* 과적합이 일어나지 않도록 결정 트리를 생성하려면 데이터를 분류할 때 최대한 많은 데이터 세트를 결정 노드가 분리할 수 있도록 해야 한다.\n",
        "* 결정 노드로 레이블을 분류했을 때, 균일도(데이터의 통일성?)가 높아야한다.\n",
        "* 이에 따라, **결정 노드는 정보 균일도가 높은 데이터 세트를 먼저 선택**할 수 있도록 규칙 조건을 만든다.\n",
        "\n",
        "\n",
        "* 정보의 균일도를 측정하는 방법\n",
        "    * **엔트로피를 이용한 정보 이득(Information Gain)**\n",
        "        * 엔트로피: 주어진 데이터 집합의 혼잡도, 다른 값이 섞여 있으면 엔트로피가 높고, 같은 값이 섞여 있으면 엔트로피가 낮다.\n",
        "        * 정보 이득 지수 = 1 - 엔트로피 지수\n",
        "        * *결정 트리는 정보 이득이 높은 속성을 기준으로 데이터를 분할*\n",
        "    * **지니 계수(Gini Coefficient)**\n",
        "        * 지니 계수: 원래 경제학에서 불평등 지수를 나타낼 때 사용하는 계수\n",
        "        * 0이 가장 평등, 1로 갈수록 불평등\n",
        "        * 머신러닝에 적용될 때는 지니 계수가 낮을수록 데이터 균일도가 높은 것으로 해석해 *지니 계수가 낮은 속성을 기준으로 분할*\n",
        "\n",
        "* 사이킷런의 DecisionTreeClassifier는 기본으로 지니 계수를 이용해 데이터 세트를 분할\n",
        "\n",
        "\n",
        "* 결정 트리의 분류 과정\n",
        "    1. 데이터 집합의 모든 아이템이 같은 분류에 속하는지 확인  \n",
        "        1. (If True) 리프 노드로 만들어서 **분류 결정**  \n",
        "        2. (Else) 데이터를 분할하는 데 가장 좋은 속성과 분할 기준을 찾음. (정보이득 or 지니계수 이용)\n",
        "    3. 해당 속성과 분할 기준으로 데이터를 분할하여 Branch 노드 생성\n",
        "    4. Recursive 하게 모든 데이터 집합의 분류가 결정될 때까지 수행"
      ]
    },
    {
      "cell_type": "markdown",
      "metadata": {
        "id": "bxKmnA-f6AeD"
      },
      "source": [
        "### 결정 트리 모델의 특징"
      ]
    },
    {
      "cell_type": "markdown",
      "metadata": {
        "id": "q_AAlGfMCHVq"
      },
      "source": [
        "* 결정 트리의 **장점**\n",
        "    * **정보의 균일도**라는 룰을 기반으로 하고 있어서 알고리즘이 **쉽고 직관적**이다.  \n",
        "=> 룰이 명확하기 때문에 이를 기반으로 어떻게 규칙 노드와 리프 노드가 만들어지는지 알 수 있고, 시각화도 가능하다.\n",
        "    * 정보의 균일도만 신경쓰면 되기 때문에 특별한 경우를 제외하고는 각 피처의 스케일링과 정규화 같은 **전처리 작업이 필요없다.**\n",
        "\n",
        "* 결정 트리의 **단점**\n",
        "    * **과적합**으로 인한 정확도 하락\n",
        "    * 피처가 많고 균일도가 다양하게 존재할수록 트리의 깊이가 커지고 복잡해진다."
      ]
    },
    {
      "cell_type": "markdown",
      "metadata": {
        "id": "6CWuqFah1ZE5"
      },
      "source": [
        "### 결정 트리 파라미터"
      ]
    },
    {
      "cell_type": "markdown",
      "metadata": {
        "id": "n6LDlHIDaa1u"
      },
      "source": [
        "* 사이킷런에서 결정 트리 구현은 CART(Classification And Regression Tree) 알고리즘 기반\n",
        "\n",
        "* 파라미터\n",
        "    * ***min_samples_split***\n",
        "        * 노드를 분할하기 위한 최소한의 샘플 데이터수로 **과적합을 제어하는데 사용**\n",
        "        * 디폴트는 2, **작게 설정할수록** 분할되는 노드가 많아져 **과적합 가능성 증가**\n",
        "    \n",
        "    * ***min_samples_leaf***\n",
        "        * **말단 노드(Leaf)가 되기 위한 최소한의 샘플 데이터 수**\n",
        "        * *min_samples_split*과 유사하게 과적합 제어 용도\n",
        "        * 비대칭적(imbalanced) 데이터의 경우 특정 클래스의 데이터가 극도로 작을 수 있으므로 이 경우는 작게 설정 필요\n",
        "    \n",
        "    * ***max_features***\n",
        "        * **최적의 분할을 위해 고려할 최대 피처 개수**\n",
        "        * 'None': 디폴트, 전체 피쳐 선정\n",
        "        * int: 대상 피처의 개수\n",
        "        * float: 전체 피처 중 대상 피처의 퍼센트\n",
        "        * 'sqrt': $\\sqrt{전체 피쳐 개수}$\n",
        "        * 'auto': sqrt와 동일\n",
        "        * 'log': $ \\log_{2} {전체 피처 개수} $\n",
        "\n",
        "    * ***max_depth***\n",
        "        * **트리의 최대 깊이를 규정**\n",
        "        * 디폴트: None. 완벽하게 클래스 결정 값이 될 때까지 깊이를 계속 키우며 분할하거나 노드가 가지는 데이터 개수가 *min_samples_split*보다 작아질 때까지 계속 깊이를 증가시킴\n",
        "        * 깊이가 깊어지면 *min_samples_split* 설정대로 최대 분할하여 과적합할 수 있으므로 적절한 값으로 제어 필요\n",
        "    \n",
        "    * ***max_leaf_nodes***\n",
        "        * 말단 노드(Leaf)의 최대 개수"
      ]
    },
    {
      "cell_type": "markdown",
      "metadata": {
        "id": "xRMrBG0t65bZ"
      },
      "source": [
        "### 결정 트리 모델의 시각화"
      ]
    },
    {
      "cell_type": "markdown",
      "metadata": {
        "id": "CUoSVpHg8IPt"
      },
      "source": [
        "* Graphviz 패키지를 사용해 가능하다.\n",
        "* 사이킷런에서는 *export_graphviz()* API 제공"
      ]
    },
    {
      "cell_type": "code",
      "metadata": {
        "id": "cts90eMp8PXj",
        "outputId": "9cf0c291-d4e8-474b-a817-2bbbf1d669cd",
        "colab": {
          "base_uri": "https://localhost:8080/",
          "height": 35
        }
      },
      "source": [
        "! pip install graphviz"
      ],
      "execution_count": 1,
      "outputs": [
        {
          "output_type": "stream",
          "text": [
            "Requirement already satisfied: graphviz in /usr/local/lib/python3.6/dist-packages (0.10.1)\n"
          ],
          "name": "stdout"
        }
      ]
    },
    {
      "cell_type": "code",
      "metadata": {
        "id": "hmzvTzO38iwh",
        "outputId": "04c24622-4045-4f4c-acee-5d88b4f9a543",
        "colab": {
          "base_uri": "https://localhost:8080/",
          "height": 125
        }
      },
      "source": [
        "# 붓꽃 데이터 세트에 결정 트리 적용\n",
        "\n",
        "from sklearn.tree import DecisionTreeClassifier\n",
        "from sklearn.datasets import load_iris\n",
        "from sklearn.model_selection import train_test_split\n",
        "import warnings\n",
        "warnings.filterwarnings('ignore')\n",
        "\n",
        "# DecicionTree Classifier 생성\n",
        "dt = DecisionTreeClassifier(random_state=13)\n",
        "\n",
        "# 붓꽃 데이터를 로딩하고, 학습과 테스트 데이터 세트로 분리\n",
        "iris_data = load_iris()\n",
        "X_train, X_test, y_train, y_test = train_test_split(iris_data.data, iris_data.target,\n",
        "                                                    test_size=0.2, random_state=156)\n",
        "\n",
        "# DecisionTreeClassifier 학습\n",
        "dt.fit(X_train, y_train)"
      ],
      "execution_count": 9,
      "outputs": [
        {
          "output_type": "execute_result",
          "data": {
            "text/plain": [
              "DecisionTreeClassifier(ccp_alpha=0.0, class_weight=None, criterion='gini',\n",
              "                       max_depth=None, max_features=None, max_leaf_nodes=None,\n",
              "                       min_impurity_decrease=0.0, min_impurity_split=None,\n",
              "                       min_samples_leaf=1, min_samples_split=2,\n",
              "                       min_weight_fraction_leaf=0.0, presort='deprecated',\n",
              "                       random_state=13, splitter='best')"
            ]
          },
          "metadata": {
            "tags": []
          },
          "execution_count": 9
        }
      ]
    },
    {
      "cell_type": "code",
      "metadata": {
        "id": "fQB4SY_tAWZ0"
      },
      "source": [
        "from sklearn.tree import export_graphviz\n",
        "\n",
        "# export_graphviz() 인자로 학습이 완료된 estimator, output 파일명, 결정 클래스의 명칭, 피처의 명칭 입력\n",
        "# export_graphviz()의 호출 결과로 out_file로 지정된 tree.dot 파일을 생성\n",
        "export_graphviz(dt, out_file='tree.dot',\n",
        "                class_names=iris_data.target_names,\n",
        "                feature_names=iris_data.feature_names,\n",
        "                impurity=True, filled=True)"
      ],
      "execution_count": 10,
      "outputs": []
    },
    {
      "cell_type": "code",
      "metadata": {
        "id": "KBS9a-BYCO5y",
        "outputId": "1d8b9885-fbec-49af-ffe9-c95612509958",
        "colab": {
          "base_uri": "https://localhost:8080/",
          "height": 1000
        }
      },
      "source": [
        "import graphviz\n",
        "\n",
        "# 위에서 생성된 tree.dot 파일을 Graphviz가 읽어서 주피터 노트북상에서 시각화\n",
        "with open('tree.dot') as f:\n",
        "    dot_graph = f.read()\n",
        "graphviz.Source(dot_graph)"
      ],
      "execution_count": 11,
      "outputs": [
        {
          "output_type": "execute_result",
          "data": {
            "text/plain": [
              "<graphviz.files.Source at 0x7fe3c62d3f98>"
            ],
            "image/svg+xml": "<?xml version=\"1.0\" encoding=\"UTF-8\" standalone=\"no\"?>\n<!DOCTYPE svg PUBLIC \"-//W3C//DTD SVG 1.1//EN\"\n \"http://www.w3.org/Graphics/SVG/1.1/DTD/svg11.dtd\">\n<!-- Generated by graphviz version 2.40.1 (20161225.0304)\n -->\n<!-- Title: Tree Pages: 1 -->\n<svg width=\"759pt\" height=\"790pt\"\n viewBox=\"0.00 0.00 759.00 790.00\" xmlns=\"http://www.w3.org/2000/svg\" xmlns:xlink=\"http://www.w3.org/1999/xlink\">\n<g id=\"graph0\" class=\"graph\" transform=\"scale(1 1) rotate(0) translate(4 786)\">\n<title>Tree</title>\n<polygon fill=\"#ffffff\" stroke=\"transparent\" points=\"-4,4 -4,-786 755,-786 755,4 -4,4\"/>\n<!-- 0 -->\n<g id=\"node1\" class=\"node\">\n<title>0</title>\n<polygon fill=\"#ffffff\" stroke=\"#000000\" points=\"270,-782 117,-782 117,-699 270,-699 270,-782\"/>\n<text text-anchor=\"middle\" x=\"193.5\" y=\"-766.8\" font-family=\"Times,serif\" font-size=\"14.00\" fill=\"#000000\">petal width (cm) &lt;= 0.8</text>\n<text text-anchor=\"middle\" x=\"193.5\" y=\"-751.8\" font-family=\"Times,serif\" font-size=\"14.00\" fill=\"#000000\">gini = 0.666</text>\n<text text-anchor=\"middle\" x=\"193.5\" y=\"-736.8\" font-family=\"Times,serif\" font-size=\"14.00\" fill=\"#000000\">samples = 120</text>\n<text text-anchor=\"middle\" x=\"193.5\" y=\"-721.8\" font-family=\"Times,serif\" font-size=\"14.00\" fill=\"#000000\">value = [41, 41, 38]</text>\n<text text-anchor=\"middle\" x=\"193.5\" y=\"-706.8\" font-family=\"Times,serif\" font-size=\"14.00\" fill=\"#000000\">class = setosa</text>\n</g>\n<!-- 1 -->\n<g id=\"node2\" class=\"node\">\n<title>1</title>\n<polygon fill=\"#e58139\" stroke=\"#000000\" points=\"173,-655.5 56,-655.5 56,-587.5 173,-587.5 173,-655.5\"/>\n<text text-anchor=\"middle\" x=\"114.5\" y=\"-640.3\" font-family=\"Times,serif\" font-size=\"14.00\" fill=\"#000000\">gini = 0.0</text>\n<text text-anchor=\"middle\" x=\"114.5\" y=\"-625.3\" font-family=\"Times,serif\" font-size=\"14.00\" fill=\"#000000\">samples = 41</text>\n<text text-anchor=\"middle\" x=\"114.5\" y=\"-610.3\" font-family=\"Times,serif\" font-size=\"14.00\" fill=\"#000000\">value = [41, 0, 0]</text>\n<text text-anchor=\"middle\" x=\"114.5\" y=\"-595.3\" font-family=\"Times,serif\" font-size=\"14.00\" fill=\"#000000\">class = setosa</text>\n</g>\n<!-- 0&#45;&gt;1 -->\n<g id=\"edge1\" class=\"edge\">\n<title>0&#45;&gt;1</title>\n<path fill=\"none\" stroke=\"#000000\" d=\"M165.8696,-698.8796C158.4237,-687.6636 150.3575,-675.5131 142.8718,-664.2372\"/>\n<polygon fill=\"#000000\" stroke=\"#000000\" points=\"145.7273,-662.2104 137.2805,-655.8149 139.8954,-666.082 145.7273,-662.2104\"/>\n<text text-anchor=\"middle\" x=\"132.33\" y=\"-676.6199\" font-family=\"Times,serif\" font-size=\"14.00\" fill=\"#000000\">True</text>\n</g>\n<!-- 2 -->\n<g id=\"node3\" class=\"node\">\n<title>2</title>\n<polygon fill=\"#f1fdf6\" stroke=\"#000000\" points=\"355.5,-663 191.5,-663 191.5,-580 355.5,-580 355.5,-663\"/>\n<text text-anchor=\"middle\" x=\"273.5\" y=\"-647.8\" font-family=\"Times,serif\" font-size=\"14.00\" fill=\"#000000\">petal length (cm) &lt;= 4.75</text>\n<text text-anchor=\"middle\" x=\"273.5\" y=\"-632.8\" font-family=\"Times,serif\" font-size=\"14.00\" fill=\"#000000\">gini = 0.499</text>\n<text text-anchor=\"middle\" x=\"273.5\" y=\"-617.8\" font-family=\"Times,serif\" font-size=\"14.00\" fill=\"#000000\">samples = 79</text>\n<text text-anchor=\"middle\" x=\"273.5\" y=\"-602.8\" font-family=\"Times,serif\" font-size=\"14.00\" fill=\"#000000\">value = [0, 41, 38]</text>\n<text text-anchor=\"middle\" x=\"273.5\" y=\"-587.8\" font-family=\"Times,serif\" font-size=\"14.00\" fill=\"#000000\">class = versicolor</text>\n</g>\n<!-- 0&#45;&gt;2 -->\n<g id=\"edge2\" class=\"edge\">\n<title>0&#45;&gt;2</title>\n<path fill=\"none\" stroke=\"#000000\" d=\"M221.4801,-698.8796C227.3531,-690.1434 233.6073,-680.8404 239.6679,-671.8253\"/>\n<polygon fill=\"#000000\" stroke=\"#000000\" points=\"242.7259,-673.5498 245.4005,-663.2981 236.9166,-669.6444 242.7259,-673.5498\"/>\n<text text-anchor=\"middle\" x=\"250.2085\" y=\"-684.1314\" font-family=\"Times,serif\" font-size=\"14.00\" fill=\"#000000\">False</text>\n</g>\n<!-- 3 -->\n<g id=\"node4\" class=\"node\">\n<title>3</title>\n<polygon fill=\"#3ee684\" stroke=\"#000000\" points=\"265,-544 104,-544 104,-461 265,-461 265,-544\"/>\n<text text-anchor=\"middle\" x=\"184.5\" y=\"-528.8\" font-family=\"Times,serif\" font-size=\"14.00\" fill=\"#000000\">petal width (cm) &lt;= 1.65</text>\n<text text-anchor=\"middle\" x=\"184.5\" y=\"-513.8\" font-family=\"Times,serif\" font-size=\"14.00\" fill=\"#000000\">gini = 0.053</text>\n<text text-anchor=\"middle\" x=\"184.5\" y=\"-498.8\" font-family=\"Times,serif\" font-size=\"14.00\" fill=\"#000000\">samples = 37</text>\n<text text-anchor=\"middle\" x=\"184.5\" y=\"-483.8\" font-family=\"Times,serif\" font-size=\"14.00\" fill=\"#000000\">value = [0, 36, 1]</text>\n<text text-anchor=\"middle\" x=\"184.5\" y=\"-468.8\" font-family=\"Times,serif\" font-size=\"14.00\" fill=\"#000000\">class = versicolor</text>\n</g>\n<!-- 2&#45;&gt;3 -->\n<g id=\"edge3\" class=\"edge\">\n<title>2&#45;&gt;3</title>\n<path fill=\"none\" stroke=\"#000000\" d=\"M242.3721,-579.8796C235.771,-571.0534 228.7371,-561.6485 221.9298,-552.5466\"/>\n<polygon fill=\"#000000\" stroke=\"#000000\" points=\"224.5528,-550.2099 215.7607,-544.2981 218.9472,-554.4024 224.5528,-550.2099\"/>\n</g>\n<!-- 6 -->\n<g id=\"node7\" class=\"node\">\n<title>6</title>\n<polygon fill=\"#9254e9\" stroke=\"#000000\" points=\"444,-544 283,-544 283,-461 444,-461 444,-544\"/>\n<text text-anchor=\"middle\" x=\"363.5\" y=\"-528.8\" font-family=\"Times,serif\" font-size=\"14.00\" fill=\"#000000\">petal width (cm) &lt;= 1.75</text>\n<text text-anchor=\"middle\" x=\"363.5\" y=\"-513.8\" font-family=\"Times,serif\" font-size=\"14.00\" fill=\"#000000\">gini = 0.21</text>\n<text text-anchor=\"middle\" x=\"363.5\" y=\"-498.8\" font-family=\"Times,serif\" font-size=\"14.00\" fill=\"#000000\">samples = 42</text>\n<text text-anchor=\"middle\" x=\"363.5\" y=\"-483.8\" font-family=\"Times,serif\" font-size=\"14.00\" fill=\"#000000\">value = [0, 5, 37]</text>\n<text text-anchor=\"middle\" x=\"363.5\" y=\"-468.8\" font-family=\"Times,serif\" font-size=\"14.00\" fill=\"#000000\">class = virginica</text>\n</g>\n<!-- 2&#45;&gt;6 -->\n<g id=\"edge6\" class=\"edge\">\n<title>2&#45;&gt;6</title>\n<path fill=\"none\" stroke=\"#000000\" d=\"M304.9776,-579.8796C311.6529,-571.0534 318.7658,-561.6485 325.6496,-552.5466\"/>\n<polygon fill=\"#000000\" stroke=\"#000000\" points=\"328.6474,-554.3852 331.888,-544.2981 323.0643,-550.1626 328.6474,-554.3852\"/>\n</g>\n<!-- 4 -->\n<g id=\"node5\" class=\"node\">\n<title>4</title>\n<polygon fill=\"#39e581\" stroke=\"#000000\" points=\"117,-417.5 0,-417.5 0,-349.5 117,-349.5 117,-417.5\"/>\n<text text-anchor=\"middle\" x=\"58.5\" y=\"-402.3\" font-family=\"Times,serif\" font-size=\"14.00\" fill=\"#000000\">gini = 0.0</text>\n<text text-anchor=\"middle\" x=\"58.5\" y=\"-387.3\" font-family=\"Times,serif\" font-size=\"14.00\" fill=\"#000000\">samples = 36</text>\n<text text-anchor=\"middle\" x=\"58.5\" y=\"-372.3\" font-family=\"Times,serif\" font-size=\"14.00\" fill=\"#000000\">value = [0, 36, 0]</text>\n<text text-anchor=\"middle\" x=\"58.5\" y=\"-357.3\" font-family=\"Times,serif\" font-size=\"14.00\" fill=\"#000000\">class = versicolor</text>\n</g>\n<!-- 3&#45;&gt;4 -->\n<g id=\"edge4\" class=\"edge\">\n<title>3&#45;&gt;4</title>\n<path fill=\"none\" stroke=\"#000000\" d=\"M140.4313,-460.8796C128.0898,-449.2237 114.6798,-436.5587 102.351,-424.9148\"/>\n<polygon fill=\"#000000\" stroke=\"#000000\" points=\"104.5068,-422.1366 94.8335,-417.8149 99.7004,-427.2258 104.5068,-422.1366\"/>\n</g>\n<!-- 5 -->\n<g id=\"node6\" class=\"node\">\n<title>5</title>\n<polygon fill=\"#8139e5\" stroke=\"#000000\" points=\"245.5,-417.5 135.5,-417.5 135.5,-349.5 245.5,-349.5 245.5,-417.5\"/>\n<text text-anchor=\"middle\" x=\"190.5\" y=\"-402.3\" font-family=\"Times,serif\" font-size=\"14.00\" fill=\"#000000\">gini = 0.0</text>\n<text text-anchor=\"middle\" x=\"190.5\" y=\"-387.3\" font-family=\"Times,serif\" font-size=\"14.00\" fill=\"#000000\">samples = 1</text>\n<text text-anchor=\"middle\" x=\"190.5\" y=\"-372.3\" font-family=\"Times,serif\" font-size=\"14.00\" fill=\"#000000\">value = [0, 0, 1]</text>\n<text text-anchor=\"middle\" x=\"190.5\" y=\"-357.3\" font-family=\"Times,serif\" font-size=\"14.00\" fill=\"#000000\">class = virginica</text>\n</g>\n<!-- 3&#45;&gt;5 -->\n<g id=\"edge5\" class=\"edge\">\n<title>3&#45;&gt;5</title>\n<path fill=\"none\" stroke=\"#000000\" d=\"M186.5985,-460.8796C187.1363,-450.2134 187.7167,-438.7021 188.2613,-427.9015\"/>\n<polygon fill=\"#000000\" stroke=\"#000000\" points=\"191.7617,-427.9785 188.7698,-417.8149 184.7706,-427.626 191.7617,-427.9785\"/>\n</g>\n<!-- 7 -->\n<g id=\"node8\" class=\"node\">\n<title>7</title>\n<polygon fill=\"#ffffff\" stroke=\"#000000\" points=\"439.5,-425 275.5,-425 275.5,-342 439.5,-342 439.5,-425\"/>\n<text text-anchor=\"middle\" x=\"357.5\" y=\"-409.8\" font-family=\"Times,serif\" font-size=\"14.00\" fill=\"#000000\">petal length (cm) &lt;= 4.95</text>\n<text text-anchor=\"middle\" x=\"357.5\" y=\"-394.8\" font-family=\"Times,serif\" font-size=\"14.00\" fill=\"#000000\">gini = 0.5</text>\n<text text-anchor=\"middle\" x=\"357.5\" y=\"-379.8\" font-family=\"Times,serif\" font-size=\"14.00\" fill=\"#000000\">samples = 8</text>\n<text text-anchor=\"middle\" x=\"357.5\" y=\"-364.8\" font-family=\"Times,serif\" font-size=\"14.00\" fill=\"#000000\">value = [0, 4, 4]</text>\n<text text-anchor=\"middle\" x=\"357.5\" y=\"-349.8\" font-family=\"Times,serif\" font-size=\"14.00\" fill=\"#000000\">class = versicolor</text>\n</g>\n<!-- 6&#45;&gt;7 -->\n<g id=\"edge7\" class=\"edge\">\n<title>6&#45;&gt;7</title>\n<path fill=\"none\" stroke=\"#000000\" d=\"M361.4015,-460.8796C360.9883,-452.6838 360.5499,-443.9891 360.1219,-435.5013\"/>\n<polygon fill=\"#000000\" stroke=\"#000000\" points=\"363.6067,-435.1091 359.6075,-425.2981 356.6156,-435.4617 363.6067,-435.1091\"/>\n</g>\n<!-- 14 -->\n<g id=\"node15\" class=\"node\">\n<title>14</title>\n<polygon fill=\"#853fe6\" stroke=\"#000000\" points=\"621.5,-425 457.5,-425 457.5,-342 621.5,-342 621.5,-425\"/>\n<text text-anchor=\"middle\" x=\"539.5\" y=\"-409.8\" font-family=\"Times,serif\" font-size=\"14.00\" fill=\"#000000\">petal length (cm) &lt;= 4.85</text>\n<text text-anchor=\"middle\" x=\"539.5\" y=\"-394.8\" font-family=\"Times,serif\" font-size=\"14.00\" fill=\"#000000\">gini = 0.057</text>\n<text text-anchor=\"middle\" x=\"539.5\" y=\"-379.8\" font-family=\"Times,serif\" font-size=\"14.00\" fill=\"#000000\">samples = 34</text>\n<text text-anchor=\"middle\" x=\"539.5\" y=\"-364.8\" font-family=\"Times,serif\" font-size=\"14.00\" fill=\"#000000\">value = [0, 1, 33]</text>\n<text text-anchor=\"middle\" x=\"539.5\" y=\"-349.8\" font-family=\"Times,serif\" font-size=\"14.00\" fill=\"#000000\">class = virginica</text>\n</g>\n<!-- 6&#45;&gt;14 -->\n<g id=\"edge14\" class=\"edge\">\n<title>6&#45;&gt;14</title>\n<path fill=\"none\" stroke=\"#000000\" d=\"M425.0563,-460.8796C439.3918,-451.1868 454.7595,-440.7961 469.4325,-430.8752\"/>\n<polygon fill=\"#000000\" stroke=\"#000000\" points=\"471.6548,-433.5976 477.9785,-425.0969 467.7339,-427.7987 471.6548,-433.5976\"/>\n</g>\n<!-- 8 -->\n<g id=\"node9\" class=\"node\">\n<title>8</title>\n<polygon fill=\"#39e581\" stroke=\"#000000\" points=\"262,-298.5 147,-298.5 147,-230.5 262,-230.5 262,-298.5\"/>\n<text text-anchor=\"middle\" x=\"204.5\" y=\"-283.3\" font-family=\"Times,serif\" font-size=\"14.00\" fill=\"#000000\">gini = 0.0</text>\n<text text-anchor=\"middle\" x=\"204.5\" y=\"-268.3\" font-family=\"Times,serif\" font-size=\"14.00\" fill=\"#000000\">samples = 2</text>\n<text text-anchor=\"middle\" x=\"204.5\" y=\"-253.3\" font-family=\"Times,serif\" font-size=\"14.00\" fill=\"#000000\">value = [0, 2, 0]</text>\n<text text-anchor=\"middle\" x=\"204.5\" y=\"-238.3\" font-family=\"Times,serif\" font-size=\"14.00\" fill=\"#000000\">class = versicolor</text>\n</g>\n<!-- 7&#45;&gt;8 -->\n<g id=\"edge8\" class=\"edge\">\n<title>7&#45;&gt;8</title>\n<path fill=\"none\" stroke=\"#000000\" d=\"M303.988,-341.8796C288.7192,-330.0038 272.1034,-317.0804 256.9016,-305.2568\"/>\n<polygon fill=\"#000000\" stroke=\"#000000\" points=\"258.6616,-302.1916 248.6192,-298.8149 254.3639,-307.7171 258.6616,-302.1916\"/>\n</g>\n<!-- 9 -->\n<g id=\"node10\" class=\"node\">\n<title>9</title>\n<polygon fill=\"#c09cf2\" stroke=\"#000000\" points=\"441,-306 280,-306 280,-223 441,-223 441,-306\"/>\n<text text-anchor=\"middle\" x=\"360.5\" y=\"-290.8\" font-family=\"Times,serif\" font-size=\"14.00\" fill=\"#000000\">petal width (cm) &lt;= 1.55</text>\n<text text-anchor=\"middle\" x=\"360.5\" y=\"-275.8\" font-family=\"Times,serif\" font-size=\"14.00\" fill=\"#000000\">gini = 0.444</text>\n<text text-anchor=\"middle\" x=\"360.5\" y=\"-260.8\" font-family=\"Times,serif\" font-size=\"14.00\" fill=\"#000000\">samples = 6</text>\n<text text-anchor=\"middle\" x=\"360.5\" y=\"-245.8\" font-family=\"Times,serif\" font-size=\"14.00\" fill=\"#000000\">value = [0, 2, 4]</text>\n<text text-anchor=\"middle\" x=\"360.5\" y=\"-230.8\" font-family=\"Times,serif\" font-size=\"14.00\" fill=\"#000000\">class = virginica</text>\n</g>\n<!-- 7&#45;&gt;9 -->\n<g id=\"edge9\" class=\"edge\">\n<title>7&#45;&gt;9</title>\n<path fill=\"none\" stroke=\"#000000\" d=\"M358.5493,-341.8796C358.7559,-333.6838 358.9751,-324.9891 359.189,-316.5013\"/>\n<polygon fill=\"#000000\" stroke=\"#000000\" points=\"362.693,-316.3831 359.4463,-306.2981 355.6953,-316.2067 362.693,-316.3831\"/>\n</g>\n<!-- 10 -->\n<g id=\"node11\" class=\"node\">\n<title>10</title>\n<polygon fill=\"#8139e5\" stroke=\"#000000\" points=\"265.5,-179.5 155.5,-179.5 155.5,-111.5 265.5,-111.5 265.5,-179.5\"/>\n<text text-anchor=\"middle\" x=\"210.5\" y=\"-164.3\" font-family=\"Times,serif\" font-size=\"14.00\" fill=\"#000000\">gini = 0.0</text>\n<text text-anchor=\"middle\" x=\"210.5\" y=\"-149.3\" font-family=\"Times,serif\" font-size=\"14.00\" fill=\"#000000\">samples = 3</text>\n<text text-anchor=\"middle\" x=\"210.5\" y=\"-134.3\" font-family=\"Times,serif\" font-size=\"14.00\" fill=\"#000000\">value = [0, 0, 3]</text>\n<text text-anchor=\"middle\" x=\"210.5\" y=\"-119.3\" font-family=\"Times,serif\" font-size=\"14.00\" fill=\"#000000\">class = virginica</text>\n</g>\n<!-- 9&#45;&gt;10 -->\n<g id=\"edge10\" class=\"edge\">\n<title>9&#45;&gt;10</title>\n<path fill=\"none\" stroke=\"#000000\" d=\"M308.0373,-222.8796C293.0678,-211.0038 276.7778,-198.0804 261.8741,-186.2568\"/>\n<polygon fill=\"#000000\" stroke=\"#000000\" points=\"263.7635,-183.2881 253.7541,-179.8149 259.413,-188.772 263.7635,-183.2881\"/>\n</g>\n<!-- 11 -->\n<g id=\"node12\" class=\"node\">\n<title>11</title>\n<polygon fill=\"#9cf2c0\" stroke=\"#000000\" points=\"447.5,-187 283.5,-187 283.5,-104 447.5,-104 447.5,-187\"/>\n<text text-anchor=\"middle\" x=\"365.5\" y=\"-171.8\" font-family=\"Times,serif\" font-size=\"14.00\" fill=\"#000000\">petal length (cm) &lt;= 5.45</text>\n<text text-anchor=\"middle\" x=\"365.5\" y=\"-156.8\" font-family=\"Times,serif\" font-size=\"14.00\" fill=\"#000000\">gini = 0.444</text>\n<text text-anchor=\"middle\" x=\"365.5\" y=\"-141.8\" font-family=\"Times,serif\" font-size=\"14.00\" fill=\"#000000\">samples = 3</text>\n<text text-anchor=\"middle\" x=\"365.5\" y=\"-126.8\" font-family=\"Times,serif\" font-size=\"14.00\" fill=\"#000000\">value = [0, 2, 1]</text>\n<text text-anchor=\"middle\" x=\"365.5\" y=\"-111.8\" font-family=\"Times,serif\" font-size=\"14.00\" fill=\"#000000\">class = versicolor</text>\n</g>\n<!-- 9&#45;&gt;11 -->\n<g id=\"edge11\" class=\"edge\">\n<title>9&#45;&gt;11</title>\n<path fill=\"none\" stroke=\"#000000\" d=\"M362.2488,-222.8796C362.5931,-214.6838 362.9584,-205.9891 363.3151,-197.5013\"/>\n<polygon fill=\"#000000\" stroke=\"#000000\" points=\"366.8208,-197.4362 363.7438,-187.2981 359.827,-197.1423 366.8208,-197.4362\"/>\n</g>\n<!-- 12 -->\n<g id=\"node13\" class=\"node\">\n<title>12</title>\n<polygon fill=\"#39e581\" stroke=\"#000000\" points=\"358,-68 243,-68 243,0 358,0 358,-68\"/>\n<text text-anchor=\"middle\" x=\"300.5\" y=\"-52.8\" font-family=\"Times,serif\" font-size=\"14.00\" fill=\"#000000\">gini = 0.0</text>\n<text text-anchor=\"middle\" x=\"300.5\" y=\"-37.8\" font-family=\"Times,serif\" font-size=\"14.00\" fill=\"#000000\">samples = 2</text>\n<text text-anchor=\"middle\" x=\"300.5\" y=\"-22.8\" font-family=\"Times,serif\" font-size=\"14.00\" fill=\"#000000\">value = [0, 2, 0]</text>\n<text text-anchor=\"middle\" x=\"300.5\" y=\"-7.8\" font-family=\"Times,serif\" font-size=\"14.00\" fill=\"#000000\">class = versicolor</text>\n</g>\n<!-- 11&#45;&gt;12 -->\n<g id=\"edge12\" class=\"edge\">\n<title>11&#45;&gt;12</title>\n<path fill=\"none\" stroke=\"#000000\" d=\"M341.2964,-103.9815C336.1529,-95.1585 330.7123,-85.8258 325.5384,-76.9506\"/>\n<polygon fill=\"#000000\" stroke=\"#000000\" points=\"328.5344,-75.1402 320.4743,-68.2637 322.487,-78.6656 328.5344,-75.1402\"/>\n</g>\n<!-- 13 -->\n<g id=\"node14\" class=\"node\">\n<title>13</title>\n<polygon fill=\"#8139e5\" stroke=\"#000000\" points=\"486.5,-68 376.5,-68 376.5,0 486.5,0 486.5,-68\"/>\n<text text-anchor=\"middle\" x=\"431.5\" y=\"-52.8\" font-family=\"Times,serif\" font-size=\"14.00\" fill=\"#000000\">gini = 0.0</text>\n<text text-anchor=\"middle\" x=\"431.5\" y=\"-37.8\" font-family=\"Times,serif\" font-size=\"14.00\" fill=\"#000000\">samples = 1</text>\n<text text-anchor=\"middle\" x=\"431.5\" y=\"-22.8\" font-family=\"Times,serif\" font-size=\"14.00\" fill=\"#000000\">value = [0, 0, 1]</text>\n<text text-anchor=\"middle\" x=\"431.5\" y=\"-7.8\" font-family=\"Times,serif\" font-size=\"14.00\" fill=\"#000000\">class = virginica</text>\n</g>\n<!-- 11&#45;&gt;13 -->\n<g id=\"edge13\" class=\"edge\">\n<title>11&#45;&gt;13</title>\n<path fill=\"none\" stroke=\"#000000\" d=\"M390.076,-103.9815C395.2986,-95.1585 400.8229,-85.8258 406.0763,-76.9506\"/>\n<polygon fill=\"#000000\" stroke=\"#000000\" points=\"409.1364,-78.652 411.2184,-68.2637 403.1126,-75.0863 409.1364,-78.652\"/>\n</g>\n<!-- 15 -->\n<g id=\"node16\" class=\"node\">\n<title>15</title>\n<polygon fill=\"#c09cf2\" stroke=\"#000000\" points=\"616,-306 461,-306 461,-223 616,-223 616,-306\"/>\n<text text-anchor=\"middle\" x=\"538.5\" y=\"-290.8\" font-family=\"Times,serif\" font-size=\"14.00\" fill=\"#000000\">sepal width (cm) &lt;= 3.1</text>\n<text text-anchor=\"middle\" x=\"538.5\" y=\"-275.8\" font-family=\"Times,serif\" font-size=\"14.00\" fill=\"#000000\">gini = 0.444</text>\n<text text-anchor=\"middle\" x=\"538.5\" y=\"-260.8\" font-family=\"Times,serif\" font-size=\"14.00\" fill=\"#000000\">samples = 3</text>\n<text text-anchor=\"middle\" x=\"538.5\" y=\"-245.8\" font-family=\"Times,serif\" font-size=\"14.00\" fill=\"#000000\">value = [0, 1, 2]</text>\n<text text-anchor=\"middle\" x=\"538.5\" y=\"-230.8\" font-family=\"Times,serif\" font-size=\"14.00\" fill=\"#000000\">class = virginica</text>\n</g>\n<!-- 14&#45;&gt;15 -->\n<g id=\"edge15\" class=\"edge\">\n<title>14&#45;&gt;15</title>\n<path fill=\"none\" stroke=\"#000000\" d=\"M539.1502,-341.8796C539.0814,-333.6838 539.0083,-324.9891 538.937,-316.5013\"/>\n<polygon fill=\"#000000\" stroke=\"#000000\" points=\"542.4352,-316.2683 538.8512,-306.2981 535.4355,-316.3272 542.4352,-316.2683\"/>\n</g>\n<!-- 18 -->\n<g id=\"node19\" class=\"node\">\n<title>18</title>\n<polygon fill=\"#8139e5\" stroke=\"#000000\" points=\"751,-298.5 634,-298.5 634,-230.5 751,-230.5 751,-298.5\"/>\n<text text-anchor=\"middle\" x=\"692.5\" y=\"-283.3\" font-family=\"Times,serif\" font-size=\"14.00\" fill=\"#000000\">gini = 0.0</text>\n<text text-anchor=\"middle\" x=\"692.5\" y=\"-268.3\" font-family=\"Times,serif\" font-size=\"14.00\" fill=\"#000000\">samples = 31</text>\n<text text-anchor=\"middle\" x=\"692.5\" y=\"-253.3\" font-family=\"Times,serif\" font-size=\"14.00\" fill=\"#000000\">value = [0, 0, 31]</text>\n<text text-anchor=\"middle\" x=\"692.5\" y=\"-238.3\" font-family=\"Times,serif\" font-size=\"14.00\" fill=\"#000000\">class = virginica</text>\n</g>\n<!-- 14&#45;&gt;18 -->\n<g id=\"edge18\" class=\"edge\">\n<title>14&#45;&gt;18</title>\n<path fill=\"none\" stroke=\"#000000\" d=\"M593.012,-341.8796C608.2808,-330.0038 624.8966,-317.0804 640.0984,-305.2568\"/>\n<polygon fill=\"#000000\" stroke=\"#000000\" points=\"642.6361,-307.7171 648.3808,-298.8149 638.3384,-302.1916 642.6361,-307.7171\"/>\n</g>\n<!-- 16 -->\n<g id=\"node17\" class=\"node\">\n<title>16</title>\n<polygon fill=\"#8139e5\" stroke=\"#000000\" points=\"588.5,-179.5 478.5,-179.5 478.5,-111.5 588.5,-111.5 588.5,-179.5\"/>\n<text text-anchor=\"middle\" x=\"533.5\" y=\"-164.3\" font-family=\"Times,serif\" font-size=\"14.00\" fill=\"#000000\">gini = 0.0</text>\n<text text-anchor=\"middle\" x=\"533.5\" y=\"-149.3\" font-family=\"Times,serif\" font-size=\"14.00\" fill=\"#000000\">samples = 2</text>\n<text text-anchor=\"middle\" x=\"533.5\" y=\"-134.3\" font-family=\"Times,serif\" font-size=\"14.00\" fill=\"#000000\">value = [0, 0, 2]</text>\n<text text-anchor=\"middle\" x=\"533.5\" y=\"-119.3\" font-family=\"Times,serif\" font-size=\"14.00\" fill=\"#000000\">class = virginica</text>\n</g>\n<!-- 15&#45;&gt;16 -->\n<g id=\"edge16\" class=\"edge\">\n<title>15&#45;&gt;16</title>\n<path fill=\"none\" stroke=\"#000000\" d=\"M536.7512,-222.8796C536.3031,-212.2134 535.8194,-200.7021 535.3656,-189.9015\"/>\n<polygon fill=\"#000000\" stroke=\"#000000\" points=\"538.8586,-189.6592 534.9418,-179.8149 531.8648,-189.9531 538.8586,-189.6592\"/>\n</g>\n<!-- 17 -->\n<g id=\"node18\" class=\"node\">\n<title>17</title>\n<polygon fill=\"#39e581\" stroke=\"#000000\" points=\"722,-179.5 607,-179.5 607,-111.5 722,-111.5 722,-179.5\"/>\n<text text-anchor=\"middle\" x=\"664.5\" y=\"-164.3\" font-family=\"Times,serif\" font-size=\"14.00\" fill=\"#000000\">gini = 0.0</text>\n<text text-anchor=\"middle\" x=\"664.5\" y=\"-149.3\" font-family=\"Times,serif\" font-size=\"14.00\" fill=\"#000000\">samples = 1</text>\n<text text-anchor=\"middle\" x=\"664.5\" y=\"-134.3\" font-family=\"Times,serif\" font-size=\"14.00\" fill=\"#000000\">value = [0, 1, 0]</text>\n<text text-anchor=\"middle\" x=\"664.5\" y=\"-119.3\" font-family=\"Times,serif\" font-size=\"14.00\" fill=\"#000000\">class = versicolor</text>\n</g>\n<!-- 15&#45;&gt;17 -->\n<g id=\"edge17\" class=\"edge\">\n<title>15&#45;&gt;17</title>\n<path fill=\"none\" stroke=\"#000000\" d=\"M582.5687,-222.8796C594.9102,-211.2237 608.3202,-198.5587 620.649,-186.9148\"/>\n<polygon fill=\"#000000\" stroke=\"#000000\" points=\"623.2996,-189.2258 628.1665,-179.8149 618.4932,-184.1366 623.2996,-189.2258\"/>\n</g>\n</g>\n</svg>\n"
          },
          "metadata": {
            "tags": []
          },
          "execution_count": 11
        }
      ]
    },
    {
      "cell_type": "code",
      "metadata": {
        "id": "-DhFqqOeCk05",
        "outputId": "871cbea5-2392-4e6c-be00-fd1af65149e1",
        "colab": {
          "base_uri": "https://localhost:8080/",
          "height": 597
        }
      },
      "source": [
        "# 트리 깊이 변화 (max_depth=3)\n",
        "\n",
        "dt2 = DecisionTreeClassifier(max_depth=3, random_state=156)\n",
        "dt2.fit(X_train, y_train)\n",
        "\n",
        "export_graphviz(dt2, out_file='tree2.dot',\n",
        "                class_names=iris_data.target_names,\n",
        "                feature_names=iris_data.feature_names,\n",
        "                impurity=True, filled=True)\n",
        "\n",
        "with open('tree2.dot') as f:\n",
        "    dot_graph = f.read()\n",
        "graphviz.Source(dot_graph)"
      ],
      "execution_count": 12,
      "outputs": [
        {
          "output_type": "execute_result",
          "data": {
            "text/plain": [
              "<graphviz.files.Source at 0x7fe3c62d60b8>"
            ],
            "image/svg+xml": "<?xml version=\"1.0\" encoding=\"UTF-8\" standalone=\"no\"?>\n<!DOCTYPE svg PUBLIC \"-//W3C//DTD SVG 1.1//EN\"\n \"http://www.w3.org/Graphics/SVG/1.1/DTD/svg11.dtd\">\n<!-- Generated by graphviz version 2.40.1 (20161225.0304)\n -->\n<!-- Title: Tree Pages: 1 -->\n<svg width=\"545pt\" height=\"433pt\"\n viewBox=\"0.00 0.00 544.50 433.00\" xmlns=\"http://www.w3.org/2000/svg\" xmlns:xlink=\"http://www.w3.org/1999/xlink\">\n<g id=\"graph0\" class=\"graph\" transform=\"scale(1 1) rotate(0) translate(4 429)\">\n<title>Tree</title>\n<polygon fill=\"#ffffff\" stroke=\"transparent\" points=\"-4,4 -4,-429 540.5,-429 540.5,4 -4,4\"/>\n<!-- 0 -->\n<g id=\"node1\" class=\"node\">\n<title>0</title>\n<polygon fill=\"#ffffff\" stroke=\"#000000\" points=\"263,-425 107,-425 107,-342 263,-342 263,-425\"/>\n<text text-anchor=\"middle\" x=\"185\" y=\"-409.8\" font-family=\"Times,serif\" font-size=\"14.00\" fill=\"#000000\">petal length (cm) &lt;= 2.6</text>\n<text text-anchor=\"middle\" x=\"185\" y=\"-394.8\" font-family=\"Times,serif\" font-size=\"14.00\" fill=\"#000000\">gini = 0.666</text>\n<text text-anchor=\"middle\" x=\"185\" y=\"-379.8\" font-family=\"Times,serif\" font-size=\"14.00\" fill=\"#000000\">samples = 120</text>\n<text text-anchor=\"middle\" x=\"185\" y=\"-364.8\" font-family=\"Times,serif\" font-size=\"14.00\" fill=\"#000000\">value = [41, 41, 38]</text>\n<text text-anchor=\"middle\" x=\"185\" y=\"-349.8\" font-family=\"Times,serif\" font-size=\"14.00\" fill=\"#000000\">class = setosa</text>\n</g>\n<!-- 1 -->\n<g id=\"node2\" class=\"node\">\n<title>1</title>\n<polygon fill=\"#e58139\" stroke=\"#000000\" points=\"164.5,-298.5 47.5,-298.5 47.5,-230.5 164.5,-230.5 164.5,-298.5\"/>\n<text text-anchor=\"middle\" x=\"106\" y=\"-283.3\" font-family=\"Times,serif\" font-size=\"14.00\" fill=\"#000000\">gini = 0.0</text>\n<text text-anchor=\"middle\" x=\"106\" y=\"-268.3\" font-family=\"Times,serif\" font-size=\"14.00\" fill=\"#000000\">samples = 41</text>\n<text text-anchor=\"middle\" x=\"106\" y=\"-253.3\" font-family=\"Times,serif\" font-size=\"14.00\" fill=\"#000000\">value = [41, 0, 0]</text>\n<text text-anchor=\"middle\" x=\"106\" y=\"-238.3\" font-family=\"Times,serif\" font-size=\"14.00\" fill=\"#000000\">class = setosa</text>\n</g>\n<!-- 0&#45;&gt;1 -->\n<g id=\"edge1\" class=\"edge\">\n<title>0&#45;&gt;1</title>\n<path fill=\"none\" stroke=\"#000000\" d=\"M157.3696,-341.8796C149.9237,-330.6636 141.8575,-318.5131 134.3718,-307.2372\"/>\n<polygon fill=\"#000000\" stroke=\"#000000\" points=\"137.2273,-305.2104 128.7805,-298.8149 131.3954,-309.082 137.2273,-305.2104\"/>\n<text text-anchor=\"middle\" x=\"123.83\" y=\"-319.6199\" font-family=\"Times,serif\" font-size=\"14.00\" fill=\"#000000\">True</text>\n</g>\n<!-- 2 -->\n<g id=\"node3\" class=\"node\">\n<title>2</title>\n<polygon fill=\"#f1fdf6\" stroke=\"#000000\" points=\"347,-306 183,-306 183,-223 347,-223 347,-306\"/>\n<text text-anchor=\"middle\" x=\"265\" y=\"-290.8\" font-family=\"Times,serif\" font-size=\"14.00\" fill=\"#000000\">petal length (cm) &lt;= 4.75</text>\n<text text-anchor=\"middle\" x=\"265\" y=\"-275.8\" font-family=\"Times,serif\" font-size=\"14.00\" fill=\"#000000\">gini = 0.499</text>\n<text text-anchor=\"middle\" x=\"265\" y=\"-260.8\" font-family=\"Times,serif\" font-size=\"14.00\" fill=\"#000000\">samples = 79</text>\n<text text-anchor=\"middle\" x=\"265\" y=\"-245.8\" font-family=\"Times,serif\" font-size=\"14.00\" fill=\"#000000\">value = [0, 41, 38]</text>\n<text text-anchor=\"middle\" x=\"265\" y=\"-230.8\" font-family=\"Times,serif\" font-size=\"14.00\" fill=\"#000000\">class = versicolor</text>\n</g>\n<!-- 0&#45;&gt;2 -->\n<g id=\"edge2\" class=\"edge\">\n<title>0&#45;&gt;2</title>\n<path fill=\"none\" stroke=\"#000000\" d=\"M212.9801,-341.8796C218.8531,-333.1434 225.1073,-323.8404 231.1679,-314.8253\"/>\n<polygon fill=\"#000000\" stroke=\"#000000\" points=\"234.2259,-316.5498 236.9005,-306.2981 228.4166,-312.6444 234.2259,-316.5498\"/>\n<text text-anchor=\"middle\" x=\"241.7085\" y=\"-327.1314\" font-family=\"Times,serif\" font-size=\"14.00\" fill=\"#000000\">False</text>\n</g>\n<!-- 3 -->\n<g id=\"node4\" class=\"node\">\n<title>3</title>\n<polygon fill=\"#3ee684\" stroke=\"#000000\" points=\"257.5,-187 92.5,-187 92.5,-104 257.5,-104 257.5,-187\"/>\n<text text-anchor=\"middle\" x=\"175\" y=\"-171.8\" font-family=\"Times,serif\" font-size=\"14.00\" fill=\"#000000\">sepal length (cm) &lt;= 4.95</text>\n<text text-anchor=\"middle\" x=\"175\" y=\"-156.8\" font-family=\"Times,serif\" font-size=\"14.00\" fill=\"#000000\">gini = 0.053</text>\n<text text-anchor=\"middle\" x=\"175\" y=\"-141.8\" font-family=\"Times,serif\" font-size=\"14.00\" fill=\"#000000\">samples = 37</text>\n<text text-anchor=\"middle\" x=\"175\" y=\"-126.8\" font-family=\"Times,serif\" font-size=\"14.00\" fill=\"#000000\">value = [0, 36, 1]</text>\n<text text-anchor=\"middle\" x=\"175\" y=\"-111.8\" font-family=\"Times,serif\" font-size=\"14.00\" fill=\"#000000\">class = versicolor</text>\n</g>\n<!-- 2&#45;&gt;3 -->\n<g id=\"edge3\" class=\"edge\">\n<title>2&#45;&gt;3</title>\n<path fill=\"none\" stroke=\"#000000\" d=\"M233.5224,-222.8796C226.8471,-214.0534 219.7342,-204.6485 212.8504,-195.5466\"/>\n<polygon fill=\"#000000\" stroke=\"#000000\" points=\"215.4357,-193.1626 206.612,-187.2981 209.8526,-197.3852 215.4357,-193.1626\"/>\n</g>\n<!-- 6 -->\n<g id=\"node7\" class=\"node\">\n<title>6</title>\n<polygon fill=\"#9254e9\" stroke=\"#000000\" points=\"436.5,-187 275.5,-187 275.5,-104 436.5,-104 436.5,-187\"/>\n<text text-anchor=\"middle\" x=\"356\" y=\"-171.8\" font-family=\"Times,serif\" font-size=\"14.00\" fill=\"#000000\">petal width (cm) &lt;= 1.75</text>\n<text text-anchor=\"middle\" x=\"356\" y=\"-156.8\" font-family=\"Times,serif\" font-size=\"14.00\" fill=\"#000000\">gini = 0.21</text>\n<text text-anchor=\"middle\" x=\"356\" y=\"-141.8\" font-family=\"Times,serif\" font-size=\"14.00\" fill=\"#000000\">samples = 42</text>\n<text text-anchor=\"middle\" x=\"356\" y=\"-126.8\" font-family=\"Times,serif\" font-size=\"14.00\" fill=\"#000000\">value = [0, 5, 37]</text>\n<text text-anchor=\"middle\" x=\"356\" y=\"-111.8\" font-family=\"Times,serif\" font-size=\"14.00\" fill=\"#000000\">class = virginica</text>\n</g>\n<!-- 2&#45;&gt;6 -->\n<g id=\"edge6\" class=\"edge\">\n<title>2&#45;&gt;6</title>\n<path fill=\"none\" stroke=\"#000000\" d=\"M296.8274,-222.8796C303.6457,-213.9633 310.9156,-204.4565 317.9421,-195.268\"/>\n<polygon fill=\"#000000\" stroke=\"#000000\" points=\"320.7425,-197.3678 324.0368,-187.2981 315.182,-193.1156 320.7425,-197.3678\"/>\n</g>\n<!-- 4 -->\n<g id=\"node5\" class=\"node\">\n<title>4</title>\n<polygon fill=\"#8139e5\" stroke=\"#000000\" points=\"110,-68 0,-68 0,0 110,0 110,-68\"/>\n<text text-anchor=\"middle\" x=\"55\" y=\"-52.8\" font-family=\"Times,serif\" font-size=\"14.00\" fill=\"#000000\">gini = 0.0</text>\n<text text-anchor=\"middle\" x=\"55\" y=\"-37.8\" font-family=\"Times,serif\" font-size=\"14.00\" fill=\"#000000\">samples = 1</text>\n<text text-anchor=\"middle\" x=\"55\" y=\"-22.8\" font-family=\"Times,serif\" font-size=\"14.00\" fill=\"#000000\">value = [0, 0, 1]</text>\n<text text-anchor=\"middle\" x=\"55\" y=\"-7.8\" font-family=\"Times,serif\" font-size=\"14.00\" fill=\"#000000\">class = virginica</text>\n</g>\n<!-- 3&#45;&gt;4 -->\n<g id=\"edge4\" class=\"edge\">\n<title>3&#45;&gt;4</title>\n<path fill=\"none\" stroke=\"#000000\" d=\"M130.3164,-103.9815C120.2273,-94.607 109.519,-84.6572 99.4399,-75.2921\"/>\n<polygon fill=\"#000000\" stroke=\"#000000\" points=\"101.5839,-72.5065 91.8757,-68.2637 96.8191,-77.6346 101.5839,-72.5065\"/>\n</g>\n<!-- 5 -->\n<g id=\"node6\" class=\"node\">\n<title>5</title>\n<polygon fill=\"#39e581\" stroke=\"#000000\" points=\"245.5,-68 128.5,-68 128.5,0 245.5,0 245.5,-68\"/>\n<text text-anchor=\"middle\" x=\"187\" y=\"-52.8\" font-family=\"Times,serif\" font-size=\"14.00\" fill=\"#000000\">gini = 0.0</text>\n<text text-anchor=\"middle\" x=\"187\" y=\"-37.8\" font-family=\"Times,serif\" font-size=\"14.00\" fill=\"#000000\">samples = 36</text>\n<text text-anchor=\"middle\" x=\"187\" y=\"-22.8\" font-family=\"Times,serif\" font-size=\"14.00\" fill=\"#000000\">value = [0, 36, 0]</text>\n<text text-anchor=\"middle\" x=\"187\" y=\"-7.8\" font-family=\"Times,serif\" font-size=\"14.00\" fill=\"#000000\">class = versicolor</text>\n</g>\n<!-- 3&#45;&gt;5 -->\n<g id=\"edge5\" class=\"edge\">\n<title>3&#45;&gt;5</title>\n<path fill=\"none\" stroke=\"#000000\" d=\"M179.4684,-103.9815C180.3685,-95.618 181.3179,-86.7965 182.2279,-78.3409\"/>\n<polygon fill=\"#000000\" stroke=\"#000000\" points=\"185.7222,-78.5808 183.3124,-68.2637 178.7624,-77.8317 185.7222,-78.5808\"/>\n</g>\n<!-- 7 -->\n<g id=\"node8\" class=\"node\">\n<title>7</title>\n<polygon fill=\"#ffffff\" stroke=\"#000000\" points=\"401.5,-68 286.5,-68 286.5,0 401.5,0 401.5,-68\"/>\n<text text-anchor=\"middle\" x=\"344\" y=\"-52.8\" font-family=\"Times,serif\" font-size=\"14.00\" fill=\"#000000\">gini = 0.5</text>\n<text text-anchor=\"middle\" x=\"344\" y=\"-37.8\" font-family=\"Times,serif\" font-size=\"14.00\" fill=\"#000000\">samples = 8</text>\n<text text-anchor=\"middle\" x=\"344\" y=\"-22.8\" font-family=\"Times,serif\" font-size=\"14.00\" fill=\"#000000\">value = [0, 4, 4]</text>\n<text text-anchor=\"middle\" x=\"344\" y=\"-7.8\" font-family=\"Times,serif\" font-size=\"14.00\" fill=\"#000000\">class = versicolor</text>\n</g>\n<!-- 6&#45;&gt;7 -->\n<g id=\"edge7\" class=\"edge\">\n<title>6&#45;&gt;7</title>\n<path fill=\"none\" stroke=\"#000000\" d=\"M351.5316,-103.9815C350.6315,-95.618 349.6821,-86.7965 348.7721,-78.3409\"/>\n<polygon fill=\"#000000\" stroke=\"#000000\" points=\"352.2376,-77.8317 347.6876,-68.2637 345.2778,-78.5808 352.2376,-77.8317\"/>\n</g>\n<!-- 8 -->\n<g id=\"node9\" class=\"node\">\n<title>8</title>\n<polygon fill=\"#853fe6\" stroke=\"#000000\" points=\"536.5,-68 419.5,-68 419.5,0 536.5,0 536.5,-68\"/>\n<text text-anchor=\"middle\" x=\"478\" y=\"-52.8\" font-family=\"Times,serif\" font-size=\"14.00\" fill=\"#000000\">gini = 0.057</text>\n<text text-anchor=\"middle\" x=\"478\" y=\"-37.8\" font-family=\"Times,serif\" font-size=\"14.00\" fill=\"#000000\">samples = 34</text>\n<text text-anchor=\"middle\" x=\"478\" y=\"-22.8\" font-family=\"Times,serif\" font-size=\"14.00\" fill=\"#000000\">value = [0, 1, 33]</text>\n<text text-anchor=\"middle\" x=\"478\" y=\"-7.8\" font-family=\"Times,serif\" font-size=\"14.00\" fill=\"#000000\">class = virginica</text>\n</g>\n<!-- 6&#45;&gt;8 -->\n<g id=\"edge8\" class=\"edge\">\n<title>6&#45;&gt;8</title>\n<path fill=\"none\" stroke=\"#000000\" d=\"M401.4283,-103.9815C411.7861,-94.5151 422.7859,-84.462 433.1206,-75.0168\"/>\n<polygon fill=\"#000000\" stroke=\"#000000\" points=\"435.4893,-77.5935 440.5097,-68.2637 430.7669,-72.4264 435.4893,-77.5935\"/>\n</g>\n</g>\n</svg>\n"
          },
          "metadata": {
            "tags": []
          },
          "execution_count": 12
        }
      ]
    },
    {
      "cell_type": "markdown",
      "metadata": {
        "id": "zQRiGF54GZfQ"
      },
      "source": [
        "트리 깊이가 3으로 설정"
      ]
    },
    {
      "cell_type": "code",
      "metadata": {
        "id": "C2KTP2gFFB8B",
        "outputId": "37d2f845-67d5-45ec-b6df-348fb6ac382a",
        "colab": {
          "base_uri": "https://localhost:8080/",
          "height": 915
        }
      },
      "source": [
        "# min_samples_split=4\n",
        "# 자식 규칙 노드를 분할해 만들기 위한 최소한의 샘플 데이터 개수\n",
        "\n",
        "dt3 = DecisionTreeClassifier(min_samples_split=4, random_state=156)\n",
        "dt3.fit(X_train, y_train)\n",
        "\n",
        "export_graphviz(dt3, out_file='tree3.dot',\n",
        "                class_names=iris_data.target_names,\n",
        "                feature_names=iris_data.feature_names,\n",
        "                impurity=True, filled=True)\n",
        "\n",
        "with open('tree3.dot') as f:\n",
        "    dot_graph = f.read()\n",
        "graphviz.Source(dot_graph)"
      ],
      "execution_count": 13,
      "outputs": [
        {
          "output_type": "execute_result",
          "data": {
            "text/plain": [
              "<graphviz.files.Source at 0x7fe3c6273048>"
            ],
            "image/svg+xml": "<?xml version=\"1.0\" encoding=\"UTF-8\" standalone=\"no\"?>\n<!DOCTYPE svg PUBLIC \"-//W3C//DTD SVG 1.1//EN\"\n \"http://www.w3.org/Graphics/SVG/1.1/DTD/svg11.dtd\">\n<!-- Generated by graphviz version 2.40.1 (20161225.0304)\n -->\n<!-- Title: Tree Pages: 1 -->\n<svg width=\"731pt\" height=\"671pt\"\n viewBox=\"0.00 0.00 730.50 671.00\" xmlns=\"http://www.w3.org/2000/svg\" xmlns:xlink=\"http://www.w3.org/1999/xlink\">\n<g id=\"graph0\" class=\"graph\" transform=\"scale(1 1) rotate(0) translate(4 667)\">\n<title>Tree</title>\n<polygon fill=\"#ffffff\" stroke=\"transparent\" points=\"-4,4 -4,-667 726.5,-667 726.5,4 -4,4\"/>\n<!-- 0 -->\n<g id=\"node1\" class=\"node\">\n<title>0</title>\n<polygon fill=\"#ffffff\" stroke=\"#000000\" points=\"269,-663 113,-663 113,-580 269,-580 269,-663\"/>\n<text text-anchor=\"middle\" x=\"191\" y=\"-647.8\" font-family=\"Times,serif\" font-size=\"14.00\" fill=\"#000000\">petal length (cm) &lt;= 2.6</text>\n<text text-anchor=\"middle\" x=\"191\" y=\"-632.8\" font-family=\"Times,serif\" font-size=\"14.00\" fill=\"#000000\">gini = 0.666</text>\n<text text-anchor=\"middle\" x=\"191\" y=\"-617.8\" font-family=\"Times,serif\" font-size=\"14.00\" fill=\"#000000\">samples = 120</text>\n<text text-anchor=\"middle\" x=\"191\" y=\"-602.8\" font-family=\"Times,serif\" font-size=\"14.00\" fill=\"#000000\">value = [41, 41, 38]</text>\n<text text-anchor=\"middle\" x=\"191\" y=\"-587.8\" font-family=\"Times,serif\" font-size=\"14.00\" fill=\"#000000\">class = setosa</text>\n</g>\n<!-- 1 -->\n<g id=\"node2\" class=\"node\">\n<title>1</title>\n<polygon fill=\"#e58139\" stroke=\"#000000\" points=\"170.5,-536.5 53.5,-536.5 53.5,-468.5 170.5,-468.5 170.5,-536.5\"/>\n<text text-anchor=\"middle\" x=\"112\" y=\"-521.3\" font-family=\"Times,serif\" font-size=\"14.00\" fill=\"#000000\">gini = 0.0</text>\n<text text-anchor=\"middle\" x=\"112\" y=\"-506.3\" font-family=\"Times,serif\" font-size=\"14.00\" fill=\"#000000\">samples = 41</text>\n<text text-anchor=\"middle\" x=\"112\" y=\"-491.3\" font-family=\"Times,serif\" font-size=\"14.00\" fill=\"#000000\">value = [41, 0, 0]</text>\n<text text-anchor=\"middle\" x=\"112\" y=\"-476.3\" font-family=\"Times,serif\" font-size=\"14.00\" fill=\"#000000\">class = setosa</text>\n</g>\n<!-- 0&#45;&gt;1 -->\n<g id=\"edge1\" class=\"edge\">\n<title>0&#45;&gt;1</title>\n<path fill=\"none\" stroke=\"#000000\" d=\"M163.3696,-579.8796C155.9237,-568.6636 147.8575,-556.5131 140.3718,-545.2372\"/>\n<polygon fill=\"#000000\" stroke=\"#000000\" points=\"143.2273,-543.2104 134.7805,-536.8149 137.3954,-547.082 143.2273,-543.2104\"/>\n<text text-anchor=\"middle\" x=\"129.83\" y=\"-557.6199\" font-family=\"Times,serif\" font-size=\"14.00\" fill=\"#000000\">True</text>\n</g>\n<!-- 2 -->\n<g id=\"node3\" class=\"node\">\n<title>2</title>\n<polygon fill=\"#f1fdf6\" stroke=\"#000000\" points=\"353,-544 189,-544 189,-461 353,-461 353,-544\"/>\n<text text-anchor=\"middle\" x=\"271\" y=\"-528.8\" font-family=\"Times,serif\" font-size=\"14.00\" fill=\"#000000\">petal length (cm) &lt;= 4.75</text>\n<text text-anchor=\"middle\" x=\"271\" y=\"-513.8\" font-family=\"Times,serif\" font-size=\"14.00\" fill=\"#000000\">gini = 0.499</text>\n<text text-anchor=\"middle\" x=\"271\" y=\"-498.8\" font-family=\"Times,serif\" font-size=\"14.00\" fill=\"#000000\">samples = 79</text>\n<text text-anchor=\"middle\" x=\"271\" y=\"-483.8\" font-family=\"Times,serif\" font-size=\"14.00\" fill=\"#000000\">value = [0, 41, 38]</text>\n<text text-anchor=\"middle\" x=\"271\" y=\"-468.8\" font-family=\"Times,serif\" font-size=\"14.00\" fill=\"#000000\">class = versicolor</text>\n</g>\n<!-- 0&#45;&gt;2 -->\n<g id=\"edge2\" class=\"edge\">\n<title>0&#45;&gt;2</title>\n<path fill=\"none\" stroke=\"#000000\" d=\"M218.9801,-579.8796C224.8531,-571.1434 231.1073,-561.8404 237.1679,-552.8253\"/>\n<polygon fill=\"#000000\" stroke=\"#000000\" points=\"240.2259,-554.5498 242.9005,-544.2981 234.4166,-550.6444 240.2259,-554.5498\"/>\n<text text-anchor=\"middle\" x=\"247.7085\" y=\"-565.1314\" font-family=\"Times,serif\" font-size=\"14.00\" fill=\"#000000\">False</text>\n</g>\n<!-- 3 -->\n<g id=\"node4\" class=\"node\">\n<title>3</title>\n<polygon fill=\"#3ee684\" stroke=\"#000000\" points=\"263.5,-425 98.5,-425 98.5,-342 263.5,-342 263.5,-425\"/>\n<text text-anchor=\"middle\" x=\"181\" y=\"-409.8\" font-family=\"Times,serif\" font-size=\"14.00\" fill=\"#000000\">sepal length (cm) &lt;= 4.95</text>\n<text text-anchor=\"middle\" x=\"181\" y=\"-394.8\" font-family=\"Times,serif\" font-size=\"14.00\" fill=\"#000000\">gini = 0.053</text>\n<text text-anchor=\"middle\" x=\"181\" y=\"-379.8\" font-family=\"Times,serif\" font-size=\"14.00\" fill=\"#000000\">samples = 37</text>\n<text text-anchor=\"middle\" x=\"181\" y=\"-364.8\" font-family=\"Times,serif\" font-size=\"14.00\" fill=\"#000000\">value = [0, 36, 1]</text>\n<text text-anchor=\"middle\" x=\"181\" y=\"-349.8\" font-family=\"Times,serif\" font-size=\"14.00\" fill=\"#000000\">class = versicolor</text>\n</g>\n<!-- 2&#45;&gt;3 -->\n<g id=\"edge3\" class=\"edge\">\n<title>2&#45;&gt;3</title>\n<path fill=\"none\" stroke=\"#000000\" d=\"M239.5224,-460.8796C232.8471,-452.0534 225.7342,-442.6485 218.8504,-433.5466\"/>\n<polygon fill=\"#000000\" stroke=\"#000000\" points=\"221.4357,-431.1626 212.612,-425.2981 215.8526,-435.3852 221.4357,-431.1626\"/>\n</g>\n<!-- 6 -->\n<g id=\"node7\" class=\"node\">\n<title>6</title>\n<polygon fill=\"#9254e9\" stroke=\"#000000\" points=\"442.5,-425 281.5,-425 281.5,-342 442.5,-342 442.5,-425\"/>\n<text text-anchor=\"middle\" x=\"362\" y=\"-409.8\" font-family=\"Times,serif\" font-size=\"14.00\" fill=\"#000000\">petal width (cm) &lt;= 1.75</text>\n<text text-anchor=\"middle\" x=\"362\" y=\"-394.8\" font-family=\"Times,serif\" font-size=\"14.00\" fill=\"#000000\">gini = 0.21</text>\n<text text-anchor=\"middle\" x=\"362\" y=\"-379.8\" font-family=\"Times,serif\" font-size=\"14.00\" fill=\"#000000\">samples = 42</text>\n<text text-anchor=\"middle\" x=\"362\" y=\"-364.8\" font-family=\"Times,serif\" font-size=\"14.00\" fill=\"#000000\">value = [0, 5, 37]</text>\n<text text-anchor=\"middle\" x=\"362\" y=\"-349.8\" font-family=\"Times,serif\" font-size=\"14.00\" fill=\"#000000\">class = virginica</text>\n</g>\n<!-- 2&#45;&gt;6 -->\n<g id=\"edge6\" class=\"edge\">\n<title>2&#45;&gt;6</title>\n<path fill=\"none\" stroke=\"#000000\" d=\"M302.8274,-460.8796C309.6457,-451.9633 316.9156,-442.4565 323.9421,-433.268\"/>\n<polygon fill=\"#000000\" stroke=\"#000000\" points=\"326.7425,-435.3678 330.0368,-425.2981 321.182,-431.1156 326.7425,-435.3678\"/>\n</g>\n<!-- 4 -->\n<g id=\"node5\" class=\"node\">\n<title>4</title>\n<polygon fill=\"#8139e5\" stroke=\"#000000\" points=\"110,-298.5 0,-298.5 0,-230.5 110,-230.5 110,-298.5\"/>\n<text text-anchor=\"middle\" x=\"55\" y=\"-283.3\" font-family=\"Times,serif\" font-size=\"14.00\" fill=\"#000000\">gini = 0.0</text>\n<text text-anchor=\"middle\" x=\"55\" y=\"-268.3\" font-family=\"Times,serif\" font-size=\"14.00\" fill=\"#000000\">samples = 1</text>\n<text text-anchor=\"middle\" x=\"55\" y=\"-253.3\" font-family=\"Times,serif\" font-size=\"14.00\" fill=\"#000000\">value = [0, 0, 1]</text>\n<text text-anchor=\"middle\" x=\"55\" y=\"-238.3\" font-family=\"Times,serif\" font-size=\"14.00\" fill=\"#000000\">class = virginica</text>\n</g>\n<!-- 3&#45;&gt;4 -->\n<g id=\"edge4\" class=\"edge\">\n<title>3&#45;&gt;4</title>\n<path fill=\"none\" stroke=\"#000000\" d=\"M136.9313,-341.8796C124.5898,-330.2237 111.1798,-317.5587 98.851,-305.9148\"/>\n<polygon fill=\"#000000\" stroke=\"#000000\" points=\"101.0068,-303.1366 91.3335,-298.8149 96.2004,-308.2258 101.0068,-303.1366\"/>\n</g>\n<!-- 5 -->\n<g id=\"node6\" class=\"node\">\n<title>5</title>\n<polygon fill=\"#39e581\" stroke=\"#000000\" points=\"245.5,-298.5 128.5,-298.5 128.5,-230.5 245.5,-230.5 245.5,-298.5\"/>\n<text text-anchor=\"middle\" x=\"187\" y=\"-283.3\" font-family=\"Times,serif\" font-size=\"14.00\" fill=\"#000000\">gini = 0.0</text>\n<text text-anchor=\"middle\" x=\"187\" y=\"-268.3\" font-family=\"Times,serif\" font-size=\"14.00\" fill=\"#000000\">samples = 36</text>\n<text text-anchor=\"middle\" x=\"187\" y=\"-253.3\" font-family=\"Times,serif\" font-size=\"14.00\" fill=\"#000000\">value = [0, 36, 0]</text>\n<text text-anchor=\"middle\" x=\"187\" y=\"-238.3\" font-family=\"Times,serif\" font-size=\"14.00\" fill=\"#000000\">class = versicolor</text>\n</g>\n<!-- 3&#45;&gt;5 -->\n<g id=\"edge5\" class=\"edge\">\n<title>3&#45;&gt;5</title>\n<path fill=\"none\" stroke=\"#000000\" d=\"M183.0985,-341.8796C183.6363,-331.2134 184.2167,-319.7021 184.7613,-308.9015\"/>\n<polygon fill=\"#000000\" stroke=\"#000000\" points=\"188.2617,-308.9785 185.2698,-298.8149 181.2706,-308.626 188.2617,-308.9785\"/>\n</g>\n<!-- 7 -->\n<g id=\"node8\" class=\"node\">\n<title>7</title>\n<polygon fill=\"#ffffff\" stroke=\"#000000\" points=\"439,-306 275,-306 275,-223 439,-223 439,-306\"/>\n<text text-anchor=\"middle\" x=\"357\" y=\"-290.8\" font-family=\"Times,serif\" font-size=\"14.00\" fill=\"#000000\">petal length (cm) &lt;= 4.95</text>\n<text text-anchor=\"middle\" x=\"357\" y=\"-275.8\" font-family=\"Times,serif\" font-size=\"14.00\" fill=\"#000000\">gini = 0.5</text>\n<text text-anchor=\"middle\" x=\"357\" y=\"-260.8\" font-family=\"Times,serif\" font-size=\"14.00\" fill=\"#000000\">samples = 8</text>\n<text text-anchor=\"middle\" x=\"357\" y=\"-245.8\" font-family=\"Times,serif\" font-size=\"14.00\" fill=\"#000000\">value = [0, 4, 4]</text>\n<text text-anchor=\"middle\" x=\"357\" y=\"-230.8\" font-family=\"Times,serif\" font-size=\"14.00\" fill=\"#000000\">class = versicolor</text>\n</g>\n<!-- 6&#45;&gt;7 -->\n<g id=\"edge7\" class=\"edge\">\n<title>6&#45;&gt;7</title>\n<path fill=\"none\" stroke=\"#000000\" d=\"M360.2512,-341.8796C359.9069,-333.6838 359.5416,-324.9891 359.1849,-316.5013\"/>\n<polygon fill=\"#000000\" stroke=\"#000000\" points=\"362.673,-316.1423 358.7562,-306.2981 355.6792,-316.4362 362.673,-316.1423\"/>\n</g>\n<!-- 12 -->\n<g id=\"node13\" class=\"node\">\n<title>12</title>\n<polygon fill=\"#853fe6\" stroke=\"#000000\" points=\"621,-306 457,-306 457,-223 621,-223 621,-306\"/>\n<text text-anchor=\"middle\" x=\"539\" y=\"-290.8\" font-family=\"Times,serif\" font-size=\"14.00\" fill=\"#000000\">petal length (cm) &lt;= 4.85</text>\n<text text-anchor=\"middle\" x=\"539\" y=\"-275.8\" font-family=\"Times,serif\" font-size=\"14.00\" fill=\"#000000\">gini = 0.057</text>\n<text text-anchor=\"middle\" x=\"539\" y=\"-260.8\" font-family=\"Times,serif\" font-size=\"14.00\" fill=\"#000000\">samples = 34</text>\n<text text-anchor=\"middle\" x=\"539\" y=\"-245.8\" font-family=\"Times,serif\" font-size=\"14.00\" fill=\"#000000\">value = [0, 1, 33]</text>\n<text text-anchor=\"middle\" x=\"539\" y=\"-230.8\" font-family=\"Times,serif\" font-size=\"14.00\" fill=\"#000000\">class = virginica</text>\n</g>\n<!-- 6&#45;&gt;12 -->\n<g id=\"edge12\" class=\"edge\">\n<title>6&#45;&gt;12</title>\n<path fill=\"none\" stroke=\"#000000\" d=\"M423.906,-341.8796C438.323,-332.1868 453.778,-321.7961 468.5344,-311.8752\"/>\n<polygon fill=\"#000000\" stroke=\"#000000\" points=\"470.7829,-314.581 477.1289,-306.0969 466.8773,-308.7718 470.7829,-314.581\"/>\n</g>\n<!-- 8 -->\n<g id=\"node9\" class=\"node\">\n<title>8</title>\n<polygon fill=\"#39e581\" stroke=\"#000000\" points=\"265.5,-179.5 150.5,-179.5 150.5,-111.5 265.5,-111.5 265.5,-179.5\"/>\n<text text-anchor=\"middle\" x=\"208\" y=\"-164.3\" font-family=\"Times,serif\" font-size=\"14.00\" fill=\"#000000\">gini = 0.0</text>\n<text text-anchor=\"middle\" x=\"208\" y=\"-149.3\" font-family=\"Times,serif\" font-size=\"14.00\" fill=\"#000000\">samples = 2</text>\n<text text-anchor=\"middle\" x=\"208\" y=\"-134.3\" font-family=\"Times,serif\" font-size=\"14.00\" fill=\"#000000\">value = [0, 2, 0]</text>\n<text text-anchor=\"middle\" x=\"208\" y=\"-119.3\" font-family=\"Times,serif\" font-size=\"14.00\" fill=\"#000000\">class = versicolor</text>\n</g>\n<!-- 7&#45;&gt;8 -->\n<g id=\"edge8\" class=\"edge\">\n<title>7&#45;&gt;8</title>\n<path fill=\"none\" stroke=\"#000000\" d=\"M304.887,-222.8796C290.0174,-211.0038 273.836,-198.0804 259.0317,-186.2568\"/>\n<polygon fill=\"#000000\" stroke=\"#000000\" points=\"260.9638,-183.3207 250.9658,-179.8149 256.5954,-188.7904 260.9638,-183.3207\"/>\n</g>\n<!-- 9 -->\n<g id=\"node10\" class=\"node\">\n<title>9</title>\n<polygon fill=\"#c09cf2\" stroke=\"#000000\" points=\"444.5,-187 283.5,-187 283.5,-104 444.5,-104 444.5,-187\"/>\n<text text-anchor=\"middle\" x=\"364\" y=\"-171.8\" font-family=\"Times,serif\" font-size=\"14.00\" fill=\"#000000\">petal width (cm) &lt;= 1.55</text>\n<text text-anchor=\"middle\" x=\"364\" y=\"-156.8\" font-family=\"Times,serif\" font-size=\"14.00\" fill=\"#000000\">gini = 0.444</text>\n<text text-anchor=\"middle\" x=\"364\" y=\"-141.8\" font-family=\"Times,serif\" font-size=\"14.00\" fill=\"#000000\">samples = 6</text>\n<text text-anchor=\"middle\" x=\"364\" y=\"-126.8\" font-family=\"Times,serif\" font-size=\"14.00\" fill=\"#000000\">value = [0, 2, 4]</text>\n<text text-anchor=\"middle\" x=\"364\" y=\"-111.8\" font-family=\"Times,serif\" font-size=\"14.00\" fill=\"#000000\">class = virginica</text>\n</g>\n<!-- 7&#45;&gt;9 -->\n<g id=\"edge9\" class=\"edge\">\n<title>7&#45;&gt;9</title>\n<path fill=\"none\" stroke=\"#000000\" d=\"M359.4483,-222.8796C359.9304,-214.6838 360.4418,-205.9891 360.9411,-197.5013\"/>\n<polygon fill=\"#000000\" stroke=\"#000000\" points=\"364.4479,-197.4864 361.5413,-187.2981 357.46,-197.0753 364.4479,-197.4864\"/>\n</g>\n<!-- 10 -->\n<g id=\"node11\" class=\"node\">\n<title>10</title>\n<polygon fill=\"#8139e5\" stroke=\"#000000\" points=\"354,-68 244,-68 244,0 354,0 354,-68\"/>\n<text text-anchor=\"middle\" x=\"299\" y=\"-52.8\" font-family=\"Times,serif\" font-size=\"14.00\" fill=\"#000000\">gini = 0.0</text>\n<text text-anchor=\"middle\" x=\"299\" y=\"-37.8\" font-family=\"Times,serif\" font-size=\"14.00\" fill=\"#000000\">samples = 3</text>\n<text text-anchor=\"middle\" x=\"299\" y=\"-22.8\" font-family=\"Times,serif\" font-size=\"14.00\" fill=\"#000000\">value = [0, 0, 3]</text>\n<text text-anchor=\"middle\" x=\"299\" y=\"-7.8\" font-family=\"Times,serif\" font-size=\"14.00\" fill=\"#000000\">class = virginica</text>\n</g>\n<!-- 9&#45;&gt;10 -->\n<g id=\"edge10\" class=\"edge\">\n<title>9&#45;&gt;10</title>\n<path fill=\"none\" stroke=\"#000000\" d=\"M339.7964,-103.9815C334.6529,-95.1585 329.2123,-85.8258 324.0384,-76.9506\"/>\n<polygon fill=\"#000000\" stroke=\"#000000\" points=\"327.0344,-75.1402 318.9743,-68.2637 320.987,-78.6656 327.0344,-75.1402\"/>\n</g>\n<!-- 11 -->\n<g id=\"node12\" class=\"node\">\n<title>11</title>\n<polygon fill=\"#9cf2c0\" stroke=\"#000000\" points=\"487.5,-68 372.5,-68 372.5,0 487.5,0 487.5,-68\"/>\n<text text-anchor=\"middle\" x=\"430\" y=\"-52.8\" font-family=\"Times,serif\" font-size=\"14.00\" fill=\"#000000\">gini = 0.444</text>\n<text text-anchor=\"middle\" x=\"430\" y=\"-37.8\" font-family=\"Times,serif\" font-size=\"14.00\" fill=\"#000000\">samples = 3</text>\n<text text-anchor=\"middle\" x=\"430\" y=\"-22.8\" font-family=\"Times,serif\" font-size=\"14.00\" fill=\"#000000\">value = [0, 2, 1]</text>\n<text text-anchor=\"middle\" x=\"430\" y=\"-7.8\" font-family=\"Times,serif\" font-size=\"14.00\" fill=\"#000000\">class = versicolor</text>\n</g>\n<!-- 9&#45;&gt;11 -->\n<g id=\"edge11\" class=\"edge\">\n<title>9&#45;&gt;11</title>\n<path fill=\"none\" stroke=\"#000000\" d=\"M388.576,-103.9815C393.7986,-95.1585 399.3229,-85.8258 404.5763,-76.9506\"/>\n<polygon fill=\"#000000\" stroke=\"#000000\" points=\"407.6364,-78.652 409.7184,-68.2637 401.6126,-75.0863 407.6364,-78.652\"/>\n</g>\n<!-- 13 -->\n<g id=\"node14\" class=\"node\">\n<title>13</title>\n<polygon fill=\"#c09cf2\" stroke=\"#000000\" points=\"587,-179.5 477,-179.5 477,-111.5 587,-111.5 587,-179.5\"/>\n<text text-anchor=\"middle\" x=\"532\" y=\"-164.3\" font-family=\"Times,serif\" font-size=\"14.00\" fill=\"#000000\">gini = 0.444</text>\n<text text-anchor=\"middle\" x=\"532\" y=\"-149.3\" font-family=\"Times,serif\" font-size=\"14.00\" fill=\"#000000\">samples = 3</text>\n<text text-anchor=\"middle\" x=\"532\" y=\"-134.3\" font-family=\"Times,serif\" font-size=\"14.00\" fill=\"#000000\">value = [0, 1, 2]</text>\n<text text-anchor=\"middle\" x=\"532\" y=\"-119.3\" font-family=\"Times,serif\" font-size=\"14.00\" fill=\"#000000\">class = virginica</text>\n</g>\n<!-- 12&#45;&gt;13 -->\n<g id=\"edge13\" class=\"edge\">\n<title>12&#45;&gt;13</title>\n<path fill=\"none\" stroke=\"#000000\" d=\"M536.5517,-222.8796C535.9243,-212.2134 535.2472,-200.7021 534.6119,-189.9015\"/>\n<polygon fill=\"#000000\" stroke=\"#000000\" points=\"538.0998,-189.5921 534.0185,-179.8149 531.1119,-190.0032 538.0998,-189.5921\"/>\n</g>\n<!-- 14 -->\n<g id=\"node15\" class=\"node\">\n<title>14</title>\n<polygon fill=\"#8139e5\" stroke=\"#000000\" points=\"722.5,-179.5 605.5,-179.5 605.5,-111.5 722.5,-111.5 722.5,-179.5\"/>\n<text text-anchor=\"middle\" x=\"664\" y=\"-164.3\" font-family=\"Times,serif\" font-size=\"14.00\" fill=\"#000000\">gini = 0.0</text>\n<text text-anchor=\"middle\" x=\"664\" y=\"-149.3\" font-family=\"Times,serif\" font-size=\"14.00\" fill=\"#000000\">samples = 31</text>\n<text text-anchor=\"middle\" x=\"664\" y=\"-134.3\" font-family=\"Times,serif\" font-size=\"14.00\" fill=\"#000000\">value = [0, 0, 31]</text>\n<text text-anchor=\"middle\" x=\"664\" y=\"-119.3\" font-family=\"Times,serif\" font-size=\"14.00\" fill=\"#000000\">class = virginica</text>\n</g>\n<!-- 12&#45;&gt;14 -->\n<g id=\"edge14\" class=\"edge\">\n<title>12&#45;&gt;14</title>\n<path fill=\"none\" stroke=\"#000000\" d=\"M582.7189,-222.8796C594.9625,-211.2237 608.2661,-198.5587 620.4971,-186.9148\"/>\n<polygon fill=\"#000000\" stroke=\"#000000\" points=\"623.1254,-189.245 627.9549,-179.8149 618.2988,-184.1751 623.1254,-189.245\"/>\n</g>\n</g>\n</svg>\n"
          },
          "metadata": {
            "tags": []
          },
          "execution_count": 13
        }
      ]
    },
    {
      "cell_type": "markdown",
      "metadata": {
        "id": "hfrJDJrjFgHY"
      },
      "source": [
        "마지막 오른쪽에 value=[0, 2, 1], value=[0, 1, 2]인 노드를 보면 samples=3이기 때문에 트리 분할을 더하지 않는다.  \n",
        "트리 깊이도 줄고 간결해졌다."
      ]
    },
    {
      "cell_type": "code",
      "metadata": {
        "id": "RhHUBVsLGeZ4",
        "outputId": "2fbcd8cf-ebb8-458a-f0e7-ad0293bc9881",
        "colab": {
          "base_uri": "https://localhost:8080/",
          "height": 756
        }
      },
      "source": [
        "# min_samples_leaf=4\n",
        "# 리프 노드가 될 수 있는 샘플 데이터 건수의 최솟값을 지정\n",
        "# default = 1\n",
        "\n",
        "dt3 = DecisionTreeClassifier(min_samples_leaf=4, random_state=156)\n",
        "dt3.fit(X_train, y_train)\n",
        "\n",
        "export_graphviz(dt3, out_file='tree3.dot',\n",
        "                class_names=iris_data.target_names,\n",
        "                feature_names=iris_data.feature_names,\n",
        "                impurity=True, filled=True)\n",
        "\n",
        "with open('tree3.dot') as f:\n",
        "    dot_graph = f.read()\n",
        "graphviz.Source(dot_graph)"
      ],
      "execution_count": 14,
      "outputs": [
        {
          "output_type": "execute_result",
          "data": {
            "text/plain": [
              "<graphviz.files.Source at 0x7fe3c62738d0>"
            ],
            "image/svg+xml": "<?xml version=\"1.0\" encoding=\"UTF-8\" standalone=\"no\"?>\n<!DOCTYPE svg PUBLIC \"-//W3C//DTD SVG 1.1//EN\"\n \"http://www.w3.org/Graphics/SVG/1.1/DTD/svg11.dtd\">\n<!-- Generated by graphviz version 2.40.1 (20161225.0304)\n -->\n<!-- Title: Tree Pages: 1 -->\n<svg width=\"723pt\" height=\"552pt\"\n viewBox=\"0.00 0.00 723.00 552.00\" xmlns=\"http://www.w3.org/2000/svg\" xmlns:xlink=\"http://www.w3.org/1999/xlink\">\n<g id=\"graph0\" class=\"graph\" transform=\"scale(1 1) rotate(0) translate(4 548)\">\n<title>Tree</title>\n<polygon fill=\"#ffffff\" stroke=\"transparent\" points=\"-4,4 -4,-548 719,-548 719,4 -4,4\"/>\n<!-- 0 -->\n<g id=\"node1\" class=\"node\">\n<title>0</title>\n<polygon fill=\"#ffffff\" stroke=\"#000000\" points=\"273.5,-544 117.5,-544 117.5,-461 273.5,-461 273.5,-544\"/>\n<text text-anchor=\"middle\" x=\"195.5\" y=\"-528.8\" font-family=\"Times,serif\" font-size=\"14.00\" fill=\"#000000\">petal length (cm) &lt;= 2.6</text>\n<text text-anchor=\"middle\" x=\"195.5\" y=\"-513.8\" font-family=\"Times,serif\" font-size=\"14.00\" fill=\"#000000\">gini = 0.666</text>\n<text text-anchor=\"middle\" x=\"195.5\" y=\"-498.8\" font-family=\"Times,serif\" font-size=\"14.00\" fill=\"#000000\">samples = 120</text>\n<text text-anchor=\"middle\" x=\"195.5\" y=\"-483.8\" font-family=\"Times,serif\" font-size=\"14.00\" fill=\"#000000\">value = [41, 41, 38]</text>\n<text text-anchor=\"middle\" x=\"195.5\" y=\"-468.8\" font-family=\"Times,serif\" font-size=\"14.00\" fill=\"#000000\">class = setosa</text>\n</g>\n<!-- 1 -->\n<g id=\"node2\" class=\"node\">\n<title>1</title>\n<polygon fill=\"#e58139\" stroke=\"#000000\" points=\"175,-417.5 58,-417.5 58,-349.5 175,-349.5 175,-417.5\"/>\n<text text-anchor=\"middle\" x=\"116.5\" y=\"-402.3\" font-family=\"Times,serif\" font-size=\"14.00\" fill=\"#000000\">gini = 0.0</text>\n<text text-anchor=\"middle\" x=\"116.5\" y=\"-387.3\" font-family=\"Times,serif\" font-size=\"14.00\" fill=\"#000000\">samples = 41</text>\n<text text-anchor=\"middle\" x=\"116.5\" y=\"-372.3\" font-family=\"Times,serif\" font-size=\"14.00\" fill=\"#000000\">value = [41, 0, 0]</text>\n<text text-anchor=\"middle\" x=\"116.5\" y=\"-357.3\" font-family=\"Times,serif\" font-size=\"14.00\" fill=\"#000000\">class = setosa</text>\n</g>\n<!-- 0&#45;&gt;1 -->\n<g id=\"edge1\" class=\"edge\">\n<title>0&#45;&gt;1</title>\n<path fill=\"none\" stroke=\"#000000\" d=\"M167.8696,-460.8796C160.4237,-449.6636 152.3575,-437.5131 144.8718,-426.2372\"/>\n<polygon fill=\"#000000\" stroke=\"#000000\" points=\"147.7273,-424.2104 139.2805,-417.8149 141.8954,-428.082 147.7273,-424.2104\"/>\n<text text-anchor=\"middle\" x=\"134.33\" y=\"-438.6199\" font-family=\"Times,serif\" font-size=\"14.00\" fill=\"#000000\">True</text>\n</g>\n<!-- 2 -->\n<g id=\"node3\" class=\"node\">\n<title>2</title>\n<polygon fill=\"#f1fdf6\" stroke=\"#000000\" points=\"357.5,-425 193.5,-425 193.5,-342 357.5,-342 357.5,-425\"/>\n<text text-anchor=\"middle\" x=\"275.5\" y=\"-409.8\" font-family=\"Times,serif\" font-size=\"14.00\" fill=\"#000000\">petal length (cm) &lt;= 4.75</text>\n<text text-anchor=\"middle\" x=\"275.5\" y=\"-394.8\" font-family=\"Times,serif\" font-size=\"14.00\" fill=\"#000000\">gini = 0.499</text>\n<text text-anchor=\"middle\" x=\"275.5\" y=\"-379.8\" font-family=\"Times,serif\" font-size=\"14.00\" fill=\"#000000\">samples = 79</text>\n<text text-anchor=\"middle\" x=\"275.5\" y=\"-364.8\" font-family=\"Times,serif\" font-size=\"14.00\" fill=\"#000000\">value = [0, 41, 38]</text>\n<text text-anchor=\"middle\" x=\"275.5\" y=\"-349.8\" font-family=\"Times,serif\" font-size=\"14.00\" fill=\"#000000\">class = versicolor</text>\n</g>\n<!-- 0&#45;&gt;2 -->\n<g id=\"edge2\" class=\"edge\">\n<title>0&#45;&gt;2</title>\n<path fill=\"none\" stroke=\"#000000\" d=\"M223.4801,-460.8796C229.3531,-452.1434 235.6073,-442.8404 241.6679,-433.8253\"/>\n<polygon fill=\"#000000\" stroke=\"#000000\" points=\"244.7259,-435.5498 247.4005,-425.2981 238.9166,-431.6444 244.7259,-435.5498\"/>\n<text text-anchor=\"middle\" x=\"252.2085\" y=\"-446.1314\" font-family=\"Times,serif\" font-size=\"14.00\" fill=\"#000000\">False</text>\n</g>\n<!-- 3 -->\n<g id=\"node4\" class=\"node\">\n<title>3</title>\n<polygon fill=\"#3ee684\" stroke=\"#000000\" points=\"265.5,-306 107.5,-306 107.5,-223 265.5,-223 265.5,-306\"/>\n<text text-anchor=\"middle\" x=\"186.5\" y=\"-290.8\" font-family=\"Times,serif\" font-size=\"14.00\" fill=\"#000000\">sepal length (cm) &lt;= 5.3</text>\n<text text-anchor=\"middle\" x=\"186.5\" y=\"-275.8\" font-family=\"Times,serif\" font-size=\"14.00\" fill=\"#000000\">gini = 0.053</text>\n<text text-anchor=\"middle\" x=\"186.5\" y=\"-260.8\" font-family=\"Times,serif\" font-size=\"14.00\" fill=\"#000000\">samples = 37</text>\n<text text-anchor=\"middle\" x=\"186.5\" y=\"-245.8\" font-family=\"Times,serif\" font-size=\"14.00\" fill=\"#000000\">value = [0, 36, 1]</text>\n<text text-anchor=\"middle\" x=\"186.5\" y=\"-230.8\" font-family=\"Times,serif\" font-size=\"14.00\" fill=\"#000000\">class = versicolor</text>\n</g>\n<!-- 2&#45;&gt;3 -->\n<g id=\"edge3\" class=\"edge\">\n<title>2&#45;&gt;3</title>\n<path fill=\"none\" stroke=\"#000000\" d=\"M244.3721,-341.8796C237.771,-333.0534 230.7371,-323.6485 223.9298,-314.5466\"/>\n<polygon fill=\"#000000\" stroke=\"#000000\" points=\"226.5528,-312.2099 217.7607,-306.2981 220.9472,-316.4024 226.5528,-312.2099\"/>\n</g>\n<!-- 6 -->\n<g id=\"node7\" class=\"node\">\n<title>6</title>\n<polygon fill=\"#9254e9\" stroke=\"#000000\" points=\"445,-306 284,-306 284,-223 445,-223 445,-306\"/>\n<text text-anchor=\"middle\" x=\"364.5\" y=\"-290.8\" font-family=\"Times,serif\" font-size=\"14.00\" fill=\"#000000\">petal width (cm) &lt;= 1.75</text>\n<text text-anchor=\"middle\" x=\"364.5\" y=\"-275.8\" font-family=\"Times,serif\" font-size=\"14.00\" fill=\"#000000\">gini = 0.21</text>\n<text text-anchor=\"middle\" x=\"364.5\" y=\"-260.8\" font-family=\"Times,serif\" font-size=\"14.00\" fill=\"#000000\">samples = 42</text>\n<text text-anchor=\"middle\" x=\"364.5\" y=\"-245.8\" font-family=\"Times,serif\" font-size=\"14.00\" fill=\"#000000\">value = [0, 5, 37]</text>\n<text text-anchor=\"middle\" x=\"364.5\" y=\"-230.8\" font-family=\"Times,serif\" font-size=\"14.00\" fill=\"#000000\">class = virginica</text>\n</g>\n<!-- 2&#45;&gt;6 -->\n<g id=\"edge6\" class=\"edge\">\n<title>2&#45;&gt;6</title>\n<path fill=\"none\" stroke=\"#000000\" d=\"M306.6279,-341.8796C313.229,-333.0534 320.2629,-323.6485 327.0702,-314.5466\"/>\n<polygon fill=\"#000000\" stroke=\"#000000\" points=\"330.0528,-316.4024 333.2393,-306.2981 324.4472,-312.2099 330.0528,-316.4024\"/>\n</g>\n<!-- 4 -->\n<g id=\"node5\" class=\"node\">\n<title>4</title>\n<polygon fill=\"#7beeab\" stroke=\"#000000\" points=\"115,-179.5 0,-179.5 0,-111.5 115,-111.5 115,-179.5\"/>\n<text text-anchor=\"middle\" x=\"57.5\" y=\"-164.3\" font-family=\"Times,serif\" font-size=\"14.00\" fill=\"#000000\">gini = 0.375</text>\n<text text-anchor=\"middle\" x=\"57.5\" y=\"-149.3\" font-family=\"Times,serif\" font-size=\"14.00\" fill=\"#000000\">samples = 4</text>\n<text text-anchor=\"middle\" x=\"57.5\" y=\"-134.3\" font-family=\"Times,serif\" font-size=\"14.00\" fill=\"#000000\">value = [0, 3, 1]</text>\n<text text-anchor=\"middle\" x=\"57.5\" y=\"-119.3\" font-family=\"Times,serif\" font-size=\"14.00\" fill=\"#000000\">class = versicolor</text>\n</g>\n<!-- 3&#45;&gt;4 -->\n<g id=\"edge4\" class=\"edge\">\n<title>3&#45;&gt;4</title>\n<path fill=\"none\" stroke=\"#000000\" d=\"M141.3821,-222.8796C128.7467,-211.2237 115.0174,-198.5587 102.395,-186.9148\"/>\n<polygon fill=\"#000000\" stroke=\"#000000\" points=\"104.422,-184.0228 94.6985,-179.8149 99.6756,-189.168 104.422,-184.0228\"/>\n</g>\n<!-- 5 -->\n<g id=\"node6\" class=\"node\">\n<title>5</title>\n<polygon fill=\"#39e581\" stroke=\"#000000\" points=\"250,-179.5 133,-179.5 133,-111.5 250,-111.5 250,-179.5\"/>\n<text text-anchor=\"middle\" x=\"191.5\" y=\"-164.3\" font-family=\"Times,serif\" font-size=\"14.00\" fill=\"#000000\">gini = 0.0</text>\n<text text-anchor=\"middle\" x=\"191.5\" y=\"-149.3\" font-family=\"Times,serif\" font-size=\"14.00\" fill=\"#000000\">samples = 33</text>\n<text text-anchor=\"middle\" x=\"191.5\" y=\"-134.3\" font-family=\"Times,serif\" font-size=\"14.00\" fill=\"#000000\">value = [0, 33, 0]</text>\n<text text-anchor=\"middle\" x=\"191.5\" y=\"-119.3\" font-family=\"Times,serif\" font-size=\"14.00\" fill=\"#000000\">class = versicolor</text>\n</g>\n<!-- 3&#45;&gt;5 -->\n<g id=\"edge5\" class=\"edge\">\n<title>3&#45;&gt;5</title>\n<path fill=\"none\" stroke=\"#000000\" d=\"M188.2488,-222.8796C188.6969,-212.2134 189.1806,-200.7021 189.6344,-189.9015\"/>\n<polygon fill=\"#000000\" stroke=\"#000000\" points=\"193.1352,-189.9531 190.0582,-179.8149 186.1414,-189.6592 193.1352,-189.9531\"/>\n</g>\n<!-- 7 -->\n<g id=\"node8\" class=\"node\">\n<title>7</title>\n<polygon fill=\"#ffffff\" stroke=\"#000000\" points=\"441.5,-187 277.5,-187 277.5,-104 441.5,-104 441.5,-187\"/>\n<text text-anchor=\"middle\" x=\"359.5\" y=\"-171.8\" font-family=\"Times,serif\" font-size=\"14.00\" fill=\"#000000\">petal length (cm) &lt;= 5.05</text>\n<text text-anchor=\"middle\" x=\"359.5\" y=\"-156.8\" font-family=\"Times,serif\" font-size=\"14.00\" fill=\"#000000\">gini = 0.5</text>\n<text text-anchor=\"middle\" x=\"359.5\" y=\"-141.8\" font-family=\"Times,serif\" font-size=\"14.00\" fill=\"#000000\">samples = 8</text>\n<text text-anchor=\"middle\" x=\"359.5\" y=\"-126.8\" font-family=\"Times,serif\" font-size=\"14.00\" fill=\"#000000\">value = [0, 4, 4]</text>\n<text text-anchor=\"middle\" x=\"359.5\" y=\"-111.8\" font-family=\"Times,serif\" font-size=\"14.00\" fill=\"#000000\">class = versicolor</text>\n</g>\n<!-- 6&#45;&gt;7 -->\n<g id=\"edge7\" class=\"edge\">\n<title>6&#45;&gt;7</title>\n<path fill=\"none\" stroke=\"#000000\" d=\"M362.7512,-222.8796C362.4069,-214.6838 362.0416,-205.9891 361.6849,-197.5013\"/>\n<polygon fill=\"#000000\" stroke=\"#000000\" points=\"365.173,-197.1423 361.2562,-187.2981 358.1792,-197.4362 365.173,-197.1423\"/>\n</g>\n<!-- 10 -->\n<g id=\"node11\" class=\"node\">\n<title>10</title>\n<polygon fill=\"#853fe6\" stroke=\"#000000\" points=\"615.5,-187 459.5,-187 459.5,-104 615.5,-104 615.5,-187\"/>\n<text text-anchor=\"middle\" x=\"537.5\" y=\"-171.8\" font-family=\"Times,serif\" font-size=\"14.00\" fill=\"#000000\">petal length (cm) &lt;= 5.0</text>\n<text text-anchor=\"middle\" x=\"537.5\" y=\"-156.8\" font-family=\"Times,serif\" font-size=\"14.00\" fill=\"#000000\">gini = 0.057</text>\n<text text-anchor=\"middle\" x=\"537.5\" y=\"-141.8\" font-family=\"Times,serif\" font-size=\"14.00\" fill=\"#000000\">samples = 34</text>\n<text text-anchor=\"middle\" x=\"537.5\" y=\"-126.8\" font-family=\"Times,serif\" font-size=\"14.00\" fill=\"#000000\">value = [0, 1, 33]</text>\n<text text-anchor=\"middle\" x=\"537.5\" y=\"-111.8\" font-family=\"Times,serif\" font-size=\"14.00\" fill=\"#000000\">class = virginica</text>\n</g>\n<!-- 6&#45;&gt;10 -->\n<g id=\"edge10\" class=\"edge\">\n<title>6&#45;&gt;10</title>\n<path fill=\"none\" stroke=\"#000000\" d=\"M425.007,-222.8796C439.0982,-213.1868 454.2039,-202.7961 468.6269,-192.8752\"/>\n<polygon fill=\"#000000\" stroke=\"#000000\" points=\"470.7717,-195.6479 477.0272,-187.0969 466.8045,-189.8806 470.7717,-195.6479\"/>\n</g>\n<!-- 8 -->\n<g id=\"node9\" class=\"node\">\n<title>8</title>\n<polygon fill=\"#7beeab\" stroke=\"#000000\" points=\"298,-68 183,-68 183,0 298,0 298,-68\"/>\n<text text-anchor=\"middle\" x=\"240.5\" y=\"-52.8\" font-family=\"Times,serif\" font-size=\"14.00\" fill=\"#000000\">gini = 0.375</text>\n<text text-anchor=\"middle\" x=\"240.5\" y=\"-37.8\" font-family=\"Times,serif\" font-size=\"14.00\" fill=\"#000000\">samples = 4</text>\n<text text-anchor=\"middle\" x=\"240.5\" y=\"-22.8\" font-family=\"Times,serif\" font-size=\"14.00\" fill=\"#000000\">value = [0, 3, 1]</text>\n<text text-anchor=\"middle\" x=\"240.5\" y=\"-7.8\" font-family=\"Times,serif\" font-size=\"14.00\" fill=\"#000000\">class = versicolor</text>\n</g>\n<!-- 7&#45;&gt;8 -->\n<g id=\"edge8\" class=\"edge\">\n<title>7&#45;&gt;8</title>\n<path fill=\"none\" stroke=\"#000000\" d=\"M315.1888,-103.9815C305.1837,-94.607 294.5646,-84.6572 284.5696,-75.2921\"/>\n<polygon fill=\"#000000\" stroke=\"#000000\" points=\"286.7588,-72.547 277.0684,-68.2637 281.9726,-77.6551 286.7588,-72.547\"/>\n</g>\n<!-- 9 -->\n<g id=\"node10\" class=\"node\">\n<title>9</title>\n<polygon fill=\"#ab7bee\" stroke=\"#000000\" points=\"426.5,-68 316.5,-68 316.5,0 426.5,0 426.5,-68\"/>\n<text text-anchor=\"middle\" x=\"371.5\" y=\"-52.8\" font-family=\"Times,serif\" font-size=\"14.00\" fill=\"#000000\">gini = 0.375</text>\n<text text-anchor=\"middle\" x=\"371.5\" y=\"-37.8\" font-family=\"Times,serif\" font-size=\"14.00\" fill=\"#000000\">samples = 4</text>\n<text text-anchor=\"middle\" x=\"371.5\" y=\"-22.8\" font-family=\"Times,serif\" font-size=\"14.00\" fill=\"#000000\">value = [0, 1, 3]</text>\n<text text-anchor=\"middle\" x=\"371.5\" y=\"-7.8\" font-family=\"Times,serif\" font-size=\"14.00\" fill=\"#000000\">class = virginica</text>\n</g>\n<!-- 7&#45;&gt;9 -->\n<g id=\"edge9\" class=\"edge\">\n<title>7&#45;&gt;9</title>\n<path fill=\"none\" stroke=\"#000000\" d=\"M363.9684,-103.9815C364.8685,-95.618 365.8179,-86.7965 366.7279,-78.3409\"/>\n<polygon fill=\"#000000\" stroke=\"#000000\" points=\"370.2222,-78.5808 367.8124,-68.2637 363.2624,-77.8317 370.2222,-78.5808\"/>\n</g>\n<!-- 11 -->\n<g id=\"node12\" class=\"node\">\n<title>11</title>\n<polygon fill=\"#a06aec\" stroke=\"#000000\" points=\"579.5,-68 469.5,-68 469.5,0 579.5,0 579.5,-68\"/>\n<text text-anchor=\"middle\" x=\"524.5\" y=\"-52.8\" font-family=\"Times,serif\" font-size=\"14.00\" fill=\"#000000\">gini = 0.32</text>\n<text text-anchor=\"middle\" x=\"524.5\" y=\"-37.8\" font-family=\"Times,serif\" font-size=\"14.00\" fill=\"#000000\">samples = 5</text>\n<text text-anchor=\"middle\" x=\"524.5\" y=\"-22.8\" font-family=\"Times,serif\" font-size=\"14.00\" fill=\"#000000\">value = [0, 1, 4]</text>\n<text text-anchor=\"middle\" x=\"524.5\" y=\"-7.8\" font-family=\"Times,serif\" font-size=\"14.00\" fill=\"#000000\">class = virginica</text>\n</g>\n<!-- 10&#45;&gt;11 -->\n<g id=\"edge11\" class=\"edge\">\n<title>10&#45;&gt;11</title>\n<path fill=\"none\" stroke=\"#000000\" d=\"M532.6593,-103.9815C531.6842,-95.618 530.6557,-86.7965 529.6698,-78.3409\"/>\n<polygon fill=\"#000000\" stroke=\"#000000\" points=\"533.1295,-77.791 528.4949,-68.2637 526.1766,-78.6017 533.1295,-77.791\"/>\n</g>\n<!-- 12 -->\n<g id=\"node13\" class=\"node\">\n<title>12</title>\n<polygon fill=\"#8139e5\" stroke=\"#000000\" points=\"715,-68 598,-68 598,0 715,0 715,-68\"/>\n<text text-anchor=\"middle\" x=\"656.5\" y=\"-52.8\" font-family=\"Times,serif\" font-size=\"14.00\" fill=\"#000000\">gini = 0.0</text>\n<text text-anchor=\"middle\" x=\"656.5\" y=\"-37.8\" font-family=\"Times,serif\" font-size=\"14.00\" fill=\"#000000\">samples = 29</text>\n<text text-anchor=\"middle\" x=\"656.5\" y=\"-22.8\" font-family=\"Times,serif\" font-size=\"14.00\" fill=\"#000000\">value = [0, 0, 29]</text>\n<text text-anchor=\"middle\" x=\"656.5\" y=\"-7.8\" font-family=\"Times,serif\" font-size=\"14.00\" fill=\"#000000\">class = virginica</text>\n</g>\n<!-- 10&#45;&gt;12 -->\n<g id=\"edge12\" class=\"edge\">\n<title>10&#45;&gt;12</title>\n<path fill=\"none\" stroke=\"#000000\" d=\"M581.8112,-103.9815C591.8163,-94.607 602.4354,-84.6572 612.4304,-75.2921\"/>\n<polygon fill=\"#000000\" stroke=\"#000000\" points=\"615.0274,-77.6551 619.9316,-68.2637 610.2412,-72.547 615.0274,-77.6551\"/>\n</g>\n</g>\n</svg>\n"
          },
          "metadata": {
            "tags": []
          },
          "execution_count": 14
        }
      ]
    },
    {
      "cell_type": "markdown",
      "metadata": {
        "id": "CGhd5fKDGTXz"
      },
      "source": [
        "*min_samples_leaf* 값을 키우면 더 이상 분할하지 않고, 리프 노드가 될 수 있는 조건이 완화됨"
      ]
    },
    {
      "cell_type": "code",
      "metadata": {
        "id": "DCDf3VPvHDKQ",
        "outputId": "86c616dd-a279-47ea-aa28-56f780f32a80",
        "colab": {
          "base_uri": "https://localhost:8080/",
          "height": 373
        }
      },
      "source": [
        "# feature importance\n",
        "import seaborn as sns\n",
        "import numpy as np\n",
        "\n",
        "# feature importance 추출\n",
        "print(\"Feature importances: \\n\", np.round(dt.feature_importances_, 3))\n",
        "\n",
        "# feature 별 importance 매핑\n",
        "for name, value in zip(iris_data.feature_names, dt.feature_importances_):\n",
        "    print(f'{name}: {value:.3f}')\n",
        "\n",
        "# feature importance를 column별로 시각화하기\n",
        "sns.barplot(x=dt.feature_importances_, y=iris_data.feature_names);"
      ],
      "execution_count": 19,
      "outputs": [
        {
          "output_type": "stream",
          "text": [
            "Feature importances: \n",
            " [0.    0.017 0.4   0.584]\n",
            "sepal length (cm): 0.000\n",
            "sepal width (cm): 0.017\n",
            "petal length (cm): 0.400\n",
            "petal width (cm): 0.584\n"
          ],
          "name": "stdout"
        },
        {
          "output_type": "display_data",
          "data": {
            "image/png": "[encoded data removed]",
            "text/plain": [
              "<Figure size 432x288 with 1 Axes>"
            ]
          },
          "metadata": {
            "tags": [],
            "needs_background": "light"
          }
        }
      ]
    },
    {
      "cell_type": "markdown",
      "metadata": {
        "id": "l57I7cC_IA2r"
      },
      "source": [
        "*petal_width*가 가장 피처 중요도가 높다."
      ]
    },
    {
      "cell_type": "markdown",
      "metadata": {
        "id": "aJiVW3JqIW8M"
      },
      "source": [
        "### 결정 트리 과적합(Overfitting)"
      ]
    },
    {
      "cell_type": "code",
      "metadata": {
        "id": "mIhaa_yuIz9Z",
        "outputId": "3fa02b4e-6421-4366-9b51-def755fa4693",
        "colab": {
          "base_uri": "https://localhost:8080/",
          "height": 303
        }
      },
      "source": [
        "\"\"\"결정 트리가 어떻게 학습 데이터를 분할해 예측을 수행하는지와 이로 인한 과적합 문제 확인\"\"\"\n",
        "\n",
        "from sklearn.datasets import make_classification\n",
        "import matplotlib.pyplot as plt\n",
        "plt.style.use('fivethirtyeight')\n",
        "\n",
        "plt.title(\"3 Class values with 2 Features Sample data creation\")\n",
        "\n",
        "# 2차원 시각화를 위해 피쳐는 2개, 클래스는 3가지 유형의 분류 샘플 데이터 생성\n",
        "X_features, y_labels = make_classification(n_features=2, n_redundant=0, n_informative=2,\n",
        "                                          n_classes=3, n_clusters_per_class=1, random_state=0)\n",
        "\n",
        "# 그래프 형태로 2개의 피처를 2차원 좌표 시각화, 각 클래스 값은 다른 색으로 표시됨\n",
        "plt.scatter(X_features[:, 0], X_features[:, 1], marker='o', c=y_labels, s=25, edgecolor='k');"
      ],
      "execution_count": 25,
      "outputs": [
        {
          "output_type": "display_data",
          "data": {
            "image/png": "[encoded data removed]",
            "text/plain": [
              "<Figure size 432x288 with 1 Axes>"
            ]
          },
          "metadata": {
            "tags": []
          }
        }
      ]
    },
    {
      "cell_type": "code",
      "metadata": {
        "id": "R3wS8oDYe62T"
      },
      "source": [
        "import numpy as np\n",
        "\n",
        "# Classifier의 Decision Boundary를 시각화 하는 함수\n",
        "def visualize_boundary(model, X, y):\n",
        "    fig,ax = plt.subplots()\n",
        "    \n",
        "    # 학습 데이타 scatter plot으로 나타내기\n",
        "    ax.scatter(X[:, 0], X[:, 1], c=y, s=25, cmap='rainbow', edgecolor='k',\n",
        "               clim=(y.min(), y.max()), zorder=3)\n",
        "    ax.axis('tight')\n",
        "    ax.axis('off')\n",
        "    xlim_start , xlim_end = ax.get_xlim()\n",
        "    ylim_start , ylim_end = ax.get_ylim()\n",
        "    \n",
        "    # 호출 파라미터로 들어온 training 데이타로 model 학습 . \n",
        "    model.fit(X, y)\n",
        "    # meshgrid 형태인 모든 좌표값으로 예측 수행. \n",
        "    xx, yy = np.meshgrid(np.linspace(xlim_start,xlim_end, num=200),np.linspace(ylim_start,ylim_end, num=200))\n",
        "    Z = model.predict(np.c_[xx.ravel(), yy.ravel()]).reshape(xx.shape)\n",
        "    \n",
        "    # contourf() 를 이용하여 class boundary 를 visualization 수행. \n",
        "    n_classes = len(np.unique(y))\n",
        "    contours = ax.contourf(xx, yy, Z, alpha=0.3,\n",
        "                           levels=np.arange(n_classes + 1) - 0.5,\n",
        "                           cmap='rainbow', clim=(y.min(), y.max()),\n",
        "                           zorder=1)"
      ],
      "execution_count": 27,
      "outputs": []
    },
    {
      "cell_type": "code",
      "metadata": {
        "id": "skzbCNYkcros",
        "outputId": "48e84ef6-7b9e-42f3-d96f-fdea6eb5fda7",
        "colab": {
          "base_uri": "https://localhost:8080/",
          "height": 264
        }
      },
      "source": [
        "from sklearn.tree import DecisionTreeClassifier\n",
        "\n",
        "# 특정한 트리 생성 제약 없는(하이퍼 파라미터를 디폴트로) 결정 트리의 학습과 결정 경계 시각화\n",
        "dt = DecisionTreeClassifier().fit(X_features, y_labels)\n",
        "visualize_boundary(dt, X_features, y_labels)"
      ],
      "execution_count": 28,
      "outputs": [
        {
          "output_type": "display_data",
          "data": {
            "image/png": "[encoded data removed]",
            "text/plain": [
              "<Figure size 432x288 with 1 Axes>"
            ]
          },
          "metadata": {
            "tags": []
          }
        }
      ]
    },
    {
      "cell_type": "markdown",
      "metadata": {
        "id": "bMAt18Ptfm_q"
      },
      "source": [
        "일부 이상치(Outlier) 데이터까지 분류하기 위해 분할이 자주 일어나 결정 기준 경계가 매우 많아졌다."
      ]
    },
    {
      "cell_type": "code",
      "metadata": {
        "id": "f_JDtNYsdqj3",
        "outputId": "7ce78daf-181c-49ac-8479-6a82cd9e8dc0",
        "colab": {
          "base_uri": "https://localhost:8080/",
          "height": 264
        }
      },
      "source": [
        "# min_samples_leaf=6 으로 트리 생성 조건을 제약한 (리프 노드 생성 규칙 완화) 결정 경계 시각화\n",
        "dt = DecisionTreeClassifier(min_samples_leaf=6).fit(X_features, y_labels)\n",
        "visualize_boundary(dt, X_features, y_labels)"
      ],
      "execution_count": 29,
      "outputs": [
        {
          "output_type": "display_data",
          "data": {
            "image/png": "[encoded data removed]",
            "text/plain": [
              "<Figure size 432x288 with 1 Axes>"
            ]
          },
          "metadata": {
            "tags": []
          }
        }
      ]
    },
    {
      "cell_type": "markdown",
      "metadata": {
        "id": "OQXS0jyYfkKg"
      },
      "source": [
        "이상치에 크게 반응하지 않으면서 좀 더 일반화된 분류 규칙에 따라 분류됨  \n",
        "=> 위의 모델보다 다양한 테스트 데이터 세트를 기반으로 예측할 경우 예측 성능이 더욱 좋다."
      ]
    },
    {
      "cell_type": "markdown",
      "metadata": {
        "id": "3d_uj3P9gE1N"
      },
      "source": [
        "### 결정 트리 실습 - 사용자 행동 인식 데이터 세트"
      ]
    },
    {
      "cell_type": "markdown",
      "metadata": {
        "id": "mX2yUUw0gHie"
      },
      "source": [
        "http://archive.ics.uci.edu/ml/datasets/Human+Activity+Recognition+Using+Smartphones\n",
        "\n",
        "* UCI Machine Repository 에서 제공하는 사용자 행동 인식(Human Activity Recognition) 데이터 세트에 대한 예측 분류\n",
        "* 30명에게 스마트폰 센서를 장착한 뒤 사람의 동작과 관련된 여러 가지 피쳐를 수집한 데이터"
      ]
    },
    {
      "cell_type": "code",
      "metadata": {
        "id": "hie81wQMgbOz",
        "outputId": "75fa0af9-a82b-4574-86d9-de84f8a3939b",
        "colab": {
          "base_uri": "https://localhost:8080/",
          "height": 35
        }
      },
      "source": [
        "from google.colab import drive\n",
        "drive.mount('/gdrive')"
      ],
      "execution_count": 31,
      "outputs": [
        {
          "output_type": "stream",
          "text": [
            "Mounted at /gdrive\n"
          ],
          "name": "stdout"
        }
      ]
    },
    {
      "cell_type": "code",
      "metadata": {
        "id": "rU9mdjTRhQYe",
        "outputId": "f0271a53-dbb3-4a31-c7ba-15a54d65c376",
        "colab": {
          "base_uri": "https://localhost:8080/",
          "height": 53
        }
      },
      "source": [
        "import pandas as pd\n",
        "import matplotlib.pyplot as plt\n",
        "plt.style.use('fivethirtyeight')\n",
        "\n",
        "# features.txt 파일에는 피처 이름 index와 피쳐명이 공백으로 분리되어 있음. 이를 DataFrame으로 로드\n",
        "feature_name_df = pd.read_csv(\"/gdrive/My Drive/Python/파이썬_머신러닝_완벽_가이드/data/UCI HAR Dataset/UCI HAR Dataset/features.txt\",\n",
        "                              sep='\\s+', header=None, names=['column_index', 'column_name'])\n",
        "\n",
        "# 피쳐명 index를 제거하고, 피쳐명만 리스트 객체로 생성한 뒤 샘플로 10개만 추출\n",
        "feature_name = feature_name_df.iloc[:, 1].values.tolist()\n",
        "print('전체 피쳐명에서 10개만 추출: \\n', feature_name[:10])"
      ],
      "execution_count": 33,
      "outputs": [
        {
          "output_type": "stream",
          "text": [
            "전체 피쳐명에서 10개만 추출: \n",
            " ['tBodyAcc-mean()-X', 'tBodyAcc-mean()-Y', 'tBodyAcc-mean()-Z', 'tBodyAcc-std()-X', 'tBodyAcc-std()-Y', 'tBodyAcc-std()-Z', 'tBodyAcc-mad()-X', 'tBodyAcc-mad()-Y', 'tBodyAcc-mad()-Z', 'tBodyAcc-max()-X']\n"
          ],
          "name": "stdout"
        }
      ]
    },
    {
      "cell_type": "code",
      "metadata": {
        "id": "jS0X3HQL25pV",
        "outputId": "270e2481-46b7-4b87-f1cb-41e9243569eb",
        "colab": {
          "base_uri": "https://localhost:8080/",
          "height": 142
        }
      },
      "source": [
        "feature_name_df.head(3)"
      ],
      "execution_count": 83,
      "outputs": [
        {
          "output_type": "execute_result",
          "data": {
            "text/html": [
              "<div>\n",
              "<style scoped>\n",
              "    .dataframe tbody tr th:only-of-type {\n",
              "        vertical-align: middle;\n",
              "    }\n",
              "\n",
              "    .dataframe tbody tr th {\n",
              "        vertical-align: top;\n",
              "    }\n",
              "\n",
              "    .dataframe thead th {\n",
              "        text-align: right;\n",
              "    }\n",
              "</style>\n",
              "<table border=\"1\" class=\"dataframe\">\n",
              "  <thead>\n",
              "    <tr style=\"text-align: right;\">\n",
              "      <th></th>\n",
              "      <th>column_index</th>\n",
              "      <th>column_name</th>\n",
              "    </tr>\n",
              "  </thead>\n",
              "  <tbody>\n",
              "    <tr>\n",
              "      <th>0</th>\n",
              "      <td>1</td>\n",
              "      <td>tBodyAcc-mean()-X</td>\n",
              "    </tr>\n",
              "    <tr>\n",
              "      <th>1</th>\n",
              "      <td>2</td>\n",
              "      <td>tBodyAcc-mean()-Y</td>\n",
              "    </tr>\n",
              "    <tr>\n",
              "      <th>2</th>\n",
              "      <td>3</td>\n",
              "      <td>tBodyAcc-mean()-Z</td>\n",
              "    </tr>\n",
              "  </tbody>\n",
              "</table>\n",
              "</div>"
            ],
            "text/plain": [
              "   column_index        column_name\n",
              "0             1  tBodyAcc-mean()-X\n",
              "1             2  tBodyAcc-mean()-Y\n",
              "2             3  tBodyAcc-mean()-Z"
            ]
          },
          "metadata": {
            "tags": []
          },
          "execution_count": 83
        }
      ]
    },
    {
      "cell_type": "code",
      "metadata": {
        "id": "PfrvKZbYh6Nf",
        "outputId": "87724a55-a5e4-4235-93a4-8942717e31ce",
        "colab": {
          "base_uri": "https://localhost:8080/",
          "height": 271
        }
      },
      "source": [
        "# 'feature_info'에 중복된 피쳐명 확인\n",
        "# 중복된 피쳐명에 _1 또는 _2를 추가로 부여해 변경\n",
        "\n",
        "feature_dup_df = feature_name_df.groupby('column_name').count()\n",
        "print(feature_dup_df[feature_dup_df['column_index'] > 1].count())\n",
        "feature_dup_df[feature_dup_df['column_index'] > 1].head()"
      ],
      "execution_count": 35,
      "outputs": [
        {
          "output_type": "stream",
          "text": [
            "column_index    42\n",
            "dtype: int64\n"
          ],
          "name": "stdout"
        },
        {
          "output_type": "execute_result",
          "data": {
            "text/html": [
              "<div>\n",
              "<style scoped>\n",
              "    .dataframe tbody tr th:only-of-type {\n",
              "        vertical-align: middle;\n",
              "    }\n",
              "\n",
              "    .dataframe tbody tr th {\n",
              "        vertical-align: top;\n",
              "    }\n",
              "\n",
              "    .dataframe thead th {\n",
              "        text-align: right;\n",
              "    }\n",
              "</style>\n",
              "<table border=\"1\" class=\"dataframe\">\n",
              "  <thead>\n",
              "    <tr style=\"text-align: right;\">\n",
              "      <th></th>\n",
              "      <th>column_index</th>\n",
              "    </tr>\n",
              "    <tr>\n",
              "      <th>column_name</th>\n",
              "      <th></th>\n",
              "    </tr>\n",
              "  </thead>\n",
              "  <tbody>\n",
              "    <tr>\n",
              "      <th>fBodyAcc-bandsEnergy()-1,16</th>\n",
              "      <td>3</td>\n",
              "    </tr>\n",
              "    <tr>\n",
              "      <th>fBodyAcc-bandsEnergy()-1,24</th>\n",
              "      <td>3</td>\n",
              "    </tr>\n",
              "    <tr>\n",
              "      <th>fBodyAcc-bandsEnergy()-1,8</th>\n",
              "      <td>3</td>\n",
              "    </tr>\n",
              "    <tr>\n",
              "      <th>fBodyAcc-bandsEnergy()-17,24</th>\n",
              "      <td>3</td>\n",
              "    </tr>\n",
              "    <tr>\n",
              "      <th>fBodyAcc-bandsEnergy()-17,32</th>\n",
              "      <td>3</td>\n",
              "    </tr>\n",
              "  </tbody>\n",
              "</table>\n",
              "</div>"
            ],
            "text/plain": [
              "                              column_index\n",
              "column_name                               \n",
              "fBodyAcc-bandsEnergy()-1,16              3\n",
              "fBodyAcc-bandsEnergy()-1,24              3\n",
              "fBodyAcc-bandsEnergy()-1,8               3\n",
              "fBodyAcc-bandsEnergy()-17,24             3\n",
              "fBodyAcc-bandsEnergy()-17,32             3"
            ]
          },
          "metadata": {
            "tags": []
          },
          "execution_count": 35
        }
      ]
    },
    {
      "cell_type": "code",
      "metadata": {
        "id": "utcg8ShIz9zq",
        "outputId": "f8ce79a4-0108-460d-83cb-f25b5e6e5036",
        "colab": {
          "base_uri": "https://localhost:8080/",
          "height": 204
        }
      },
      "source": [
        "def get_new_feature_name_df(old_feature_name_df):\n",
        "    feature_dup_df = pd.DataFrame(data=old_feature_name_df.groupby('column_name').cumcount(),\n",
        "                                  columns=['dup_cnt'])\n",
        "    feature_dup_df = feature_dup_df.reset_index()\n",
        "    new_feature_name_df = pd.merge(old_feature_name_df.reset_index(), feature_dup_df, how='outer')\n",
        "    new_feature_name_df['column_name'] = new_feature_name_df[['column_name', 'dup_cnt']].apply(lambda x: x[0] + '_' + str(x[1]) if x[1] > 0 else x[0], axis=1)\n",
        "    return new_feature_name_df\n",
        "\n",
        "df = get_new_feature_name_df(feature_name_df)\n",
        "df.head()"
      ],
      "execution_count": 69,
      "outputs": [
        {
          "output_type": "execute_result",
          "data": {
            "text/html": [
              "<div>\n",
              "<style scoped>\n",
              "    .dataframe tbody tr th:only-of-type {\n",
              "        vertical-align: middle;\n",
              "    }\n",
              "\n",
              "    .dataframe tbody tr th {\n",
              "        vertical-align: top;\n",
              "    }\n",
              "\n",
              "    .dataframe thead th {\n",
              "        text-align: right;\n",
              "    }\n",
              "</style>\n",
              "<table border=\"1\" class=\"dataframe\">\n",
              "  <thead>\n",
              "    <tr style=\"text-align: right;\">\n",
              "      <th></th>\n",
              "      <th>index</th>\n",
              "      <th>column_index</th>\n",
              "      <th>column_name</th>\n",
              "      <th>dup_cnt</th>\n",
              "    </tr>\n",
              "  </thead>\n",
              "  <tbody>\n",
              "    <tr>\n",
              "      <th>0</th>\n",
              "      <td>0</td>\n",
              "      <td>1</td>\n",
              "      <td>tBodyAcc-mean()-X</td>\n",
              "      <td>0</td>\n",
              "    </tr>\n",
              "    <tr>\n",
              "      <th>1</th>\n",
              "      <td>1</td>\n",
              "      <td>2</td>\n",
              "      <td>tBodyAcc-mean()-Y</td>\n",
              "      <td>0</td>\n",
              "    </tr>\n",
              "    <tr>\n",
              "      <th>2</th>\n",
              "      <td>2</td>\n",
              "      <td>3</td>\n",
              "      <td>tBodyAcc-mean()-Z</td>\n",
              "      <td>0</td>\n",
              "    </tr>\n",
              "    <tr>\n",
              "      <th>3</th>\n",
              "      <td>3</td>\n",
              "      <td>4</td>\n",
              "      <td>tBodyAcc-std()-X</td>\n",
              "      <td>0</td>\n",
              "    </tr>\n",
              "    <tr>\n",
              "      <th>4</th>\n",
              "      <td>4</td>\n",
              "      <td>5</td>\n",
              "      <td>tBodyAcc-std()-Y</td>\n",
              "      <td>0</td>\n",
              "    </tr>\n",
              "  </tbody>\n",
              "</table>\n",
              "</div>"
            ],
            "text/plain": [
              "   index  column_index        column_name  dup_cnt\n",
              "0      0             1  tBodyAcc-mean()-X        0\n",
              "1      1             2  tBodyAcc-mean()-Y        0\n",
              "2      2             3  tBodyAcc-mean()-Z        0\n",
              "3      3             4   tBodyAcc-std()-X        0\n",
              "4      4             5   tBodyAcc-std()-Y        0"
            ]
          },
          "metadata": {
            "tags": []
          },
          "execution_count": 69
        }
      ]
    },
    {
      "cell_type": "code",
      "metadata": {
        "id": "SLBNSL9w0GUu",
        "outputId": "7ec75c88-13af-4616-aa06-c772b6ef038d",
        "colab": {
          "base_uri": "https://localhost:8080/",
          "height": 419
        }
      },
      "source": [
        "df.sort_values('dup_cnt', ascending=False)"
      ],
      "execution_count": 72,
      "outputs": [
        {
          "output_type": "execute_result",
          "data": {
            "text/html": [
              "<div>\n",
              "<style scoped>\n",
              "    .dataframe tbody tr th:only-of-type {\n",
              "        vertical-align: middle;\n",
              "    }\n",
              "\n",
              "    .dataframe tbody tr th {\n",
              "        vertical-align: top;\n",
              "    }\n",
              "\n",
              "    .dataframe thead th {\n",
              "        text-align: right;\n",
              "    }\n",
              "</style>\n",
              "<table border=\"1\" class=\"dataframe\">\n",
              "  <thead>\n",
              "    <tr style=\"text-align: right;\">\n",
              "      <th></th>\n",
              "      <th>index</th>\n",
              "      <th>column_index</th>\n",
              "      <th>column_name</th>\n",
              "      <th>dup_cnt</th>\n",
              "    </tr>\n",
              "  </thead>\n",
              "  <tbody>\n",
              "    <tr>\n",
              "      <th>421</th>\n",
              "      <td>421</td>\n",
              "      <td>422</td>\n",
              "      <td>fBodyAccJerk-bandsEnergy()-1,24_2</td>\n",
              "      <td>2</td>\n",
              "    </tr>\n",
              "    <tr>\n",
              "      <th>343</th>\n",
              "      <td>343</td>\n",
              "      <td>344</td>\n",
              "      <td>fBodyAcc-bandsEnergy()-25,48_2</td>\n",
              "      <td>2</td>\n",
              "    </tr>\n",
              "    <tr>\n",
              "      <th>341</th>\n",
              "      <td>341</td>\n",
              "      <td>342</td>\n",
              "      <td>fBodyAcc-bandsEnergy()-49,64_2</td>\n",
              "      <td>2</td>\n",
              "    </tr>\n",
              "    <tr>\n",
              "      <th>493</th>\n",
              "      <td>493</td>\n",
              "      <td>494</td>\n",
              "      <td>fBodyGyro-bandsEnergy()-41,48_2</td>\n",
              "      <td>2</td>\n",
              "    </tr>\n",
              "    <tr>\n",
              "      <th>488</th>\n",
              "      <td>488</td>\n",
              "      <td>489</td>\n",
              "      <td>fBodyGyro-bandsEnergy()-1,8_2</td>\n",
              "      <td>2</td>\n",
              "    </tr>\n",
              "    <tr>\n",
              "      <th>...</th>\n",
              "      <td>...</td>\n",
              "      <td>...</td>\n",
              "      <td>...</td>\n",
              "      <td>...</td>\n",
              "    </tr>\n",
              "    <tr>\n",
              "      <th>181</th>\n",
              "      <td>181</td>\n",
              "      <td>182</td>\n",
              "      <td>tBodyGyroJerk-iqr()-Z</td>\n",
              "      <td>0</td>\n",
              "    </tr>\n",
              "    <tr>\n",
              "      <th>180</th>\n",
              "      <td>180</td>\n",
              "      <td>181</td>\n",
              "      <td>tBodyGyroJerk-iqr()-Y</td>\n",
              "      <td>0</td>\n",
              "    </tr>\n",
              "    <tr>\n",
              "      <th>179</th>\n",
              "      <td>179</td>\n",
              "      <td>180</td>\n",
              "      <td>tBodyGyroJerk-iqr()-X</td>\n",
              "      <td>0</td>\n",
              "    </tr>\n",
              "    <tr>\n",
              "      <th>178</th>\n",
              "      <td>178</td>\n",
              "      <td>179</td>\n",
              "      <td>tBodyGyroJerk-energy()-Z</td>\n",
              "      <td>0</td>\n",
              "    </tr>\n",
              "    <tr>\n",
              "      <th>560</th>\n",
              "      <td>560</td>\n",
              "      <td>561</td>\n",
              "      <td>angle(Z,gravityMean)</td>\n",
              "      <td>0</td>\n",
              "    </tr>\n",
              "  </tbody>\n",
              "</table>\n",
              "<p>561 rows × 4 columns</p>\n",
              "</div>"
            ],
            "text/plain": [
              "     index  column_index                        column_name  dup_cnt\n",
              "421    421           422  fBodyAccJerk-bandsEnergy()-1,24_2        2\n",
              "343    343           344     fBodyAcc-bandsEnergy()-25,48_2        2\n",
              "341    341           342     fBodyAcc-bandsEnergy()-49,64_2        2\n",
              "493    493           494    fBodyGyro-bandsEnergy()-41,48_2        2\n",
              "488    488           489      fBodyGyro-bandsEnergy()-1,8_2        2\n",
              "..     ...           ...                                ...      ...\n",
              "181    181           182              tBodyGyroJerk-iqr()-Z        0\n",
              "180    180           181              tBodyGyroJerk-iqr()-Y        0\n",
              "179    179           180              tBodyGyroJerk-iqr()-X        0\n",
              "178    178           179           tBodyGyroJerk-energy()-Z        0\n",
              "560    560           561               angle(Z,gravityMean)        0\n",
              "\n",
              "[561 rows x 4 columns]"
            ]
          },
          "metadata": {
            "tags": []
          },
          "execution_count": 72
        }
      ]
    },
    {
      "cell_type": "code",
      "metadata": {
        "id": "MOapk897mRXa"
      },
      "source": [
        "import pandas as pd\n",
        "\n",
        "# 원본 피쳐명에 _1 또는 _2를 추가로 부여해 새로운 피쳐명을 가지는 DataFrame을 반환하는 함수 생성\n",
        "def get_new_feature_name_df(old_feature_name_df):\n",
        "    feature_dup_df = pd.DataFrame(data=old_feature_name_df.groupby('column_name').cumcount(),\n",
        "                                  columns=['dup_cnt'])\n",
        "    feature_dup_df = feature_dup_df.reset_index()\n",
        "    new_feature_name_df = pd.merge(old_feature_name_df.reset_index(), feature_dup_df, how='outer')\n",
        "    new_feature_name_df['column_name'] = new_feature_name_df[['column_name', 'dup_cnt']].apply(lambda x: x[0] + '_' + str(x[1]) if x[1] > 0 else x[0], axis=1)\n",
        "    return new_feature_name_df\n",
        "\n",
        "\n",
        "def get_human_dataset():\n",
        "\n",
        "    # 각 데이터 파일은 공백으로 분리되어 있으므로 read_csv에서 공백 문자를 sep로 할당\n",
        "    feature_name_df = pd.read_csv(\"/gdrive/My Drive/Python/파이썬_머신러닝_완벽_가이드/data/UCI HAR Dataset/UCI HAR Dataset/features.txt\",\n",
        "                                  sep='\\s+', header=None, names=['column_index', 'column_name'])\n",
        "    \n",
        "    # 중복된 피쳐명을 수정하는 get_new_feature_name_df()를 이용, 신규 피쳐명 DataFrame 생성\n",
        "    new_feature_name_df = get_new_feature_name_df(feature_name_df)\n",
        "\n",
        "    # DataFrame에 피쳐명을 컬럼으로 부여하기 위해 리스트 객체로 다시 변환\n",
        "    feature_name = new_feature_name_df.iloc[:, 2].values.tolist() # 책에는 iloc[:, 1]로 되어 잇는데 1은 columns_index이므로 오타인듯하다.\n",
        "\n",
        "    # 학습 피쳐 데이터 세트와 테스트 피쳐 데이터를 DataFrame으로 로딩. 컬럼명은 feature_name 적용\n",
        "    X_train = pd.read_csv(\"/gdrive/My Drive/Python/파이썬_머신러닝_완벽_가이드/data/UCI HAR Dataset/UCI HAR Dataset/train/X_train.txt\",\n",
        "                          sep='\\s+', names=feature_name)\n",
        "    X_test = pd.read_csv(\"/gdrive/My Drive/Python/파이썬_머신러닝_완벽_가이드/data/UCI HAR Dataset/UCI HAR Dataset/test/X_test.txt\",\n",
        "                         sep='\\s+', names=feature_name)\n",
        "    \n",
        "    # 학습 레이블과 테스트 레이블 데이터를 DataFrame으로 로딩하고 컬럼명은 action으로 부여\n",
        "    y_train = pd.read_csv(\"/gdrive/My Drive/Python/파이썬_머신러닝_완벽_가이드/data/UCI HAR Dataset/UCI HAR Dataset/train/y_train.txt\",\n",
        "                          sep='\\s+', header=None, names=['action'])\n",
        "    y_test = pd.read_csv(\"/gdrive/My Drive/Python/파이썬_머신러닝_완벽_가이드/data/UCI HAR Dataset/UCI HAR Dataset/test/y_test.txt\",\n",
        "                         sep='\\s+', header=None, names=['action'])\n",
        "    \n",
        "    # 로드된 학습/테스트용 DataFrame을 모두 반환\n",
        "    return X_train, X_test, y_train, y_test\n",
        "\n",
        "X_train, X_test, y_train, y_test = get_human_dataset()"
      ],
      "execution_count": 73,
      "outputs": []
    },
    {
      "cell_type": "code",
      "metadata": {
        "id": "jSIOrd9-oBr2",
        "outputId": "2091a2d6-52cc-4198-a07d-f8d840fa6224",
        "colab": {
          "base_uri": "https://localhost:8080/",
          "height": 143
        }
      },
      "source": [
        "print(\"## 학습 피처 데이터셋 info()\")\n",
        "print(X_train.info())"
      ],
      "execution_count": 67,
      "outputs": [
        {
          "output_type": "stream",
          "text": [
            "## 학습 피처 데이터셋 info()\n",
            "<class 'pandas.core.frame.DataFrame'>\n",
            "RangeIndex: 7352 entries, 0 to 7351\n",
            "Columns: 561 entries, 1 to 561\n",
            "dtypes: float64(561)\n",
            "memory usage: 31.5 MB\n",
            "None\n"
          ],
          "name": "stdout"
        }
      ]
    },
    {
      "cell_type": "markdown",
      "metadata": {
        "id": "m4uhy-UJpBxo"
      },
      "source": [
        "전부 float이므로 Label Encoding은 불필요"
      ]
    },
    {
      "cell_type": "code",
      "metadata": {
        "id": "ZhMv1kGBpVqP",
        "outputId": "6088df8d-6446-4a1a-b823-a05c8491a269",
        "colab": {
          "base_uri": "https://localhost:8080/",
          "height": 225
        }
      },
      "source": [
        "X_train.head(3)"
      ],
      "execution_count": 84,
      "outputs": [
        {
          "output_type": "execute_result",
          "data": {
            "text/html": [
              "<div>\n",
              "<style scoped>\n",
              "    .dataframe tbody tr th:only-of-type {\n",
              "        vertical-align: middle;\n",
              "    }\n",
              "\n",
              "    .dataframe tbody tr th {\n",
              "        vertical-align: top;\n",
              "    }\n",
              "\n",
              "    .dataframe thead th {\n",
              "        text-align: right;\n",
              "    }\n",
              "</style>\n",
              "<table border=\"1\" class=\"dataframe\">\n",
              "  <thead>\n",
              "    <tr style=\"text-align: right;\">\n",
              "      <th></th>\n",
              "      <th>tBodyAcc-mean()-X</th>\n",
              "      <th>tBodyAcc-mean()-Y</th>\n",
              "      <th>tBodyAcc-mean()-Z</th>\n",
              "      <th>tBodyAcc-std()-X</th>\n",
              "      <th>tBodyAcc-std()-Y</th>\n",
              "      <th>tBodyAcc-std()-Z</th>\n",
              "      <th>tBodyAcc-mad()-X</th>\n",
              "      <th>tBodyAcc-mad()-Y</th>\n",
              "      <th>tBodyAcc-mad()-Z</th>\n",
              "      <th>tBodyAcc-max()-X</th>\n",
              "      <th>tBodyAcc-max()-Y</th>\n",
              "      <th>tBodyAcc-max()-Z</th>\n",
              "      <th>tBodyAcc-min()-X</th>\n",
              "      <th>tBodyAcc-min()-Y</th>\n",
              "      <th>tBodyAcc-min()-Z</th>\n",
              "      <th>tBodyAcc-sma()</th>\n",
              "      <th>tBodyAcc-energy()-X</th>\n",
              "      <th>tBodyAcc-energy()-Y</th>\n",
              "      <th>tBodyAcc-energy()-Z</th>\n",
              "      <th>tBodyAcc-iqr()-X</th>\n",
              "      <th>tBodyAcc-iqr()-Y</th>\n",
              "      <th>tBodyAcc-iqr()-Z</th>\n",
              "      <th>tBodyAcc-entropy()-X</th>\n",
              "      <th>tBodyAcc-entropy()-Y</th>\n",
              "      <th>tBodyAcc-entropy()-Z</th>\n",
              "      <th>tBodyAcc-arCoeff()-X,1</th>\n",
              "      <th>tBodyAcc-arCoeff()-X,2</th>\n",
              "      <th>tBodyAcc-arCoeff()-X,3</th>\n",
              "      <th>tBodyAcc-arCoeff()-X,4</th>\n",
              "      <th>tBodyAcc-arCoeff()-Y,1</th>\n",
              "      <th>tBodyAcc-arCoeff()-Y,2</th>\n",
              "      <th>tBodyAcc-arCoeff()-Y,3</th>\n",
              "      <th>tBodyAcc-arCoeff()-Y,4</th>\n",
              "      <th>tBodyAcc-arCoeff()-Z,1</th>\n",
              "      <th>tBodyAcc-arCoeff()-Z,2</th>\n",
              "      <th>tBodyAcc-arCoeff()-Z,3</th>\n",
              "      <th>tBodyAcc-arCoeff()-Z,4</th>\n",
              "      <th>tBodyAcc-correlation()-X,Y</th>\n",
              "      <th>tBodyAcc-correlation()-X,Z</th>\n",
              "      <th>tBodyAcc-correlation()-Y,Z</th>\n",
              "      <th>...</th>\n",
              "      <th>fBodyBodyAccJerkMag-energy()</th>\n",
              "      <th>fBodyBodyAccJerkMag-iqr()</th>\n",
              "      <th>fBodyBodyAccJerkMag-entropy()</th>\n",
              "      <th>fBodyBodyAccJerkMag-maxInds</th>\n",
              "      <th>fBodyBodyAccJerkMag-meanFreq()</th>\n",
              "      <th>fBodyBodyAccJerkMag-skewness()</th>\n",
              "      <th>fBodyBodyAccJerkMag-kurtosis()</th>\n",
              "      <th>fBodyBodyGyroMag-mean()</th>\n",
              "      <th>fBodyBodyGyroMag-std()</th>\n",
              "      <th>fBodyBodyGyroMag-mad()</th>\n",
              "      <th>fBodyBodyGyroMag-max()</th>\n",
              "      <th>fBodyBodyGyroMag-min()</th>\n",
              "      <th>fBodyBodyGyroMag-sma()</th>\n",
              "      <th>fBodyBodyGyroMag-energy()</th>\n",
              "      <th>fBodyBodyGyroMag-iqr()</th>\n",
              "      <th>fBodyBodyGyroMag-entropy()</th>\n",
              "      <th>fBodyBodyGyroMag-maxInds</th>\n",
              "      <th>fBodyBodyGyroMag-meanFreq()</th>\n",
              "      <th>fBodyBodyGyroMag-skewness()</th>\n",
              "      <th>fBodyBodyGyroMag-kurtosis()</th>\n",
              "      <th>fBodyBodyGyroJerkMag-mean()</th>\n",
              "      <th>fBodyBodyGyroJerkMag-std()</th>\n",
              "      <th>fBodyBodyGyroJerkMag-mad()</th>\n",
              "      <th>fBodyBodyGyroJerkMag-max()</th>\n",
              "      <th>fBodyBodyGyroJerkMag-min()</th>\n",
              "      <th>fBodyBodyGyroJerkMag-sma()</th>\n",
              "      <th>fBodyBodyGyroJerkMag-energy()</th>\n",
              "      <th>fBodyBodyGyroJerkMag-iqr()</th>\n",
              "      <th>fBodyBodyGyroJerkMag-entropy()</th>\n",
              "      <th>fBodyBodyGyroJerkMag-maxInds</th>\n",
              "      <th>fBodyBodyGyroJerkMag-meanFreq()</th>\n",
              "      <th>fBodyBodyGyroJerkMag-skewness()</th>\n",
              "      <th>fBodyBodyGyroJerkMag-kurtosis()</th>\n",
              "      <th>angle(tBodyAccMean,gravity)</th>\n",
              "      <th>angle(tBodyAccJerkMean),gravityMean)</th>\n",
              "      <th>angle(tBodyGyroMean,gravityMean)</th>\n",
              "      <th>angle(tBodyGyroJerkMean,gravityMean)</th>\n",
              "      <th>angle(X,gravityMean)</th>\n",
              "      <th>angle(Y,gravityMean)</th>\n",
              "      <th>angle(Z,gravityMean)</th>\n",
              "    </tr>\n",
              "  </thead>\n",
              "  <tbody>\n",
              "    <tr>\n",
              "      <th>0</th>\n",
              "      <td>0.288585</td>\n",
              "      <td>-0.020294</td>\n",
              "      <td>-0.132905</td>\n",
              "      <td>-0.995279</td>\n",
              "      <td>-0.983111</td>\n",
              "      <td>-0.913526</td>\n",
              "      <td>-0.995112</td>\n",
              "      <td>-0.983185</td>\n",
              "      <td>-0.923527</td>\n",
              "      <td>-0.934724</td>\n",
              "      <td>-0.567378</td>\n",
              "      <td>-0.744413</td>\n",
              "      <td>0.852947</td>\n",
              "      <td>0.685845</td>\n",
              "      <td>0.814263</td>\n",
              "      <td>-0.965523</td>\n",
              "      <td>-0.999945</td>\n",
              "      <td>-0.999863</td>\n",
              "      <td>-0.994612</td>\n",
              "      <td>-0.994231</td>\n",
              "      <td>-0.987614</td>\n",
              "      <td>-0.943220</td>\n",
              "      <td>-0.407747</td>\n",
              "      <td>-0.679338</td>\n",
              "      <td>-0.602122</td>\n",
              "      <td>0.929294</td>\n",
              "      <td>-0.853011</td>\n",
              "      <td>0.359910</td>\n",
              "      <td>-0.058526</td>\n",
              "      <td>0.256892</td>\n",
              "      <td>-0.224848</td>\n",
              "      <td>0.264106</td>\n",
              "      <td>-0.095246</td>\n",
              "      <td>0.278851</td>\n",
              "      <td>-0.465085</td>\n",
              "      <td>0.491936</td>\n",
              "      <td>-0.190884</td>\n",
              "      <td>0.376314</td>\n",
              "      <td>0.435129</td>\n",
              "      <td>0.660790</td>\n",
              "      <td>...</td>\n",
              "      <td>-0.999918</td>\n",
              "      <td>-0.991364</td>\n",
              "      <td>-1.0</td>\n",
              "      <td>-0.936508</td>\n",
              "      <td>0.346989</td>\n",
              "      <td>-0.516080</td>\n",
              "      <td>-0.802760</td>\n",
              "      <td>-0.980135</td>\n",
              "      <td>-0.961309</td>\n",
              "      <td>-0.973653</td>\n",
              "      <td>-0.952264</td>\n",
              "      <td>-0.989498</td>\n",
              "      <td>-0.980135</td>\n",
              "      <td>-0.999240</td>\n",
              "      <td>-0.992656</td>\n",
              "      <td>-0.701291</td>\n",
              "      <td>-1.000000</td>\n",
              "      <td>-0.128989</td>\n",
              "      <td>0.586156</td>\n",
              "      <td>0.374605</td>\n",
              "      <td>-0.991990</td>\n",
              "      <td>-0.990697</td>\n",
              "      <td>-0.989941</td>\n",
              "      <td>-0.992448</td>\n",
              "      <td>-0.991048</td>\n",
              "      <td>-0.991990</td>\n",
              "      <td>-0.999937</td>\n",
              "      <td>-0.990458</td>\n",
              "      <td>-0.871306</td>\n",
              "      <td>-1.000000</td>\n",
              "      <td>-0.074323</td>\n",
              "      <td>-0.298676</td>\n",
              "      <td>-0.710304</td>\n",
              "      <td>-0.112754</td>\n",
              "      <td>0.030400</td>\n",
              "      <td>-0.464761</td>\n",
              "      <td>-0.018446</td>\n",
              "      <td>-0.841247</td>\n",
              "      <td>0.179941</td>\n",
              "      <td>-0.058627</td>\n",
              "    </tr>\n",
              "    <tr>\n",
              "      <th>1</th>\n",
              "      <td>0.278419</td>\n",
              "      <td>-0.016411</td>\n",
              "      <td>-0.123520</td>\n",
              "      <td>-0.998245</td>\n",
              "      <td>-0.975300</td>\n",
              "      <td>-0.960322</td>\n",
              "      <td>-0.998807</td>\n",
              "      <td>-0.974914</td>\n",
              "      <td>-0.957686</td>\n",
              "      <td>-0.943068</td>\n",
              "      <td>-0.557851</td>\n",
              "      <td>-0.818409</td>\n",
              "      <td>0.849308</td>\n",
              "      <td>0.685845</td>\n",
              "      <td>0.822637</td>\n",
              "      <td>-0.981930</td>\n",
              "      <td>-0.999991</td>\n",
              "      <td>-0.999788</td>\n",
              "      <td>-0.998405</td>\n",
              "      <td>-0.999150</td>\n",
              "      <td>-0.977866</td>\n",
              "      <td>-0.948225</td>\n",
              "      <td>-0.714892</td>\n",
              "      <td>-0.500930</td>\n",
              "      <td>-0.570979</td>\n",
              "      <td>0.611627</td>\n",
              "      <td>-0.329549</td>\n",
              "      <td>0.284213</td>\n",
              "      <td>0.284595</td>\n",
              "      <td>0.115705</td>\n",
              "      <td>-0.090963</td>\n",
              "      <td>0.294310</td>\n",
              "      <td>-0.281211</td>\n",
              "      <td>0.085988</td>\n",
              "      <td>-0.022153</td>\n",
              "      <td>-0.016657</td>\n",
              "      <td>-0.220643</td>\n",
              "      <td>-0.013429</td>\n",
              "      <td>-0.072692</td>\n",
              "      <td>0.579382</td>\n",
              "      <td>...</td>\n",
              "      <td>-0.999867</td>\n",
              "      <td>-0.991134</td>\n",
              "      <td>-1.0</td>\n",
              "      <td>-0.841270</td>\n",
              "      <td>0.532061</td>\n",
              "      <td>-0.624871</td>\n",
              "      <td>-0.900160</td>\n",
              "      <td>-0.988296</td>\n",
              "      <td>-0.983322</td>\n",
              "      <td>-0.982659</td>\n",
              "      <td>-0.986321</td>\n",
              "      <td>-0.991829</td>\n",
              "      <td>-0.988296</td>\n",
              "      <td>-0.999811</td>\n",
              "      <td>-0.993979</td>\n",
              "      <td>-0.720683</td>\n",
              "      <td>-0.948718</td>\n",
              "      <td>-0.271958</td>\n",
              "      <td>-0.336310</td>\n",
              "      <td>-0.720015</td>\n",
              "      <td>-0.995854</td>\n",
              "      <td>-0.996399</td>\n",
              "      <td>-0.995442</td>\n",
              "      <td>-0.996866</td>\n",
              "      <td>-0.994440</td>\n",
              "      <td>-0.995854</td>\n",
              "      <td>-0.999981</td>\n",
              "      <td>-0.994544</td>\n",
              "      <td>-1.000000</td>\n",
              "      <td>-1.000000</td>\n",
              "      <td>0.158075</td>\n",
              "      <td>-0.595051</td>\n",
              "      <td>-0.861499</td>\n",
              "      <td>0.053477</td>\n",
              "      <td>-0.007435</td>\n",
              "      <td>-0.732626</td>\n",
              "      <td>0.703511</td>\n",
              "      <td>-0.844788</td>\n",
              "      <td>0.180289</td>\n",
              "      <td>-0.054317</td>\n",
              "    </tr>\n",
              "    <tr>\n",
              "      <th>2</th>\n",
              "      <td>0.279653</td>\n",
              "      <td>-0.019467</td>\n",
              "      <td>-0.113462</td>\n",
              "      <td>-0.995380</td>\n",
              "      <td>-0.967187</td>\n",
              "      <td>-0.978944</td>\n",
              "      <td>-0.996520</td>\n",
              "      <td>-0.963668</td>\n",
              "      <td>-0.977469</td>\n",
              "      <td>-0.938692</td>\n",
              "      <td>-0.557851</td>\n",
              "      <td>-0.818409</td>\n",
              "      <td>0.843609</td>\n",
              "      <td>0.682401</td>\n",
              "      <td>0.839344</td>\n",
              "      <td>-0.983478</td>\n",
              "      <td>-0.999969</td>\n",
              "      <td>-0.999660</td>\n",
              "      <td>-0.999470</td>\n",
              "      <td>-0.997130</td>\n",
              "      <td>-0.964810</td>\n",
              "      <td>-0.974675</td>\n",
              "      <td>-0.592235</td>\n",
              "      <td>-0.485821</td>\n",
              "      <td>-0.570979</td>\n",
              "      <td>0.273025</td>\n",
              "      <td>-0.086309</td>\n",
              "      <td>0.337202</td>\n",
              "      <td>-0.164739</td>\n",
              "      <td>0.017150</td>\n",
              "      <td>-0.074507</td>\n",
              "      <td>0.342256</td>\n",
              "      <td>-0.332564</td>\n",
              "      <td>0.239281</td>\n",
              "      <td>-0.136204</td>\n",
              "      <td>0.173863</td>\n",
              "      <td>-0.299493</td>\n",
              "      <td>-0.124698</td>\n",
              "      <td>-0.181105</td>\n",
              "      <td>0.608900</td>\n",
              "      <td>...</td>\n",
              "      <td>-0.999845</td>\n",
              "      <td>-0.986658</td>\n",
              "      <td>-1.0</td>\n",
              "      <td>-0.904762</td>\n",
              "      <td>0.660795</td>\n",
              "      <td>-0.724697</td>\n",
              "      <td>-0.928539</td>\n",
              "      <td>-0.989255</td>\n",
              "      <td>-0.986028</td>\n",
              "      <td>-0.984274</td>\n",
              "      <td>-0.990979</td>\n",
              "      <td>-0.995703</td>\n",
              "      <td>-0.989255</td>\n",
              "      <td>-0.999854</td>\n",
              "      <td>-0.993238</td>\n",
              "      <td>-0.736521</td>\n",
              "      <td>-0.794872</td>\n",
              "      <td>-0.212728</td>\n",
              "      <td>-0.535352</td>\n",
              "      <td>-0.871914</td>\n",
              "      <td>-0.995031</td>\n",
              "      <td>-0.995127</td>\n",
              "      <td>-0.994640</td>\n",
              "      <td>-0.996060</td>\n",
              "      <td>-0.995866</td>\n",
              "      <td>-0.995031</td>\n",
              "      <td>-0.999973</td>\n",
              "      <td>-0.993755</td>\n",
              "      <td>-1.000000</td>\n",
              "      <td>-0.555556</td>\n",
              "      <td>0.414503</td>\n",
              "      <td>-0.390748</td>\n",
              "      <td>-0.760104</td>\n",
              "      <td>-0.118559</td>\n",
              "      <td>0.177899</td>\n",
              "      <td>0.100699</td>\n",
              "      <td>0.808529</td>\n",
              "      <td>-0.848933</td>\n",
              "      <td>0.180637</td>\n",
              "      <td>-0.049118</td>\n",
              "    </tr>\n",
              "  </tbody>\n",
              "</table>\n",
              "<p>3 rows × 561 columns</p>\n",
              "</div>"
            ],
            "text/plain": [
              "   tBodyAcc-mean()-X  ...  angle(Z,gravityMean)\n",
              "0           0.288585  ...             -0.058627\n",
              "1           0.278419  ...             -0.054317\n",
              "2           0.279653  ...             -0.049118\n",
              "\n",
              "[3 rows x 561 columns]"
            ]
          },
          "metadata": {
            "tags": []
          },
          "execution_count": 84
        }
      ]
    },
    {
      "cell_type": "code",
      "metadata": {
        "id": "fh7pXrO4pW-S",
        "outputId": "a43494d7-fd71-48d2-916f-435a5bf0d6eb",
        "colab": {
          "base_uri": "https://localhost:8080/",
          "height": 143
        }
      },
      "source": [
        "# 레이블 값 확인 -> 고르게 분포되어 있음\n",
        "print(y_train['action'].value_counts().sort_index())"
      ],
      "execution_count": 42,
      "outputs": [
        {
          "output_type": "stream",
          "text": [
            "1    1226\n",
            "2    1073\n",
            "3     986\n",
            "4    1286\n",
            "5    1374\n",
            "6    1407\n",
            "Name: action, dtype: int64\n"
          ],
          "name": "stdout"
        }
      ]
    },
    {
      "cell_type": "code",
      "metadata": {
        "id": "SaCynQnmpb_w",
        "outputId": "83835dc9-58ab-485a-a904-a4cd0babd7f0",
        "colab": {
          "base_uri": "https://localhost:8080/",
          "height": 91
        }
      },
      "source": [
        "from sklearn.tree import DecisionTreeClassifier\n",
        "from sklearn.metrics import accuracy_score\n",
        "\n",
        "# 예제 반복 시마다 동일한 예측 결과 도출을 위해 random_state 설정\n",
        "# 하이퍼 파라미터는 디폴트 값으로\n",
        "dt = DecisionTreeClassifier(random_state=156)\n",
        "dt.fit(X_train, y_train)\n",
        "pred = dt.predict(X_test)\n",
        "accuracy = accuracy_score(y_test, pred)\n",
        "print(f'결정 트리 예측 정확도: {accuracy:.4f}')\n",
        "\n",
        "# DecisionTreeClassifier의 하이퍼 파라미터 추출\n",
        "print('DecisionTreeClassifier 기본 하이퍼 파라미터: \\n', dt.get_params())"
      ],
      "execution_count": 75,
      "outputs": [
        {
          "output_type": "stream",
          "text": [
            "결정 트리 예측 정확도: 0.8548\n",
            "DecisionTreeClassifier 기본 하이퍼 파라미터: \n",
            " {'ccp_alpha': 0.0, 'class_weight': None, 'criterion': 'gini', 'max_depth': None, 'max_features': None, 'max_leaf_nodes': None, 'min_impurity_decrease': 0.0, 'min_impurity_split': None, 'min_samples_leaf': 1, 'min_samples_split': 2, 'min_weight_fraction_leaf': 0.0, 'presort': 'deprecated', 'random_state': 156, 'splitter': 'best'}\n"
          ],
          "name": "stdout"
        }
      ]
    },
    {
      "cell_type": "code",
      "metadata": {
        "id": "Ndx9iyZlqQoH",
        "outputId": "4f5879ba-bc80-4315-edc9-6ffdc04604a3",
        "colab": {
          "base_uri": "https://localhost:8080/",
          "height": 107
        }
      },
      "source": [
        "# 결정 트리의 트리 깊이(Tree Depth)가 예측 정확도에 주는 영향\n",
        "# GridSearchCV를 이용해 성능 확인\n",
        "\n",
        "from sklearn.model_selection import GridSearchCV\n",
        "\n",
        "params = {\n",
        "    'max_depth': [6, 8, 10, 12, 16, 20, 24]\n",
        "}\n",
        "\n",
        "grid_cv = GridSearchCV(dt, param_grid=params, scoring='accuracy', cv=5, verbose=1)\n",
        "grid_cv.fit(X_train, y_train)\n",
        "print(f'GridSearchCV 최고 평균 정확도 수치: {grid_cv.best_score_:.4f}')\n",
        "print('GridSearchCv 최적 하이퍼 파라미터: ', grid_cv.best_params_)"
      ],
      "execution_count": 76,
      "outputs": [
        {
          "output_type": "stream",
          "text": [
            "Fitting 5 folds for each of 7 candidates, totalling 35 fits\n"
          ],
          "name": "stdout"
        },
        {
          "output_type": "stream",
          "text": [
            "[Parallel(n_jobs=1)]: Using backend SequentialBackend with 1 concurrent workers.\n",
            "[Parallel(n_jobs=1)]: Done  35 out of  35 | elapsed:  1.9min finished\n"
          ],
          "name": "stderr"
        },
        {
          "output_type": "stream",
          "text": [
            "GridSearchCV 최고 평균 정확도 수치: 0.8513\n",
            "GridSearchCv 최적 하이퍼 파라미터:  {'max_depth': 16}\n"
          ],
          "name": "stdout"
        }
      ]
    },
    {
      "cell_type": "markdown",
      "metadata": {
        "id": "0YcqW0hArX3t"
      },
      "source": [
        "*max_depth* 가 16일 때, 최고 평균 정확도 85.13% 도출  \n",
        "*max_depth* 값의 증가에 따라 예측 성능이 어떻게 변하는지 확인"
      ]
    },
    {
      "cell_type": "code",
      "metadata": {
        "id": "kfLbo-aqr_2V",
        "outputId": "87f5b2f6-9eac-40dd-ac90-3dc8d0ae1eeb",
        "colab": {
          "base_uri": "https://localhost:8080/",
          "height": 266
        }
      },
      "source": [
        "# GridSearchCV 객체의 cv_results_ 속성을 DataFrame으로 생성\n",
        "cv_results_df = pd.DataFrame(grid_cv.cv_results_)\n",
        "\n",
        "# max_depth 파라미터 값과 그 때의 테스트 세트, 학습 데이터 세트의 정확도 수치 추출\n",
        "cv_results_df[['param_max_depth', 'mean_test_score']]"
      ],
      "execution_count": 77,
      "outputs": [
        {
          "output_type": "execute_result",
          "data": {
            "text/html": [
              "<div>\n",
              "<style scoped>\n",
              "    .dataframe tbody tr th:only-of-type {\n",
              "        vertical-align: middle;\n",
              "    }\n",
              "\n",
              "    .dataframe tbody tr th {\n",
              "        vertical-align: top;\n",
              "    }\n",
              "\n",
              "    .dataframe thead th {\n",
              "        text-align: right;\n",
              "    }\n",
              "</style>\n",
              "<table border=\"1\" class=\"dataframe\">\n",
              "  <thead>\n",
              "    <tr style=\"text-align: right;\">\n",
              "      <th></th>\n",
              "      <th>param_max_depth</th>\n",
              "      <th>mean_test_score</th>\n",
              "    </tr>\n",
              "  </thead>\n",
              "  <tbody>\n",
              "    <tr>\n",
              "      <th>0</th>\n",
              "      <td>6</td>\n",
              "      <td>0.850791</td>\n",
              "    </tr>\n",
              "    <tr>\n",
              "      <th>1</th>\n",
              "      <td>8</td>\n",
              "      <td>0.851069</td>\n",
              "    </tr>\n",
              "    <tr>\n",
              "      <th>2</th>\n",
              "      <td>10</td>\n",
              "      <td>0.851209</td>\n",
              "    </tr>\n",
              "    <tr>\n",
              "      <th>3</th>\n",
              "      <td>12</td>\n",
              "      <td>0.844135</td>\n",
              "    </tr>\n",
              "    <tr>\n",
              "      <th>4</th>\n",
              "      <td>16</td>\n",
              "      <td>0.851344</td>\n",
              "    </tr>\n",
              "    <tr>\n",
              "      <th>5</th>\n",
              "      <td>20</td>\n",
              "      <td>0.850800</td>\n",
              "    </tr>\n",
              "    <tr>\n",
              "      <th>6</th>\n",
              "      <td>24</td>\n",
              "      <td>0.849440</td>\n",
              "    </tr>\n",
              "  </tbody>\n",
              "</table>\n",
              "</div>"
            ],
            "text/plain": [
              "  param_max_depth  mean_test_score\n",
              "0               6         0.850791\n",
              "1               8         0.851069\n",
              "2              10         0.851209\n",
              "3              12         0.844135\n",
              "4              16         0.851344\n",
              "5              20         0.850800\n",
              "6              24         0.849440"
            ]
          },
          "metadata": {
            "tags": []
          },
          "execution_count": 77
        }
      ]
    },
    {
      "cell_type": "markdown",
      "metadata": {
        "id": "67H2KVkGs_J7"
      },
      "source": [
        "결정 트리는 노드를 지속적으로 분할하면서 깊이가 깊어지고 복잡한 모델이 된다.  \n",
        "깊어진 트리는 학습 데이터에 대해서는 잘 예측하지만 검증 데이터 셋에는 과적합으로 인해 성능 저하가 유발될 수 있다."
      ]
    },
    {
      "cell_type": "code",
      "metadata": {
        "id": "Q3nm-UeWtc0T",
        "outputId": "55288da3-2c8e-4b29-9071-bfea33113547",
        "colab": {
          "base_uri": "https://localhost:8080/",
          "height": 143
        }
      },
      "source": [
        "max_depths = [6, 8, 10, 12, 16, 20, 24]\n",
        "\n",
        "# max_depth 값을 변화시키면서 그때마다 학습과 테스트 세트에서의 예측 성능 측정\n",
        "for depth in max_depths:\n",
        "    dt = DecisionTreeClassifier(max_depth=depth, random_state=156)\n",
        "    dt.fit(X_train, y_train)\n",
        "    pred = dt.predict(X_test)\n",
        "    accuracy = accuracy_score(y_test, pred)\n",
        "    print(f'max_depth = {depth:>3} 정확도: {accuracy:.4f}')"
      ],
      "execution_count": 78,
      "outputs": [
        {
          "output_type": "stream",
          "text": [
            "max_depth =   6 정확도: 0.8558\n",
            "max_depth =   8 정확도: 0.8707\n",
            "max_depth =  10 정확도: 0.8673\n",
            "max_depth =  12 정확도: 0.8646\n",
            "max_depth =  16 정확도: 0.8575\n",
            "max_depth =  20 정확도: 0.8548\n",
            "max_depth =  24 정확도: 0.8548\n"
          ],
          "name": "stdout"
        }
      ]
    },
    {
      "cell_type": "markdown",
      "metadata": {
        "id": "Ys5cFitHuFAJ"
      },
      "source": [
        "*max_depth* 가 8일 때 정확도가 87.07%로 가장 높고 이후로는 깊어질수록 정확도가 떨어진다."
      ]
    },
    {
      "cell_type": "code",
      "metadata": {
        "id": "zXw_l2TXujca",
        "outputId": "875086f1-2092-454a-f4a5-4f4c44ab55c7",
        "colab": {
          "base_uri": "https://localhost:8080/",
          "height": 107
        }
      },
      "source": [
        "params = {\n",
        "    'max_depth': [8, 12, 16, 20],\n",
        "    'min_samples_split': [16, 24]\n",
        "}\n",
        "\n",
        "grid_cv = GridSearchCV(dt, param_grid=params, scoring='accuracy', cv=5, verbose=1)\n",
        "grid_cv.fit(X_train, y_train)\n",
        "print(f'GridSearchCV 최고 평균 정확도 수치: {grid_cv.best_score_:.4f}')\n",
        "print('GridSearchCV 최적 하이퍼 파라미터: ', grid_cv.best_params_)"
      ],
      "execution_count": 79,
      "outputs": [
        {
          "output_type": "stream",
          "text": [
            "Fitting 5 folds for each of 8 candidates, totalling 40 fits\n"
          ],
          "name": "stdout"
        },
        {
          "output_type": "stream",
          "text": [
            "[Parallel(n_jobs=1)]: Using backend SequentialBackend with 1 concurrent workers.\n",
            "[Parallel(n_jobs=1)]: Done  40 out of  40 | elapsed:  2.2min finished\n"
          ],
          "name": "stderr"
        },
        {
          "output_type": "stream",
          "text": [
            "GridSearchCV 최고 평균 정확도 수치: 0.8549\n",
            "GridSearchCV 최적 하이퍼 파라미터:  {'max_depth': 8, 'min_samples_split': 16}\n"
          ],
          "name": "stdout"
        }
      ]
    },
    {
      "cell_type": "markdown",
      "metadata": {
        "id": "J2fe-XkVvAxU"
      },
      "source": [
        "* *max_depth*가 8, *min_samples_split*이 16일 때, 85.49%로 정확도가 가장 높다."
      ]
    },
    {
      "cell_type": "code",
      "metadata": {
        "id": "eIhjG4JKv39l",
        "outputId": "425a2d49-e6a7-4e8f-a70f-a626974f95a5",
        "colab": {
          "base_uri": "https://localhost:8080/",
          "height": 35
        }
      },
      "source": [
        "best_dt = grid_cv.best_estimator_\n",
        "pred1 = best_dt.predict(X_test)\n",
        "accuracy = accuracy_score(y_test, pred1)\n",
        "print(f'결정 트리 예측 정확도: {accuracy:.4f}')"
      ],
      "execution_count": 80,
      "outputs": [
        {
          "output_type": "stream",
          "text": [
            "결정 트리 예측 정확도: 0.8717\n"
          ],
          "name": "stdout"
        }
      ]
    },
    {
      "cell_type": "code",
      "metadata": {
        "id": "yjS1zSlIwE9L",
        "outputId": "22c258ab-5282-4759-e870-f0b1f66f5cfc",
        "colab": {
          "base_uri": "https://localhost:8080/",
          "height": 419
        }
      },
      "source": [
        "# 중요도가 높은 순으로 Top 20 피쳐를 막대그래프로 표현\n",
        "\n",
        "import seaborn as sns\n",
        "\n",
        "ftr_importances_values = best_dt.feature_importances_\n",
        "\n",
        "# Top 중요도로 정렬을 쉽게 하고, Seaborn의 막대그래프로 쉽게 표현하기 위해 Series 변환\n",
        "ftr_importances = pd.Series(ftr_importances_values, index=X_train.columns)\n",
        "\n",
        "# 중요도 값 순으로 Series를 정렬\n",
        "ftr_top20 = ftr_importances.sort_values(ascending=False)[:20]\n",
        "\n",
        "plt.figure(figsize=(8, 6))\n",
        "sns.barplot(x=ftr_top20, y=ftr_top20.index, orient='h')\n",
        "plt.title('Feature importances Top 20')\n",
        "plt.show()"
      ],
      "execution_count": 81,
      "outputs": [
        {
          "output_type": "display_data",
          "data": {
            "image/png": "[encoded data removed]",
            "text/plain": [
              "<Figure size 576x432 with 1 Axes>"
            ]
          },
          "metadata": {
            "tags": []
          }
        }
      ]
    },
    {
      "cell_type": "markdown",
      "metadata": {
        "id": "_EZKao9exQV6"
      },
      "source": [
        "## 03. 앙상블 학습"
      ]
    },
    {
      "cell_type": "markdown",
      "metadata": {
        "id": "r1ovTgNl3u-m"
      },
      "source": [
        "### 앙상블 학습 개요"
      ]
    },
    {
      "cell_type": "markdown",
      "metadata": {
        "id": "2zo2ObYY3yoB"
      },
      "source": [
        "* **앙상블 학습(Ensemble Learning)**을 통한 분류  \n",
        "여러 개의 분류기(Classifier)를 생성하고 그 예측을 결합함으로써 보다 정확한 최종 예측을 도출하는 기법  \n",
        "* **목표**: 다양한 분류기의 예측 결과를 결합함으로써 단일 분류기보다 신뢰성이 높은 예측값을 얻는 것\n",
        "---\n",
        "* **보팅(Voting)**\n",
        "    * 여러 개의 분류기가 투표를 통해 최종 예측 결과를 결정하는 방식\n",
        "    * **서로 다른 알고리즘을 가진 분류기를 결합**\n",
        "    * ex) Linear Regression, K-NN, SVM 등의 ML 알고리즘을 통해 학습하고 예측한 결과를 가지고 Voting을 통해 최종 예측\n",
        "\n",
        "\n",
        "* **배깅(Bagging. Bootstrap Aggregating)**\n",
        "    * 여러 개의 분류기가 투표를 통해 최종 예측 결과를 결정하는 방식\n",
        "    * 분류기가 모두 같은 유형의 알고리즘 기반, **데이터 샘플링을 다르게 가져가면서 학습을 수행**\n",
        "    * 하나의 ML 알고리즘, 여러 데이터 세트를 가지고 분류기들이 학습\n",
        "    * *랜덤 포레스트(Random Forest)* 가 대표적인 배깅 모델\n",
        "    * 교차 검증이 데이터 세트 간의 중복을 허용하지 않는 것과 다르게 배깅은 데이터 세트 간의 중복을 허용\n",
        "\n",
        "\n",
        "| **Bagging(Bootstrap Aggregating)** |           **Random Forest**            |\n",
        "|:----------------------------------:|:--------------------------------------:|\n",
        "| 중복을 허용한 랜덤 샘플링 기법     |         부트스트랩 샘플 사용           |\n",
        "| Bootstrap 자료를 모델링하고 결합해서 최종 모델 산출    |  Decision Tree를 Random 하게 만들고 이 때 *설명 변수를 제한* |\n",
        "|  Train Set에서 데이터 랜덤 추출 (모든 변수를 사용)  |  Tree마다 독립 변수가 다르게 들어가도록 독립 변수의 수를 제한          |\n",
        "\n",
        "<center>데이터 셋에서 일부를 랜덤 추출하여 학습에 사용하지만 random subset에 있는 변수의 수가 다르다.</center>\n",
        "\n",
        "\n",
        "* **부스팅(Boosting)**\n",
        "    * 여러 개의 분류기가 순차적으로 학습을 수행하되, 앞에서 학습한 분류기가 예측이 틀린 데이터에 대해서는 올바르게 예측할 수 있도록 **다음 분류기에게는 가중치(weight)를 부여**하면서 학습과 예측을 진행\n",
        "\n",
        "    * **Gradient Boosting**\n",
        "        * 가중치 부여시 Gradient Descent 알고리즘 사용\n",
        "        * 단점: 느리다. Overfitting 문제\n",
        "    \n",
        "    * **XgBoost** (eXtra Gradient Boost)\n",
        "        * Gradient Boosting 단점 보완 -> GBM보다 빠르다. Overfitting 방지할 규제\n",
        "        * 가중치 부여는 Gradient Descent 알고리즘 사용\n",
        "        * 분류, 회귀 가능\n",
        "        * early stopping\n",
        "\n",
        "    * **LightGBM** (Light Gradient Boost)\n",
        "        * XgBoost 단점 (여전히 느린 속도, hyper parameter가 많다.) 보완\n",
        "        * 대용량 데이터 처리 가능\n",
        "        * 적은 자원 사용, 빠르다\n",
        "        * GPU 사용 가능\n",
        "        * *Leaf Wise* 트리 분할 방식(DFS)  \n",
        "        => 비대칭적이고 깊은 트리 생성 (동일 leaf 생성시 level-wise보다 손실이 적다. (트리의 균형을 안 맞춰도 됨)\n",
        "        * Overfitting에 민감 (작은 데이터셋에는 사용을 지양)\n",
        "\n",
        "    * **AdaBoost** (Adaptive Boost)\n",
        "        1. Train data 중 샘플링하여 학습, 해당 모델의 정확도 측정\n",
        "        2. 에러가 발생한 데이터를 찾고, 가중치를 더 준 상태에서 다음 모델을 위한 데이터 추출  \n",
        "            -> 가중치가 큰 데이터 (이전에 에러 발생한)가 들어올 확률 상승\n",
        "        3. 위 과정 반복 -> 완벽한 모델 생성\n",
        "        * Classification 에 대한 모델?\n",
        "\n",
        "    * **CatBoost** (https://dailyheumsi.tistory.com/136)\n",
        "        * 데이터에 범주형(Categorical) 변수가 많을 때 유용한 모델\n",
        "        1. *Level-Wise*로 트리 생성 (XgBoost와 같다.)\n",
        "        2. *Ordered Boosting*  \n",
        "            * 데이터 일부만 가지고 학습 (잔차 계산) -> 다음 모델 예측  \n",
        "            * 순서에 따라 모델을 만들고 예측하는 방식\n",
        "        3. *Random Permutation*  \n",
        "            * 데이터를 랜덤하게 가져옴 (Overfitting 방지. 트리를 다각적으로 만들기 위함)\n",
        "        4. *Ordered Target Encoding* \n",
        "            * Target Encoding, Mean Encoding, Response Encoding 이라고도 부름\n",
        "            * 범주형 변수를 수로 인코딩 시키는 방법\n",
        "        5. *Categorical Feature Combinations*\n",
        "            * Information Gain이 동일한 두 feature를 하나로 처리\n",
        "        6. *One Hot Encoding*\n",
        "            * 낮은 Cardinality를 가지는 범주형 변수에 한해서 적용\n",
        "        7. *Optimized Parameter Tuning*\n",
        "            * 기본 파라미터가 최적화가 잘 되어 있다. => 파라미터 튜닝에 크게 신경 쓰지 않아도 된다.\n",
        "        * 데이터가 대부분 수치형이거나 Sparse Matrix는 잘 처리하지 못한다.\n",
        "\n",
        "\n",
        "* **스태킹(Stacking)**\n",
        "    * 여러 가지 다른 모델의 예측 결과값을 다시 학습 데이터로 만들어서 다른 모델(메타 모델)로 재학습시켜 결과를 예측하는 방법\n",
        "    * 캐글 같은 대회에서 많이 사용\n",
        "    * 기본적인 Stacking Ensemble 방법은 Overfitting 문제가 있어서 잘 사용하지 않는다.  \n",
        "        => CV 기반의 Stacking을 주로 사용\n",
        "\n",
        "    * Stacking Ensemble\n",
        "        * Model Averaging\n",
        "            * 예측 결과에 대한 편차 감소 -> Overfitting 감소\n",
        "        * Weighted Averaging Model\n",
        "            * sub model 결합시 weight 부여\n",
        "        * Stacked Generalization\n",
        "            * sub model 결합시 linear weighted sum으로 대체\n",
        "            * 개별 모델이 예측한 데이터를 다시 trainig set으로 사용해서 학습"
      ]
    },
    {
      "cell_type": "markdown",
      "metadata": {
        "id": "woCBTvJQFZ6B"
      },
      "source": [
        "### 보팅 유형 - 하드 보팅(Hard Voting)과 소프트 보팅(Soft Voting)"
      ]
    },
    {
      "cell_type": "markdown",
      "metadata": {
        "id": "fljbgttTM6wM"
      },
      "source": [
        "* **하드 보팅**(Hard Voting)\n",
        "    * 예측한 결과값들 중 다수의 분류기가 결정한 예측값을 최종 보팅 결과값으로 선정\n",
        "\n",
        "* **소프트 보팅**(Soft Voting)\n",
        "    * 분류기들의 레이블 값 결정 확률을 모두 더하고 이를 평균해서 이들 중 확률이 가장 높은 레이블 값을 최종 보팅 결과값으로 지정\n",
        "\n",
        "* **일반적으로 소프트 보팅**이 보팅 방법으로 적용"
      ]
    },
    {
      "cell_type": "markdown",
      "metadata": {
        "id": "CKTvVda6Nc9P"
      },
      "source": [
        "### 보팅 분류기(Voting Classifier)"
      ]
    },
    {
      "cell_type": "markdown",
      "metadata": {
        "id": "JRjUn7msNq4C"
      },
      "source": [
        "* 보팅 방식의 앙상블을 이용한 위스콘신 유방암 데이터 세트 예측 분석\n",
        "* 로지스틱 회귀와 KNN 알고리즘 사용"
      ]
    },
    {
      "cell_type": "code",
      "metadata": {
        "id": "auTnGiNwN3xc",
        "outputId": "8c58ad3b-7ffa-4348-915f-f208415e1433",
        "colab": {
          "base_uri": "https://localhost:8080/",
          "height": 196
        }
      },
      "source": [
        "import pandas as pd\n",
        "\n",
        "from sklearn.ensemble import VotingClassifier\n",
        "from sklearn.linear_model import LogisticRegression\n",
        "from sklearn.neighbors import KNeighborsClassifier\n",
        "from sklearn.datasets import load_breast_cancer\n",
        "from sklearn.model_selection import train_test_split\n",
        "from sklearn.metrics import accuracy_score\n",
        "\n",
        "cancer = load_breast_cancer()\n",
        "\n",
        "data = pd.DataFrame(cancer.data, columns=cancer.feature_names)\n",
        "data.head(3)"
      ],
      "execution_count": 88,
      "outputs": [
        {
          "output_type": "execute_result",
          "data": {
            "text/html": [
              "<div>\n",
              "<style scoped>\n",
              "    .dataframe tbody tr th:only-of-type {\n",
              "        vertical-align: middle;\n",
              "    }\n",
              "\n",
              "    .dataframe tbody tr th {\n",
              "        vertical-align: top;\n",
              "    }\n",
              "\n",
              "    .dataframe thead th {\n",
              "        text-align: right;\n",
              "    }\n",
              "</style>\n",
              "<table border=\"1\" class=\"dataframe\">\n",
              "  <thead>\n",
              "    <tr style=\"text-align: right;\">\n",
              "      <th></th>\n",
              "      <th>mean radius</th>\n",
              "      <th>mean texture</th>\n",
              "      <th>mean perimeter</th>\n",
              "      <th>mean area</th>\n",
              "      <th>mean smoothness</th>\n",
              "      <th>mean compactness</th>\n",
              "      <th>mean concavity</th>\n",
              "      <th>mean concave points</th>\n",
              "      <th>mean symmetry</th>\n",
              "      <th>mean fractal dimension</th>\n",
              "      <th>radius error</th>\n",
              "      <th>texture error</th>\n",
              "      <th>perimeter error</th>\n",
              "      <th>area error</th>\n",
              "      <th>smoothness error</th>\n",
              "      <th>compactness error</th>\n",
              "      <th>concavity error</th>\n",
              "      <th>concave points error</th>\n",
              "      <th>symmetry error</th>\n",
              "      <th>fractal dimension error</th>\n",
              "      <th>worst radius</th>\n",
              "      <th>worst texture</th>\n",
              "      <th>worst perimeter</th>\n",
              "      <th>worst area</th>\n",
              "      <th>worst smoothness</th>\n",
              "      <th>worst compactness</th>\n",
              "      <th>worst concavity</th>\n",
              "      <th>worst concave points</th>\n",
              "      <th>worst symmetry</th>\n",
              "      <th>worst fractal dimension</th>\n",
              "    </tr>\n",
              "  </thead>\n",
              "  <tbody>\n",
              "    <tr>\n",
              "      <th>0</th>\n",
              "      <td>17.99</td>\n",
              "      <td>10.38</td>\n",
              "      <td>122.8</td>\n",
              "      <td>1001.0</td>\n",
              "      <td>0.11840</td>\n",
              "      <td>0.27760</td>\n",
              "      <td>0.3001</td>\n",
              "      <td>0.14710</td>\n",
              "      <td>0.2419</td>\n",
              "      <td>0.07871</td>\n",
              "      <td>1.0950</td>\n",
              "      <td>0.9053</td>\n",
              "      <td>8.589</td>\n",
              "      <td>153.40</td>\n",
              "      <td>0.006399</td>\n",
              "      <td>0.04904</td>\n",
              "      <td>0.05373</td>\n",
              "      <td>0.01587</td>\n",
              "      <td>0.03003</td>\n",
              "      <td>0.006193</td>\n",
              "      <td>25.38</td>\n",
              "      <td>17.33</td>\n",
              "      <td>184.6</td>\n",
              "      <td>2019.0</td>\n",
              "      <td>0.1622</td>\n",
              "      <td>0.6656</td>\n",
              "      <td>0.7119</td>\n",
              "      <td>0.2654</td>\n",
              "      <td>0.4601</td>\n",
              "      <td>0.11890</td>\n",
              "    </tr>\n",
              "    <tr>\n",
              "      <th>1</th>\n",
              "      <td>20.57</td>\n",
              "      <td>17.77</td>\n",
              "      <td>132.9</td>\n",
              "      <td>1326.0</td>\n",
              "      <td>0.08474</td>\n",
              "      <td>0.07864</td>\n",
              "      <td>0.0869</td>\n",
              "      <td>0.07017</td>\n",
              "      <td>0.1812</td>\n",
              "      <td>0.05667</td>\n",
              "      <td>0.5435</td>\n",
              "      <td>0.7339</td>\n",
              "      <td>3.398</td>\n",
              "      <td>74.08</td>\n",
              "      <td>0.005225</td>\n",
              "      <td>0.01308</td>\n",
              "      <td>0.01860</td>\n",
              "      <td>0.01340</td>\n",
              "      <td>0.01389</td>\n",
              "      <td>0.003532</td>\n",
              "      <td>24.99</td>\n",
              "      <td>23.41</td>\n",
              "      <td>158.8</td>\n",
              "      <td>1956.0</td>\n",
              "      <td>0.1238</td>\n",
              "      <td>0.1866</td>\n",
              "      <td>0.2416</td>\n",
              "      <td>0.1860</td>\n",
              "      <td>0.2750</td>\n",
              "      <td>0.08902</td>\n",
              "    </tr>\n",
              "    <tr>\n",
              "      <th>2</th>\n",
              "      <td>19.69</td>\n",
              "      <td>21.25</td>\n",
              "      <td>130.0</td>\n",
              "      <td>1203.0</td>\n",
              "      <td>0.10960</td>\n",
              "      <td>0.15990</td>\n",
              "      <td>0.1974</td>\n",
              "      <td>0.12790</td>\n",
              "      <td>0.2069</td>\n",
              "      <td>0.05999</td>\n",
              "      <td>0.7456</td>\n",
              "      <td>0.7869</td>\n",
              "      <td>4.585</td>\n",
              "      <td>94.03</td>\n",
              "      <td>0.006150</td>\n",
              "      <td>0.04006</td>\n",
              "      <td>0.03832</td>\n",
              "      <td>0.02058</td>\n",
              "      <td>0.02250</td>\n",
              "      <td>0.004571</td>\n",
              "      <td>23.57</td>\n",
              "      <td>25.53</td>\n",
              "      <td>152.5</td>\n",
              "      <td>1709.0</td>\n",
              "      <td>0.1444</td>\n",
              "      <td>0.4245</td>\n",
              "      <td>0.4504</td>\n",
              "      <td>0.2430</td>\n",
              "      <td>0.3613</td>\n",
              "      <td>0.08758</td>\n",
              "    </tr>\n",
              "  </tbody>\n",
              "</table>\n",
              "</div>"
            ],
            "text/plain": [
              "   mean radius  mean texture  ...  worst symmetry  worst fractal dimension\n",
              "0        17.99         10.38  ...          0.4601                  0.11890\n",
              "1        20.57         17.77  ...          0.2750                  0.08902\n",
              "2        19.69         21.25  ...          0.3613                  0.08758\n",
              "\n",
              "[3 rows x 30 columns]"
            ]
          },
          "metadata": {
            "tags": []
          },
          "execution_count": 88
        }
      ]
    },
    {
      "cell_type": "code",
      "metadata": {
        "id": "dFwR_SCWOLJU",
        "outputId": "4a3fd134-5534-4211-fa6e-c6395678e4bb",
        "colab": {
          "base_uri": "https://localhost:8080/",
          "height": 71
        }
      },
      "source": [
        "\"\"\"\n",
        "VotingClassifier 클래스는 주요 생성 인자로 estimators와 voting 입력 받음\n",
        "estimators: Classifier 객체들을 튜플 형식으로 입력 받음\n",
        "voting: 'hard' or 'soft' (default='hard')\n",
        "\"\"\"\n",
        "\n",
        "# 개별 모델은 로지스틱 회귀와 KNN\n",
        "lr = LogisticRegression()\n",
        "knn = KNeighborsClassifier(n_neighbors=8)\n",
        "\n",
        "# 개별 모델을 소프트 보팅 기반의 앙상블 모델로 구현한 분류기\n",
        "vo = VotingClassifier(estimators=[('LR', lr), ('KNN', knn)], voting='soft')\n",
        "\n",
        "X_train, X_test, y_train, y_test = train_test_split(cancer.data, cancer.target,\n",
        "                                                    test_size=0.2, random_state=13)\n",
        "\n",
        "# VotingClassifier 학습/예측/평가\n",
        "vo.fit(X_train, y_train)\n",
        "pred = vo.predict(X_test)\n",
        "print('Voting 분류기 정확도: {:.4f}'.format(accuracy_score(y_test, pred)))\n",
        "\n",
        "# 개별 모델의 학습/예측/평가\n",
        "classifiers = [lr, knn]\n",
        "for classifier in classifiers:\n",
        "    classifier.fit(X_train, y_train)\n",
        "    pred = classifier.predict(X_test)\n",
        "    class_name = classifier.__class__.__name__\n",
        "    print('{0} 정확도: {1:.4f}'.format(class_name, accuracy_score(y_test, pred)))"
      ],
      "execution_count": 90,
      "outputs": [
        {
          "output_type": "stream",
          "text": [
            "Voting 분류기 정확도: 0.9211\n",
            "LogisticRegression 정확도: 0.9211\n",
            "KNeighborsClassifier 정확도: 0.8947\n"
          ],
          "name": "stdout"
        }
      ]
    },
    {
      "cell_type": "markdown",
      "metadata": {
        "id": "gy9OEyqiPRAG"
      },
      "source": [
        "* Voting과 LogisticRegression 의 성능이 같은데, Voting으로 여러 개의 분류기를 결합한다고 해서 무조건 예측 성능이 향상되는 것은 아니다.\n",
        "* 데이터의 특성과 분포 등 다양한 요건에 따라 오히려 분류기 중 가장 좋은 분류기의 성능이 Voting을 사용했을 때보다 나을 수도 있다."
      ]
    },
    {
      "cell_type": "markdown",
      "metadata": {
        "id": "p0YOdD02QP27"
      },
      "source": [
        "## 04. 랜덤 포레스트"
      ]
    },
    {
      "cell_type": "markdown",
      "metadata": {
        "id": "RFueG4X3QSIP"
      },
      "source": [
        "* 배깅(bagging): 같은 알고리즘으로 여러 개의 분류기를 만들어서 보팅으로 최종 결정하는 알고리즘\n",
        "* 배깅의 대표적인 알고리즘이 랜덤 포레스트\n",
        "    * 비교적 빠른 수행\n",
        "    * 결정 트리의 쉽고 직관적인 장점\n",
        "* 랜덤 포레스트는 여러 개의 결정 트리 분류기가 *전체 데이터에서 배깅 방식으로 각자의 데이터를 샘플링*해 개별적으로 학습을 수행한 뒤   \n",
        "최종적으로 모든 분류기가 보팅(소프트 보팅)을 통해 예측 결정\n",
        "* **부트스트래핑(bootstrapping) 분할 방식**: 여러 개의 데이터 세트를 중첩되게 분리하는 것\n",
        "* 랜덤 포레스트의 서브셋 데이터는 부트스트래핑으로 임의의 데이터를 만든다.  \n",
        "이 때, 서브셋의 데이터 건수는 전체 데이터 건수와 동일하지만, 개별 데이터가 중첩되어 만들어진다.\n",
        "* 랜덤 포레스트는 데이터가 중첩된 개별 데이터 세트에 결정 트리 분류기를 각각 적용한다."
      ]
    },
    {
      "cell_type": "code",
      "metadata": {
        "id": "dF4D6_pjWmK_",
        "outputId": "8d3d36b5-08cb-4e0c-ab19-9580f3016180",
        "colab": {
          "base_uri": "https://localhost:8080/",
          "height": 35
        }
      },
      "source": [
        "# 사용자 행동 데이터 세트를 이용한 RandomForestClassifier 예제\n",
        "from sklearn.ensemble import RandomForestClassifier\n",
        "from sklearn.metrics import accuracy_score\n",
        "import pandas as pd\n",
        "import warnings\n",
        "warnings.filterwarnings('ignore')\n",
        "\n",
        "# 결정 트리에서 사용한 get_human_dataset()을 이용해 학습/테스트용 DataFrame 반환\n",
        "X_train, X_test, y_train, y_test = get_human_dataset()\n",
        "\n",
        "# 랜덤 포레스트 학습 및 별도의 테스트 세트로 예측 성능 평가\n",
        "rf = RandomForestClassifier(random_state=13)\n",
        "rf.fit(X_train, y_train)\n",
        "pred = rf.predict(X_test)\n",
        "print('랜덤 포레스트 정확도: {:.4f}'.format(accuracy_score(y_test, pred)))"
      ],
      "execution_count": 91,
      "outputs": [
        {
          "output_type": "stream",
          "text": [
            "랜덤 포레스트 정확도: 0.9281\n"
          ],
          "name": "stdout"
        }
      ]
    },
    {
      "cell_type": "markdown",
      "metadata": {
        "id": "oPN1w4XxY9vy"
      },
      "source": [
        "92.81%의 정확도 (결정 트리의 GridSearchCV 알고리즘은 87%정도)"
      ]
    },
    {
      "cell_type": "markdown",
      "metadata": {
        "id": "S1UcdugtZEiX"
      },
      "source": [
        "### 랜덤 포레스트 하이퍼 파라미터 및 튜닝"
      ]
    },
    {
      "cell_type": "markdown",
      "metadata": {
        "id": "E2HFXbB6ZPuF"
      },
      "source": [
        "* 트리 기반 앙상블 알고리즘의 단점은 하이퍼 파라미터가 너무 많고, 이로 인해 튜닝을 위한 시간이 많이 소모된다.  \n",
        "또한 튜닝 후 예측 성능이 크게 향상되지 않는 경우가 많다..\n",
        "\n",
        "* *n_estimators*\n",
        "    * 랜덤 포레스트에서 결정 트리의 개수를 지정\n",
        "    * default=100\n",
        "    * 많이 설정할수록 좋은 성능이 나올 수 있지만 무조건적인 것은 아니고, 늘릴수록 학습 시간도 많이 소요된다.\n",
        "\n",
        "* *max_features*\n",
        "    * 결정 트리에 사용된 *max_features*와 같다.\n",
        "    * default='auto' ('sqrt'와 같다)\n",
        "    * 트리를 분할하는 피처를 참조할 때 전체 피쳐가 아니라 $\\sqrt{전체 피쳐 개수}$만큼 참조한다.\n",
        "    * *max_depth*나 *min_samples_leaf*와 같이 결정 트리에서 과적합을 개선하기 위해 사용되는 파라미터가 랜덤 포레스트에도 똑같이 적용될 수 있다."
      ]
    },
    {
      "cell_type": "code",
      "metadata": {
        "id": "MOsI_n0wZk9A",
        "outputId": "a8cca555-3695-4004-8b43-8827e0af2c19",
        "colab": {
          "base_uri": "https://localhost:8080/",
          "height": 71
        }
      },
      "source": [
        "# 하이퍼 파라미터 튜닝\n",
        "\n",
        "from sklearn.model_selection import GridSearchCV\n",
        "\n",
        "params = {\n",
        "    'n_estimators': [100],\n",
        "    'max_depth': [6, 8, 10, 12],\n",
        "    'min_samples_leaf': [8, 12, 18],\n",
        "    'min_samples_split': [8, 16, 20]\n",
        "}\n",
        "\n",
        "# RandomForestClassifier 객체 생성 후 GridSearchCV 수행\n",
        "rf = RandomForestClassifier(random_state=13, n_jobs=-1)\n",
        "grid_cv = GridSearchCV(rf, param_grid=params, cv=2, n_jobs=-1)\n",
        "grid_cv.fit(X_train, y_train)\n",
        "\n",
        "print('최적 하이퍼 파라미터: \\n', grid_cv.best_params_)\n",
        "print('최고 예측 정확도: {:.4f}'.format(grid_cv.best_score_))"
      ],
      "execution_count": 92,
      "outputs": [
        {
          "output_type": "stream",
          "text": [
            "최적 하이퍼 파라미터: \n",
            " {'max_depth': 10, 'min_samples_leaf': 8, 'min_samples_split': 8, 'n_estimators': 100}\n",
            "최고 예측 정확도: 0.9151\n"
          ],
          "name": "stdout"
        }
      ]
    },
    {
      "cell_type": "code",
      "metadata": {
        "id": "iSMHuQYcbaYL",
        "outputId": "ded5c042-c6fe-4f51-e13a-605590d29655",
        "colab": {
          "base_uri": "https://localhost:8080/",
          "height": 35
        }
      },
      "source": [
        "# n_estimators를 300으로 증가, 최적화 하이퍼 파라미터로 RandomForestClassifier를 학습 후 테스트 세트에서 예측 성능 측정\n",
        "rf1 = RandomForestClassifier(n_estimators=300,\n",
        "                             max_depth=10,\n",
        "                             min_samples_leaf=8,\n",
        "                             min_samples_split=8,\n",
        "                             random_state=13,\n",
        "                             n_jobs=-1)\n",
        "\n",
        "rf1.fit(X_train, y_train)\n",
        "pred = rf1.predict(X_test)\n",
        "print('예측 정확도: {:.4f}'.format(accuracy_score(y_test, pred)))"
      ],
      "execution_count": 93,
      "outputs": [
        {
          "output_type": "stream",
          "text": [
            "예측 정확도: 0.9182\n"
          ],
          "name": "stdout"
        }
      ]
    },
    {
      "cell_type": "markdown",
      "metadata": {
        "id": "f0NvLndFctGW"
      },
      "source": [
        "성능이 아주 약간 상승(0.3%)"
      ]
    },
    {
      "cell_type": "code",
      "metadata": {
        "id": "TdMnmVI7c2Bx",
        "outputId": "030d4ad1-723e-465d-f1b6-cb1cb776a897",
        "colab": {
          "base_uri": "https://localhost:8080/",
          "height": 419
        }
      },
      "source": [
        "# Feature Importance 시각화\n",
        "\n",
        "import matplotlib.pyplot as plt\n",
        "import seaborn as sns\n",
        "plt.style.use('fivethirtyeight')\n",
        "\n",
        "ftr_importances_values = rf1.feature_importances_\n",
        "ftr_importances = pd.Series(ftr_importances_values, index=X_train.columns)\n",
        "ftr_top20 = ftr_importances.sort_values(ascending=False)[:20]\n",
        "\n",
        "plt.figure(figsize=(8, 6))\n",
        "sns.barplot(x=ftr_top20, y=ftr_top20.index)\n",
        "plt.title('Feature importances Top 20')\n",
        "plt.show()"
      ],
      "execution_count": 94,
      "outputs": [
        {
          "output_type": "display_data",
          "data": {
            "image/png": "[encoded data removed]",
            "text/plain": [
              "<Figure size 576x432 with 1 Axes>"
            ]
          },
          "metadata": {
            "tags": []
          }
        }
      ]
    },
    {
      "cell_type": "markdown",
      "metadata": {
        "id": "S08L9cccdnXm"
      },
      "source": [
        "## 05. GBM(Gradient Boosting MAchine)"
      ]
    },
    {
      "cell_type": "code",
      "metadata": {
        "id": "EXrm1L4ddnf3"
      },
      "source": [
        ""
      ],
      "execution_count": null,
      "outputs": []
    }
  ]
}