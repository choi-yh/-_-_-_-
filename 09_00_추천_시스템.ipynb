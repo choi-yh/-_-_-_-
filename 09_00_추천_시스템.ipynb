{
  "nbformat": 4,
  "nbformat_minor": 0,
  "metadata": {
    "colab": {
      "name": "09_00_추천_시스템.ipynb",
      "provenance": [],
      "collapsed_sections": [],
      "authorship_tag": "ABX9TyNYvUPhQa07BnRdCnMY02l8",
      "include_colab_link": true
    },
    "kernelspec": {
      "name": "python3",
      "display_name": "Python 3"
    }
  },
  "cells": [
    {
      "cell_type": "markdown",
      "metadata": {
        "id": "view-in-github",
        "colab_type": "text"
      },
      "source": [
        "<a href=\"https://colab.research.google.com/github/choi-yh/Pyhon_ML_Guide/blob/master/09_00_%EC%B6%94%EC%B2%9C_%EC%8B%9C%EC%8A%A4%ED%85%9C.ipynb\" target=\"_parent\"><img src=\"https://colab.research.google.com/assets/colab-badge.svg\" alt=\"Open In Colab\"/></a>"
      ]
    },
    {
      "cell_type": "markdown",
      "metadata": {
        "id": "3-eIfvNkto-z"
      },
      "source": [
        "## 01. 추천 시스템의 개요와 배경"
      ]
    },
    {
      "cell_type": "markdown",
      "metadata": {
        "id": "dH2gHky7uGqo"
      },
      "source": [
        "### 추천 시스템의 개요"
      ]
    },
    {
      "cell_type": "markdown",
      "metadata": {
        "id": "jCgeSmqhuN8f"
      },
      "source": [
        "### 온라인 스토어의 필수 요소, 추천 시스템\n",
        "\n",
        "* 추천 시스템을 통해 소비자가 제품 선택을 손쉽게 할 수 있도록 한다.\n",
        "* 추천 시스템 구성 예시\n",
        "    * 사용자가 어떤 상품을 구매했는가?\n",
        "    * 사용자가 어떤 상품을 둘러보고, 장바구니에 추가했는가?\n",
        "    * 사용자의 평점은?\n",
        "    "
      ]
    },
    {
      "cell_type": "markdown",
      "metadata": {
        "id": "KDQ2x96avEPZ"
      },
      "source": [
        "### 추천 시스템의 유형\n",
        "\n",
        "\n",
        "* **콘텐츠 기반 필터링(Content based filtering)**\n",
        "* **협업 필터링(Collaborative Filtering)**\n",
        "    * 최근접 이웃(Nearest Neighbor) 협업 필터링\n",
        "    * 잠재 요인(Latent Factor) 협업 필터링\n",
        "\n",
        "\n",
        "* 추천 시스템 초기에는 콘텐츠 기반 필터링 / 최근접 이웃 협업 필터링 사용\n",
        "* \"넷플릭스 추천 시스템 경연대회\"에서 **행렬 분해(Matrix Factorization) 기법을 이용한 잠재 요인 협업 필터링 방식**이 우승 -> 대부분의 온라인 스토어에서 해당 기법을 활용한 시스템 적용 중"
      ]
    },
    {
      "cell_type": "markdown",
      "metadata": {
        "id": "Biu_lw0bvqkB"
      },
      "source": [
        "## 02. 콘텐츠 기반 필터링 추천 시스템 (Content based filtering)\n",
        "\n",
        "* **사용자가 특정 아이템 사용을 매우 선호하는 경우, 해당 아이템과 비슷한 콘텐츠를 가진 아이템을 추천하는 방식**  \n",
        "ex) 특정 영화에 높은 평점을 줬을 경우, 해당 장르, 감독, 배우, 키워드 등이 비슷한 영화를 추천"
      ]
    },
    {
      "cell_type": "markdown",
      "metadata": {
        "id": "Fc1oNEY5xYrs"
      },
      "source": [
        "## 03. 최근접 이웃 협업 필터링"
      ]
    },
    {
      "cell_type": "markdown",
      "metadata": {
        "id": "wUY1p_o6kI7z"
      },
      "source": [
        "* **협업 필터링(Collaborative Filtering)**:   \n",
        " **사용자 행동 양식(User Behavior)**(사용자가 아이템에 매긴 평점, 상품 구매 이력 등)을 기반으로 추천을 수행하는 방식\n",
        "\n",
        "* 주요 목표: 사용자-아이템 평점 매트릭스와 같은 축적된 사용자 행동 데이터를 기반으로 사용자가 아직 평가하지 않은 아이템을 예측 평가(Predicted Rating)하는 것\n",
        "\n",
        "* 협업 필터링(Collaborative Filtering) 방식은 **최근접 이웃 방식**과 **잠재 요인 방식**으로 나뉜다. 두 방식 모두 사용자-아이템 평점 행렬 데이터에만 의지해 추천을 수행\n",
        "\n",
        "* **사용자-아이템 평점 행렬**\n",
        "    * 행(Row): 개별 사용자\n",
        "    * 열(Column): 개별 아이템\n",
        "    * 값(Value): 평점\n",
        "    * 많은 아이템을 열로 가지는 다차원 행렬이며, 사용자가 평점을 내는 경우가 많지 않기 때문에 **희소 행렬(Sparse Matrix)** 특성을 가지고 있다.\n",
        "\n",
        "---\n",
        "\n",
        "* 최근접 이웃 협업 필터링은 메모리(Memory) 협업 필터링이라고도 하며 다음과 같이 나눌 수 있다.\n",
        "    * **사용자 기반(User-User) 협업 필터링**  \n",
        "        * 당신과 비슷한 고객들이 다음 상품도 구매 (Customers like you also bought these items.)\n",
        "        * 특정 사용자와 유사한 다른 사용자를 TOP-N으로 선정해 이 TOP-N 사용자가 좋아하는 아이템을 추천하는 방식\n",
        "        * 특정 사용자와 타 사용자 간의 유사도(Similarity)를 측정한 뒤 가장 유사도가 높은 TOP-N 사용자를 추출해 그들이 선호하는 아이템을 추천\n",
        "\n",
        "    * **아이템 기반(Item-Item) 협업 필터링**\n",
        "        * 이 상품을 선택한 다른 고객들은 다음 상품도 구매 (Customers who bought this item also bought these items.)\n",
        "        * (아이템이 가지는 속성과는 상관없이) 사용자들이 그 아이템을 좋아하는지/싫어하는지의 평가 척도가 유사한 아이템을 추천하는 기준이 되는 알고리즘\n",
        "        * 사용자 기반 최근접 이웃 데이터 세트와 행과 열이 서로 반대 (행이 개별 아이템, 열이 개별 사용자)\n",
        "\n",
        "    * 일반적으로 사용자 기반 협업 필터링보다 **아이템 기반 협업 필터링**이 정확도가 더 높다.  \n",
        "     비슷한 영화를 좋아한다고 해서 취향이 비슷한 것은 아니고 유명한 영화의 경우 대부분의 사람이 관람을 하기 때문이다. 또한, 사용자들이 평점을 매기지 않은 아이템이 많아 다른 사람들과의 유사도를 비교하기 어렵다.\n",
        "\n",
        "\n",
        "* **다차원 희소 행렬**이라는 특징이 있기 때문에 텍스트 분석에서 사용하는 **코사인 유사도**를 통해 추천 시스템의 유사도를 측정한다.\n",
        "\n",
        "---\n",
        "\n",
        "* **코사인 유사도**(Cosine Similarity)\n",
        "    * 벡터와 벡터 간의 유사도를 비교할 때, 벡터의 크기보다는 **벡터의 상호 방향성**이 얼마나 유사한지에 기반 (두 벡터 사이의 사잇각을 구해서 얼마나 유사한지 수치로 적용)\n",
        "\n",
        "$$similarity = cos \\theta = \\frac{A \\cdot B}{\\lVert A \\rVert \\lVert B \\rVert} = \\frac{\\sum_{i=1}^n A_i B_i} {\\sqrt{\\sum_{i=1}^n A_i^2 } \\sqrt{\\sum_{i=1}^n  B_i^2}}$$"
      ]
    },
    {
      "cell_type": "code",
      "metadata": {
        "id": "fQmiHszAxb1w",
        "outputId": "bb90e2ef-45bd-45c3-9922-6ff98262463b",
        "colab": {
          "base_uri": "https://localhost:8080/",
          "height": 414
        }
      },
      "source": [
        "# 레코드 레벨 형태(row-level 형태)의 데이터는 사용자-아이템 평점 행렬로 바꿔줘야함\n",
        "# row: 사용자 / column: 아이템\n",
        "\n",
        "import pandas as pd\n",
        "\n",
        "data = pd.DataFrame({\"User ID\": ['User 1', 'User 1', 'User 2', 'User 2', 'User 3'],\n",
        "                     \"Item ID\": ['Item 1', 'Item 3', 'Item 1', 'Item 2', 'Item 4'],\n",
        "                     \"Rating\": [3, 3, 4, 1, 5]})\n",
        "display(data)\n",
        "\n",
        "print('')\n",
        "print('=' * 50)\n",
        "print('')\n",
        "\n",
        "data = pd.pivot_table(data=data, values='Rating', index='User ID', columns='Item ID')\n",
        "display(data)"
      ],
      "execution_count": 12,
      "outputs": [
        {
          "output_type": "display_data",
          "data": {
            "text/html": [
              "<div>\n",
              "<style scoped>\n",
              "    .dataframe tbody tr th:only-of-type {\n",
              "        vertical-align: middle;\n",
              "    }\n",
              "\n",
              "    .dataframe tbody tr th {\n",
              "        vertical-align: top;\n",
              "    }\n",
              "\n",
              "    .dataframe thead th {\n",
              "        text-align: right;\n",
              "    }\n",
              "</style>\n",
              "<table border=\"1\" class=\"dataframe\">\n",
              "  <thead>\n",
              "    <tr style=\"text-align: right;\">\n",
              "      <th></th>\n",
              "      <th>User ID</th>\n",
              "      <th>Item ID</th>\n",
              "      <th>Rating</th>\n",
              "    </tr>\n",
              "  </thead>\n",
              "  <tbody>\n",
              "    <tr>\n",
              "      <th>0</th>\n",
              "      <td>User 1</td>\n",
              "      <td>Item 1</td>\n",
              "      <td>3</td>\n",
              "    </tr>\n",
              "    <tr>\n",
              "      <th>1</th>\n",
              "      <td>User 1</td>\n",
              "      <td>Item 3</td>\n",
              "      <td>3</td>\n",
              "    </tr>\n",
              "    <tr>\n",
              "      <th>2</th>\n",
              "      <td>User 2</td>\n",
              "      <td>Item 1</td>\n",
              "      <td>4</td>\n",
              "    </tr>\n",
              "    <tr>\n",
              "      <th>3</th>\n",
              "      <td>User 2</td>\n",
              "      <td>Item 2</td>\n",
              "      <td>1</td>\n",
              "    </tr>\n",
              "    <tr>\n",
              "      <th>4</th>\n",
              "      <td>User 3</td>\n",
              "      <td>Item 4</td>\n",
              "      <td>5</td>\n",
              "    </tr>\n",
              "  </tbody>\n",
              "</table>\n",
              "</div>"
            ],
            "text/plain": [
              "  User ID Item ID  Rating\n",
              "0  User 1  Item 1       3\n",
              "1  User 1  Item 3       3\n",
              "2  User 2  Item 1       4\n",
              "3  User 2  Item 2       1\n",
              "4  User 3  Item 4       5"
            ]
          },
          "metadata": {
            "tags": []
          }
        },
        {
          "output_type": "stream",
          "text": [
            "\n",
            "==================================================\n",
            "\n"
          ],
          "name": "stdout"
        },
        {
          "output_type": "display_data",
          "data": {
            "text/html": [
              "<div>\n",
              "<style scoped>\n",
              "    .dataframe tbody tr th:only-of-type {\n",
              "        vertical-align: middle;\n",
              "    }\n",
              "\n",
              "    .dataframe tbody tr th {\n",
              "        vertical-align: top;\n",
              "    }\n",
              "\n",
              "    .dataframe thead th {\n",
              "        text-align: right;\n",
              "    }\n",
              "</style>\n",
              "<table border=\"1\" class=\"dataframe\">\n",
              "  <thead>\n",
              "    <tr style=\"text-align: right;\">\n",
              "      <th>Item ID</th>\n",
              "      <th>Item 1</th>\n",
              "      <th>Item 2</th>\n",
              "      <th>Item 3</th>\n",
              "      <th>Item 4</th>\n",
              "    </tr>\n",
              "    <tr>\n",
              "      <th>User ID</th>\n",
              "      <th></th>\n",
              "      <th></th>\n",
              "      <th></th>\n",
              "      <th></th>\n",
              "    </tr>\n",
              "  </thead>\n",
              "  <tbody>\n",
              "    <tr>\n",
              "      <th>User 1</th>\n",
              "      <td>3.0</td>\n",
              "      <td>NaN</td>\n",
              "      <td>3.0</td>\n",
              "      <td>NaN</td>\n",
              "    </tr>\n",
              "    <tr>\n",
              "      <th>User 2</th>\n",
              "      <td>4.0</td>\n",
              "      <td>1.0</td>\n",
              "      <td>NaN</td>\n",
              "      <td>NaN</td>\n",
              "    </tr>\n",
              "    <tr>\n",
              "      <th>User 3</th>\n",
              "      <td>NaN</td>\n",
              "      <td>NaN</td>\n",
              "      <td>NaN</td>\n",
              "      <td>5.0</td>\n",
              "    </tr>\n",
              "  </tbody>\n",
              "</table>\n",
              "</div>"
            ],
            "text/plain": [
              "Item ID  Item 1  Item 2  Item 3  Item 4\n",
              "User ID                                \n",
              "User 1      3.0     NaN     3.0     NaN\n",
              "User 2      4.0     1.0     NaN     NaN\n",
              "User 3      NaN     NaN     NaN     5.0"
            ]
          },
          "metadata": {
            "tags": []
          }
        }
      ]
    },
    {
      "cell_type": "code",
      "metadata": {
        "id": "Kt6O2ysZeiIc",
        "outputId": "3a54a86d-2cf1-45a6-d933-0741857472da",
        "colab": {
          "base_uri": "https://localhost:8080/",
          "height": 173
        }
      },
      "source": [
        "# 사용자 기반 최근접 협업 필터링 방식에서 사용하는 데이터 형태\n",
        "data = pd.DataFrame({\"User\": ['A', 'A', 'A', 'B', 'B', 'B', 'B', 'B', 'C', 'C', 'C', 'C', 'C'],\n",
        "                     \"Movie\": ['다크나이트', '인터스텔라', '엣지오브투모로우', '다크나이트', '인터스텔라', '엣지오브투모로우', '프로메테우스', '스타워즈', '다크나이트', '인터스텔라', '엣지오브투모로우', '프로메테우스', '스타워즈'],\n",
        "                     \"Value\": [5, 4, 4, 5, 3, 4, 5, 3, 4, 3, 3, 2, 5]})\n",
        "\n",
        "user_based_data = pd.pivot_table(data=data, values='Value', index='User', columns='Movie')\n",
        "user_based_data"
      ],
      "execution_count": 15,
      "outputs": [
        {
          "output_type": "execute_result",
          "data": {
            "text/html": [
              "<div>\n",
              "<style scoped>\n",
              "    .dataframe tbody tr th:only-of-type {\n",
              "        vertical-align: middle;\n",
              "    }\n",
              "\n",
              "    .dataframe tbody tr th {\n",
              "        vertical-align: top;\n",
              "    }\n",
              "\n",
              "    .dataframe thead th {\n",
              "        text-align: right;\n",
              "    }\n",
              "</style>\n",
              "<table border=\"1\" class=\"dataframe\">\n",
              "  <thead>\n",
              "    <tr style=\"text-align: right;\">\n",
              "      <th>Movie</th>\n",
              "      <th>다크나이트</th>\n",
              "      <th>스타워즈</th>\n",
              "      <th>엣지오브투모로우</th>\n",
              "      <th>인터스텔라</th>\n",
              "      <th>프로메테우스</th>\n",
              "    </tr>\n",
              "    <tr>\n",
              "      <th>User</th>\n",
              "      <th></th>\n",
              "      <th></th>\n",
              "      <th></th>\n",
              "      <th></th>\n",
              "      <th></th>\n",
              "    </tr>\n",
              "  </thead>\n",
              "  <tbody>\n",
              "    <tr>\n",
              "      <th>A</th>\n",
              "      <td>5.0</td>\n",
              "      <td>NaN</td>\n",
              "      <td>4.0</td>\n",
              "      <td>4.0</td>\n",
              "      <td>NaN</td>\n",
              "    </tr>\n",
              "    <tr>\n",
              "      <th>B</th>\n",
              "      <td>5.0</td>\n",
              "      <td>3.0</td>\n",
              "      <td>4.0</td>\n",
              "      <td>3.0</td>\n",
              "      <td>5.0</td>\n",
              "    </tr>\n",
              "    <tr>\n",
              "      <th>C</th>\n",
              "      <td>4.0</td>\n",
              "      <td>5.0</td>\n",
              "      <td>3.0</td>\n",
              "      <td>3.0</td>\n",
              "      <td>2.0</td>\n",
              "    </tr>\n",
              "  </tbody>\n",
              "</table>\n",
              "</div>"
            ],
            "text/plain": [
              "Movie  다크나이트  스타워즈  엣지오브투모로우  인터스텔라  프로메테우스\n",
              "User                                       \n",
              "A        5.0   NaN       4.0    4.0     NaN\n",
              "B        5.0   3.0       4.0    3.0     5.0\n",
              "C        4.0   5.0       3.0    3.0     2.0"
            ]
          },
          "metadata": {
            "tags": []
          },
          "execution_count": 15
        }
      ]
    },
    {
      "cell_type": "markdown",
      "metadata": {
        "id": "cV8JWXK5p4uQ"
      },
      "source": [
        "사용자 기반 최근접 협업 필터링을 사용할 때, A가 관람한 ['다크나이트', '엣지오브투모로우', '인터스텔라'] 평점이 C보다는 B와 유사하므로 B의 평점이 더 높은 프로메테우스를 A에게 추천한다."
      ]
    },
    {
      "cell_type": "code",
      "metadata": {
        "id": "IIuzev1YrTM_",
        "outputId": "d51de210-85f1-434f-8396-eedbd480b500",
        "colab": {
          "base_uri": "https://localhost:8080/",
          "height": 173
        }
      },
      "source": [
        "# 아이템 기반 최근접 협업 필터링 방식에서 사용하는 데이터 형태\n",
        "data = pd.DataFrame({\"User\": ['A', 'A', 'A', 'B', 'B', 'B', 'C', 'C', 'C', 'D', 'E', 'E', 'E'],\n",
        "                     \"Movie\": ['다크나이트', '프로메테우스', '스타워즈', '다크나이트', '프로메테우스', '스타워즈', '다크나이트', '프로메테우스', '스타워즈', '다크나이트', '다크나이트', '프로메테우스', '스타워즈'],\n",
        "                     \"Value\": [5, 5, 4, 4, 4, 3, 5, 4, 3, 5, 5, 5, 4]})\n",
        "\n",
        "item_based_data = pd.pivot_table(data=data, values='Value', index='Movie', columns='User')\n",
        "item_based_data"
      ],
      "execution_count": 17,
      "outputs": [
        {
          "output_type": "execute_result",
          "data": {
            "text/html": [
              "<div>\n",
              "<style scoped>\n",
              "    .dataframe tbody tr th:only-of-type {\n",
              "        vertical-align: middle;\n",
              "    }\n",
              "\n",
              "    .dataframe tbody tr th {\n",
              "        vertical-align: top;\n",
              "    }\n",
              "\n",
              "    .dataframe thead th {\n",
              "        text-align: right;\n",
              "    }\n",
              "</style>\n",
              "<table border=\"1\" class=\"dataframe\">\n",
              "  <thead>\n",
              "    <tr style=\"text-align: right;\">\n",
              "      <th>User</th>\n",
              "      <th>A</th>\n",
              "      <th>B</th>\n",
              "      <th>C</th>\n",
              "      <th>D</th>\n",
              "      <th>E</th>\n",
              "    </tr>\n",
              "    <tr>\n",
              "      <th>Movie</th>\n",
              "      <th></th>\n",
              "      <th></th>\n",
              "      <th></th>\n",
              "      <th></th>\n",
              "      <th></th>\n",
              "    </tr>\n",
              "  </thead>\n",
              "  <tbody>\n",
              "    <tr>\n",
              "      <th>다크나이트</th>\n",
              "      <td>5.0</td>\n",
              "      <td>4.0</td>\n",
              "      <td>5.0</td>\n",
              "      <td>5.0</td>\n",
              "      <td>5.0</td>\n",
              "    </tr>\n",
              "    <tr>\n",
              "      <th>스타워즈</th>\n",
              "      <td>4.0</td>\n",
              "      <td>3.0</td>\n",
              "      <td>3.0</td>\n",
              "      <td>NaN</td>\n",
              "      <td>4.0</td>\n",
              "    </tr>\n",
              "    <tr>\n",
              "      <th>프로메테우스</th>\n",
              "      <td>5.0</td>\n",
              "      <td>4.0</td>\n",
              "      <td>4.0</td>\n",
              "      <td>NaN</td>\n",
              "      <td>5.0</td>\n",
              "    </tr>\n",
              "  </tbody>\n",
              "</table>\n",
              "</div>"
            ],
            "text/plain": [
              "User      A    B    C    D    E\n",
              "Movie                          \n",
              "다크나이트   5.0  4.0  5.0  5.0  5.0\n",
              "스타워즈    4.0  3.0  3.0  NaN  4.0\n",
              "프로메테우스  5.0  4.0  4.0  NaN  5.0"
            ]
          },
          "metadata": {
            "tags": []
          },
          "execution_count": 17
        }
      ]
    },
    {
      "cell_type": "markdown",
      "metadata": {
        "id": "uysx9tPur3_g"
      },
      "source": [
        "모두에게 평점이 있는 다크나이트를 확인했을 때, 스타워즈보다는 프로메테우스가 평점 분포가 더 비슷하다. => D에게 프로메테우스를 추천"
      ]
    },
    {
      "cell_type": "code",
      "metadata": {
        "id": "K_ryBz5jsbiu",
        "outputId": "f3fa3681-6b75-4efd-96ef-712bc55b62ff",
        "colab": {
          "base_uri": "https://localhost:8080/",
          "height": 53
        }
      },
      "source": [
        "# 코사인 유사도 계산\n",
        "import numpy as np\n",
        "\n",
        "def cos_similarity(v1, v2):\n",
        "    dot_product = np.dot(v1, v2)\n",
        "    l2_norm = np.sqrt(sum(np.square(v1))) * np.sqrt(sum(np.square(v2)))\n",
        "    similarity = dot_product / l2_norm\n",
        "\n",
        "    return similarity\n",
        "\n",
        "darkknight = np.array([5, 4, 5, 5])\n",
        "starwarz = np.array([4, 3, 3, 4])\n",
        "prometheus = np.array([5, 4, 4, 5])\n",
        "\n",
        "print(f'darkknight with starwarz: {cos_similarity(darkknight, starwarz):.4f}')\n",
        "print(f'darkknight with prometheus: {cos_similarity(darkknight, prometheus):.4f}')"
      ],
      "execution_count": 44,
      "outputs": [
        {
          "output_type": "stream",
          "text": [
            "darkknight with starwarz: 0.9933\n",
            "darkknight with prometheus: 0.9956\n"
          ],
          "name": "stdout"
        }
      ]
    },
    {
      "cell_type": "markdown",
      "metadata": {
        "id": "ZnOPcTS7xAgH"
      },
      "source": [
        "## 04. 잠재 요인 협업 필터링"
      ]
    },
    {
      "cell_type": "code",
      "metadata": {
        "id": "QcZu9ThUyD_s"
      },
      "source": [
        ""
      ],
      "execution_count": null,
      "outputs": []
    }
  ]
}