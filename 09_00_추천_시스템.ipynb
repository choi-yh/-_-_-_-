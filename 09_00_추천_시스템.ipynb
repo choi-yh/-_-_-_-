{
  "nbformat": 4,
  "nbformat_minor": 0,
  "metadata": {
    "colab": {
      "name": "09_00_추천_시스템.ipynb",
      "provenance": [],
      "collapsed_sections": [],
      "toc_visible": true,
      "authorship_tag": "ABX9TyP9BdAm/TEEwPGOL2Rlms5D",
      "include_colab_link": true
    },
    "kernelspec": {
      "name": "python3",
      "display_name": "Python 3"
    }
  },
  "cells": [
    {
      "cell_type": "markdown",
      "metadata": {
        "id": "view-in-github",
        "colab_type": "text"
      },
      "source": [
        "<a href=\"https://colab.research.google.com/github/choi-yh/Pyhon_ML_Guide/blob/master/09_00_%EC%B6%94%EC%B2%9C_%EC%8B%9C%EC%8A%A4%ED%85%9C.ipynb\" target=\"_parent\"><img src=\"https://colab.research.google.com/assets/colab-badge.svg\" alt=\"Open In Colab\"/></a>"
      ]
    },
    {
      "cell_type": "markdown",
      "metadata": {
        "id": "3-eIfvNkto-z"
      },
      "source": [
        "## 01. 추천 시스템의 개요와 배경"
      ]
    },
    {
      "cell_type": "markdown",
      "metadata": {
        "id": "dH2gHky7uGqo"
      },
      "source": [
        "### 추천 시스템의 개요"
      ]
    },
    {
      "cell_type": "markdown",
      "metadata": {
        "id": "jCgeSmqhuN8f"
      },
      "source": [
        "### 온라인 스토어의 필수 요소, 추천 시스템\n",
        "\n",
        "* 추천 시스템을 통해 소비자가 제품 선택을 손쉽게 할 수 있도록 한다.\n",
        "* 추천 시스템 구성 예시\n",
        "    * 사용자가 어떤 상품을 구매했는가?\n",
        "    * 사용자가 어떤 상품을 둘러보고, 장바구니에 추가했는가?\n",
        "    * 사용자의 평점은?\n",
        "    "
      ]
    },
    {
      "cell_type": "markdown",
      "metadata": {
        "id": "KDQ2x96avEPZ"
      },
      "source": [
        "### 추천 시스템의 유형\n",
        "\n",
        "\n",
        "* **콘텐츠 기반 필터링(Content based filtering)**\n",
        "* **협업 필터링(Collaborative Filtering)**\n",
        "    * 최근접 이웃(Nearest Neighbor) 협업 필터링\n",
        "    * 잠재 요인(Latent Factor) 협업 필터링\n",
        "\n",
        "\n",
        "* 추천 시스템 초기에는 콘텐츠 기반 필터링 / 최근접 이웃 협업 필터링 사용\n",
        "* \"넷플릭스 추천 시스템 경연대회\"에서 **행렬 분해(Matrix Factorization) 기법을 이용한 잠재 요인 협업 필터링 방식**이 우승 -> 대부분의 온라인 스토어에서 해당 기법을 활용한 시스템 적용 중"
      ]
    },
    {
      "cell_type": "markdown",
      "metadata": {
        "id": "Biu_lw0bvqkB"
      },
      "source": [
        "## 02. 콘텐츠 기반 필터링 추천 시스템 (Content based filtering)\n",
        "\n",
        "* **사용자가 특정 아이템 사용을 매우 선호하는 경우, 해당 아이템과 비슷한 콘텐츠를 가진 아이템을 추천하는 방식**  \n",
        "ex) 특정 영화에 높은 평점을 줬을 경우, 해당 장르, 감독, 배우, 키워드 등이 비슷한 영화를 추천"
      ]
    },
    {
      "cell_type": "markdown",
      "metadata": {
        "id": "Fc1oNEY5xYrs"
      },
      "source": [
        "## 03. 최근접 이웃 협업 필터링"
      ]
    },
    {
      "cell_type": "markdown",
      "metadata": {
        "id": "wUY1p_o6kI7z"
      },
      "source": [
        "* **협업 필터링(Collaborative Filtering)**:   \n",
        " **사용자 행동 양식(User Behavior)**(사용자가 아이템에 매긴 평점, 상품 구매 이력 등)을 기반으로 추천을 수행하는 방식\n",
        "\n",
        "* 주요 목표: 사용자-아이템 평점 매트릭스와 같은 축적된 사용자 행동 데이터를 기반으로 사용자가 아직 평가하지 않은 아이템을 예측 평가(Predicted Rating)하는 것\n",
        "\n",
        "* 협업 필터링(Collaborative Filtering) 방식은 **최근접 이웃 방식**과 **잠재 요인 방식**으로 나뉜다. 두 방식 모두 사용자-아이템 평점 행렬 데이터에만 의지해 추천을 수행\n",
        "\n",
        "* **사용자-아이템 평점 행렬**\n",
        "    * 행(Row): 개별 사용자\n",
        "    * 열(Column): 개별 아이템\n",
        "    * 값(Value): 평점\n",
        "    * 많은 아이템을 열로 가지는 다차원 행렬이며, 사용자가 평점을 내는 경우가 많지 않기 때문에 **희소 행렬(Sparse Matrix)** 특성을 가지고 있다.\n",
        "\n",
        "---\n",
        "\n",
        "* 최근접 이웃 협업 필터링은 메모리(Memory) 협업 필터링이라고도 하며 다음과 같이 나눌 수 있다.\n",
        "    * **사용자 기반(User-User) 협업 필터링**  \n",
        "        * 당신과 비슷한 고객들이 다음 상품도 구매 (Customers like you also bought these items.)\n",
        "        * 특정 사용자와 유사한 다른 사용자를 TOP-N으로 선정해 이 TOP-N 사용자가 좋아하는 아이템을 추천하는 방식\n",
        "        * 특정 사용자와 타 사용자 간의 유사도(Similarity)를 측정한 뒤 가장 유사도가 높은 TOP-N 사용자를 추출해 그들이 선호하는 아이템을 추천\n",
        "\n",
        "    * **아이템 기반(Item-Item) 협업 필터링**\n",
        "        * 이 상품을 선택한 다른 고객들은 다음 상품도 구매 (Customers who bought this item also bought these items.)\n",
        "        * (아이템이 가지는 속성과는 상관없이) 사용자들이 그 아이템을 좋아하는지/싫어하는지의 평가 척도가 유사한 아이템을 추천하는 기준이 되는 알고리즘\n",
        "        * 사용자 기반 최근접 이웃 데이터 세트와 행과 열이 서로 반대 (행이 개별 아이템, 열이 개별 사용자)\n",
        "\n",
        "    * 일반적으로 사용자 기반 협업 필터링보다 **아이템 기반 협업 필터링**이 정확도가 더 높다.  \n",
        "     비슷한 영화를 좋아한다고 해서 취향이 비슷한 것은 아니고 유명한 영화의 경우 대부분의 사람이 관람을 하기 때문이다. 또한, 사용자들이 평점을 매기지 않은 아이템이 많아 다른 사람들과의 유사도를 비교하기 어렵다.\n",
        "\n",
        "\n",
        "* **다차원 희소 행렬**이라는 특징이 있기 때문에 텍스트 분석에서 사용하는 **코사인 유사도**를 통해 추천 시스템의 유사도를 측정한다.\n",
        "\n",
        "---\n",
        "\n",
        "* **코사인 유사도**(Cosine Similarity)\n",
        "    * 벡터와 벡터 간의 유사도를 비교할 때, 벡터의 크기보다는 **벡터의 상호 방향성**이 얼마나 유사한지에 기반 (두 벡터 사이의 사잇각을 구해서 얼마나 유사한지 수치로 적용)\n",
        "\n",
        "$$similarity = cos \\theta = \\frac{A \\cdot B}{\\lVert A \\rVert \\lVert B \\rVert} = \\frac{\\sum_{i=1}^n A_i B_i} {\\sqrt{\\sum_{i=1}^n A_i^2 } \\sqrt{\\sum_{i=1}^n  B_i^2}}$$"
      ]
    },
    {
      "cell_type": "code",
      "metadata": {
        "id": "fQmiHszAxb1w",
        "outputId": "fb7e2a4a-ac31-465e-8d1d-fc1e3c49bde4",
        "colab": {
          "base_uri": "https://localhost:8080/",
          "height": 414
        }
      },
      "source": [
        "# 레코드 레벨 형태(row-level 형태)의 데이터는 사용자-아이템 평점 행렬로 바꿔줘야함\n",
        "# row: 사용자 / column: 아이템\n",
        "\n",
        "import pandas as pd\n",
        "\n",
        "data = pd.DataFrame({\"User ID\": ['User 1', 'User 1', 'User 2', 'User 2', 'User 3'],\n",
        "                     \"Item ID\": ['Item 1', 'Item 3', 'Item 1', 'Item 2', 'Item 4'],\n",
        "                     \"Rating\": [3, 3, 4, 1, 5]})\n",
        "display(data)\n",
        "\n",
        "print('')\n",
        "print('=' * 50)\n",
        "print('')\n",
        "\n",
        "data = pd.pivot_table(data=data, values='Rating', index='User ID', columns='Item ID')\n",
        "display(data)"
      ],
      "execution_count": 1,
      "outputs": [
        {
          "output_type": "display_data",
          "data": {
            "text/html": [
              "<div>\n",
              "<style scoped>\n",
              "    .dataframe tbody tr th:only-of-type {\n",
              "        vertical-align: middle;\n",
              "    }\n",
              "\n",
              "    .dataframe tbody tr th {\n",
              "        vertical-align: top;\n",
              "    }\n",
              "\n",
              "    .dataframe thead th {\n",
              "        text-align: right;\n",
              "    }\n",
              "</style>\n",
              "<table border=\"1\" class=\"dataframe\">\n",
              "  <thead>\n",
              "    <tr style=\"text-align: right;\">\n",
              "      <th></th>\n",
              "      <th>User ID</th>\n",
              "      <th>Item ID</th>\n",
              "      <th>Rating</th>\n",
              "    </tr>\n",
              "  </thead>\n",
              "  <tbody>\n",
              "    <tr>\n",
              "      <th>0</th>\n",
              "      <td>User 1</td>\n",
              "      <td>Item 1</td>\n",
              "      <td>3</td>\n",
              "    </tr>\n",
              "    <tr>\n",
              "      <th>1</th>\n",
              "      <td>User 1</td>\n",
              "      <td>Item 3</td>\n",
              "      <td>3</td>\n",
              "    </tr>\n",
              "    <tr>\n",
              "      <th>2</th>\n",
              "      <td>User 2</td>\n",
              "      <td>Item 1</td>\n",
              "      <td>4</td>\n",
              "    </tr>\n",
              "    <tr>\n",
              "      <th>3</th>\n",
              "      <td>User 2</td>\n",
              "      <td>Item 2</td>\n",
              "      <td>1</td>\n",
              "    </tr>\n",
              "    <tr>\n",
              "      <th>4</th>\n",
              "      <td>User 3</td>\n",
              "      <td>Item 4</td>\n",
              "      <td>5</td>\n",
              "    </tr>\n",
              "  </tbody>\n",
              "</table>\n",
              "</div>"
            ],
            "text/plain": [
              "  User ID Item ID  Rating\n",
              "0  User 1  Item 1       3\n",
              "1  User 1  Item 3       3\n",
              "2  User 2  Item 1       4\n",
              "3  User 2  Item 2       1\n",
              "4  User 3  Item 4       5"
            ]
          },
          "metadata": {
            "tags": []
          }
        },
        {
          "output_type": "stream",
          "text": [
            "\n",
            "==================================================\n",
            "\n"
          ],
          "name": "stdout"
        },
        {
          "output_type": "display_data",
          "data": {
            "text/html": [
              "<div>\n",
              "<style scoped>\n",
              "    .dataframe tbody tr th:only-of-type {\n",
              "        vertical-align: middle;\n",
              "    }\n",
              "\n",
              "    .dataframe tbody tr th {\n",
              "        vertical-align: top;\n",
              "    }\n",
              "\n",
              "    .dataframe thead th {\n",
              "        text-align: right;\n",
              "    }\n",
              "</style>\n",
              "<table border=\"1\" class=\"dataframe\">\n",
              "  <thead>\n",
              "    <tr style=\"text-align: right;\">\n",
              "      <th>Item ID</th>\n",
              "      <th>Item 1</th>\n",
              "      <th>Item 2</th>\n",
              "      <th>Item 3</th>\n",
              "      <th>Item 4</th>\n",
              "    </tr>\n",
              "    <tr>\n",
              "      <th>User ID</th>\n",
              "      <th></th>\n",
              "      <th></th>\n",
              "      <th></th>\n",
              "      <th></th>\n",
              "    </tr>\n",
              "  </thead>\n",
              "  <tbody>\n",
              "    <tr>\n",
              "      <th>User 1</th>\n",
              "      <td>3.0</td>\n",
              "      <td>NaN</td>\n",
              "      <td>3.0</td>\n",
              "      <td>NaN</td>\n",
              "    </tr>\n",
              "    <tr>\n",
              "      <th>User 2</th>\n",
              "      <td>4.0</td>\n",
              "      <td>1.0</td>\n",
              "      <td>NaN</td>\n",
              "      <td>NaN</td>\n",
              "    </tr>\n",
              "    <tr>\n",
              "      <th>User 3</th>\n",
              "      <td>NaN</td>\n",
              "      <td>NaN</td>\n",
              "      <td>NaN</td>\n",
              "      <td>5.0</td>\n",
              "    </tr>\n",
              "  </tbody>\n",
              "</table>\n",
              "</div>"
            ],
            "text/plain": [
              "Item ID  Item 1  Item 2  Item 3  Item 4\n",
              "User ID                                \n",
              "User 1      3.0     NaN     3.0     NaN\n",
              "User 2      4.0     1.0     NaN     NaN\n",
              "User 3      NaN     NaN     NaN     5.0"
            ]
          },
          "metadata": {
            "tags": []
          }
        }
      ]
    },
    {
      "cell_type": "code",
      "metadata": {
        "id": "Kt6O2ysZeiIc",
        "outputId": "c259fe86-a4a1-485d-9482-47ad0dd9e5ea",
        "colab": {
          "base_uri": "https://localhost:8080/",
          "height": 173
        }
      },
      "source": [
        "# 사용자 기반 최근접 협업 필터링 방식에서 사용하는 데이터 형태\n",
        "data = pd.DataFrame({\"User\": ['A', 'A', 'A', 'B', 'B', 'B', 'B', 'B', 'C', 'C', 'C', 'C', 'C'],\n",
        "                     \"Movie\": ['다크나이트', '인터스텔라', '엣지오브투모로우', '다크나이트', '인터스텔라', '엣지오브투모로우', '프로메테우스', '스타워즈', '다크나이트', '인터스텔라', '엣지오브투모로우', '프로메테우스', '스타워즈'],\n",
        "                     \"Value\": [5, 4, 4, 5, 3, 4, 5, 3, 4, 3, 3, 2, 5]})\n",
        "\n",
        "user_based_data = pd.pivot_table(data=data, values='Value', index='User', columns='Movie')\n",
        "user_based_data"
      ],
      "execution_count": 2,
      "outputs": [
        {
          "output_type": "execute_result",
          "data": {
            "text/html": [
              "<div>\n",
              "<style scoped>\n",
              "    .dataframe tbody tr th:only-of-type {\n",
              "        vertical-align: middle;\n",
              "    }\n",
              "\n",
              "    .dataframe tbody tr th {\n",
              "        vertical-align: top;\n",
              "    }\n",
              "\n",
              "    .dataframe thead th {\n",
              "        text-align: right;\n",
              "    }\n",
              "</style>\n",
              "<table border=\"1\" class=\"dataframe\">\n",
              "  <thead>\n",
              "    <tr style=\"text-align: right;\">\n",
              "      <th>Movie</th>\n",
              "      <th>다크나이트</th>\n",
              "      <th>스타워즈</th>\n",
              "      <th>엣지오브투모로우</th>\n",
              "      <th>인터스텔라</th>\n",
              "      <th>프로메테우스</th>\n",
              "    </tr>\n",
              "    <tr>\n",
              "      <th>User</th>\n",
              "      <th></th>\n",
              "      <th></th>\n",
              "      <th></th>\n",
              "      <th></th>\n",
              "      <th></th>\n",
              "    </tr>\n",
              "  </thead>\n",
              "  <tbody>\n",
              "    <tr>\n",
              "      <th>A</th>\n",
              "      <td>5.0</td>\n",
              "      <td>NaN</td>\n",
              "      <td>4.0</td>\n",
              "      <td>4.0</td>\n",
              "      <td>NaN</td>\n",
              "    </tr>\n",
              "    <tr>\n",
              "      <th>B</th>\n",
              "      <td>5.0</td>\n",
              "      <td>3.0</td>\n",
              "      <td>4.0</td>\n",
              "      <td>3.0</td>\n",
              "      <td>5.0</td>\n",
              "    </tr>\n",
              "    <tr>\n",
              "      <th>C</th>\n",
              "      <td>4.0</td>\n",
              "      <td>5.0</td>\n",
              "      <td>3.0</td>\n",
              "      <td>3.0</td>\n",
              "      <td>2.0</td>\n",
              "    </tr>\n",
              "  </tbody>\n",
              "</table>\n",
              "</div>"
            ],
            "text/plain": [
              "Movie  다크나이트  스타워즈  엣지오브투모로우  인터스텔라  프로메테우스\n",
              "User                                       \n",
              "A        5.0   NaN       4.0    4.0     NaN\n",
              "B        5.0   3.0       4.0    3.0     5.0\n",
              "C        4.0   5.0       3.0    3.0     2.0"
            ]
          },
          "metadata": {
            "tags": []
          },
          "execution_count": 2
        }
      ]
    },
    {
      "cell_type": "markdown",
      "metadata": {
        "id": "cV8JWXK5p4uQ"
      },
      "source": [
        "사용자 기반 최근접 협업 필터링을 사용할 때, A가 관람한 ['다크나이트', '엣지오브투모로우', '인터스텔라'] 평점이 C보다는 B와 유사하므로 B의 평점이 더 높은 프로메테우스를 A에게 추천한다."
      ]
    },
    {
      "cell_type": "code",
      "metadata": {
        "id": "IIuzev1YrTM_",
        "outputId": "4d330c85-da61-473d-8c2c-ae42a15ac017",
        "colab": {
          "base_uri": "https://localhost:8080/",
          "height": 173
        }
      },
      "source": [
        "# 아이템 기반 최근접 협업 필터링 방식에서 사용하는 데이터 형태\n",
        "data = pd.DataFrame({\"User\": ['A', 'A', 'A', 'B', 'B', 'B', 'C', 'C', 'C', 'D', 'E', 'E', 'E'],\n",
        "                     \"Movie\": ['다크나이트', '프로메테우스', '스타워즈', '다크나이트', '프로메테우스', '스타워즈', '다크나이트', '프로메테우스', '스타워즈', '다크나이트', '다크나이트', '프로메테우스', '스타워즈'],\n",
        "                     \"Value\": [5, 5, 4, 4, 4, 3, 5, 4, 3, 5, 5, 5, 4]})\n",
        "\n",
        "item_based_data = pd.pivot_table(data=data, values='Value', index='Movie', columns='User')\n",
        "item_based_data"
      ],
      "execution_count": 3,
      "outputs": [
        {
          "output_type": "execute_result",
          "data": {
            "text/html": [
              "<div>\n",
              "<style scoped>\n",
              "    .dataframe tbody tr th:only-of-type {\n",
              "        vertical-align: middle;\n",
              "    }\n",
              "\n",
              "    .dataframe tbody tr th {\n",
              "        vertical-align: top;\n",
              "    }\n",
              "\n",
              "    .dataframe thead th {\n",
              "        text-align: right;\n",
              "    }\n",
              "</style>\n",
              "<table border=\"1\" class=\"dataframe\">\n",
              "  <thead>\n",
              "    <tr style=\"text-align: right;\">\n",
              "      <th>User</th>\n",
              "      <th>A</th>\n",
              "      <th>B</th>\n",
              "      <th>C</th>\n",
              "      <th>D</th>\n",
              "      <th>E</th>\n",
              "    </tr>\n",
              "    <tr>\n",
              "      <th>Movie</th>\n",
              "      <th></th>\n",
              "      <th></th>\n",
              "      <th></th>\n",
              "      <th></th>\n",
              "      <th></th>\n",
              "    </tr>\n",
              "  </thead>\n",
              "  <tbody>\n",
              "    <tr>\n",
              "      <th>다크나이트</th>\n",
              "      <td>5.0</td>\n",
              "      <td>4.0</td>\n",
              "      <td>5.0</td>\n",
              "      <td>5.0</td>\n",
              "      <td>5.0</td>\n",
              "    </tr>\n",
              "    <tr>\n",
              "      <th>스타워즈</th>\n",
              "      <td>4.0</td>\n",
              "      <td>3.0</td>\n",
              "      <td>3.0</td>\n",
              "      <td>NaN</td>\n",
              "      <td>4.0</td>\n",
              "    </tr>\n",
              "    <tr>\n",
              "      <th>프로메테우스</th>\n",
              "      <td>5.0</td>\n",
              "      <td>4.0</td>\n",
              "      <td>4.0</td>\n",
              "      <td>NaN</td>\n",
              "      <td>5.0</td>\n",
              "    </tr>\n",
              "  </tbody>\n",
              "</table>\n",
              "</div>"
            ],
            "text/plain": [
              "User      A    B    C    D    E\n",
              "Movie                          \n",
              "다크나이트   5.0  4.0  5.0  5.0  5.0\n",
              "스타워즈    4.0  3.0  3.0  NaN  4.0\n",
              "프로메테우스  5.0  4.0  4.0  NaN  5.0"
            ]
          },
          "metadata": {
            "tags": []
          },
          "execution_count": 3
        }
      ]
    },
    {
      "cell_type": "markdown",
      "metadata": {
        "id": "uysx9tPur3_g"
      },
      "source": [
        "모두에게 평점이 있는 다크나이트를 확인했을 때, 스타워즈보다는 프로메테우스가 평점 분포가 더 비슷하다. => D에게 프로메테우스를 추천"
      ]
    },
    {
      "cell_type": "code",
      "metadata": {
        "id": "K_ryBz5jsbiu",
        "outputId": "cfe1e83b-917d-4b16-f260-584ecab97464",
        "colab": {
          "base_uri": "https://localhost:8080/",
          "height": 53
        }
      },
      "source": [
        "# 코사인 유사도 계산\n",
        "import numpy as np\n",
        "\n",
        "def cos_similarity(v1, v2):\n",
        "    dot_product = np.dot(v1, v2)\n",
        "    l2_norm = np.sqrt(sum(np.square(v1))) * np.sqrt(sum(np.square(v2)))\n",
        "    similarity = dot_product / l2_norm\n",
        "\n",
        "    return similarity\n",
        "\n",
        "darkknight = np.array([5, 4, 5, 5])\n",
        "starwarz = np.array([4, 3, 3, 4])\n",
        "prometheus = np.array([5, 4, 4, 5])\n",
        "\n",
        "print(f'darkknight with starwarz: {cos_similarity(darkknight, starwarz):.4f}')\n",
        "print(f'darkknight with prometheus: {cos_similarity(darkknight, prometheus):.4f}')"
      ],
      "execution_count": 4,
      "outputs": [
        {
          "output_type": "stream",
          "text": [
            "darkknight with starwarz: 0.9933\n",
            "darkknight with prometheus: 0.9956\n"
          ],
          "name": "stdout"
        }
      ]
    },
    {
      "cell_type": "markdown",
      "metadata": {
        "id": "ZnOPcTS7xAgH"
      },
      "source": [
        "## 04. 잠재 요인 협업 필터링"
      ]
    },
    {
      "cell_type": "markdown",
      "metadata": {
        "id": "T4aJmm7dcx2g"
      },
      "source": [
        "### 잠재 요인 협업 필터링의 이해\n",
        "\n",
        "* 잠재 요인 협업 필터링: 사용자-아이템 평점 매트릭스 속에 숨어 있는 잠재 요인을 추출해 추천 예측을 할 수 있게 하는 기법\n",
        "\n",
        "* **사용자-아이템 평점 매트릭스**와 같은 *다차원 희소 행렬* 을 SVD와 같은 차원 축소 기법을 이용해 행렬을 분해  \n",
        " -> *저차원 밀집 행렬* 인 **사용자-잠재 요인 행렬**과 **아이템-잠재 요인 행렬**의 전치 행렬(잠재 요인-아이템 행렬)  \n",
        " -> 두 행렬의 내적을 통해 새로운 사용자-아이템 평점 행렬 데이터를 만들어 평점이 없는 아이템에 대한 예측 평점을 생성한다.\n",
        "\n",
        "* **잠재 요인**에 대해서 명확히 정의는 어렵다. (ex) 영화 평점에 대한 사용자-아이템 평점 매트릭스 분해시 잠재 요인은 **사용자의 해당 장르에 대한 선호도**와 **아이템(영화)의 장르 속성**이 될 수 있다.\n",
        "\n",
        "* 잠재 요인 협업 필터링은 숨겨져 있는 *잠재 요인* 을 기반으로 분해된 매트릭스를 이용해 사용자가 아직 평가하지 않은 아이템에 대한 예측 평가를 수행하는 것\n",
        "\n",
        "* **행렬 분해(Matrix Factorization)**: 다차원의 매트릭스를 저차원의 매트릭스로 분해하는 기법"
      ]
    },
    {
      "cell_type": "code",
      "metadata": {
        "id": "EaFTZhgFal2j",
        "outputId": "69b9456b-beac-43f0-ad81-4445d22df196",
        "colab": {
          "base_uri": "https://localhost:8080/",
          "height": 723
        }
      },
      "source": [
        "# 행렬 분해를 통한 잠재 요인 협업 필터링\n",
        "\n",
        "# 사용자-아이템 평점 행렬(R)\n",
        "r = pd.DataFrame(data=np.array([[4, np.nan, np.nan, 2, np.nan],\n",
        "                                [np.nan, 5, np.nan, 3, np.nan],\n",
        "                                [np.nan, np.nan, 3, 4, 4],\n",
        "                                [5, 2, 1, 2, np.nan]]),\n",
        "                 columns=['Item 1', 'Item 2', 'Item 3', 'Item 4', 'Item 5'],\n",
        "                 index=['User 1', 'User 2', 'User 3', 'User 4'])\n",
        "\n",
        "print(' 사용자-아이템 평점 행렬(R)')\n",
        "display(r)\n",
        "\n",
        "# 사용자-잠재 요인 행렬(P)\n",
        "p = pd.DataFrame(data=np.array([\n",
        "                                [0.94, 0.96],\n",
        "                                [2.14, 0.08],\n",
        "                                [1.93, 1.79],\n",
        "                                [0.58, 1.59]\n",
        "                                ]),\n",
        "                 columns=['factor 1', 'factor 2'],\n",
        "                 index=['User 1', 'User 2', 'User 3', 'User 4'])\n",
        "\n",
        "print('=' * 60)\n",
        "print(' <매트릭스 분해>')\n",
        "print(' 사용자-잠재 요인 행렬(P)')\n",
        "display(p)\n",
        "\n",
        "# 잠재 요인-아이템 행렬(Q)\n",
        "q_t = pd.DataFrame(data=np.array([[1.7, 2.3, 1.41, 1.36, 0.41],\n",
        "                                [2.49, 0.41, 0.14, 0.75, 1.77]]),\n",
        "                 columns=['Item 1', 'Item 2', 'Item 3', 'Item 4', 'Item 5'],\n",
        "                 index=['factor 1', 'factor 2'])\n",
        "\n",
        "print(' 잠재 요인-아이템 행렬(Q.T)')\n",
        "display(q_t)\n",
        "\n",
        "predict_matrix = pd.DataFrame(data=np.matmul(p.to_numpy(), q_t.to_numpy()),\n",
        "                              columns=q_t.columns,\n",
        "                              index=p.index)\n",
        "print('')\n",
        "print('=' * 60)\n",
        "print(' 사용자-잠재 요인 행렬(Q)과 잠재 요인-아이템 행렬(Q.T) 내적 곱을 통한 결과 예측')\n",
        "display(predict_matrix)"
      ],
      "execution_count": 43,
      "outputs": [
        {
          "output_type": "stream",
          "text": [
            " 사용자-아이템 평점 행렬(R)\n"
          ],
          "name": "stdout"
        },
        {
          "output_type": "display_data",
          "data": {
            "text/html": [
              "<div>\n",
              "<style scoped>\n",
              "    .dataframe tbody tr th:only-of-type {\n",
              "        vertical-align: middle;\n",
              "    }\n",
              "\n",
              "    .dataframe tbody tr th {\n",
              "        vertical-align: top;\n",
              "    }\n",
              "\n",
              "    .dataframe thead th {\n",
              "        text-align: right;\n",
              "    }\n",
              "</style>\n",
              "<table border=\"1\" class=\"dataframe\">\n",
              "  <thead>\n",
              "    <tr style=\"text-align: right;\">\n",
              "      <th></th>\n",
              "      <th>Item 1</th>\n",
              "      <th>Item 2</th>\n",
              "      <th>Item 3</th>\n",
              "      <th>Item 4</th>\n",
              "      <th>Item 5</th>\n",
              "    </tr>\n",
              "  </thead>\n",
              "  <tbody>\n",
              "    <tr>\n",
              "      <th>User 1</th>\n",
              "      <td>4.0</td>\n",
              "      <td>NaN</td>\n",
              "      <td>NaN</td>\n",
              "      <td>2.0</td>\n",
              "      <td>NaN</td>\n",
              "    </tr>\n",
              "    <tr>\n",
              "      <th>User 2</th>\n",
              "      <td>NaN</td>\n",
              "      <td>5.0</td>\n",
              "      <td>NaN</td>\n",
              "      <td>3.0</td>\n",
              "      <td>NaN</td>\n",
              "    </tr>\n",
              "    <tr>\n",
              "      <th>User 3</th>\n",
              "      <td>NaN</td>\n",
              "      <td>NaN</td>\n",
              "      <td>3.0</td>\n",
              "      <td>4.0</td>\n",
              "      <td>4.0</td>\n",
              "    </tr>\n",
              "    <tr>\n",
              "      <th>User 4</th>\n",
              "      <td>5.0</td>\n",
              "      <td>2.0</td>\n",
              "      <td>1.0</td>\n",
              "      <td>2.0</td>\n",
              "      <td>NaN</td>\n",
              "    </tr>\n",
              "  </tbody>\n",
              "</table>\n",
              "</div>"
            ],
            "text/plain": [
              "        Item 1  Item 2  Item 3  Item 4  Item 5\n",
              "User 1     4.0     NaN     NaN     2.0     NaN\n",
              "User 2     NaN     5.0     NaN     3.0     NaN\n",
              "User 3     NaN     NaN     3.0     4.0     4.0\n",
              "User 4     5.0     2.0     1.0     2.0     NaN"
            ]
          },
          "metadata": {
            "tags": []
          }
        },
        {
          "output_type": "stream",
          "text": [
            "============================================================\n",
            " <매트릭스 분해>\n",
            " 사용자-잠재 요인 행렬(P)\n"
          ],
          "name": "stdout"
        },
        {
          "output_type": "display_data",
          "data": {
            "text/html": [
              "<div>\n",
              "<style scoped>\n",
              "    .dataframe tbody tr th:only-of-type {\n",
              "        vertical-align: middle;\n",
              "    }\n",
              "\n",
              "    .dataframe tbody tr th {\n",
              "        vertical-align: top;\n",
              "    }\n",
              "\n",
              "    .dataframe thead th {\n",
              "        text-align: right;\n",
              "    }\n",
              "</style>\n",
              "<table border=\"1\" class=\"dataframe\">\n",
              "  <thead>\n",
              "    <tr style=\"text-align: right;\">\n",
              "      <th></th>\n",
              "      <th>factor 1</th>\n",
              "      <th>factor 2</th>\n",
              "    </tr>\n",
              "  </thead>\n",
              "  <tbody>\n",
              "    <tr>\n",
              "      <th>User 1</th>\n",
              "      <td>0.94</td>\n",
              "      <td>0.96</td>\n",
              "    </tr>\n",
              "    <tr>\n",
              "      <th>User 2</th>\n",
              "      <td>2.14</td>\n",
              "      <td>0.08</td>\n",
              "    </tr>\n",
              "    <tr>\n",
              "      <th>User 3</th>\n",
              "      <td>1.93</td>\n",
              "      <td>1.79</td>\n",
              "    </tr>\n",
              "    <tr>\n",
              "      <th>User 4</th>\n",
              "      <td>0.58</td>\n",
              "      <td>1.59</td>\n",
              "    </tr>\n",
              "  </tbody>\n",
              "</table>\n",
              "</div>"
            ],
            "text/plain": [
              "        factor 1  factor 2\n",
              "User 1      0.94      0.96\n",
              "User 2      2.14      0.08\n",
              "User 3      1.93      1.79\n",
              "User 4      0.58      1.59"
            ]
          },
          "metadata": {
            "tags": []
          }
        },
        {
          "output_type": "stream",
          "text": [
            " 잠재 요인-아이템 행렬(Q.T)\n"
          ],
          "name": "stdout"
        },
        {
          "output_type": "display_data",
          "data": {
            "text/html": [
              "<div>\n",
              "<style scoped>\n",
              "    .dataframe tbody tr th:only-of-type {\n",
              "        vertical-align: middle;\n",
              "    }\n",
              "\n",
              "    .dataframe tbody tr th {\n",
              "        vertical-align: top;\n",
              "    }\n",
              "\n",
              "    .dataframe thead th {\n",
              "        text-align: right;\n",
              "    }\n",
              "</style>\n",
              "<table border=\"1\" class=\"dataframe\">\n",
              "  <thead>\n",
              "    <tr style=\"text-align: right;\">\n",
              "      <th></th>\n",
              "      <th>Item 1</th>\n",
              "      <th>Item 2</th>\n",
              "      <th>Item 3</th>\n",
              "      <th>Item 4</th>\n",
              "      <th>Item 5</th>\n",
              "    </tr>\n",
              "  </thead>\n",
              "  <tbody>\n",
              "    <tr>\n",
              "      <th>factor 1</th>\n",
              "      <td>1.70</td>\n",
              "      <td>2.30</td>\n",
              "      <td>1.41</td>\n",
              "      <td>1.36</td>\n",
              "      <td>0.41</td>\n",
              "    </tr>\n",
              "    <tr>\n",
              "      <th>factor 2</th>\n",
              "      <td>2.49</td>\n",
              "      <td>0.41</td>\n",
              "      <td>0.14</td>\n",
              "      <td>0.75</td>\n",
              "      <td>1.77</td>\n",
              "    </tr>\n",
              "  </tbody>\n",
              "</table>\n",
              "</div>"
            ],
            "text/plain": [
              "          Item 1  Item 2  Item 3  Item 4  Item 5\n",
              "factor 1    1.70    2.30    1.41    1.36    0.41\n",
              "factor 2    2.49    0.41    0.14    0.75    1.77"
            ]
          },
          "metadata": {
            "tags": []
          }
        },
        {
          "output_type": "stream",
          "text": [
            "\n",
            "============================================================\n",
            " 사용자-잠재 요인 행렬(Q)과 잠재 요인-아이템 행렬(Q.T) 내적 곱을 통한 결과 예측\n"
          ],
          "name": "stdout"
        },
        {
          "output_type": "display_data",
          "data": {
            "text/html": [
              "<div>\n",
              "<style scoped>\n",
              "    .dataframe tbody tr th:only-of-type {\n",
              "        vertical-align: middle;\n",
              "    }\n",
              "\n",
              "    .dataframe tbody tr th {\n",
              "        vertical-align: top;\n",
              "    }\n",
              "\n",
              "    .dataframe thead th {\n",
              "        text-align: right;\n",
              "    }\n",
              "</style>\n",
              "<table border=\"1\" class=\"dataframe\">\n",
              "  <thead>\n",
              "    <tr style=\"text-align: right;\">\n",
              "      <th></th>\n",
              "      <th>Item 1</th>\n",
              "      <th>Item 2</th>\n",
              "      <th>Item 3</th>\n",
              "      <th>Item 4</th>\n",
              "      <th>Item 5</th>\n",
              "    </tr>\n",
              "  </thead>\n",
              "  <tbody>\n",
              "    <tr>\n",
              "      <th>User 1</th>\n",
              "      <td>3.9884</td>\n",
              "      <td>2.5556</td>\n",
              "      <td>1.4598</td>\n",
              "      <td>1.9984</td>\n",
              "      <td>2.0846</td>\n",
              "    </tr>\n",
              "    <tr>\n",
              "      <th>User 2</th>\n",
              "      <td>3.8372</td>\n",
              "      <td>4.9548</td>\n",
              "      <td>3.0286</td>\n",
              "      <td>2.9704</td>\n",
              "      <td>1.0190</td>\n",
              "    </tr>\n",
              "    <tr>\n",
              "      <th>User 3</th>\n",
              "      <td>7.7381</td>\n",
              "      <td>5.1729</td>\n",
              "      <td>2.9719</td>\n",
              "      <td>3.9673</td>\n",
              "      <td>3.9596</td>\n",
              "    </tr>\n",
              "    <tr>\n",
              "      <th>User 4</th>\n",
              "      <td>4.9451</td>\n",
              "      <td>1.9859</td>\n",
              "      <td>1.0404</td>\n",
              "      <td>1.9813</td>\n",
              "      <td>3.0521</td>\n",
              "    </tr>\n",
              "  </tbody>\n",
              "</table>\n",
              "</div>"
            ],
            "text/plain": [
              "        Item 1  Item 2  Item 3  Item 4  Item 5\n",
              "User 1  3.9884  2.5556  1.4598  1.9984  2.0846\n",
              "User 2  3.8372  4.9548  3.0286  2.9704  1.0190\n",
              "User 3  7.7381  5.1729  2.9719  3.9673  3.9596\n",
              "User 4  4.9451  1.9859  1.0404  1.9813  3.0521"
            ]
          },
          "metadata": {
            "tags": []
          }
        }
      ]
    },
    {
      "cell_type": "markdown",
      "metadata": {
        "id": "Uj0lEkkLAcLq"
      },
      "source": [
        "R(u, i)  \n",
        "P(u, k)  \n",
        "Q(i, k)\n",
        "\n"
      ]
    },
    {
      "cell_type": "markdown",
      "metadata": {
        "id": "44DpfdiwCQJv"
      },
      "source": [
        "### 행렬 분해의 이해"
      ]
    },
    {
      "cell_type": "markdown",
      "metadata": {
        "id": "DnttsxQcEA0l"
      },
      "source": [
        "### 확률적 경사 하강법(SGD, Stochastic Gradient Descent)을 이용한 행렬 분해"
      ]
    },
    {
      "cell_type": "code",
      "metadata": {
        "id": "DbNzxlVUH6LN"
      },
      "source": [
        "import numpy as np\n",
        "\n",
        "# 원본 행렬 R 생성, 분해 행렬 P와 Q 초기화, 잠재 요인 차원 K는 3으로 설정.\n",
        "R = np.array([[4, np.NaN, np.NaN, 2, np.NaN],\n",
        "              [np.NaN, 5, np.NaN, 3, 1],\n",
        "              [np.NaN, np.NaN, 3, 4, 4],\n",
        "              [5, 2, 1, 2, np.NaN]])\n",
        "\n",
        "num_users, num_items = R.shape\n",
        "K = 3\n",
        "\n",
        "# P와 Q 행렬의 크기를 지정하고 정규 분포를 가진 임의의 값으로 입력\n",
        "np.random.seed(1)\n",
        "P = np.random.normal(scale=1./K, size=(num_users, K))\n",
        "Q = np.random.normal(scale=1./K, size=(num_items, K))"
      ],
      "execution_count": 61,
      "outputs": []
    },
    {
      "cell_type": "code",
      "metadata": {
        "id": "g6u-5O7GMzXJ"
      },
      "source": [
        "from sklearn.metrics import mean_squared_error\n",
        "\n",
        "def get_rmse(R, P, Q, non_zeros):\n",
        "    error = 0\n",
        "    # 두 개의 분해된 행렬 P와 Q.T의 내적으로 예측 R 행렬 생성\n",
        "    full_pred_matrix = np.dot(P, Q.T)\n",
        "\n",
        "    # 실제 R 행렬에서 널이 아닌 값의 위치 인덱스를 추출해 실제 R 행렬과 예측 행렬의 RMSE 추출\n",
        "    x_non_zero_ind = [non_zero[0] for non_zero in non_zeros]\n",
        "    y_non_zero_ind = [non_zero[1] for non_zero in non_zeros]\n",
        "    R_non_zeros = R[x_non_zero_ind, y_non_zero_ind]\n",
        "    full_pred_matrix_non_zeros = full_pred_matrix[x_non_zero_ind, y_non_zero_ind]\n",
        "    mse = mean_squared_error(R_non_zeros, full_pred_matrix_non_zeros)\n",
        "    rmse = np.sqrt(mse)\n",
        "\n",
        "    return rmse"
      ],
      "execution_count": 49,
      "outputs": []
    },
    {
      "cell_type": "code",
      "metadata": {
        "id": "GTugWBkvM_G8",
        "outputId": "741a0e6d-b167-4e4a-eadf-32c62052f743",
        "colab": {
          "base_uri": "https://localhost:8080/",
          "height": 197
        }
      },
      "source": [
        "# R > 0인 행 위치, 열 위치, 값을 non_zeros 리스트에 저장\n",
        "non_zeros = [ (i, j, R[i, j]) for i in range(num_users) for j in range(num_items) if R[i, j] > 0 ]\n",
        "\n",
        "steps = 1000 # SGD를 반복해서 업데이트할 횟수\n",
        "learning_rate = 0.01 # SGD 학습률\n",
        "r_lambda = 0.01 # L2 Regularization 계수\n",
        "\n",
        "# SGD 기법으로 P와 Q 매트릭스를 계속 업데이트\n",
        "for step in range(steps):\n",
        "    for i, j, r in non_zeros:\n",
        "        # 실제 값과 예측 값의 차이인 오류 값 구함\n",
        "        eij = r - np.dot(P[i, :], Q[j, :].T)\n",
        "        # Regularization을 반영한 SGD 업데이트 공식 적용\n",
        "        P[i, :] = P[i, :] + learning_rate * (eij * Q[j, :] - r_lambda * P[i, :])\n",
        "        Q[j, :] = Q[j, :] + learning_rate * (eij * P[i, :] - r_lambda * Q[j, :])\n",
        "\n",
        "    rmse = get_rmse(R, P, Q, non_zeros)\n",
        "    if (step % 100) == 0: # 100회 반복시마다 출력\n",
        "        print(f'### iteration step: {step}, rmse: {rmse:.4f}')"
      ],
      "execution_count": 62,
      "outputs": [
        {
          "output_type": "stream",
          "text": [
            "### iteration step: 0, rmse: 3.2388\n",
            "### iteration step: 100, rmse: 0.1564\n",
            "### iteration step: 200, rmse: 0.0433\n",
            "### iteration step: 300, rmse: 0.0226\n",
            "### iteration step: 400, rmse: 0.0180\n",
            "### iteration step: 500, rmse: 0.0170\n",
            "### iteration step: 600, rmse: 0.0167\n",
            "### iteration step: 700, rmse: 0.0166\n",
            "### iteration step: 800, rmse: 0.0165\n",
            "### iteration step: 900, rmse: 0.0165\n"
          ],
          "name": "stdout"
        }
      ]
    },
    {
      "cell_type": "code",
      "metadata": {
        "id": "6GzVLFgyO5vG",
        "outputId": "62a1d2fa-855d-4f1d-dd6b-75463bf12c3b",
        "colab": {
          "base_uri": "https://localhost:8080/",
          "height": 107
        }
      },
      "source": [
        "pred_matrix = np.dot(P, Q.T)\n",
        "print('예측 행렬:\\n', np.round(pred_matrix, 3))"
      ],
      "execution_count": 63,
      "outputs": [
        {
          "output_type": "stream",
          "text": [
            "예측 행렬:\n",
            " [[3.991 0.897 1.306 2.002 1.663]\n",
            " [6.696 4.978 0.979 2.981 1.003]\n",
            " [6.677 0.391 2.987 3.977 3.986]\n",
            " [4.968 2.005 1.006 2.017 1.14 ]]\n"
          ],
          "name": "stdout"
        }
      ]
    },
    {
      "cell_type": "code",
      "metadata": {
        "id": "7-vywS7SQTZC"
      },
      "source": [
        ""
      ],
      "execution_count": null,
      "outputs": []
    }
  ]
}