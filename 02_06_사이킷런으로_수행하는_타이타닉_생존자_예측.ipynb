{
  "nbformat": 4,
  "nbformat_minor": 0,
  "metadata": {
    "colab": {
      "name": "02_06_사이킷런으로 수행하는 타이타닉 생존자 예측.ipynb",
      "provenance": [],
      "collapsed_sections": [],
      "authorship_tag": "ABX9TyM7iGDupDF9LhmDW8WAD1tU",
      "include_colab_link": true
    },
    "kernelspec": {
      "name": "python3",
      "display_name": "Python 3"
    }
  },
  "cells": [
    {
      "cell_type": "markdown",
      "metadata": {
        "id": "view-in-github",
        "colab_type": "text"
      },
      "source": [
        "<a href=\"https://colab.research.google.com/github/choi-yh/Pyhon_ML_Guide/blob/master/02%EC%9E%A5/02_06_%EC%82%AC%EC%9D%B4%ED%82%B7%EB%9F%B0%EC%9C%BC%EB%A1%9C_%EC%88%98%ED%96%89%ED%95%98%EB%8A%94_%ED%83%80%EC%9D%B4%ED%83%80%EB%8B%89_%EC%83%9D%EC%A1%B4%EC%9E%90_%EC%98%88%EC%B8%A1.ipynb\" target=\"_parent\"><img src=\"https://colab.research.google.com/assets/colab-badge.svg\" alt=\"Open In Colab\"/></a>"
      ]
    },
    {
      "cell_type": "markdown",
      "metadata": {
        "id": "98sLd8dxTsPG",
        "colab_type": "text"
      },
      "source": [
        "* **Passengerid**: 탑승자 데이터 일련번호\n",
        "* **survived**: 생존 여부. 0 = 사망, 1 = 생존\n",
        "* **pclass**: 티켓의 선실 등급. 1 = 일등석, 2 = 이등석, 3 = 삼등석\n",
        "* **sex**: 탑승자 성별\n",
        "* **name**: 탑승자 이름\n",
        "* **Age**: 탑승자 나이\n",
        "* **sibsp**: 같이 탑승한 형제자매 또는 배우자 인원수\n",
        "* **parch**: 같이 탑승한 부모님 또는 어린이 인원수\n",
        "* **ticket**: 티켓 번호\n",
        "* **cabin**: 선실 번호\n",
        "* **embarked**: 중간 정착 항구 C = Cherbourg, Q = Queenstown, S = Southampton"
      ]
    },
    {
      "cell_type": "code",
      "metadata": {
        "id": "-vCe74B8SCHG",
        "colab_type": "code",
        "colab": {
          "base_uri": "https://localhost:8080/",
          "height": 35
        },
        "outputId": "aeddfee5-3213-4df1-ebe6-22a0eed7c46a"
      },
      "source": [
        "from google.colab import drive\n",
        "drive.mount('/gdrive')"
      ],
      "execution_count": 1,
      "outputs": [
        {
          "output_type": "stream",
          "text": [
            "Mounted at /gdrive\n"
          ],
          "name": "stdout"
        }
      ]
    },
    {
      "cell_type": "code",
      "metadata": {
        "id": "ocJnHPx_TmMZ",
        "colab_type": "code",
        "colab": {}
      },
      "source": [
        "import numpy as np\n",
        "import pandas as pd\n",
        "\n",
        "import matplotlib.pyplot as plt\n",
        "import seaborn as sns\n",
        "plt.style.use('fivethirtyeight')\n",
        "\n",
        "import warnings\n",
        "warnings.filterwarnings('ignore')"
      ],
      "execution_count": 25,
      "outputs": []
    },
    {
      "cell_type": "code",
      "metadata": {
        "id": "9kuThs9nUh5a",
        "colab_type": "code",
        "colab": {
          "base_uri": "https://localhost:8080/",
          "height": 142
        },
        "outputId": "e6b7d8ee-59dd-4b37-f110-8c911de2aec8"
      },
      "source": [
        "titanic_df = pd.read_csv(\"/gdrive/My Drive/Python/파이썬_머신러닝_완벽_가이드/01장. 파이썬 기반의 머신러닝과 생태계 이해/titanic_train.csv\")\n",
        "titanic_df.head(3)"
      ],
      "execution_count": 4,
      "outputs": [
        {
          "output_type": "execute_result",
          "data": {
            "text/html": [
              "<div>\n",
              "<style scoped>\n",
              "    .dataframe tbody tr th:only-of-type {\n",
              "        vertical-align: middle;\n",
              "    }\n",
              "\n",
              "    .dataframe tbody tr th {\n",
              "        vertical-align: top;\n",
              "    }\n",
              "\n",
              "    .dataframe thead th {\n",
              "        text-align: right;\n",
              "    }\n",
              "</style>\n",
              "<table border=\"1\" class=\"dataframe\">\n",
              "  <thead>\n",
              "    <tr style=\"text-align: right;\">\n",
              "      <th></th>\n",
              "      <th>PassengerId</th>\n",
              "      <th>Survived</th>\n",
              "      <th>Pclass</th>\n",
              "      <th>Name</th>\n",
              "      <th>Sex</th>\n",
              "      <th>Age</th>\n",
              "      <th>SibSp</th>\n",
              "      <th>Parch</th>\n",
              "      <th>Ticket</th>\n",
              "      <th>Fare</th>\n",
              "      <th>Cabin</th>\n",
              "      <th>Embarked</th>\n",
              "    </tr>\n",
              "  </thead>\n",
              "  <tbody>\n",
              "    <tr>\n",
              "      <th>0</th>\n",
              "      <td>1</td>\n",
              "      <td>0</td>\n",
              "      <td>3</td>\n",
              "      <td>Braund, Mr. Owen Harris</td>\n",
              "      <td>male</td>\n",
              "      <td>22.0</td>\n",
              "      <td>1</td>\n",
              "      <td>0</td>\n",
              "      <td>A/5 21171</td>\n",
              "      <td>7.2500</td>\n",
              "      <td>NaN</td>\n",
              "      <td>S</td>\n",
              "    </tr>\n",
              "    <tr>\n",
              "      <th>1</th>\n",
              "      <td>2</td>\n",
              "      <td>1</td>\n",
              "      <td>1</td>\n",
              "      <td>Cumings, Mrs. John Bradley (Florence Briggs Th...</td>\n",
              "      <td>female</td>\n",
              "      <td>38.0</td>\n",
              "      <td>1</td>\n",
              "      <td>0</td>\n",
              "      <td>PC 17599</td>\n",
              "      <td>71.2833</td>\n",
              "      <td>C85</td>\n",
              "      <td>C</td>\n",
              "    </tr>\n",
              "    <tr>\n",
              "      <th>2</th>\n",
              "      <td>3</td>\n",
              "      <td>1</td>\n",
              "      <td>3</td>\n",
              "      <td>Heikkinen, Miss. Laina</td>\n",
              "      <td>female</td>\n",
              "      <td>26.0</td>\n",
              "      <td>0</td>\n",
              "      <td>0</td>\n",
              "      <td>STON/O2. 3101282</td>\n",
              "      <td>7.9250</td>\n",
              "      <td>NaN</td>\n",
              "      <td>S</td>\n",
              "    </tr>\n",
              "  </tbody>\n",
              "</table>\n",
              "</div>"
            ],
            "text/plain": [
              "   PassengerId  Survived  Pclass  ...     Fare Cabin  Embarked\n",
              "0            1         0       3  ...   7.2500   NaN         S\n",
              "1            2         1       1  ...  71.2833   C85         C\n",
              "2            3         1       3  ...   7.9250   NaN         S\n",
              "\n",
              "[3 rows x 12 columns]"
            ]
          },
          "metadata": {
            "tags": []
          },
          "execution_count": 4
        }
      ]
    },
    {
      "cell_type": "code",
      "metadata": {
        "id": "iEA3N0mWUn1C",
        "colab_type": "code",
        "colab": {
          "base_uri": "https://localhost:8080/",
          "height": 431
        },
        "outputId": "272a727c-9ab4-4fa4-ba65-093ad9884504"
      },
      "source": [
        "print(\"\\n ### 학습 데이터 정보 ### \\n\")\n",
        "print(titanic_df.info())"
      ],
      "execution_count": 5,
      "outputs": [
        {
          "output_type": "stream",
          "text": [
            "\n",
            " ### 학습 데이터 정보 ### \n",
            "\n",
            "<class 'pandas.core.frame.DataFrame'>\n",
            "RangeIndex: 891 entries, 0 to 890\n",
            "Data columns (total 12 columns):\n",
            " #   Column       Non-Null Count  Dtype  \n",
            "---  ------       --------------  -----  \n",
            " 0   PassengerId  891 non-null    int64  \n",
            " 1   Survived     891 non-null    int64  \n",
            " 2   Pclass       891 non-null    int64  \n",
            " 3   Name         891 non-null    object \n",
            " 4   Sex          891 non-null    object \n",
            " 5   Age          714 non-null    float64\n",
            " 6   SibSp        891 non-null    int64  \n",
            " 7   Parch        891 non-null    int64  \n",
            " 8   Ticket       891 non-null    object \n",
            " 9   Fare         891 non-null    float64\n",
            " 10  Cabin        204 non-null    object \n",
            " 11  Embarked     889 non-null    object \n",
            "dtypes: float64(2), int64(5), object(5)\n",
            "memory usage: 83.7+ KB\n",
            "None\n"
          ],
          "name": "stdout"
        }
      ]
    },
    {
      "cell_type": "markdown",
      "metadata": {
        "id": "aB5ILduaUzrc",
        "colab_type": "text"
      },
      "source": [
        "* 891개의 row, 12개의 column\n",
        "* float64: 2개 (Age, Fare)\n",
        "* int64: 5개 (PassengerId, Survived, Pclass, SibSp, Parch)\n",
        "* object: 5개 (pandas에서 object는 string으로 봐도 무방) (Name, Sex, Ticket, Cabin, Embarked)\n",
        "\n",
        "* Age, Cabin, Embarked에 null 값이 존재\n"
      ]
    },
    {
      "cell_type": "code",
      "metadata": {
        "id": "BX4W6t9RVhlR",
        "colab_type": "code",
        "colab": {
          "base_uri": "https://localhost:8080/",
          "height": 35
        },
        "outputId": "a2b6dbcd-f8c6-42e4-ab7b-62b00ab4cb26"
      },
      "source": [
        "# Null 값 처리\n",
        "titanic_df['Age'] = titanic_df['Age'].fillna(titanic_df['Age'].mean()) # Age는 평균 값으로\n",
        "titanic_df[['Cabin', 'Embarked']] = titanic_df[['Cabin', 'Embarked']].fillna('N') # Cabin과 Embarked는 'N'으로 null 값 처리\n",
        "\n",
        "print('데이터 세트 Null 값 개수 ', titanic_df.isna().sum().sum())"
      ],
      "execution_count": 8,
      "outputs": [
        {
          "output_type": "stream",
          "text": [
            "데이터 세트 Null 값 개수  0\n"
          ],
          "name": "stdout"
        }
      ]
    },
    {
      "cell_type": "code",
      "metadata": {
        "id": "vqd2qO-_WTFw",
        "colab_type": "code",
        "colab": {
          "base_uri": "https://localhost:8080/",
          "height": 467
        },
        "outputId": "b5d5224a-41c4-4eea-ae38-13fe36be45b7"
      },
      "source": [
        "print(' Sex 값 분포: \\n', titanic_df['Sex'].value_counts())\n",
        "print('\\n Cabin 값 분포: \\n', titanic_df['Cabin'].value_counts())\n",
        "print('\\n Embakred 값 분포: \\n', titanic_df['Embarked'].value_counts())"
      ],
      "execution_count": 9,
      "outputs": [
        {
          "output_type": "stream",
          "text": [
            " Sex 값 분포: \n",
            " male      577\n",
            "female    314\n",
            "Name: Sex, dtype: int64\n",
            "\n",
            " Cabin 값 분포: \n",
            " N              687\n",
            "C23 C25 C27      4\n",
            "G6               4\n",
            "B96 B98          4\n",
            "E101             3\n",
            "              ... \n",
            "B3               1\n",
            "B73              1\n",
            "D11              1\n",
            "A32              1\n",
            "D6               1\n",
            "Name: Cabin, Length: 148, dtype: int64\n",
            "\n",
            " Embakred 값 분포: \n",
            " S    644\n",
            "C    168\n",
            "Q     77\n",
            "N      2\n",
            "Name: Embarked, dtype: int64\n"
          ],
          "name": "stdout"
        }
      ]
    },
    {
      "cell_type": "code",
      "metadata": {
        "id": "TZ_vUxa7XH7L",
        "colab_type": "code",
        "colab": {
          "base_uri": "https://localhost:8080/",
          "height": 89
        },
        "outputId": "07b2044a-ae7d-4ad1-c553-5c2de6015e9b"
      },
      "source": [
        "\"\"\"\n",
        "Cabin의 경우 데이터의 정리가 잘 안되어있다.\n",
        "선실 등급을 나타내는 첫 번째 알파벳이 중요하다고 판단\n",
        "앞 문자만 추출\n",
        "\"\"\"\n",
        "\n",
        "titanic_df['Cabin'] = titanic_df['Cabin'].str[:1]\n",
        "print(titanic_df['Cabin'].head(3))"
      ],
      "execution_count": 11,
      "outputs": [
        {
          "output_type": "stream",
          "text": [
            "0    N\n",
            "1    C\n",
            "2    N\n",
            "Name: Cabin, dtype: object\n"
          ],
          "name": "stdout"
        }
      ]
    },
    {
      "cell_type": "code",
      "metadata": {
        "id": "O9IaTj5DX0bu",
        "colab_type": "code",
        "colab": {
          "base_uri": "https://localhost:8080/",
          "height": 125
        },
        "outputId": "7f991260-41f4-40af-82fd-9c760d9ac7d5"
      },
      "source": [
        "\"\"\"\n",
        "승객 유형별 생존 확률 확인\n",
        "\"\"\"\n",
        "\n",
        "titanic_df.groupby(['Sex', 'Survived'])['Survived'].count()"
      ],
      "execution_count": 13,
      "outputs": [
        {
          "output_type": "execute_result",
          "data": {
            "text/plain": [
              "Sex     Survived\n",
              "female  0            81\n",
              "        1           233\n",
              "male    0           468\n",
              "        1           109\n",
              "Name: Survived, dtype: int64"
            ]
          },
          "metadata": {
            "tags": []
          },
          "execution_count": 13
        }
      ]
    },
    {
      "cell_type": "code",
      "metadata": {
        "id": "V3voqk-bYD9w",
        "colab_type": "code",
        "colab": {
          "base_uri": "https://localhost:8080/",
          "height": 304
        },
        "outputId": "03404443-67a1-4c33-a1be-093265808540"
      },
      "source": [
        "sns.barplot(x='Sex', y='Survived', data=titanic_df);"
      ],
      "execution_count": 14,
      "outputs": [
        {
          "output_type": "display_data",
          "data": {
            "image/png": "[encoded data removed]",
            "text/plain": [
              "<Figure size 432x288 with 1 Axes>"
            ]
          },
          "metadata": {
            "tags": []
          }
        }
      ]
    },
    {
      "cell_type": "code",
      "metadata": {
        "id": "0xjeEnOjYUz1",
        "colab_type": "code",
        "colab": {
          "base_uri": "https://localhost:8080/",
          "height": 304
        },
        "outputId": "2a199cc2-ecd3-4b1c-c6ad-d9b0f2177509"
      },
      "source": [
        "\"\"\"\n",
        "빈부 격차에 따른 생존 확률 => 객실 등급\n",
        "성별을 함께 고려해 분석\n",
        "\"\"\"\n",
        "\n",
        "sns.barplot(x='Pclass', y='Survived', hue='Sex', data=titanic_df);"
      ],
      "execution_count": 15,
      "outputs": [
        {
          "output_type": "display_data",
          "data": {
            "image/png": "[encoded data removed]",
            "text/plain": [
              "<Figure size 432x288 with 1 Axes>"
            ]
          },
          "metadata": {
            "tags": []
          }
        }
      ]
    },
    {
      "cell_type": "markdown",
      "metadata": {
        "id": "gxKTsGiKYn6e",
        "colab_type": "text"
      },
      "source": [
        "여성이 생존 확률이 더 높으며, 부자일수록 (객실 등급이 높을수록) 생존 확률이 높은 것을 확인할 수 있다."
      ]
    },
    {
      "cell_type": "code",
      "metadata": {
        "id": "G1e6LoLTYyyK",
        "colab_type": "code",
        "colab": {
          "base_uri": "https://localhost:8080/",
          "height": 420
        },
        "outputId": "6b21b064-8dca-495d-982a-e8b87977479b"
      },
      "source": [
        "\"\"\"\n",
        "Age에 따른 생존확률\n",
        "범위별로 분류해 카테고리 값을 할당\n",
        "0 ~ 5: Baby\n",
        "6 ~ 12: Child\n",
        "13 ~ 18: Teenager\n",
        "19 ~ 25: Student\n",
        "26 ~ 35: Young Adult\n",
        "36 ~ 60: Adult\n",
        "61 ~ : Elderly\n",
        "-1 이하의 오류 값은 Unknown으로 분류\n",
        "\"\"\"\n",
        "\n",
        "def get_category(age):\n",
        "    cat = ''\n",
        "    if age <= -1: cat = 'Unknown'\n",
        "    elif age <= 5: cat = 'Baby'\n",
        "    elif age <= 12: cat = 'Child'\n",
        "    elif age <= 18: cat = 'Teenager'\n",
        "    elif age <= 25: cat = 'Student'\n",
        "    elif age <= 35: cat = 'Young Adult'\n",
        "    elif age <= 60: cat = 'Adult'\n",
        "    else: cat = 'Elderly'\n",
        "\n",
        "    return cat\n",
        "\n",
        "# 막대그래프의 크기 figure를 더 크게 설정\n",
        "plt.figure(figsize=(10, 6))\n",
        "\n",
        "# X 축의 값을 순차적으로 표시하기 위한 설정\n",
        "group_names = ['Unknown', 'Baby', 'Child', 'Teenager', 'Student', 'Young Adult', 'Adult', 'Elderly']\n",
        "\n",
        "# lambda 식에 위에서 생성한 get_category() 함수를 반환 값으로 지정\n",
        "# get_category(X)는 입력 값으로 'Age' 컬럼 값을 받아서 해당하는 cat 반환\n",
        "titanic_df['Age_cat'] = titanic_df['Age'].apply(lambda x: get_category(x))\n",
        "sns.barplot(x='Age_cat', y='Survived', hue='Sex', data=titanic_df, order=group_names)\n",
        "plt.show()\n",
        "\n",
        "titanic_df = titanic_df.drop(columns='Age')"
      ],
      "execution_count": 16,
      "outputs": [
        {
          "output_type": "display_data",
          "data": {
            "image/png": "[encoded data removed]",
            "text/plain": [
              "<Figure size 720x432 with 1 Axes>"
            ]
          },
          "metadata": {
            "tags": []
          }
        }
      ]
    },
    {
      "cell_type": "markdown",
      "metadata": {
        "id": "Hx_rFkg4aLMj",
        "colab_type": "text"
      },
      "source": [
        "* 여성과 Baby의 생존 확률이 높았다.\n",
        "* 여자 Child의 경우 다른 연령대에 비해 생존 확률이 낮다."
      ]
    },
    {
      "cell_type": "code",
      "metadata": {
        "id": "-ZJmra75aqsI",
        "colab_type": "code",
        "colab": {
          "base_uri": "https://localhost:8080/",
          "height": 142
        },
        "outputId": "60317640-b95f-4180-cecc-58e8f2144caa"
      },
      "source": [
        "\"\"\"\n",
        "남아있는 문자열 카테고리 피처를 LabelEncoding\n",
        "\"\"\"\n",
        "\n",
        "from sklearn.preprocessing import LabelEncoder\n",
        "\n",
        "def encode_feature(df, features):\n",
        "    for feature in features:\n",
        "        le = LabelEncoder()\n",
        "        df[feature] = le.fit_transform(df[feature])\n",
        "    \n",
        "    return df\n",
        "\n",
        "features = ['Cabin', 'Sex', 'Embarked', 'Age_cat']\n",
        "titanic_df = encode_feature(titanic_df, features)\n",
        "titanic_df.head(3)"
      ],
      "execution_count": 19,
      "outputs": [
        {
          "output_type": "execute_result",
          "data": {
            "text/html": [
              "<div>\n",
              "<style scoped>\n",
              "    .dataframe tbody tr th:only-of-type {\n",
              "        vertical-align: middle;\n",
              "    }\n",
              "\n",
              "    .dataframe tbody tr th {\n",
              "        vertical-align: top;\n",
              "    }\n",
              "\n",
              "    .dataframe thead th {\n",
              "        text-align: right;\n",
              "    }\n",
              "</style>\n",
              "<table border=\"1\" class=\"dataframe\">\n",
              "  <thead>\n",
              "    <tr style=\"text-align: right;\">\n",
              "      <th></th>\n",
              "      <th>PassengerId</th>\n",
              "      <th>Survived</th>\n",
              "      <th>Pclass</th>\n",
              "      <th>Name</th>\n",
              "      <th>Sex</th>\n",
              "      <th>SibSp</th>\n",
              "      <th>Parch</th>\n",
              "      <th>Ticket</th>\n",
              "      <th>Fare</th>\n",
              "      <th>Cabin</th>\n",
              "      <th>Embarked</th>\n",
              "      <th>Age_cat</th>\n",
              "    </tr>\n",
              "  </thead>\n",
              "  <tbody>\n",
              "    <tr>\n",
              "      <th>0</th>\n",
              "      <td>1</td>\n",
              "      <td>0</td>\n",
              "      <td>3</td>\n",
              "      <td>Braund, Mr. Owen Harris</td>\n",
              "      <td>1</td>\n",
              "      <td>1</td>\n",
              "      <td>0</td>\n",
              "      <td>A/5 21171</td>\n",
              "      <td>7.2500</td>\n",
              "      <td>7</td>\n",
              "      <td>3</td>\n",
              "      <td>4</td>\n",
              "    </tr>\n",
              "    <tr>\n",
              "      <th>1</th>\n",
              "      <td>2</td>\n",
              "      <td>1</td>\n",
              "      <td>1</td>\n",
              "      <td>Cumings, Mrs. John Bradley (Florence Briggs Th...</td>\n",
              "      <td>0</td>\n",
              "      <td>1</td>\n",
              "      <td>0</td>\n",
              "      <td>PC 17599</td>\n",
              "      <td>71.2833</td>\n",
              "      <td>2</td>\n",
              "      <td>0</td>\n",
              "      <td>0</td>\n",
              "    </tr>\n",
              "    <tr>\n",
              "      <th>2</th>\n",
              "      <td>3</td>\n",
              "      <td>1</td>\n",
              "      <td>3</td>\n",
              "      <td>Heikkinen, Miss. Laina</td>\n",
              "      <td>0</td>\n",
              "      <td>0</td>\n",
              "      <td>0</td>\n",
              "      <td>STON/O2. 3101282</td>\n",
              "      <td>7.9250</td>\n",
              "      <td>7</td>\n",
              "      <td>3</td>\n",
              "      <td>6</td>\n",
              "    </tr>\n",
              "  </tbody>\n",
              "</table>\n",
              "</div>"
            ],
            "text/plain": [
              "   PassengerId  Survived  Pclass  ... Cabin  Embarked  Age_cat\n",
              "0            1         0       3  ...     7         3        4\n",
              "1            2         1       1  ...     2         0        0\n",
              "2            3         1       3  ...     7         3        6\n",
              "\n",
              "[3 rows x 12 columns]"
            ]
          },
          "metadata": {
            "tags": []
          },
          "execution_count": 19
        }
      ]
    },
    {
      "cell_type": "code",
      "metadata": {
        "id": "uRK9JZDObh3p",
        "colab_type": "code",
        "colab": {}
      },
      "source": [
        "# Name 과 Ticket은 삭제\n",
        "titanic_df = titanic_df.drop(columns=['Name', 'Ticket'])"
      ],
      "execution_count": 20,
      "outputs": []
    },
    {
      "cell_type": "code",
      "metadata": {
        "id": "mVMr9VwycMML",
        "colab_type": "code",
        "colab": {}
      },
      "source": [
        "# 테스트 세트 크기를 전체의 20%로 추출\n",
        "\n",
        "from sklearn.model_selection import train_test_split\n",
        "\n",
        "X = titanic_df.drop(columns=['PassengerId', 'Survived'])\n",
        "y = titanic_df['Survived']\n",
        "\n",
        "X_train, X_test, y_train, y_test = train_test_split(X, y, test_size=0.2, random_state=13)"
      ],
      "execution_count": 22,
      "outputs": []
    },
    {
      "cell_type": "code",
      "metadata": {
        "id": "4CahMS4XcNWN",
        "colab_type": "code",
        "colab": {
          "base_uri": "https://localhost:8080/",
          "height": 71
        },
        "outputId": "1e052004-58e6-4969-971d-25168f45ff9f"
      },
      "source": [
        "# Decision Tree, Random Forest, Logistic Regression 이용\n",
        "\n",
        "from sklearn.tree import DecisionTreeClassifier\n",
        "from sklearn.ensemble import RandomForestClassifier\n",
        "from sklearn.linear_model import LogisticRegression\n",
        "from sklearn.metrics import accuracy_score\n",
        "\n",
        "# 각 Estimator 객체 생성\n",
        "dt = DecisionTreeClassifier(random_state=13)\n",
        "rf = RandomForestClassifier(random_state=13)\n",
        "lr = LogisticRegression(random_state=13)\n",
        "\n",
        "# Decision Tree 학습/예측/평가\n",
        "dt.fit(X_train, y_train)\n",
        "dt_pred = dt.predict(X_test)\n",
        "print('DecisionTreeClassifier 정확도: {:.4f}'.format(accuracy_score(y_test, dt_pred)))\n",
        "\n",
        "# Random Forest 학습/예측/평가\n",
        "rf.fit(X_train, y_train)\n",
        "rf_pred = rf.predict(X_test)\n",
        "print('RandomForestClassifier 정확도: {:.4f}'.format(accuracy_score(y_test, rf_pred)))\n",
        "\n",
        "# Logistic Regression 학습/예측/평가\n",
        "lr.fit(X_train, y_train)\n",
        "lr_pred = lr.predict(X_test)\n",
        "print('LogisticRegression 정확도: {:.4f}'.format(accuracy_score(y_test, lr_pred)))"
      ],
      "execution_count": 26,
      "outputs": [
        {
          "output_type": "stream",
          "text": [
            "DecisionTreeClassifier 정확도: 0.7709\n",
            "RandomForestClassifier 정확도: 0.8324\n",
            "LogisticRegression 정확도: 0.8268\n"
          ],
          "name": "stdout"
        }
      ]
    },
    {
      "cell_type": "code",
      "metadata": {
        "id": "ODN33yUedhkI",
        "colab_type": "code",
        "colab": {
          "base_uri": "https://localhost:8080/",
          "height": 125
        },
        "outputId": "1fa69bd3-8a1a-4ff0-b2b8-d170edcb5e4b"
      },
      "source": [
        "\"\"\"\n",
        "교차 검증으로 Decision Tree 모델 평가\n",
        "\"\"\"\n",
        "\n",
        "from sklearn.model_selection import KFold\n",
        "\n",
        "def exec_kfold(clf, folds=5):\n",
        "    # 폴드 세트를 5개인 KFold 객체를 생성, 폴드 수만큼 예측 결과 저장을 위한 리스트 객체 생성\n",
        "    kfold = KFold(n_splits=folds)\n",
        "    scores = []\n",
        "\n",
        "    # KFold 교차 검증 수행\n",
        "    for iter_counts, (train_index, test_index) in enumerate(kfold.split(X)):\n",
        "        # X 데이터에서 교차 검증별로 학습과 검증 데이터를 가리키는 index 생성\n",
        "        X_train, X_test = X.iloc[train_index], X.iloc[test_index]\n",
        "        y_train, y_test = y.iloc[train_index], y.iloc[test_index]\n",
        "\n",
        "        # Classifier 학습, 예측, 정확도 계산\n",
        "        clf.fit(X_train, y_train)\n",
        "        predictions = clf.predict(X_test)\n",
        "        accuracy = accuracy_score(y_test, predictions)\n",
        "        scores.append(accuracy)\n",
        "        print('교차 검증 {0} 정확도: {1:.4f}'.format(iter_counts, accuracy))\n",
        "\n",
        "    # 5개 fold에서의 평균 정확도 계산\n",
        "    mean_score = np.mean(scores)\n",
        "    print('평균 정확도: {:.4f}'.format(mean_score))\n",
        "\n",
        "exec_kfold(dt, folds=5)"
      ],
      "execution_count": 36,
      "outputs": [
        {
          "output_type": "stream",
          "text": [
            "교차 검증 0 정확도: 0.7486\n",
            "교차 검증 1 정확도: 0.7360\n",
            "교차 검증 2 정확도: 0.8371\n",
            "교차 검증 3 정확도: 0.7809\n",
            "교차 검증 4 정확도: 0.8202\n",
            "평균 정확도: 0.7846\n"
          ],
          "name": "stdout"
        }
      ]
    },
    {
      "cell_type": "code",
      "metadata": {
        "id": "Z9hS5vBfe5-J",
        "colab_type": "code",
        "colab": {
          "base_uri": "https://localhost:8080/",
          "height": 125
        },
        "outputId": "99c99c40-772e-47f9-d97e-7c1e1e366c45"
      },
      "source": [
        "\"\"\"\n",
        "cross_val_score 이용\n",
        "\"\"\"\n",
        "\n",
        "from sklearn.model_selection import cross_val_score\n",
        "\n",
        "scores = cross_val_score(dt, X, y, cv=5)\n",
        "for iter_count, accuracy in enumerate(scores):\n",
        "    print(\"교차 검증 {0} 정확도: {1:.4f}\".format(iter_count, accuracy))\n",
        "\n",
        "print('평균 정확도: {:.4f}'.format(np.mean(scores)))"
      ],
      "execution_count": 37,
      "outputs": [
        {
          "output_type": "stream",
          "text": [
            "교차 검증 0 정확도: 0.7598\n",
            "교차 검증 1 정확도: 0.7640\n",
            "교차 검증 2 정확도: 0.8371\n",
            "교차 검증 3 정확도: 0.7865\n",
            "교차 검증 4 정확도: 0.8202\n",
            "평균 정확도: 0.7935\n"
          ],
          "name": "stdout"
        }
      ]
    },
    {
      "cell_type": "markdown",
      "metadata": {
        "id": "TcoWmV1cfzq4",
        "colab_type": "text"
      },
      "source": [
        "cross_val_score()와 KFold의 평균 정확도가 약간 다른 이유는 cross_val_score()는 StratifiedKFold를 이용해 폴드 세트를 분할하기 때문이다."
      ]
    },
    {
      "cell_type": "code",
      "metadata": {
        "id": "AeK5tS2ff92I",
        "colab_type": "code",
        "colab": {
          "base_uri": "https://localhost:8080/",
          "height": 71
        },
        "outputId": "81fbb85d-29fe-4f8f-ec07-4f69775de983"
      },
      "source": [
        "\"\"\"\n",
        "GridSearchCV를 이용해 DecisionTreeClassifier의 최적 하이퍼 파라미터 찾고 예측 성능 측정\n",
        "max_depth, min_samples_split, min_samples_leaf를 변경\n",
        "\"\"\"\n",
        "\n",
        "from sklearn.model_selection import GridSearchCV\n",
        "\n",
        "parameters = {'max_depth': [2, 3, 5, 10],\n",
        "              'min_samples_split': [2, 3, 5],\n",
        "              'min_samples_leaf': [1, 5, 8]\n",
        "              }\n",
        "\n",
        "grid_cv = GridSearchCV(dt,\n",
        "                       param_grid=parameters,\n",
        "                       scoring='accuracy',\n",
        "                       cv=5)\n",
        "grid_cv.fit(X_train, y_train)\n",
        "\n",
        "print(\"GridSearchCV 최적 하이퍼 파라미터: \", grid_cv.best_params_)\n",
        "print('GridSearchCV 최고 정확도: {:.4f}'.format(grid_cv.best_score_))\n",
        "\n",
        "# GridSearchCV의 최적 하이퍼 파라미터로 학습된 Estimator로 예측 및 평가 수행.\n",
        "best_dt = grid_cv.best_estimator_\n",
        "best_dt_pred = best_dt.predict(X_test)\n",
        "accuracy = accuracy_score(y_test, best_dt_pred)\n",
        "print('테스트 세트에서의 DecisionTreeClassifier 정확도: {:.4f}'.format(accuracy))"
      ],
      "execution_count": 38,
      "outputs": [
        {
          "output_type": "stream",
          "text": [
            "GridSearchCV 최적 하이퍼 파라미터:  {'max_depth': 10, 'min_samples_leaf': 8, 'min_samples_split': 2}\n",
            "GridSearchCV 최고 정확도: 0.7908\n",
            "테스트 세트에서의 DecisionTreeClassifier 정확도: 0.8492\n"
          ],
          "name": "stdout"
        }
      ]
    },
    {
      "cell_type": "markdown",
      "metadata": {
        "id": "zn4M8RNWhUSO",
        "colab_type": "text"
      },
      "source": [
        "일반적으로 하이퍼 파라미터를 튜닝하더라도 성능이 많이 증가하지는 않는다.  \n",
        "테스트 데이터 세트가 작기 때문에 수치 상으로 예측 성능이 많이 증가한 것처럼 보인다."
      ]
    },
    {
      "cell_type": "code",
      "metadata": {
        "id": "0GnWGLu9hk_D",
        "colab_type": "code",
        "colab": {}
      },
      "source": [
        ""
      ],
      "execution_count": null,
      "outputs": []
    }
  ]
}
