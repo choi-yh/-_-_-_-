{
  "nbformat": 4,
  "nbformat_minor": 0,
  "metadata": {
    "colab": {
      "name": "05_00_회귀.ipynb",
      "provenance": [],
      "collapsed_sections": [],
      "toc_visible": true,
      "authorship_tag": "ABX9TyOH9dAGNcRmiWwEdJo32hmK",
      "include_colab_link": true
    },
    "kernelspec": {
      "name": "python3",
      "display_name": "Python 3"
    }
  },
  "cells": [
    {
      "cell_type": "markdown",
      "metadata": {
        "id": "view-in-github",
        "colab_type": "text"
      },
      "source": [
        "<a href=\"https://colab.research.google.com/github/choi-yh/Pyhon_ML_Guide/blob/master/05_00_%ED%9A%8C%EA%B7%80.ipynb\" target=\"_parent\"><img src=\"https://colab.research.google.com/assets/colab-badge.svg\" alt=\"Open In Colab\"/></a>"
      ]
    },
    {
      "cell_type": "markdown",
      "metadata": {
        "id": "U7OkTTe5gs9L"
      },
      "source": [
        "## 01. 회귀 소개"
      ]
    },
    {
      "cell_type": "markdown",
      "metadata": {
        "id": "EDmqyPvshTu3"
      },
      "source": [
        "* 갈톤(Galton): 사람의 키는 부모의 키가 크다고 무한정 커지는 것이 아니고, 부모의 키가 작다고 무한정 작아지는 것 또한 아니다. 즉, 사람의 키는 평균 키로 회귀하려는 경향을 가진다.\r\n",
        "* **회귀분석**: 데이터 값이 평균과 같은 일정한 값으로 돌아가려는 경향을 이용한 통계학 기법 \r\n",
        "* 여러 개의 독립 변수와 한 개의 종속 변수 간의 상관 관계를 모델링하는 기법\r\n",
        "\r\n",
        "\r\n",
        "* 머신러닝에서의 회귀: 독립 변수 - 피처 / 종속 변수 - 결정 값 -> 주어진 피처와 결정 값 데이터 기반에서 학습을 통해 **최적의 회귀 계수**를 찾아내는 것\r\n",
        "\r\n",
        "|**독립 변수 개수** | **회귀 계수의 결합** |\r\n",
        "|-------------------|----------------------|\r\n",
        "| 1개: 단일 회귀    | 선형: 선형 회귀      |\r\n",
        "| 여러 개: 다중 회귀| 비선형: 비선형 회귀  | \r\n",
        "\r\n",
        "\r\n",
        "* 대표적인 선형 회귀 모델\r\n",
        "    * **일반 선형 회귀**: 예측 값과 실제 값의 RSS(Residual Sum of Squares)를 최소화할 수 있도록 회귀 계수를 최적화하며, 규제(Regularization)을 적용하지 않은 모델\r\n",
        "    * **릿지(Ridge)**: 릿지 회귀는 선형 회귀에 L2 규제를 추가한 회귀 모델  \r\n",
        "        L2 규제는 상대적으로 큰 회귀 계수 값의 예측 영향도를 감소시키기 위해서 회귀 계수 값을 더 작게 만드는 규제 모델\r\n",
        "    * **라쏘(Lasso)**: 라쏘 회귀는 선형 회귀에 L1 규제를 적용한 방식  \r\n",
        "        L2 규제가 회귀 계수 값의 크기를 줄이는 데 반해, L1 규제는 예측 영향력이 작은 피처의 회귀 계수를 0으로 만들어 회귀 예측 시 피처가 선택되지 않게 하는 것  \r\n",
        "        L1 규제는 피처 선택 기능으로도 불림\r\n",
        "    * **엘라스틱넷(ElasticNet)**: L2, L1 규제를 함께 결합한 모델  \r\n",
        "        주로 피처가 많은 데이터 세트에서 적용되며, L1 규제로 피처의 개수를 줄임과 동시에 L2 규제로 계수 값의 크기를 조정\r\n",
        "    * **로지스틱 회귀(Logistic Regression)**: 회귀라는 이름이 붙어있지만, 분류에 사용되는 선형 모델. 매우 강력한 분류 알고리즘  \r\n",
        "        이진 분류 뿐만 아니라 희소 영역의 분류 (ex. 텍스트 분류)의 영역에서 뛰어난 예측 성능을 보인다."
      ]
    },
    {
      "cell_type": "markdown",
      "metadata": {
        "id": "h4zA3iEHhxbi"
      },
      "source": [
        "## 02. 단순 선형 회귀를 통한 회귀 이해"
      ]
    },
    {
      "cell_type": "markdown",
      "metadata": {
        "id": "XoR3td5imX_M"
      },
      "source": [
        "* **단순 선형 회귀**: 독립 변수도 하나, 종속 변수도 하나인 선형 회귀\r\n",
        "* **잔차**: 실제 값과 회귀 모델의 차이에 따른 오류 값\r\n",
        "    * 최적의 회귀 모델을 만든다. <=> 전체 데이터의 잔차(오류 값) 합이 최소가 되는 모델을 만든다.\r\n",
        "    * 오류 값 합이 최소가 될 수 있는 최적의 회귀 계수를 찾는다.\r\n",
        "* 오류 합 계산\r\n",
        "    * 오류 값에는 +,- 값이 존재하기 때문에 단순히 더할 경우 의미가 없다.\r\n",
        "    * Mean Absolute Error: 절댓값을 취해서 더하기\r\n",
        "    * Residual Sum of Square(RSS): 오류 값의 제곱을 구해서 더하기\r\n",
        "\r\n",
        "$$ RSS(w_0, w_1) = \\frac{1}{N} \\sum_{i=1}^N (y_i - (w_0 + w_1 * x_i))^2 $$\r\n",
        "$$ i\\text{는 1부터 학습 데이터의 총 건수} N \\text{까지} $$\r\n",
        "\r\n",
        "* RSS는 비용(Cost)이며, w 변수(회귀 계수)로 구성되는 RSS를 비용 함수라고 한다."
      ]
    },
    {
      "cell_type": "markdown",
      "metadata": {
        "id": "-AksyZognOAn"
      },
      "source": [
        "## 03. 비용 최소화하기 - 경사 하강법(Gradient Descent) 소개"
      ]
    },
    {
      "cell_type": "markdown",
      "metadata": {
        "id": "3vAVx8T4qnZs"
      },
      "source": [
        "* W 파라미터를 계산할 때, 비용 함수 RSS를 최소화하는 방법을 직관적으로 제공하는 방식\r\n",
        "\r\n",
        "* $ R(w) = \\frac{1}{N} \\sum_{i=1}^N (y_i - (w_0 + w_1*x_i))^2 $ 를 미분해서 최솟값을 구하는데 $w_0$과 $w_1$을 가지고 있기 때문에 편미분을 적용\r\n",
        "\r\n",
        "$$ {\\partial R(w) \\over \\partial w_1} = \\frac{2}{N} \\sum_{i=1}^N - x_t * (y_i - (w_0 + w_1x_i) = -\\frac{2}{N} \\sum_{i=1}^N x_i * (\\text{실제값}_i - \\text{예측값}_i) $$\r\n",
        "$$ {\\partial R(w) \\over \\partial w_0} = \\frac{2}{N} \\sum_{i=1}^N - (y_i - (w_0 + w_1x_i) = -\\frac{2}{N} \\sum_{i=1}^N \r\n",
        "(\\text{실제값}_i - \\text{예측값}_i) $$\r\n",
        "\r\n",
        "* 편미분 값 보정을 위해 $\\eta$를 곱하는데 이를 *학습률(learning rate)* 이라고 한다.\r\n",
        "\r\n",
        "* **경사 하강법의 일반적인 프로세스**\r\n",
        "    1. $w_1, w_0$를 임의의 값으로 설정하고 첫 비용 함수의 값을 계산\r\n",
        "    2. $ w_1 = w_1 + \\eta \\frac{2}{N} \\sum_{i=1}^N x_i * (\\text{실제값}_i - \\text{예측값}_i) $  \r\n",
        "$ w_0 = w_0 + \\eta \\frac{2}{N} \\sum_{i=1}^N x_i * (\\text{실제값}_i - \\text{예측값}_i) $  \r\n",
        "    로 업데이트한 후 다시 비용 함수의 값을 계산\r\n",
        "    3. 비용 함수의 값이 감소했으면 다시 2를 반복. 더 이상 비용 함수의 값이 감소하지 않으면 그 때의 $w_1, w_0$를 구하고 반복을 중지"
      ]
    },
    {
      "cell_type": "code",
      "metadata": {
        "colab": {
          "base_uri": "https://localhost:8080/",
          "height": 265
        },
        "id": "7Nj3ZvxMtCdt",
        "outputId": "1ea841ce-250a-4e8d-fdd4-662366d3e03d"
      },
      "source": [
        "# 경사 하강법 파이썬 구현\r\n",
        "# y = 4x + 6을 근사하기 위한 100개의 데이터 세트를 만들고 경사 하강법을 통해 w_1, w_0 도출\r\n",
        "\r\n",
        "import numpy as np\r\n",
        "import matplotlib.pyplot as plt\r\n",
        "\r\n",
        "np.random.seed(0)\r\n",
        "# y = 4x + 6을 근사(w1=4, w0=6). 임의의 값은 노이즈를 위해 만듦.\r\n",
        "X = 2 * np.random.rand(100, 1)\r\n",
        "y = 6 + 4*X + np.random.randn(100, 1)\r\n",
        "\r\n",
        "# X, y 데이터 세트 산점도로 시각화\r\n",
        "plt.scatter(X, y)\r\n",
        "plt.show()"
      ],
      "execution_count": 1,
      "outputs": [
        {
          "output_type": "display_data",
          "data": {
            "image/png": "[encoded data removed]",
            "text/plain": [
              "<Figure size 432x288 with 1 Axes>"
            ]
          },
          "metadata": {
            "tags": [],
            "needs_background": "light"
          }
        }
      ]
    },
    {
      "cell_type": "code",
      "metadata": {
        "id": "6CEq2B0OxYFA"
      },
      "source": [
        "# 비용 함수 설정\r\n",
        "def get_cost(y, y_pred):\r\n",
        "    N = len(y)\r\n",
        "    cost = np.sum(np.square(y - y_pred)) / N\r\n",
        "    return cost"
      ],
      "execution_count": 2,
      "outputs": []
    },
    {
      "cell_type": "code",
      "metadata": {
        "id": "1RLlvHtMxpSe"
      },
      "source": [
        "# w1과 w0를 업데이트 할 w1_update, w0_update를 반환\r\n",
        "def get_weight_updates(w1, w0, X, y, learning_rate=0.01):\r\n",
        "    N = len(y)\r\n",
        "\r\n",
        "    # w1_update, w0_update를 각각 w1, w0의 shape와 동일한 크기를 가진 0 값으로 초기화\r\n",
        "    w1_update = np.zeros_like(w1)\r\n",
        "    w0_update = np.zeros_like(w0)\r\n",
        "\r\n",
        "    # 예측 배열 계산하고 예측과 실제 값의 차이 계산\r\n",
        "    y_pred = np.dot(X, w1.T) + w0\r\n",
        "    diff = y - y_pred\r\n",
        "\r\n",
        "    # w0_update를 dot 행렬 연산으로 구하기 위해 모두 1값을 가진 행렬 생성\r\n",
        "    w0_factors = np.ones((N, 1))\r\n",
        "\r\n",
        "    # w1과 w0을 업데이트할 w1_update와 w0_update 계산\r\n",
        "    w1_update = -(2/N) * learning_rate * (np.dot(X.T, diff))\r\n",
        "    w0_update = -(2/N) * learning_rate * (np.dot(w0_factors.T, diff))\r\n",
        "\r\n",
        "    return w1_update, w0_update"
      ],
      "execution_count": 12,
      "outputs": []
    },
    {
      "cell_type": "code",
      "metadata": {
        "id": "AxtXbQJbvLDF"
      },
      "source": [
        "# 입력 인자 iters로 주어진 횟수만큼 반복적으로 w1과 w0를 업데이트 적용\r\n",
        "def gradient_descent_steps(X, y, iters=10000):\r\n",
        "    # w0과 w1을 모두 0으로 초기화\r\n",
        "    w0 = np.zeros((1, 1))\r\n",
        "    w1 = np.zeros((1, 1))\r\n",
        "\r\n",
        "    # 인자로 주어진 iters만큼 반복적으로 get_weight_updates() 호출해 w1, w0 업데이트 수행.\r\n",
        "    for ind in range(iters):\r\n",
        "        w1_update, w0_update = get_weight_updates(w1, w0, X, y, learning_rate=0.1)\r\n",
        "        w1 = w1 - w1_update\r\n",
        "        w0 = w0 - w0_update\r\n",
        "\r\n",
        "    return w1, w0"
      ],
      "execution_count": 13,
      "outputs": []
    },
    {
      "cell_type": "code",
      "metadata": {
        "colab": {
          "base_uri": "https://localhost:8080/"
        },
        "id": "QXmO6ZDGzj3U",
        "outputId": "17c4d87e-cf87-49d6-f11f-7124291e1fca"
      },
      "source": [
        "# w1, w0 계산\r\n",
        "# 최종 예측값과 실제 값의 RSS 차이를 계산하는 get_cost() 함수 생성\r\n",
        "def get_cost(y, y_pred):\r\n",
        "    N = len(y)\r\n",
        "    cost = np.sum(np.square(y - y_pred)) / N\r\n",
        "    return cost\r\n",
        "\r\n",
        "w1, w0 = gradient_descent_steps(X, y, iters=10000)\r\n",
        "print(f\"w1: {w1[0, 0]:.3f} \\t w0: {w0[0, 0]:.3f}\")\r\n",
        "\r\n",
        "y_pred = w1[0, 0] * X + w0\r\n",
        "print('Gradient Descent Total Cost: {:.4f}'.format(get_cost(y, y_pred)))"
      ],
      "execution_count": 14,
      "outputs": [
        {
          "output_type": "stream",
          "text": [
            "w1: 3.968 \t w0: 6.222\n",
            "Gradient Descent Total Cost: 0.9924\n"
          ],
          "name": "stdout"
        }
      ]
    },
    {
      "cell_type": "code",
      "metadata": {
        "colab": {
          "base_uri": "https://localhost:8080/",
          "height": 265
        },
        "id": "egoaC-cl0IsL",
        "outputId": "f52d0265-cd47-41db-8f8b-800b6a8c5b87"
      },
      "source": [
        "plt.scatter(X, y)\r\n",
        "plt.plot(X, y_pred, color='r')\r\n",
        "plt.show()"
      ],
      "execution_count": 17,
      "outputs": [
        {
          "output_type": "display_data",
          "data": {
            "image/png": "[encoded data removed]",
            "text/plain": [
              "<Figure size 432x288 with 1 Axes>"
            ]
          },
          "metadata": {
            "tags": [],
            "needs_background": "light"
          }
        }
      ]
    },
    {
      "cell_type": "markdown",
      "metadata": {
        "id": "iSFbT1W80r_E"
      },
      "source": [
        "* 경사 하강법은 실전에서 사용할 경우 시간이 매우 많이 걸릴 수 있다. -> **확률적 경사 하강법(Stochastic Gradient Descent)**를 이용함\r\n",
        "* **확률적 경사 하강법**: 전체 입력 데이터로 w가 업데이트 되는 값을 계산하는 것이 아니라 일부 데이터만 이용해 w가 업데이트 되는 값을 계산"
      ]
    },
    {
      "cell_type": "code",
      "metadata": {
        "id": "kWdXoyv603a5"
      },
      "source": [
        "# Stochastic Gradient Descent 구현\r\n",
        "# X, y 데이터에서 랜덤하게 batch_size 만큼 데이터를 추출해 이를 기반으로 w1_update, w0_update를 계산\r\n",
        "\r\n",
        "def stochastic_gradient_descent_steps(X, y, batch_size=10, iters=1000):\r\n",
        "    w0 = np.zeros((1, 1))\r\n",
        "    w1 = np.zeros((1, 1))\r\n",
        "\r\n",
        "    prev_cost = 100000\r\n",
        "    iter_index = 0\r\n",
        "\r\n",
        "    for ind in range(iters):\r\n",
        "        np.random.seed(ind)\r\n",
        "\r\n",
        "        # 전체 X, y 데이터에서 랜덤하게 batch_size만큼 데이터를 추출해 sample_X, sample_y로 저장\r\n",
        "        stochastic_random_index=  np.random.permutation(X.shape[0])\r\n",
        "        sample_X = X[stochastic_random_index[0:batch_size]]\r\n",
        "        sample_y = y[stochastic_random_index[0:batch_size]]\r\n",
        "\r\n",
        "        # 랜덤하게 batch_size만큼 추출된 데이터 기반으로 w1_update, w0_update 계산 후 업데이트\r\n",
        "        w1_update, w0_update = get_weight_updates(w1, w0, sample_X, sample_y, learning_rate=0.01)\r\n",
        "        w1 = w1 - w1_update\r\n",
        "        w0 = w0 - w0_update\r\n",
        "\r\n",
        "    return w1, w0"
      ],
      "execution_count": 18,
      "outputs": []
    },
    {
      "cell_type": "code",
      "metadata": {
        "colab": {
          "base_uri": "https://localhost:8080/"
        },
        "id": "jRBCRTLH1SI8",
        "outputId": "8b71e66e-be3d-473d-d6ed-153d58eab6dd"
      },
      "source": [
        "w1, w0 = stochastic_gradient_descent_steps(X, y, iters=1000)\r\n",
        "print(\"w1: \", round(w1[0, 0], 3), 'w0: ', round(w0[0, 0], 3))\r\n",
        "\r\n",
        "y_pred = w1[0, 0] * X + w0\r\n",
        "print('Stochastic Gradient Descent Total Cost: {:.4f}'.format(get_cost(y, y_pred)))"
      ],
      "execution_count": 19,
      "outputs": [
        {
          "output_type": "stream",
          "text": [
            "w1:  4.028 w0:  6.156\n",
            "Stochastic Gradient Descent Total Cost: 0.9937\n"
          ],
          "name": "stdout"
        }
      ]
    },
    {
      "cell_type": "markdown",
      "metadata": {
        "id": "9cqxokSF2lcN"
      },
      "source": [
        "* 다중 회귀의 경우\r\n",
        "\r\n",
        "$$ \\hat{Y} = X_{mat} * W^T $$\r\n",
        "\r\n",
        "$$ \r\n",
        "\\begin{bmatrix} y_1 \\\\ y_2 \\\\ \\cdots \\\\ y_n \\end{bmatrix} \r\n",
        " = \\begin{bmatrix} 1 & x_{11} & x_{12} & \\cdots & x_{1m} \\\\\r\n",
        " 1 & x_{21} & x_{22} & \\cdots & x_{2m} \\\\\r\n",
        " \\vdots & \\vdots & \\vdots & \\vdots & \\vdots \\\\\r\n",
        " 1 & x_{n1} & x_{n2} & \\cdots & x_{nm} \\end{bmatrix} \r\n",
        " *\r\n",
        " \\begin{bmatrix} w0 & w1 & w2 & \\cdots & w_m \\end{bmatrix}^T\r\n",
        " $$"
      ]
    },
    {
      "cell_type": "markdown",
      "metadata": {
        "id": "6t1rUA9E5Sl5"
      },
      "source": [
        "## 04. 사이킷런 LinearRegression을 이용한 보스턴 주택 가격 예측"
      ]
    },
    {
      "cell_type": "code",
      "metadata": {
        "id": "OoPoOhfk6tdU"
      },
      "source": [
        ""
      ],
      "execution_count": null,
      "outputs": []
    }
  ]
}