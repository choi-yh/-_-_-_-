{
  "nbformat": 4,
  "nbformat_minor": 0,
  "metadata": {
    "colab": {
      "name": "03. 넘파이.ipynb",
      "provenance": [],
      "collapsed_sections": [],
      "authorship_tag": "ABX9TyNqcXRAnuGl04Rpl0tmEGDK",
      "include_colab_link": true
    },
    "kernelspec": {
      "name": "python3",
      "display_name": "Python 3"
    }
  },
  "cells": [
    {
      "cell_type": "markdown",
      "metadata": {
        "id": "view-in-github",
        "colab_type": "text"
      },
      "source": [
        "<a href=\"https://colab.research.google.com/github/choi-yh/Pyhon_ML_Guide/blob/master/03_%EB%84%98%ED%8C%8C%EC%9D%B4.ipynb\" target=\"_parent\"><img src=\"https://colab.research.google.com/assets/colab-badge.svg\" alt=\"Open In Colab\"/></a>"
      ]
    },
    {
      "cell_type": "markdown",
      "metadata": {
        "id": "u4gpsyqgvGEm",
        "colab_type": "text"
      },
      "source": [
        "## 넘파이 ndarray 개요"
      ]
    },
    {
      "cell_type": "code",
      "metadata": {
        "id": "8fWcM7Z5uPV2",
        "colab_type": "code",
        "colab": {}
      },
      "source": [
        "import numpy as np"
      ],
      "execution_count": 1,
      "outputs": []
    },
    {
      "cell_type": "code",
      "metadata": {
        "id": "H2EpZpXxuYMp",
        "colab_type": "code",
        "colab": {
          "base_uri": "https://localhost:8080/",
          "height": 125
        },
        "outputId": "d1ea7a13-09e0-4ff9-b602-8a9d8b076346"
      },
      "source": [
        "array1 = np.array([1, 2, 3])\n",
        "print('array1 type:', type(array1))\n",
        "print('array1 array 형태:', array1.shape)\n",
        "\n",
        "array2 = np.array([[1, 2, 3,],\n",
        "                   [2, 3, 4]])\n",
        "print('array2 type:', type(array2))\n",
        "print('array2 array 형태:', array2.shape)\n",
        "\n",
        "array3 = np.array([[1, 2, 3]])\n",
        "print('array3 type:', type(array3))\n",
        "print('array3 array 형태:', array3.shape)"
      ],
      "execution_count": 2,
      "outputs": [
        {
          "output_type": "stream",
          "text": [
            "array1 type: <class 'numpy.ndarray'>\n",
            "array1 array 형태: (3,)\n",
            "array2 type: <class 'numpy.ndarray'>\n",
            "array2 array 형태: (2, 3)\n",
            "array3 type: <class 'numpy.ndarray'>\n",
            "array3 array 형태: (1, 3)\n"
          ],
          "name": "stdout"
        }
      ]
    },
    {
      "cell_type": "code",
      "metadata": {
        "id": "c4q9nUCLu0iV",
        "colab_type": "code",
        "colab": {
          "base_uri": "https://localhost:8080/",
          "height": 35
        },
        "outputId": "186582b1-4d02-4570-cb98-20aa137324f1"
      },
      "source": [
        "# 차원 확인\n",
        "print(\"array1: {:0}차원, array2: {:1}차원, array3: {:2}차원\".format(array1.ndim, array2.ndim, array3.ndim))"
      ],
      "execution_count": 4,
      "outputs": [
        {
          "output_type": "stream",
          "text": [
            "array1: 1차원, array2: 2차원, array3:  2차원\n"
          ],
          "name": "stdout"
        }
      ]
    },
    {
      "cell_type": "markdown",
      "metadata": {
        "id": "7tFQqMbcvdXH",
        "colab_type": "text"
      },
      "source": [
        "## ndarray의 데이터 타입\n",
        "\n",
        "* ndarray 내의 데이터 타입은 그 연산의 특성상 같은 데이터 타입만 가능\n",
        "* 다른 데이터 유형이 섞여 있는 리스트를 ndarray로 변경하면 데이터 크기가 더 큰 데이터 타입으로 형 변환을 일괄 적용\n",
        "* 데이터 타입 변경은 .astype()을 이용해 가능하고, 메모리를 절약해야 할 때 보통 이용된다."
      ]
    },
    {
      "cell_type": "code",
      "metadata": {
        "id": "JBgOqUnHvlVZ",
        "colab_type": "code",
        "colab": {
          "base_uri": "https://localhost:8080/",
          "height": 71
        },
        "outputId": "72595e5a-0dc8-490d-cbab-10213c3e88a9"
      },
      "source": [
        "list1 = [1, 2, 3]\n",
        "print(type(list1))\n",
        "\n",
        "array1 = np.array(list1)\n",
        "print(type(array1))\n",
        "print(array1, array1.dtype)"
      ],
      "execution_count": 5,
      "outputs": [
        {
          "output_type": "stream",
          "text": [
            "<class 'list'>\n",
            "<class 'numpy.ndarray'>\n",
            "[1 2 3] int64\n"
          ],
          "name": "stdout"
        }
      ]
    },
    {
      "cell_type": "code",
      "metadata": {
        "id": "0IMgtOdJwMEW",
        "colab_type": "code",
        "colab": {
          "base_uri": "https://localhost:8080/",
          "height": 53
        },
        "outputId": "9f5dde92-24db-4bdb-89cd-12d45006e6f4"
      },
      "source": [
        "list2 = [1, 2, 'test']\n",
        "array2 = np.array(list2)\n",
        "print(array2, array2.dtype)\n",
        "\n",
        "list3 = [1, 2, 3.0]\n",
        "array3 = np.array(list3)\n",
        "print(array3, array3.dtype)"
      ],
      "execution_count": 6,
      "outputs": [
        {
          "output_type": "stream",
          "text": [
            "['1' '2' 'test'] <U21\n",
            "[1. 2. 3.] float64\n"
          ],
          "name": "stdout"
        }
      ]
    },
    {
      "cell_type": "code",
      "metadata": {
        "id": "ZABwOHQywhHN",
        "colab_type": "code",
        "colab": {
          "base_uri": "https://localhost:8080/",
          "height": 71
        },
        "outputId": "32098995-7f49-4037-e67e-c6690828991f"
      },
      "source": [
        "array_int = np.array([1, 2, 3])\n",
        "array_float = array_int.astype('float64')\n",
        "print(array_float, array_float.dtype)\n",
        "\n",
        "array_int1 = array_float.astype('int32')\n",
        "print(array_int1, array_int1.dtype)\n",
        "\n",
        "array_float1 = np.array([1.1, 2.1, 3.1])\n",
        "array_int2 = array_float1.astype('int32')\n",
        "print(array_int2, array_int2.dtype)"
      ],
      "execution_count": 8,
      "outputs": [
        {
          "output_type": "stream",
          "text": [
            "[1. 2. 3.] float64\n",
            "[1 2 3] int32\n",
            "[1 2 3] int32\n"
          ],
          "name": "stdout"
        }
      ]
    },
    {
      "cell_type": "markdown",
      "metadata": {
        "id": "hqBSLsouxJ46",
        "colab_type": "text"
      },
      "source": [
        "## ndarray를 편리하게 생성하게 - arange, zeros, ones\n",
        "\n",
        "* 테스트용 데이터를 만들거나 대규모의 데이터를 일괄적으로 초기화해야 할 경우에 사용"
      ]
    },
    {
      "cell_type": "code",
      "metadata": {
        "id": "rqi_DcoPxTPC",
        "colab_type": "code",
        "colab": {
          "base_uri": "https://localhost:8080/",
          "height": 53
        },
        "outputId": "498d7206-c68d-4726-d20d-c026c07cd309"
      },
      "source": [
        "# range와 유사한 기능\n",
        "\n",
        "sequence_array = np.arange(10)\n",
        "print(sequence_array)\n",
        "print(sequence_array.dtype, sequence_array.shape)"
      ],
      "execution_count": 9,
      "outputs": [
        {
          "output_type": "stream",
          "text": [
            "[0 1 2 3 4 5 6 7 8 9]\n",
            "int64 (10,)\n"
          ],
          "name": "stdout"
        }
      ]
    },
    {
      "cell_type": "code",
      "metadata": {
        "id": "6IoTK4vUxgmF",
        "colab_type": "code",
        "colab": {
          "base_uri": "https://localhost:8080/",
          "height": 161
        },
        "outputId": "118b777f-8a95-46bc-fa23-6c659569d4ca"
      },
      "source": [
        "# dtype의 default 값은 float64\n",
        "\n",
        "zero_array = np.zeros((3, 2), dtype='int32')\n",
        "print(zero_array)\n",
        "print(zero_array.dtype, zero_array.shape)\n",
        "\n",
        "one_array = np.ones((3, 2))\n",
        "print(one_array)\n",
        "print(one_array.dtype, one_array.shape)"
      ],
      "execution_count": 11,
      "outputs": [
        {
          "output_type": "stream",
          "text": [
            "[[0 0]\n",
            " [0 0]\n",
            " [0 0]]\n",
            "int32 (3, 2)\n",
            "[[1. 1.]\n",
            " [1. 1.]\n",
            " [1. 1.]]\n",
            "float64 (3, 2)\n"
          ],
          "name": "stdout"
        }
      ]
    },
    {
      "cell_type": "markdown",
      "metadata": {
        "id": "BlWehU2Cx3WJ",
        "colab_type": "text"
      },
      "source": [
        "## ndarray의 차원과 크기를 변경하는 reshape()"
      ]
    },
    {
      "cell_type": "code",
      "metadata": {
        "id": "LLUpuZ4IyIop",
        "colab_type": "code",
        "colab": {
          "base_uri": "https://localhost:8080/",
          "height": 215
        },
        "outputId": "a23ee1b2-70fc-4dd1-bce6-d24ba98a00c7"
      },
      "source": [
        "array1 = np.arange(10)\n",
        "print('array1:\\n', array1)\n",
        "\n",
        "array2 = array1.reshape(2, 5)\n",
        "print('array2:\\n', array2)\n",
        "\n",
        "array3 = array1.reshape(5, 2)\n",
        "print('array3:\\n', array3)"
      ],
      "execution_count": 12,
      "outputs": [
        {
          "output_type": "stream",
          "text": [
            "array1:\n",
            " [0 1 2 3 4 5 6 7 8 9]\n",
            "array2:\n",
            " [[0 1 2 3 4]\n",
            " [5 6 7 8 9]]\n",
            "array3:\n",
            " [[0 1]\n",
            " [2 3]\n",
            " [4 5]\n",
            " [6 7]\n",
            " [8 9]]\n"
          ],
          "name": "stdout"
        }
      ]
    },
    {
      "cell_type": "code",
      "metadata": {
        "id": "z1zzqDF0yV7j",
        "colab_type": "code",
        "colab": {
          "base_uri": "https://localhost:8080/",
          "height": 172
        },
        "outputId": "3e955413-b6ad-4893-bd8d-4f02feed6929"
      },
      "source": [
        "array1.reshape(4, 3)"
      ],
      "execution_count": 13,
      "outputs": [
        {
          "output_type": "error",
          "ename": "ValueError",
          "evalue": "ignored",
          "traceback": [
            "\u001b[0;31m---------------------------------------------------------------------------\u001b[0m",
            "\u001b[0;31mValueError\u001b[0m                                Traceback (most recent call last)",
            "\u001b[0;32m<ipython-input-13-28a7a100c135>\u001b[0m in \u001b[0;36m<module>\u001b[0;34m()\u001b[0m\n\u001b[0;32m----> 1\u001b[0;31m \u001b[0marray1\u001b[0m\u001b[0;34m.\u001b[0m\u001b[0mreshape\u001b[0m\u001b[0;34m(\u001b[0m\u001b[0;36m4\u001b[0m\u001b[0;34m,\u001b[0m \u001b[0;36m3\u001b[0m\u001b[0;34m)\u001b[0m\u001b[0;34m\u001b[0m\u001b[0;34m\u001b[0m\u001b[0m\n\u001b[0m",
            "\u001b[0;31mValueError\u001b[0m: cannot reshape array of size 10 into shape (4,3)"
          ]
        }
      ]
    },
    {
      "cell_type": "code",
      "metadata": {
        "id": "8hIuwKaZyZy0",
        "colab_type": "code",
        "colab": {
          "base_uri": "https://localhost:8080/",
          "height": 71
        },
        "outputId": "3f34bcfd-4794-4695-c72a-c057cad3cb0f"
      },
      "source": [
        "# reshape에 -1을 적용하는 경우\n",
        "array1 = np.arange(10)\n",
        "print(array1)\n",
        "\n",
        "array2 = array1.reshape(-1, 5)\n",
        "print('array2 shape:', array2.shape)\n",
        "\n",
        "array3 = array1.reshape(5, -1)\n",
        "print('array3 shape:', array3.shape)"
      ],
      "execution_count": 14,
      "outputs": [
        {
          "output_type": "stream",
          "text": [
            "[0 1 2 3 4 5 6 7 8 9]\n",
            "array2 shape: (2, 5)\n",
            "array3 shape: (5, 2)\n"
          ],
          "name": "stdout"
        }
      ]
    },
    {
      "cell_type": "code",
      "metadata": {
        "id": "6WlyYHwWyxQQ",
        "colab_type": "code",
        "colab": {
          "base_uri": "https://localhost:8080/",
          "height": 172
        },
        "outputId": "9168a864-a23e-4b07-9429-c8d6ebf3a1bd"
      },
      "source": [
        "array1.reshape(-1, 4)"
      ],
      "execution_count": 15,
      "outputs": [
        {
          "output_type": "error",
          "ename": "ValueError",
          "evalue": "ignored",
          "traceback": [
            "\u001b[0;31m---------------------------------------------------------------------------\u001b[0m",
            "\u001b[0;31mValueError\u001b[0m                                Traceback (most recent call last)",
            "\u001b[0;32m<ipython-input-15-a6826157abed>\u001b[0m in \u001b[0;36m<module>\u001b[0;34m()\u001b[0m\n\u001b[0;32m----> 1\u001b[0;31m \u001b[0marray1\u001b[0m\u001b[0;34m.\u001b[0m\u001b[0mreshape\u001b[0m\u001b[0;34m(\u001b[0m\u001b[0;34m-\u001b[0m\u001b[0;36m1\u001b[0m\u001b[0;34m,\u001b[0m \u001b[0;36m4\u001b[0m\u001b[0;34m)\u001b[0m\u001b[0;34m\u001b[0m\u001b[0;34m\u001b[0m\u001b[0m\n\u001b[0m",
            "\u001b[0;31mValueError\u001b[0m: cannot reshape array of size 10 into shape (4)"
          ]
        }
      ]
    },
    {
      "cell_type": "code",
      "metadata": {
        "id": "0-P7QbhxzEIR",
        "colab_type": "code",
        "colab": {
          "base_uri": "https://localhost:8080/",
          "height": 161
        },
        "outputId": "69074952-9bcf-4494-bd02-3727522d482a"
      },
      "source": [
        "array1 = np.arange(8)\n",
        "array3d = array1.reshape((2, 2, 2))\n",
        "print('array3d:\\n', array3d.tolist())\n",
        "\n",
        "# 3차원 ndarray를 2차원 ndarray로 변환\n",
        "array5 = array3d.reshape(-1, 1)\n",
        "print('array5:\\n', array5.tolist())\n",
        "print('array5 shape:', array5.shape)\n",
        "\n",
        "# 1차원 ndarray를 2차원 ndarray로 변환\n",
        "array6 = array1.reshape(-1, 1)\n",
        "print('array6:\\n', array6.tolist())\n",
        "print('array6 shape:', array6.shape)"
      ],
      "execution_count": 16,
      "outputs": [
        {
          "output_type": "stream",
          "text": [
            "array3d:\n",
            " [[[0, 1], [2, 3]], [[4, 5], [6, 7]]]\n",
            "array5:\n",
            " [[0], [1], [2], [3], [4], [5], [6], [7]]\n",
            "array5 shape: (8, 1)\n",
            "array6:\n",
            " [[0], [1], [2], [3], [4], [5], [6], [7]]\n",
            "array6 shape: (8, 1)\n"
          ],
          "name": "stdout"
        }
      ]
    },
    {
      "cell_type": "markdown",
      "metadata": {
        "id": "Im8tNvhhz2bB",
        "colab_type": "text"
      },
      "source": [
        "## 넘파이의 ndarray의 데이터 세트 선택하기 - 인덱싱(Indexing)\n",
        "\n",
        "1. **특정한 데이터만 추출**: 원하는 위치의 인덱스 값을 지정하면 해당 위치의 데이터가 반환\n",
        "2. **슬라이싱(Slicing)**: 슬라이싱은 연속된 인덱스상의 ndarray를 추출하는 방식\n",
        "3. **팬시 인덱싱(Fancy Indexing)**: 일정한 인덱싱 집합을 리스트 또는 ndarray 형태로 지정해 해당 위치에 있는 데이터의 ndarray를 반환\n",
        "4. **불린 인덱싱(Boolean Indexing)**: 특정 조건에 해당하는지 여부인 True/False 값 인덱싱 집합을 기반으로 True에 해당하는 인덱스 위치에 있는 데이터의 ndarray를 반환"
      ]
    },
    {
      "cell_type": "markdown",
      "metadata": {
        "id": "9vpSipDN02Im",
        "colab_type": "text"
      },
      "source": [
        "### 단일 값 추출\n",
        "\n",
        "* axis 0: row 방향 축\n",
        "* axis 1: col 방향 축"
      ]
    },
    {
      "cell_type": "code",
      "metadata": {
        "id": "fmSlu2ZD1E69",
        "colab_type": "code",
        "colab": {
          "base_uri": "https://localhost:8080/",
          "height": 71
        },
        "outputId": "8f482b9f-41df-45f5-ec30-af6377907546"
      },
      "source": [
        "# 1부터 9까지의 1차원 ndarry 생성\n",
        "array1 = np.arange(start=1, stop=10)\n",
        "print('array1:', array1)\n",
        "\n",
        "# index는 0부터 시작하므로 array1[2]는 3번째 index 위치의 데이터값을 의미\n",
        "value = array1[2]\n",
        "print('value:', value)\n",
        "print(type(value))"
      ],
      "execution_count": 17,
      "outputs": [
        {
          "output_type": "stream",
          "text": [
            "array1: [1 2 3 4 5 6 7 8 9]\n",
            "value: 3\n",
            "<class 'numpy.int64'>\n"
          ],
          "name": "stdout"
        }
      ]
    },
    {
      "cell_type": "code",
      "metadata": {
        "id": "aa0KB08C1SnX",
        "colab_type": "code",
        "colab": {
          "base_uri": "https://localhost:8080/",
          "height": 35
        },
        "outputId": "86b9b266-7468-4d0d-8e15-1511b77eee32"
      },
      "source": [
        "print('맨 뒤의 값:', array1[-1], ' 맨 뒤에서 두 번째 값:', array1[-2])"
      ],
      "execution_count": 18,
      "outputs": [
        {
          "output_type": "stream",
          "text": [
            "맨 뒤의 값: 9  맨 뒤에서 두 번째 값: 8\n"
          ],
          "name": "stdout"
        }
      ]
    },
    {
      "cell_type": "code",
      "metadata": {
        "id": "8Db6tZ7N1ZOH",
        "colab_type": "code",
        "colab": {
          "base_uri": "https://localhost:8080/",
          "height": 35
        },
        "outputId": "6d7c2399-e691-41c8-cbb7-63494b6895ca"
      },
      "source": [
        "# 단일 인덱스 이용 ndarray 내의 데이터값 수정하기\n",
        "array1[0] = 9\n",
        "array1[8] = 0\n",
        "print('array1:', array1)"
      ],
      "execution_count": 19,
      "outputs": [
        {
          "output_type": "stream",
          "text": [
            "array1: [9 2 3 4 5 6 7 8 0]\n"
          ],
          "name": "stdout"
        }
      ]
    },
    {
      "cell_type": "code",
      "metadata": {
        "id": "H_k-Sm8T1khR",
        "colab_type": "code",
        "colab": {
          "base_uri": "https://localhost:8080/",
          "height": 143
        },
        "outputId": "ebbd37de-f5fe-4569-9aaa-ab2cf47a59bd"
      },
      "source": [
        "# 2차원 ndarray에서 단일 값을 추출\n",
        "\"\"\"\n",
        "[row=0, col=1] -> [axis 0=0, axis 1=1]\n",
        "\"\"\"\n",
        "\n",
        "array1d = np.arange(1, 10)\n",
        "array2d = array1d.reshape(3, 3)\n",
        "print(array2d)\n",
        "\n",
        "print('(row=0, col=0) index 값:', array2d[0, 0])\n",
        "print('(row=0, col=1) index 값:', array2d[0, 1])\n",
        "print('(row=1, col=0) index 값:', array2d[1, 0])\n",
        "print('(row=2, col=2) index 값:', array2d[2, 2])"
      ],
      "execution_count": 23,
      "outputs": [
        {
          "output_type": "stream",
          "text": [
            "[[1 2 3]\n",
            " [4 5 6]\n",
            " [7 8 9]]\n",
            "(row=0, col=0) index 값: 1\n",
            "(row=0, col=1) index 값: 2\n",
            "(row=1, col=0) index 값: 4\n",
            "(row=2, col=2) index 값: 9\n"
          ],
          "name": "stdout"
        }
      ]
    },
    {
      "cell_type": "markdown",
      "metadata": {
        "id": "XMQZFv3312tH",
        "colab_type": "text"
      },
      "source": [
        "### 슬라이싱"
      ]
    },
    {
      "cell_type": "code",
      "metadata": {
        "id": "AXUX4MEV2C4I",
        "colab_type": "code",
        "colab": {
          "base_uri": "https://localhost:8080/",
          "height": 53
        },
        "outputId": "b7e15415-38f0-4fd9-f749-7431dd79e1d8"
      },
      "source": [
        "array1 = np.arange(1, 10)\n",
        "array3 = array1[0:3]\n",
        "print(array3)\n",
        "print(type(array3))"
      ],
      "execution_count": 24,
      "outputs": [
        {
          "output_type": "stream",
          "text": [
            "[1 2 3]\n",
            "<class 'numpy.ndarray'>\n"
          ],
          "name": "stdout"
        }
      ]
    },
    {
      "cell_type": "code",
      "metadata": {
        "id": "AYgVFD0V3e8d",
        "colab_type": "code",
        "colab": {
          "base_uri": "https://localhost:8080/",
          "height": 71
        },
        "outputId": "33fb0e52-8630-46c9-e01c-044ceb939066"
      },
      "source": [
        "array1 = np.arange(1, 10)\n",
        "array4 = array1[:3]\n",
        "print(array4)\n",
        "\n",
        "array5 = array1[3:]\n",
        "print(array5)\n",
        "\n",
        "array6 = array1[:]\n",
        "print(array6)"
      ],
      "execution_count": 25,
      "outputs": [
        {
          "output_type": "stream",
          "text": [
            "[1 2 3]\n",
            "[4 5 6 7 8 9]\n",
            "[1 2 3 4 5 6 7 8 9]\n"
          ],
          "name": "stdout"
        }
      ]
    },
    {
      "cell_type": "code",
      "metadata": {
        "id": "zRQ4dGCO3rkn",
        "colab_type": "code",
        "colab": {
          "base_uri": "https://localhost:8080/",
          "height": 413
        },
        "outputId": "7920d001-86f4-4a70-d763-7caacc92bff7"
      },
      "source": [
        "# 2차원 ndarray 슬라이싱\n",
        "array1d = np.arange(1, 10)\n",
        "array2d = array1d.reshape(3, 3)\n",
        "print('array2d:\\n', array2d)\n",
        "\n",
        "print('array2d[0:2, 0:2] \\n', array2d[0:2, 0:2])\n",
        "print('array2d[1:3, 0:3] \\n', array2d[1:3, 0:3])\n",
        "print('array2d[1:3, :] \\n', array2d[1:3, :])\n",
        "print('array2d[:, ;] \\n', array2d[:, :])\n",
        "print('array2d[:2, 1:] \\n', array2d[:2, 1:])\n",
        "print('array2d[:2, 0] \\n', array2d[:2, 0])"
      ],
      "execution_count": 27,
      "outputs": [
        {
          "output_type": "stream",
          "text": [
            "array2d:\n",
            " [[1 2 3]\n",
            " [4 5 6]\n",
            " [7 8 9]]\n",
            "array2d[0:2, 0:2] \n",
            " [[1 2]\n",
            " [4 5]]\n",
            "array2d[1:3, 0:3] \n",
            " [[4 5 6]\n",
            " [7 8 9]]\n",
            "array2d[1:3, :] \n",
            " [[4 5 6]\n",
            " [7 8 9]]\n",
            "array2d[:, ;] \n",
            " [[1 2 3]\n",
            " [4 5 6]\n",
            " [7 8 9]]\n",
            "array2d[:2, 1:] \n",
            " [[2 3]\n",
            " [5 6]]\n",
            "array2d[:2, 0] \n",
            " [1 4]\n"
          ],
          "name": "stdout"
        }
      ]
    },
    {
      "cell_type": "code",
      "metadata": {
        "id": "GYSeFm0D330y",
        "colab_type": "code",
        "colab": {
          "base_uri": "https://localhost:8080/",
          "height": 71
        },
        "outputId": "3b1d9f4e-1f65-4ca7-e6a7-16afd300c243"
      },
      "source": [
        "print(array2d[0])\n",
        "print(array2d[1])\n",
        "print('array2d[0] shape:', array2d[0].shape, 'array2d[1] shape:', array2d[1].shape)"
      ],
      "execution_count": 28,
      "outputs": [
        {
          "output_type": "stream",
          "text": [
            "[1 2 3]\n",
            "[4 5 6]\n",
            "array2d[0] shape: (3,) array2d[1] shape: (3,)\n"
          ],
          "name": "stdout"
        }
      ]
    },
    {
      "cell_type": "markdown",
      "metadata": {
        "id": "nIwaJYLM48Hc",
        "colab_type": "text"
      },
      "source": [
        "### 팬시 인덱싱\n",
        "\n",
        "* 리스트나 ndarray로 인덱스 집합을 지정하면 해당 위치의 인덱스에 해당하는 ndarray를 반환하는 인덱싱 방식"
      ]
    },
    {
      "cell_type": "code",
      "metadata": {
        "id": "mf-VzPAh4-yJ",
        "colab_type": "code",
        "colab": {
          "base_uri": "https://localhost:8080/",
          "height": 71
        },
        "outputId": "17fbd4a4-0ea5-4097-885c-48813f374b34"
      },
      "source": [
        "array1d = np.arange(1, 10)\n",
        "array2d = array1d.reshape(3, 3)\n",
        "\n",
        "array3 = array2d[[0, 1], 2]\n",
        "print('array2d[[0, 1], 2] => ', array3.tolist())\n",
        "\n",
        "array4 = array2d[[0, 1], 0:2]\n",
        "print('array4 = array2d[[0, 1], 0:2] => ', array4.tolist())\n",
        "\n",
        "array5 = array2d[[0, 1]]\n",
        "print('array2d[[0, 1]] => ', array5.tolist())"
      ],
      "execution_count": 30,
      "outputs": [
        {
          "output_type": "stream",
          "text": [
            "array2d[[0, 1], 2] =>  [3, 6]\n",
            "array4 = array2d[[0, 1], 0:2] =>  [[1, 2], [4, 5]]\n",
            "array2d[[0, 1]] =>  [[1, 2, 3], [4, 5, 6]]\n"
          ],
          "name": "stdout"
        }
      ]
    },
    {
      "cell_type": "markdown",
      "metadata": {
        "id": "krpIoPDI5Ypb",
        "colab_type": "text"
      },
      "source": [
        "### 불린 인덱싱\n",
        "\n",
        "* 조건 필터링과 검색을 동시에 할 수 있다.\n",
        "* 내부적으로는 여러 단계를 거치지만 코드 자체는 해당 조건을 만족하는 ndarray 반환"
      ]
    },
    {
      "cell_type": "code",
      "metadata": {
        "id": "8wCJFKSw50hy",
        "colab_type": "code",
        "colab": {
          "base_uri": "https://localhost:8080/",
          "height": 35
        },
        "outputId": "d057805c-7398-47b9-e9c4-cdc02d9911b0"
      },
      "source": [
        "array1d = np.arange(1, 10)\n",
        "# [ ] 안에 array1d > 5 Boolean indexing을 적용\n",
        "array3 = array1d[array1d > 5]\n",
        "print('array1d > 5 불린 인덱싱 결과 값: ', array3)"
      ],
      "execution_count": 31,
      "outputs": [
        {
          "output_type": "stream",
          "text": [
            "array1d > 5 불린 인덱싱 결과 값:  [6 7 8 9]\n"
          ],
          "name": "stdout"
        }
      ]
    },
    {
      "cell_type": "code",
      "metadata": {
        "id": "sRPSZSWS6GMW",
        "colab_type": "code",
        "colab": {
          "base_uri": "https://localhost:8080/",
          "height": 35
        },
        "outputId": "77f610f8-6569-463a-b183-7f655b3e2885"
      },
      "source": [
        "array1d > 5"
      ],
      "execution_count": 32,
      "outputs": [
        {
          "output_type": "execute_result",
          "data": {
            "text/plain": [
              "array([False, False, False, False, False,  True,  True,  True,  True])"
            ]
          },
          "metadata": {
            "tags": []
          },
          "execution_count": 32
        }
      ]
    },
    {
      "cell_type": "code",
      "metadata": {
        "id": "5v1PYho76I7H",
        "colab_type": "code",
        "colab": {
          "base_uri": "https://localhost:8080/",
          "height": 35
        },
        "outputId": "4392d45c-ab86-4c2b-822c-a28c64f97ff1"
      },
      "source": [
        "boolean_indexes = np.array([False, False, False, False, False, True, True, True, True])\n",
        "array3 = array1d[boolean_indexes]\n",
        "print('불린 인덱스로 필터링 결과: ', array3)"
      ],
      "execution_count": 33,
      "outputs": [
        {
          "output_type": "stream",
          "text": [
            "불린 인덱스로 필터링 결과:  [6 7 8 9]\n"
          ],
          "name": "stdout"
        }
      ]
    },
    {
      "cell_type": "code",
      "metadata": {
        "id": "m9m3fOcu6cfH",
        "colab_type": "code",
        "colab": {
          "base_uri": "https://localhost:8080/",
          "height": 35
        },
        "outputId": "9aa7ba12-daf6-4552-add8-b7040e968fd3"
      },
      "source": [
        "indexes = np.array([5, 6, 7, 8])\n",
        "array4 = array1d[indexes]\n",
        "print('일반 인덱스로 필터링 결과: ', array4)"
      ],
      "execution_count": 34,
      "outputs": [
        {
          "output_type": "stream",
          "text": [
            "일반 인덱스로 필터링 결과:  [6 7 8 9]\n"
          ],
          "name": "stdout"
        }
      ]
    },
    {
      "cell_type": "markdown",
      "metadata": {
        "id": "ZWDisezY6mTl",
        "colab_type": "text"
      },
      "source": [
        "## 행렬의 정렬 - sort() 와 argsort()"
      ]
    },
    {
      "cell_type": "markdown",
      "metadata": {
        "id": "muf3dV4167TQ",
        "colab_type": "text"
      },
      "source": [
        "### 행렬 정렬\n",
        "\n",
        "* np.sort(): 원 행렬은 유지한 채 원 행렬의 정렬된 행렬을 반환\n",
        "* nd.array.sort(): 원 행렬 자체를 정렬한 형태로 변환, 반환 값은 None\n",
        "\n",
        "* 2차원 이상의 행렬의 경우 axis 설정을 통해 정렬 방향을 정할 수 있다."
      ]
    },
    {
      "cell_type": "code",
      "metadata": {
        "id": "u7D9UR-_69bx",
        "colab_type": "code",
        "colab": {
          "base_uri": "https://localhost:8080/",
          "height": 107
        },
        "outputId": "6413b791-8730-46a3-f25d-b56b50ce0fe8"
      },
      "source": [
        "org_array = np.array([3, 1, 9, 5])\n",
        "print(\"원본 행렬:\", org_array)\n",
        "\n",
        "# np.sort()로 정렬\n",
        "sort_array1 = np.sort(org_array)\n",
        "print('np.sort() 호출 후 반환된 정렬 행렬: ', sort_array1)\n",
        "print('np.sort() 호출 후 원본 행렬: ', org_array)\n",
        "\n",
        "# ndarray.sort()로 정렬\n",
        "sort_array2 = org_array.sort()\n",
        "print('org_array.sort() 호출 후 반환된 행렬: ', sort_array2)\n",
        "print('org_array.sort() 호출 후 원본 행렬: ', org_array)"
      ],
      "execution_count": 35,
      "outputs": [
        {
          "output_type": "stream",
          "text": [
            "원본 행렬: [3 1 9 5]\n",
            "np.sort() 호출 후 반환된 정렬 행렬:  [1 3 5 9]\n",
            "np.sort() 호출 후 원본 행렬:  [3 1 9 5]\n",
            "org_array.sort() 호출 후 반환된 행렬:  None\n",
            "org_array.sort() 호출 후 원본 행렬:  [1 3 5 9]\n"
          ],
          "name": "stdout"
        }
      ]
    },
    {
      "cell_type": "code",
      "metadata": {
        "id": "tc756Hpm7mzW",
        "colab_type": "code",
        "colab": {
          "base_uri": "https://localhost:8080/",
          "height": 35
        },
        "outputId": "6cd45b5b-c8be-4952-d7ed-92801876fba7"
      },
      "source": [
        "# 내림차순 정렬\n",
        "sort_array1_desc = np.sort(org_array)[::-1]\n",
        "print('내림차순으로 정렬: ', sort_array1_desc)"
      ],
      "execution_count": 36,
      "outputs": [
        {
          "output_type": "stream",
          "text": [
            "내림차순으로 정렬:  [9 5 3 1]\n"
          ],
          "name": "stdout"
        }
      ]
    },
    {
      "cell_type": "code",
      "metadata": {
        "id": "sNQB_7KH72a8",
        "colab_type": "code",
        "colab": {
          "base_uri": "https://localhost:8080/",
          "height": 125
        },
        "outputId": "c100fb94-1737-45f4-fffe-6202b528a613"
      },
      "source": [
        "array2d = np.array([[8, 12],\n",
        "                    [7, 1]])\n",
        "\n",
        "sort_array2d_axis0 = np.sort(array2d, axis=0)\n",
        "print('로우 방향으로 정렬:\\n', sort_array2d_axis0)\n",
        "\n",
        "sort_array2d_axis1 = np.sort(array2d, axis=1)\n",
        "print('컬럼 방향으로 정렬:\\n', sort_array2d_axis1)"
      ],
      "execution_count": 38,
      "outputs": [
        {
          "output_type": "stream",
          "text": [
            "로우 방향으로 정렬:\n",
            " [[ 7  1]\n",
            " [ 8 12]]\n",
            "컬럼 방향으로 정렬:\n",
            " [[ 8 12]\n",
            " [ 1  7]]\n"
          ],
          "name": "stdout"
        }
      ]
    },
    {
      "cell_type": "markdown",
      "metadata": {
        "id": "B2eSLFqi8FPG",
        "colab_type": "text"
      },
      "source": [
        "### 정렬된 행렬의 인덱스를 반환하기\n",
        "\n",
        "* np.argsort()\n",
        "* 넘파이의 데이터 추출에서 많이 사용됨"
      ]
    },
    {
      "cell_type": "code",
      "metadata": {
        "id": "AwregmxH8R4-",
        "colab_type": "code",
        "colab": {
          "base_uri": "https://localhost:8080/",
          "height": 53
        },
        "outputId": "95517810-d950-4814-8bbe-26dd3bd0589c"
      },
      "source": [
        "org_array = np.array([3, 1, 9, 5])\n",
        "sort_indices = np.argsort(org_array)\n",
        "print(type(sort_indices))\n",
        "print('행렬 정렬 시 원본 행렬의 인덱스: ', sort_indices)"
      ],
      "execution_count": 39,
      "outputs": [
        {
          "output_type": "stream",
          "text": [
            "<class 'numpy.ndarray'>\n",
            "행렬 정렬 시 원본 행렬의 인덱스:  [1 0 3 2]\n"
          ],
          "name": "stdout"
        }
      ]
    },
    {
      "cell_type": "code",
      "metadata": {
        "id": "OV_W4NJECsay",
        "colab_type": "code",
        "colab": {
          "base_uri": "https://localhost:8080/",
          "height": 35
        },
        "outputId": "ca88cdfd-5a1a-461d-b2d7-de2e578719d6"
      },
      "source": [
        "# 내림차순\n",
        "org_array = np.array([3, 1, 9, 5])\n",
        "sort_indices_desc = np.argsort(org_array)[::-1]\n",
        "print('행렬 내림차순 정렬 시 원본 행렬의 인덱스: ', sort_indices_desc)"
      ],
      "execution_count": 40,
      "outputs": [
        {
          "output_type": "stream",
          "text": [
            "행렬 내림차순 정렬 시 원본 행렬의 인덱스:  [2 3 0 1]\n"
          ],
          "name": "stdout"
        }
      ]
    },
    {
      "cell_type": "code",
      "metadata": {
        "id": "e55ogxM1DCAV",
        "colab_type": "code",
        "colab": {
          "base_uri": "https://localhost:8080/",
          "height": 53
        },
        "outputId": "0497fb5e-dfd1-47bb-b277-5ed14c32b330"
      },
      "source": [
        "name_array = np.array(['John', 'Mike', 'Sarah', 'Kate', 'Samuel'])\n",
        "score_array = np.array([78, 95, 84, 98, 88])\n",
        "\n",
        "sort_indices_asc = np.argsort(score_array)\n",
        "print('성적 오름차순 정렬 시 score_array의 인덱스: ', sort_indices_asc)\n",
        "print('성적 오름차순으로 name_array의 이름 출력: ', name_array[sort_indices_asc])"
      ],
      "execution_count": 41,
      "outputs": [
        {
          "output_type": "stream",
          "text": [
            "성적 오름차순 정렬 시 score_array의 인덱스:  [0 2 4 1 3]\n",
            "성적 오름차순으로 name_array의 이름 출력:  ['John' 'Sarah' 'Samuel' 'Mike' 'Kate']\n"
          ],
          "name": "stdout"
        }
      ]
    },
    {
      "cell_type": "markdown",
      "metadata": {
        "id": "SSVvzAbqDmjW",
        "colab_type": "text"
      },
      "source": [
        "## 선형대수 연산 - 행렬 내적과 전치 행렬 구하기"
      ]
    },
    {
      "cell_type": "markdown",
      "metadata": {
        "id": "u3GmqJD3DrDT",
        "colab_type": "text"
      },
      "source": [
        "### 행렬 내적 (행렬 곱)"
      ]
    },
    {
      "cell_type": "code",
      "metadata": {
        "id": "OdTI5zZ3DsvN",
        "colab_type": "code",
        "colab": {
          "base_uri": "https://localhost:8080/",
          "height": 71
        },
        "outputId": "23cddbe7-3167-4b4d-9b8c-4cf37bbfd42b"
      },
      "source": [
        "A = np.array([[1, 2, 3],\n",
        "              [4, 5, 6]])\n",
        "B = np.array([[7, 8],\n",
        "              [9, 10],\n",
        "              [11, 12]])\n",
        "\n",
        "dot_product = np.dot(A, B)\n",
        "print('행렬 내적 결과:\\n', dot_product)"
      ],
      "execution_count": 43,
      "outputs": [
        {
          "output_type": "stream",
          "text": [
            "행렬 내적 결과:\n",
            " [[ 58  64]\n",
            " [139 154]]\n"
          ],
          "name": "stdout"
        }
      ]
    },
    {
      "cell_type": "markdown",
      "metadata": {
        "id": "_4Y5RqCUD49E",
        "colab_type": "text"
      },
      "source": [
        "### 전치 행렬"
      ]
    },
    {
      "cell_type": "code",
      "metadata": {
        "id": "Mz_gHx4jEAo1",
        "colab_type": "code",
        "colab": {
          "base_uri": "https://localhost:8080/",
          "height": 71
        },
        "outputId": "707c16a0-bcb2-49e4-d599-3a3802b6c644"
      },
      "source": [
        "A = np.array([[1, 2],\n",
        "              [3, 4]])\n",
        "transpose_mat = np.transpose(A)\n",
        "print(\"A의 전치 행렬:\\n\", transpose_mat)"
      ],
      "execution_count": 44,
      "outputs": [
        {
          "output_type": "stream",
          "text": [
            "A의 전치 행렬:\n",
            " [[1 3]\n",
            " [2 4]]\n"
          ],
          "name": "stdout"
        }
      ]
    },
    {
      "cell_type": "code",
      "metadata": {
        "id": "XK1gVVCnEKY-",
        "colab_type": "code",
        "colab": {}
      },
      "source": [
        ""
      ],
      "execution_count": null,
      "outputs": []
    }
  ]
}