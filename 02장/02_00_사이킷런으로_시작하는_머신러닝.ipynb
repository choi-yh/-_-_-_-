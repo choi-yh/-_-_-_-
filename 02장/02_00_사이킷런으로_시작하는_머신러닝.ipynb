{
  "nbformat": 4,
  "nbformat_minor": 0,
  "metadata": {
    "colab": {
      "name": "Chapter 2. 사이킷런으로 시작하는 머신러닝.ipynb",
      "provenance": [],
      "collapsed_sections": [],
      "toc_visible": true,
      "authorship_tag": "ABX9TyP1TvyYNfaoAhe1/re9iTJL",
      "include_colab_link": true
    },
    "kernelspec": {
      "name": "python3",
      "display_name": "Python 3"
    }
  },
  "cells": [
    {
      "cell_type": "markdown",
      "metadata": {
        "id": "view-in-github",
        "colab_type": "text"
      },
      "source": [
        "<a href=\"https://colab.research.google.com/github/choi-yh/Pyhon_ML_Guide/blob/master/02%EC%9E%A5/Chapter_2_%EC%82%AC%EC%9D%B4%ED%82%B7%EB%9F%B0%EC%9C%BC%EB%A1%9C_%EC%8B%9C%EC%9E%91%ED%95%98%EB%8A%94_%EB%A8%B8%EC%8B%A0%EB%9F%AC%EB%8B%9D.ipynb\" target=\"_parent\"><img src=\"https://colab.research.google.com/assets/colab-badge.svg\" alt=\"Open In Colab\"/></a>"
      ]
    },
    {
      "cell_type": "markdown",
      "metadata": {
        "id": "uR7GinaTmvjl",
        "colab_type": "text"
      },
      "source": [
        "## 01. 사이킷런 소개와 특징\n",
        "\n",
        "* 가장 파이썬스러운 API 제공\n",
        "* 오랜 기간 실전 환경에서 검증되고 매우 많은 환경에서 사용되는 라이브러리"
      ]
    },
    {
      "cell_type": "code",
      "metadata": {
        "id": "xIYIPk-gnqkw",
        "colab_type": "code",
        "colab": {
          "base_uri": "https://localhost:8080/",
          "height": 35
        },
        "outputId": "be56d7e4-59b2-4efb-b2f7-79ce6e4e0328"
      },
      "source": [
        "import sklearn\n",
        "\n",
        "print(sklearn.__version__)"
      ],
      "execution_count": 1,
      "outputs": [
        {
          "output_type": "stream",
          "text": [
            "0.22.2.post1\n"
          ],
          "name": "stdout"
        }
      ]
    },
    {
      "cell_type": "markdown",
      "metadata": {
        "id": "ltgM-IYAntG3",
        "colab_type": "text"
      },
      "source": [
        "## 02. 첫 번째 머신러닝 만들어 보기 - 붓꽃 품종 예측하기\n",
        "\n",
        "* **붓꽃 데이터 세트**: 꽃잎의 길이와 너비, 꽃받침의 길이와 너비 feature를 기반으로 꽃의 품종 예측\n",
        "* Classification / Supervised Learning\n",
        "\n",
        "---\n",
        "\n",
        "* 0: Setosa\n",
        "* 1: Versicolor\n",
        "* 2: Virginica\n",
        "\n",
        "---\n",
        "\n",
        "* 분류 프로세스 정리\n",
        "    1. **데이터 세트 분리**: 데이터를 학습 데이터와 테스트 데이터로 분리\n",
        "    2. **모델 학습**: 학습 데이터를 기반으로 ML 알고리즘을 적요해 모델을 학습\n",
        "    3. **예측 수행**: 학습된 ML 모델을 이용해 테스트 데이터의 분류(즉, 붓꽃 종류)를 예측\n",
        "    4. **평가**: 이렇게 예측된 결괏값과 테스트 데이터의 실제 결괏값을 비교해 ML 모델 성능을 평가"
      ]
    },
    {
      "cell_type": "code",
      "metadata": {
        "id": "6S4tWrrvn0X9",
        "colab_type": "code",
        "colab": {
          "base_uri": "https://localhost:8080/",
          "height": 250
        },
        "outputId": "6383bdeb-9c25-401b-a39f-86737bbb37de"
      },
      "source": [
        "from sklearn.datasets import load_iris\n",
        "from sklearn.tree import DecisionTreeClassifier\n",
        "from sklearn.model_selection import train_test_split\n",
        "import pandas as pd\n",
        "\n",
        "# 붓꽃 데이터 세트 로딩\n",
        "iris = load_iris()\n",
        "\n",
        "# iris.data는 Iris 데이터 세트에서 feature만으로 된 데이터를 numpy로 가진다.\n",
        "iris_data = iris.data\n",
        "\n",
        "# iris.target은 붓꽃 데이터 세트에서 레이블 (결정 값) 데이터를 numpy로 가진다.\n",
        "iris_label = iris.target\n",
        "print('iris target 값: ',iris_label)\n",
        "print('iris target 명: ', iris.target_names)\n",
        "\n",
        "# 붓꽃 데이터 세트를 자세히 보기 위해 DataFrame으로 변환\n",
        "iris_df = pd.DataFrame(data=iris_data, columns=iris.feature_names)\n",
        "iris_df['label'] = iris.target\n",
        "iris_df.head(3)"
      ],
      "execution_count": 2,
      "outputs": [
        {
          "output_type": "stream",
          "text": [
            "iris target 값:  [0 0 0 0 0 0 0 0 0 0 0 0 0 0 0 0 0 0 0 0 0 0 0 0 0 0 0 0 0 0 0 0 0 0 0 0 0\n",
            " 0 0 0 0 0 0 0 0 0 0 0 0 0 1 1 1 1 1 1 1 1 1 1 1 1 1 1 1 1 1 1 1 1 1 1 1 1\n",
            " 1 1 1 1 1 1 1 1 1 1 1 1 1 1 1 1 1 1 1 1 1 1 1 1 1 1 2 2 2 2 2 2 2 2 2 2 2\n",
            " 2 2 2 2 2 2 2 2 2 2 2 2 2 2 2 2 2 2 2 2 2 2 2 2 2 2 2 2 2 2 2 2 2 2 2 2 2\n",
            " 2 2]\n",
            "iris target 명:  ['setosa' 'versicolor' 'virginica']\n"
          ],
          "name": "stdout"
        },
        {
          "output_type": "execute_result",
          "data": {
            "text/html": [
              "<div>\n",
              "<style scoped>\n",
              "    .dataframe tbody tr th:only-of-type {\n",
              "        vertical-align: middle;\n",
              "    }\n",
              "\n",
              "    .dataframe tbody tr th {\n",
              "        vertical-align: top;\n",
              "    }\n",
              "\n",
              "    .dataframe thead th {\n",
              "        text-align: right;\n",
              "    }\n",
              "</style>\n",
              "<table border=\"1\" class=\"dataframe\">\n",
              "  <thead>\n",
              "    <tr style=\"text-align: right;\">\n",
              "      <th></th>\n",
              "      <th>sepal length (cm)</th>\n",
              "      <th>sepal width (cm)</th>\n",
              "      <th>petal length (cm)</th>\n",
              "      <th>petal width (cm)</th>\n",
              "      <th>label</th>\n",
              "    </tr>\n",
              "  </thead>\n",
              "  <tbody>\n",
              "    <tr>\n",
              "      <th>0</th>\n",
              "      <td>5.1</td>\n",
              "      <td>3.5</td>\n",
              "      <td>1.4</td>\n",
              "      <td>0.2</td>\n",
              "      <td>0</td>\n",
              "    </tr>\n",
              "    <tr>\n",
              "      <th>1</th>\n",
              "      <td>4.9</td>\n",
              "      <td>3.0</td>\n",
              "      <td>1.4</td>\n",
              "      <td>0.2</td>\n",
              "      <td>0</td>\n",
              "    </tr>\n",
              "    <tr>\n",
              "      <th>2</th>\n",
              "      <td>4.7</td>\n",
              "      <td>3.2</td>\n",
              "      <td>1.3</td>\n",
              "      <td>0.2</td>\n",
              "      <td>0</td>\n",
              "    </tr>\n",
              "  </tbody>\n",
              "</table>\n",
              "</div>"
            ],
            "text/plain": [
              "   sepal length (cm)  sepal width (cm)  ...  petal width (cm)  label\n",
              "0                5.1               3.5  ...               0.2      0\n",
              "1                4.9               3.0  ...               0.2      0\n",
              "2                4.7               3.2  ...               0.2      0\n",
              "\n",
              "[3 rows x 5 columns]"
            ]
          },
          "metadata": {
            "tags": []
          },
          "execution_count": 2
        }
      ]
    },
    {
      "cell_type": "code",
      "metadata": {
        "id": "4JmL3ZfIpqQH",
        "colab_type": "code",
        "colab": {}
      },
      "source": [
        "# 학습용 데이터, 테스트용 데이터 분리\n",
        "X_train, X_test, y_train, y_test = train_test_split(iris_data, iris_label,\n",
        "                                                    test_size=0.2, random_state=13)"
      ],
      "execution_count": 3,
      "outputs": []
    },
    {
      "cell_type": "code",
      "metadata": {
        "id": "CfsDnnq1pvbZ",
        "colab_type": "code",
        "colab": {
          "base_uri": "https://localhost:8080/",
          "height": 125
        },
        "outputId": "781b123e-efd7-47a7-c876-910a554cec84"
      },
      "source": [
        "# 의사 결정 트리를 이용해 학습 및 예측\n",
        "\n",
        "# DecisionTreeClassifier 객체 생성\n",
        "dt_clf = DecisionTreeClassifier(random_state=13)\n",
        "\n",
        "# 학습 수행\n",
        "dt_clf.fit(X_train, y_train)"
      ],
      "execution_count": 4,
      "outputs": [
        {
          "output_type": "execute_result",
          "data": {
            "text/plain": [
              "DecisionTreeClassifier(ccp_alpha=0.0, class_weight=None, criterion='gini',\n",
              "                       max_depth=None, max_features=None, max_leaf_nodes=None,\n",
              "                       min_impurity_decrease=0.0, min_impurity_split=None,\n",
              "                       min_samples_leaf=1, min_samples_split=2,\n",
              "                       min_weight_fraction_leaf=0.0, presort='deprecated',\n",
              "                       random_state=13, splitter='best')"
            ]
          },
          "metadata": {
            "tags": []
          },
          "execution_count": 4
        }
      ]
    },
    {
      "cell_type": "code",
      "metadata": {
        "id": "p_KErnkKquyK",
        "colab_type": "code",
        "colab": {}
      },
      "source": [
        "# 학습이 완료된 DecisionTreeClassifier 객체에서 테스트 데이터 세트로 예측 수행.\n",
        "pred = dt_clf.predict(X_test)"
      ],
      "execution_count": 5,
      "outputs": []
    },
    {
      "cell_type": "code",
      "metadata": {
        "id": "l97_8MEXq4s0",
        "colab_type": "code",
        "colab": {
          "base_uri": "https://localhost:8080/",
          "height": 35
        },
        "outputId": "ef752b69-c107-4e0a-8784-803d2efe1686"
      },
      "source": [
        "# 정확도를 평가 지표로 사용\n",
        "from sklearn.metrics import accuracy_score\n",
        "print(\"예측 정확도: {:.4f}\".format(accuracy_score(y_test, pred)))"
      ],
      "execution_count": 6,
      "outputs": [
        {
          "output_type": "stream",
          "text": [
            "예측 정확도: 0.9333\n"
          ],
          "name": "stdout"
        }
      ]
    },
    {
      "cell_type": "markdown",
      "metadata": {
        "id": "JYgukLM5rFnG",
        "colab_type": "text"
      },
      "source": [
        "## 03. 사이킷런의 기반 프레임워크 익히기"
      ]
    },
    {
      "cell_type": "markdown",
      "metadata": {
        "id": "TAKARWtyrgEM",
        "colab_type": "text"
      },
      "source": [
        "### Estimator 이해 및 fit(), predict() 메서드\n",
        "\n",
        "* fit() 메서드: ML 모델 학습\n",
        "* predict() 메서드: 학습된 모델 예측\n",
        "\n",
        "---\n",
        "\n",
        "* Estimator 클래스\n",
        "    * Classifier: 분류 알고리즘\n",
        "    * Regressor: 회귀 알고리즘\n",
        "    * *cross_val_score()* 같은 evaluation 함수, *GridSearchCV*와 같은 하이퍼 파라미터 튜닝을 지원하는 클래스의 경우 Estimator를 인자로 받는다.  \n",
        "    => 인자로 받은 Estimator에 대해서 cross_val_score(), GridSearchCV.fit() 함수 내에서 Estimator의 fit()과 predict()를 호출해서 평가하거나 하이퍼 파라미터 튜닝 수행\n",
        "\n",
        "---\n",
        "\n",
        "* 비지도 학습\n",
        "    * 차원 축소, 클러스터링, 피처 추출(Feature Extraction) 에서도 fit()과 transform() 적용\n",
        "    * 여기서의 **fit()**은 학습이 아니라 **입력 데이터의 형태에 맞춰 데이터를 변환하기 위한 사전 구조를 맞추는 작업**\n",
        "    * fit()을 통해 사전 구조를 맞추고 transform()으로 실제 작업을 수행한다.\n",
        "    * fit_transform() 도 제공하지만 사용할 때 주의가 필요하다."
      ]
    },
    {
      "cell_type": "markdown",
      "metadata": {
        "id": "Y05CeULgrqU5",
        "colab_type": "text"
      },
      "source": [
        "### 사이킷런의 주요 모듈\n",
        "\n",
        "|**분류**|**모듈 명**|**설명**|\n",
        "|--------|-----------|--------|\n",
        "| 예제 데이터 | sklearn.datasets | 사이킷런에 내장되어 예제로 제공하는 데이터 세트|\n",
        "| 피처 처리 | sklearn.preprocessing | 데이터 전처리에 필요한 다양한 가공 기능 제공 |\n",
        "|| sklearn.feature_selection | 알고리즘에 큰 영향을 미치는 피처를 우선순위대로 셀렉션 작업을 수행하는 다양한 기능 제공 |\n",
        "|| sklearn.feature_extraction | 텍스트 데이터나 이미지 데이터의 벡터화된 피처를 추출하는데 사용됨.|\n",
        "||||\n",
        "| 피처 처리 & 차원 축소 | sklearn.decomposition | 차원 축소와 관련한 알고리즘을 지원하는 모듈. PCA, NMF, Truncated SVD 등을 통해 차원 축소 기능 수행 |\n",
        "| 데이터 분리. 검증 & 파라미터 튜닝 | sklearn.model_selection | 교차 검증을 위한 학습용/테스트용 분리. Grid Search로 최적 파라미터 추출 등의 API 제공 |\n",
        "| 평가 | sklearn.metrics | 분류, 회귀, 클러스터링, Pairwise에 대한 다양한 성능 측정 방법 제공 |\n",
        "||||\n",
        "| ML 알고리즘 | sklearn.ensemble | 앙상블 알고리즘 제공 (RF, AdaBoost, GBT,...) |\n",
        "|| sklearn.linear_model | 선형회귀, Ridge, Lasso 및 로지스틱 회귀 등, SGD 관련 알고리즘도 제공 |\n",
        "|| sklearn.naive_bayes | 나이브 베이즈 알고리즘 제공. 가우시안 NB, 다항 분포 NB 등 |\n",
        "|| sklearn.neighbors | 최근접 이웃 알고리즘 제공. K-NN 등 |\n",
        "|| sklearn.svm | 서포트 벡터 머신 알고리즘 제공 |\n",
        "|| sklearn.tree | 의사 결정 트리 알고리즘 제공 |\n",
        "|| sklearn.cluster | 비지도 클러스터링 알고리즘 제공 (K-means, 계층형, DBSCAN 등) |\n",
        "||||\n",
        "| 유틸리티 | sklearn.pipeline | 피처 처리 등의 변환과 ML 알고리즘 학습, 예측 등을 함께 묶어서 실행할 수 있는 유틸리티 제공"
      ]
    },
    {
      "cell_type": "markdown",
      "metadata": {
        "id": "ri9G-kdvx6OT",
        "colab_type": "text"
      },
      "source": [
        "### 내장된 예제 데이터 세트\n",
        "\n",
        "* 분류나 회귀 연습용 예제 데이터\n",
        "\n",
        "| **API 명** | **설명** |\n",
        "|------------|----------|\n",
        "| dataset.load_boston() | *회귀*, 미국 보스턴의 집 피처들과 가격에 대한 데이터 세트 |\n",
        "| dataset.load_breas_cancer() | *분류*, 위스콘신 유방암 피처들과 악성/음성 레이블 데이터 세트 |\n",
        "| datasets.load_diabets() | *회귀*, 당뇨 데이터 세트 |\n",
        "| datasets.load_digits() | *분류*, 0에서 9까지 숫자의 이미지 픽셀 데이터 세트 |\n",
        "| dataset.load_iris() | *분류*, 붓꽃에 대한 피처를 가진 데이터 세트 |\n",
        "\n",
        "\n",
        "* 분류나 회귀를 위한 연습용 예제 데이터 구성\n",
        "    * data: feature의 데이터 세트\n",
        "    * target: 분류 시 레이블 값, 회귀일 때는 숫자 결과값 데이터 세트\n",
        "    * target_name: 개별 레이블 이름\n",
        "    * feature_names: feature의 이름\n",
        "    * DESCR: 데이터 세트에 대한 설명과 각 feature의 설명\n",
        "\n",
        "---\n",
        "\n",
        "* fetch 계열 명령\n",
        "\n",
        "    * 데이터의 크기가 커서 인터넷에서 내려받아 scikit_learn_data 서브 디렉터리에 저장한 뒤 불러들이는 데이터\n",
        "    * fetch_covtype(): 회귀 분석용 토지 조사 자료\n",
        "    * fetch_20newsgroups(): 뉴스 그룹 텍스트 자료\n",
        "    * fetch_olivetti_faces(): 얼굴 이미지 자료\n",
        "    * fetch_lfw_people(): 얼굴 이미지 자료\n",
        "    * fetch_lfw_pairs(): 얼굴 이미지 자료\n",
        "    * fetch_rcv1(): 로이터 뉴스 말뭉치\n",
        "    * fetch_mldata(): ML 웹사이트에서 다운로드\n",
        "\n",
        "---\n",
        "\n",
        "* 분류와 클러스터링을 위한 표본 데이터 생성기\n",
        "\n",
        "| **API 명** | **설명** |\n",
        "|------------|----------|\n",
        "| datasets.make_classifications() | 분류를 위한 데이터 세트를 만듭니다.  |\n",
        "|                                 |특히 높은 상관도, 불필요한 속성 등의 노이즈 효과를 위한 데이터를 무작위로 생성해 줍니다. |\n",
        "| datasets.make_blobs() | 클러스터링을 위한 데이터 세트를 무작위로 생성해 줍니다. |\n",
        "|                       | 군집 지정 개수에 따라 여러 가지 클러스터링을 위한 데이터 세트를 쉽게 만들어 줍니다. |\n",
        "\n",
        "\n",
        "\n"
      ]
    },
    {
      "cell_type": "code",
      "metadata": {
        "id": "bLlNNQdE2Rvp",
        "colab_type": "code",
        "colab": {
          "base_uri": "https://localhost:8080/",
          "height": 35
        },
        "outputId": "798296f2-e49a-4ee3-cb61-776752e1e0dc"
      },
      "source": [
        "from sklearn.datasets import load_iris\n",
        "\n",
        "iris_data = load_iris()\n",
        "print(type(iris_data))"
      ],
      "execution_count": 7,
      "outputs": [
        {
          "output_type": "stream",
          "text": [
            "<class 'sklearn.utils.Bunch'>\n"
          ],
          "name": "stdout"
        }
      ]
    },
    {
      "cell_type": "code",
      "metadata": {
        "id": "9k9Eivpv3Bcb",
        "colab_type": "code",
        "colab": {
          "base_uri": "https://localhost:8080/",
          "height": 35
        },
        "outputId": "b66e9edd-cc81-4895-9e54-cb31d35a77f4"
      },
      "source": [
        "keys = iris_data.keys()\n",
        "print('붓꽃 데이터 세트의 키들: ', keys)"
      ],
      "execution_count": 8,
      "outputs": [
        {
          "output_type": "stream",
          "text": [
            "붓꽃 데이터 세트의 키들:  dict_keys(['data', 'target', 'target_names', 'DESCR', 'feature_names', 'filename'])\n"
          ],
          "name": "stdout"
        }
      ]
    },
    {
      "cell_type": "code",
      "metadata": {
        "id": "aIagBuQP3Wds",
        "colab_type": "code",
        "colab": {
          "base_uri": "https://localhost:8080/",
          "height": 1000
        },
        "outputId": "0ba7ecf4-1ab9-4564-b469-98ae013e5d9f"
      },
      "source": [
        "print(' feature_names 의 type: ', type(iris_data.feature_names))\n",
        "print(' feature_names의 shape: ', len(iris_data.feature_names))\n",
        "print(iris_data.feature_names)\n",
        "\n",
        "print('\\n target_names 의 type: ', type(iris_data.target_names))\n",
        "print(' target_names 의 shape: ', len(iris_data.target_names))\n",
        "print(iris_data.target_names)\n",
        "\n",
        "print('\\n data 의 type: ', type(iris_data.data))\n",
        "print(' data 의 shape: ', iris_data.data.shape)\n",
        "print(iris_data['data'])\n",
        "\n",
        "print('\\n target 의  type: ', type(iris_data.target))\n",
        "print(' target 의 shape: ', iris_data.target.shape)\n",
        "print(iris_data.target)"
      ],
      "execution_count": 9,
      "outputs": [
        {
          "output_type": "stream",
          "text": [
            " feature_names 의 type:  <class 'list'>\n",
            " feature_names의 shape:  4\n",
            "['sepal length (cm)', 'sepal width (cm)', 'petal length (cm)', 'petal width (cm)']\n",
            "\n",
            " target_names 의 type:  <class 'numpy.ndarray'>\n",
            " target_names 의 shape:  3\n",
            "['setosa' 'versicolor' 'virginica']\n",
            "\n",
            " data 의 type:  <class 'numpy.ndarray'>\n",
            " data 의 shape:  (150, 4)\n",
            "[[5.1 3.5 1.4 0.2]\n",
            " [4.9 3.  1.4 0.2]\n",
            " [4.7 3.2 1.3 0.2]\n",
            " [4.6 3.1 1.5 0.2]\n",
            " [5.  3.6 1.4 0.2]\n",
            " [5.4 3.9 1.7 0.4]\n",
            " [4.6 3.4 1.4 0.3]\n",
            " [5.  3.4 1.5 0.2]\n",
            " [4.4 2.9 1.4 0.2]\n",
            " [4.9 3.1 1.5 0.1]\n",
            " [5.4 3.7 1.5 0.2]\n",
            " [4.8 3.4 1.6 0.2]\n",
            " [4.8 3.  1.4 0.1]\n",
            " [4.3 3.  1.1 0.1]\n",
            " [5.8 4.  1.2 0.2]\n",
            " [5.7 4.4 1.5 0.4]\n",
            " [5.4 3.9 1.3 0.4]\n",
            " [5.1 3.5 1.4 0.3]\n",
            " [5.7 3.8 1.7 0.3]\n",
            " [5.1 3.8 1.5 0.3]\n",
            " [5.4 3.4 1.7 0.2]\n",
            " [5.1 3.7 1.5 0.4]\n",
            " [4.6 3.6 1.  0.2]\n",
            " [5.1 3.3 1.7 0.5]\n",
            " [4.8 3.4 1.9 0.2]\n",
            " [5.  3.  1.6 0.2]\n",
            " [5.  3.4 1.6 0.4]\n",
            " [5.2 3.5 1.5 0.2]\n",
            " [5.2 3.4 1.4 0.2]\n",
            " [4.7 3.2 1.6 0.2]\n",
            " [4.8 3.1 1.6 0.2]\n",
            " [5.4 3.4 1.5 0.4]\n",
            " [5.2 4.1 1.5 0.1]\n",
            " [5.5 4.2 1.4 0.2]\n",
            " [4.9 3.1 1.5 0.2]\n",
            " [5.  3.2 1.2 0.2]\n",
            " [5.5 3.5 1.3 0.2]\n",
            " [4.9 3.6 1.4 0.1]\n",
            " [4.4 3.  1.3 0.2]\n",
            " [5.1 3.4 1.5 0.2]\n",
            " [5.  3.5 1.3 0.3]\n",
            " [4.5 2.3 1.3 0.3]\n",
            " [4.4 3.2 1.3 0.2]\n",
            " [5.  3.5 1.6 0.6]\n",
            " [5.1 3.8 1.9 0.4]\n",
            " [4.8 3.  1.4 0.3]\n",
            " [5.1 3.8 1.6 0.2]\n",
            " [4.6 3.2 1.4 0.2]\n",
            " [5.3 3.7 1.5 0.2]\n",
            " [5.  3.3 1.4 0.2]\n",
            " [7.  3.2 4.7 1.4]\n",
            " [6.4 3.2 4.5 1.5]\n",
            " [6.9 3.1 4.9 1.5]\n",
            " [5.5 2.3 4.  1.3]\n",
            " [6.5 2.8 4.6 1.5]\n",
            " [5.7 2.8 4.5 1.3]\n",
            " [6.3 3.3 4.7 1.6]\n",
            " [4.9 2.4 3.3 1. ]\n",
            " [6.6 2.9 4.6 1.3]\n",
            " [5.2 2.7 3.9 1.4]\n",
            " [5.  2.  3.5 1. ]\n",
            " [5.9 3.  4.2 1.5]\n",
            " [6.  2.2 4.  1. ]\n",
            " [6.1 2.9 4.7 1.4]\n",
            " [5.6 2.9 3.6 1.3]\n",
            " [6.7 3.1 4.4 1.4]\n",
            " [5.6 3.  4.5 1.5]\n",
            " [5.8 2.7 4.1 1. ]\n",
            " [6.2 2.2 4.5 1.5]\n",
            " [5.6 2.5 3.9 1.1]\n",
            " [5.9 3.2 4.8 1.8]\n",
            " [6.1 2.8 4.  1.3]\n",
            " [6.3 2.5 4.9 1.5]\n",
            " [6.1 2.8 4.7 1.2]\n",
            " [6.4 2.9 4.3 1.3]\n",
            " [6.6 3.  4.4 1.4]\n",
            " [6.8 2.8 4.8 1.4]\n",
            " [6.7 3.  5.  1.7]\n",
            " [6.  2.9 4.5 1.5]\n",
            " [5.7 2.6 3.5 1. ]\n",
            " [5.5 2.4 3.8 1.1]\n",
            " [5.5 2.4 3.7 1. ]\n",
            " [5.8 2.7 3.9 1.2]\n",
            " [6.  2.7 5.1 1.6]\n",
            " [5.4 3.  4.5 1.5]\n",
            " [6.  3.4 4.5 1.6]\n",
            " [6.7 3.1 4.7 1.5]\n",
            " [6.3 2.3 4.4 1.3]\n",
            " [5.6 3.  4.1 1.3]\n",
            " [5.5 2.5 4.  1.3]\n",
            " [5.5 2.6 4.4 1.2]\n",
            " [6.1 3.  4.6 1.4]\n",
            " [5.8 2.6 4.  1.2]\n",
            " [5.  2.3 3.3 1. ]\n",
            " [5.6 2.7 4.2 1.3]\n",
            " [5.7 3.  4.2 1.2]\n",
            " [5.7 2.9 4.2 1.3]\n",
            " [6.2 2.9 4.3 1.3]\n",
            " [5.1 2.5 3.  1.1]\n",
            " [5.7 2.8 4.1 1.3]\n",
            " [6.3 3.3 6.  2.5]\n",
            " [5.8 2.7 5.1 1.9]\n",
            " [7.1 3.  5.9 2.1]\n",
            " [6.3 2.9 5.6 1.8]\n",
            " [6.5 3.  5.8 2.2]\n",
            " [7.6 3.  6.6 2.1]\n",
            " [4.9 2.5 4.5 1.7]\n",
            " [7.3 2.9 6.3 1.8]\n",
            " [6.7 2.5 5.8 1.8]\n",
            " [7.2 3.6 6.1 2.5]\n",
            " [6.5 3.2 5.1 2. ]\n",
            " [6.4 2.7 5.3 1.9]\n",
            " [6.8 3.  5.5 2.1]\n",
            " [5.7 2.5 5.  2. ]\n",
            " [5.8 2.8 5.1 2.4]\n",
            " [6.4 3.2 5.3 2.3]\n",
            " [6.5 3.  5.5 1.8]\n",
            " [7.7 3.8 6.7 2.2]\n",
            " [7.7 2.6 6.9 2.3]\n",
            " [6.  2.2 5.  1.5]\n",
            " [6.9 3.2 5.7 2.3]\n",
            " [5.6 2.8 4.9 2. ]\n",
            " [7.7 2.8 6.7 2. ]\n",
            " [6.3 2.7 4.9 1.8]\n",
            " [6.7 3.3 5.7 2.1]\n",
            " [7.2 3.2 6.  1.8]\n",
            " [6.2 2.8 4.8 1.8]\n",
            " [6.1 3.  4.9 1.8]\n",
            " [6.4 2.8 5.6 2.1]\n",
            " [7.2 3.  5.8 1.6]\n",
            " [7.4 2.8 6.1 1.9]\n",
            " [7.9 3.8 6.4 2. ]\n",
            " [6.4 2.8 5.6 2.2]\n",
            " [6.3 2.8 5.1 1.5]\n",
            " [6.1 2.6 5.6 1.4]\n",
            " [7.7 3.  6.1 2.3]\n",
            " [6.3 3.4 5.6 2.4]\n",
            " [6.4 3.1 5.5 1.8]\n",
            " [6.  3.  4.8 1.8]\n",
            " [6.9 3.1 5.4 2.1]\n",
            " [6.7 3.1 5.6 2.4]\n",
            " [6.9 3.1 5.1 2.3]\n",
            " [5.8 2.7 5.1 1.9]\n",
            " [6.8 3.2 5.9 2.3]\n",
            " [6.7 3.3 5.7 2.5]\n",
            " [6.7 3.  5.2 2.3]\n",
            " [6.3 2.5 5.  1.9]\n",
            " [6.5 3.  5.2 2. ]\n",
            " [6.2 3.4 5.4 2.3]\n",
            " [5.9 3.  5.1 1.8]]\n",
            "\n",
            " target 의  type:  <class 'numpy.ndarray'>\n",
            " target 의 shape:  (150,)\n",
            "[0 0 0 0 0 0 0 0 0 0 0 0 0 0 0 0 0 0 0 0 0 0 0 0 0 0 0 0 0 0 0 0 0 0 0 0 0\n",
            " 0 0 0 0 0 0 0 0 0 0 0 0 0 1 1 1 1 1 1 1 1 1 1 1 1 1 1 1 1 1 1 1 1 1 1 1 1\n",
            " 1 1 1 1 1 1 1 1 1 1 1 1 1 1 1 1 1 1 1 1 1 1 1 1 1 1 2 2 2 2 2 2 2 2 2 2 2\n",
            " 2 2 2 2 2 2 2 2 2 2 2 2 2 2 2 2 2 2 2 2 2 2 2 2 2 2 2 2 2 2 2 2 2 2 2 2 2\n",
            " 2 2]\n"
          ],
          "name": "stdout"
        }
      ]
    },
    {
      "cell_type": "markdown",
      "metadata": {
        "id": "bei6feWO36tT",
        "colab_type": "text"
      },
      "source": [
        "## 04. Model Selection 모듈 소개"
      ]
    },
    {
      "cell_type": "markdown",
      "metadata": {
        "id": "NrA8tVVd4tI9",
        "colab_type": "text"
      },
      "source": [
        "### 학습/테스트 데이터 세트 분리 - train_test_split()\n",
        "\n",
        "* 학습을 위한 데이터 양을 일정 수준 이상으로 보장하는 것도 중요하지만, **학습된 모델에 대해 다양한 데이터를 기반으로 예측 성능을 평가해 보는 것도 매우 중요**"
      ]
    },
    {
      "cell_type": "code",
      "metadata": {
        "id": "5-8bSO5-uZyV",
        "colab_type": "code",
        "colab": {
          "base_uri": "https://localhost:8080/",
          "height": 35
        },
        "outputId": "4021e271-aba9-44d8-f602-3bb1205abfef"
      },
      "source": [
        "\"\"\"\n",
        "테스트 데이터 세트를 이용하지 않고 학습 데이터 세트로만 학습하고 예측할 시 문제점\n",
        "학습한 데이터 세트를 예측하니깐 정확도가 100%이다.\n",
        "\"\"\"\n",
        "\n",
        "from sklearn.datasets import load_iris\n",
        "from sklearn.tree import DecisionTreeClassifier\n",
        "from sklearn.metrics import accuracy_score\n",
        "\n",
        "iris = load_iris()\n",
        "dt_clf = DecisionTreeClassifier()\n",
        "train_data = iris.data\n",
        "train_label = iris.target\n",
        "dt_clf.fit(train_data, train_label)\n",
        "\n",
        "# 학습 데이터 세트로 예측 수행\n",
        "pred = dt_clf.predict(train_data)\n",
        "print('예측 정확도: ', accuracy_score(train_label, pred))"
      ],
      "execution_count": 11,
      "outputs": [
        {
          "output_type": "stream",
          "text": [
            "예측 정확도:  1.0\n"
          ],
          "name": "stdout"
        }
      ]
    },
    {
      "cell_type": "code",
      "metadata": {
        "id": "vdsVGQsKuxb6",
        "colab_type": "code",
        "colab": {
          "base_uri": "https://localhost:8080/",
          "height": 35
        },
        "outputId": "5a7b085e-169a-4fba-8a20-2420c88a00dc"
      },
      "source": [
        "\"\"\"\n",
        "train_test_split을 활용해 학습 데이터와 테스트 데이터를 분리\n",
        "예측 정확도가 높게 나왔지만 iris 데이터는 150개의 데이터,\n",
        "따라서 테스트 데이터는 30%인 45개 밖에 되지 않으므로 알고리즘의 예측 성능을 파악하기는 어렵다.\n",
        "\"\"\"\n",
        "\n",
        "from sklearn.tree import DecisionTreeClassifier\n",
        "from sklearn.metrics import accuracy_score\n",
        "from sklearn.datasets import load_iris\n",
        "from sklearn.model_selection import train_test_split\n",
        "\n",
        "dt_clf = DecisionTreeClassifier()\n",
        "iris_data = load_iris()\n",
        "\n",
        "X_train, X_test, y_train, y_test = train_test_split(iris_data.data, iris_data.target, test_size=0.3, random_state=13)\n",
        "\n",
        "dt_clf.fit(X_train, y_train)\n",
        "pred = dt_clf.predict(X_test)\n",
        "print('예측 정확도: {:.4f}'.format(accuracy_score(y_test, pred)))"
      ],
      "execution_count": 13,
      "outputs": [
        {
          "output_type": "stream",
          "text": [
            "예측 정확도: 0.9778\n"
          ],
          "name": "stdout"
        }
      ]
    },
    {
      "cell_type": "markdown",
      "metadata": {
        "id": "9m8_Vs3_v8FR",
        "colab_type": "text"
      },
      "source": [
        "### 교차 검증 (Cross Validation)\n",
        "\n",
        "* Train / Test set을 나눠서 학습하는 방법은 **Overfitting**의 문제점이 생길 수 있다.\n",
        "    * **Overfitting**: 모델이 학습 데이터에만 치중되게 학습하여 실제 예측시에는 성능이 과도하게 떨어지는 현상\n",
        "* 고정된 Train / Test 데이터를 사용할 경우 Test Set에 Overfitting 되도록 학습하게 됨.\n",
        "\n",
        "\n",
        "* **교차 검증**은 데이터의 편증을 막기 위해 별도의 여러 세트로 구성된 학습 데이터 세트와 검증 데이터 세트에서 학습과 평가를 수행하는 것\n",
        "* 대부분의 ML 모델의 성능 평가는 교차 검증 기반으로 1차 평가를 한 뒤에 최종적으로 테스트 세트에 적용해 평가하는 프로세스\n",
        "\n",
        "* 분류(Classification)에서의 교차 검증은 Stratified K Fold로 분할해야한다.\n",
        "* 회귀에서는 Stratified K Fold를 지원하지 않는데, 회귀 문제는 연속된 값이므로 결정값 분포로 나누는 것이 의미가 없기 때문이다."
      ]
    },
    {
      "cell_type": "markdown",
      "metadata": {
        "id": "1KpPHv2Mw8iO",
        "colab_type": "text"
      },
      "source": [
        "#### K 폴드 교차 검증 (K-fold Cross Validation)\n",
        "\n",
        "* **K개의 데이터 폴드 세트를 만들어서 K번만큼 각 폴드 세트에 학습과 검증 평가를 반복적으로 수행하는 방법**\n",
        "* KFold 객체 내의 split()을 호출 시 학습용/검증용 데이터로 분할할 수 있는 인덱스를 반환\n",
        "* 실제로 학습용/검증용 데이터 추출은 반환된 인덱스를 기반으로 개발 코드에서 직접 수행해야한다."
      ]
    },
    {
      "cell_type": "code",
      "metadata": {
        "id": "1JRT6WS2yvBn",
        "colab_type": "code",
        "colab": {
          "base_uri": "https://localhost:8080/",
          "height": 35
        },
        "outputId": "a65a7953-210b-4c18-c5ff-ce3b11ed1466"
      },
      "source": [
        "from sklearn.tree import DecisionTreeClassifier\n",
        "from sklearn.metrics import accuracy_score\n",
        "from sklearn.model_selection import KFold\n",
        "import numpy as np\n",
        "\n",
        "iris = load_iris()\n",
        "features = iris.data\n",
        "label = iris.target\n",
        "dt_clf = DecisionTreeClassifier(random_state=13)\n",
        "\n",
        "# 5개의 폴드 세트로 분리하는 KFold 객체와 폴드 세트별 정확도를 담을 리스트 객체 생성\n",
        "kfold = KFold(n_splits=5)\n",
        "cv_accuracy = []\n",
        "print('붓꽃 데이터 세트 크기: ', features.shape[0])"
      ],
      "execution_count": 15,
      "outputs": [
        {
          "output_type": "stream",
          "text": [
            "붓꽃 데이터 세트 크기:  150\n"
          ],
          "name": "stdout"
        }
      ]
    },
    {
      "cell_type": "code",
      "metadata": {
        "id": "KQCJJXrPzz5O",
        "colab_type": "code",
        "colab": {
          "base_uri": "https://localhost:8080/",
          "height": 413
        },
        "outputId": "91d6a598-0063-4517-d78b-20827e41177c"
      },
      "source": [
        "n_iter = 0\n",
        "\n",
        "# KFold 객체의 split()을 호출하면 폴드 별 학습용, 검증용 테스트의 로우 인덱스를 array로 반환\n",
        "for train_index, test_index in kfold.split(features):\n",
        "    # kfold.split()으로 반환된 인덱스를 이용해 학습용, 검증용 테스트 데이터 추출\n",
        "    X_train, X_test = features[train_index], features[test_index]\n",
        "    y_train, y_test = label[train_index], label[test_index]\n",
        "\n",
        "    # 학습 및 예측\n",
        "    dt_clf.fit(X_train, y_train)\n",
        "    pred = dt_clf.predict(X_test)\n",
        "    n_iter += 1\n",
        "    \n",
        "    # 반복 시마다 정확도 측정\n",
        "    accuracy = np.round(accuracy_score(y_test, pred), 4)\n",
        "    train_size = X_train.shape[0]\n",
        "    test_size = X_test.shape[0]\n",
        "    print('\\n{0} 교차 검증 정확도: {1}, 학습 데이터 크기: {2}, 검증 데이터 크기: {3}'.format(n_iter, accuracy, train_size, test_size))\n",
        "    print('#{0} 검증 세트 인덱스: {1}'.format(n_iter, test_index))\n",
        "    cv_accuracy.append(accuracy)\n",
        "\n",
        "# 개별 iteration별 정확도를 합하여 평균 정확도 계산\n",
        "print('\\n## 평균 검증 정확도: ', np.mean(cv_accuracy))"
      ],
      "execution_count": 17,
      "outputs": [
        {
          "output_type": "stream",
          "text": [
            "\n",
            "1 교차 검증 정확도: 1.0, 학습 데이터 크기: 120, 검증 데이터 크기: 30\n",
            "#1 검증 세트 인덱스: [ 0  1  2  3  4  5  6  7  8  9 10 11 12 13 14 15 16 17 18 19 20 21 22 23\n",
            " 24 25 26 27 28 29]\n",
            "\n",
            "2 교차 검증 정확도: 1.0, 학습 데이터 크기: 120, 검증 데이터 크기: 30\n",
            "#2 검증 세트 인덱스: [30 31 32 33 34 35 36 37 38 39 40 41 42 43 44 45 46 47 48 49 50 51 52 53\n",
            " 54 55 56 57 58 59]\n",
            "\n",
            "3 교차 검증 정확도: 0.8667, 학습 데이터 크기: 120, 검증 데이터 크기: 30\n",
            "#3 검증 세트 인덱스: [60 61 62 63 64 65 66 67 68 69 70 71 72 73 74 75 76 77 78 79 80 81 82 83\n",
            " 84 85 86 87 88 89]\n",
            "\n",
            "4 교차 검증 정확도: 0.9333, 학습 데이터 크기: 120, 검증 데이터 크기: 30\n",
            "#4 검증 세트 인덱스: [ 90  91  92  93  94  95  96  97  98  99 100 101 102 103 104 105 106 107\n",
            " 108 109 110 111 112 113 114 115 116 117 118 119]\n",
            "\n",
            "5 교차 검증 정확도: 0.7333, 학습 데이터 크기: 120, 검증 데이터 크기: 30\n",
            "#5 검증 세트 인덱스: [120 121 122 123 124 125 126 127 128 129 130 131 132 133 134 135 136 137\n",
            " 138 139 140 141 142 143 144 145 146 147 148 149]\n",
            "\n",
            "## 평균 검증 정확도:  0.9066599999999999\n"
          ],
          "name": "stdout"
        }
      ]
    },
    {
      "cell_type": "markdown",
      "metadata": {
        "id": "ojux857l2cdO",
        "colab_type": "text"
      },
      "source": [
        "#### Stratified K Fold\n",
        "\n",
        "* **불균형한(imbalanced) 분포도를 가진 레이블(결정 클래스) 데이터 집합을 위한 K Fold 방식**\n",
        "* 레이블 값이 imbalanced 하다면 Train / Valid 세트를 나눌 시에 특정 세트에 레이블 값이 몰려있는 경우가 발생하게 된다.\n",
        "* 원본 데이터의 분포를 고려하여 Train / Valid 세트를 나눈다. "
      ]
    },
    {
      "cell_type": "markdown",
      "metadata": {
        "id": "aJFsIrt04nh5",
        "colab_type": "text"
      },
      "source": [
        "* K Fold의 문제점 확인\n",
        "\n",
        "    * 학습과 검증 데이터 셋의 값이 매우 편중되게 나왔다. => 실제로는 써먹지 못함"
      ]
    },
    {
      "cell_type": "code",
      "metadata": {
        "id": "XAU2Ikd12tEo",
        "colab_type": "code",
        "colab": {
          "base_uri": "https://localhost:8080/",
          "height": 89
        },
        "outputId": "daac7ac3-8f5b-4315-ea97-5fec097c2e70"
      },
      "source": [
        "import pandas as pd\n",
        "\n",
        "iris = load_iris()\n",
        "iris_df = pd.DataFrame(data=iris.data, columns=iris.feature_names)\n",
        "iris_df['label'] = iris.target\n",
        "iris_df['label'].value_counts()"
      ],
      "execution_count": 19,
      "outputs": [
        {
          "output_type": "execute_result",
          "data": {
            "text/plain": [
              "2    50\n",
              "1    50\n",
              "0    50\n",
              "Name: label, dtype: int64"
            ]
          },
          "metadata": {
            "tags": []
          },
          "execution_count": 19
        }
      ]
    },
    {
      "cell_type": "code",
      "metadata": {
        "id": "RJVokQQn4ZT0",
        "colab_type": "code",
        "colab": {
          "base_uri": "https://localhost:8080/",
          "height": 503
        },
        "outputId": "f441afe7-d2a3-4ad4-a1d7-8bae1b0c96be"
      },
      "source": [
        "kfold = KFold(n_splits=3)\n",
        "n_iter = 0\n",
        "for train_index, test_index in kfold.split(iris_df):\n",
        "    n_iter += 1\n",
        "    label_train = iris_df['label'].iloc[train_index]\n",
        "    label_test = iris_df['label'].iloc[test_index]\n",
        "    print('\\n## 교차 검증: {}'.format(n_iter))\n",
        "    print('학습 레이블 데이터 분포:\\n ', label_train.value_counts())\n",
        "    print('검증 레이블 데이터 분포:\\n ', label_test.value_counts())"
      ],
      "execution_count": 23,
      "outputs": [
        {
          "output_type": "stream",
          "text": [
            "\n",
            "## 교차 검증: 1\n",
            "학습 레이블 데이터 분포:\n",
            "  2    50\n",
            "1    50\n",
            "Name: label, dtype: int64\n",
            "검증 레이블 데이터 분포:\n",
            "  0    50\n",
            "Name: label, dtype: int64\n",
            "\n",
            "## 교차 검증: 2\n",
            "학습 레이블 데이터 분포:\n",
            "  2    50\n",
            "0    50\n",
            "Name: label, dtype: int64\n",
            "검증 레이블 데이터 분포:\n",
            "  1    50\n",
            "Name: label, dtype: int64\n",
            "\n",
            "## 교차 검증: 3\n",
            "학습 레이블 데이터 분포:\n",
            "  1    50\n",
            "0    50\n",
            "Name: label, dtype: int64\n",
            "검증 레이블 데이터 분포:\n",
            "  2    50\n",
            "Name: label, dtype: int64\n"
          ],
          "name": "stdout"
        }
      ]
    },
    {
      "cell_type": "markdown",
      "metadata": {
        "id": "2NkBhA2j4_El",
        "colab_type": "text"
      },
      "source": [
        "* Stratified KFold 사용하여 데이터 분할\n",
        "\n",
        "    * KFold 와의 차이점은 레이블 데이터 분포도에 따라 Train / Valid Set을 나누기 때문에 split() 메서드에 인자로 feature data set과 label data set도 필요하다."
      ]
    },
    {
      "cell_type": "code",
      "metadata": {
        "id": "z_cSTAYT6kqE",
        "colab_type": "code",
        "colab": {
          "base_uri": "https://localhost:8080/",
          "height": 665
        },
        "outputId": "9d136431-b62a-4342-8fbb-59e0efbb4b9c"
      },
      "source": [
        "from sklearn.model_selection import StratifiedKFold\n",
        "\n",
        "skf = StratifiedKFold(n_splits=3)\n",
        "n_iter = 0\n",
        "\n",
        "for train_index, test_index in skf.split(iris_df, iris_df['label']):\n",
        "    n_iter += 1\n",
        "    label_train = iris_df['label'].iloc[train_index]\n",
        "    label_test = iris_df['label'].iloc[test_index]\n",
        "    print(\"\\n## 교차 검증: {}\".format(n_iter))\n",
        "    print('학습 레이블 데이터 분포:\\n', label_train.value_counts())\n",
        "    print('검증 레이블 데이터 분포:\\n', label_test.value_counts())"
      ],
      "execution_count": 25,
      "outputs": [
        {
          "output_type": "stream",
          "text": [
            "\n",
            "## 교차 검증: 1\n",
            "학습 레이블 데이터 분포:\n",
            " 2    34\n",
            "1    33\n",
            "0    33\n",
            "Name: label, dtype: int64\n",
            "검증 레이블 데이터 분포:\n",
            " 1    17\n",
            "0    17\n",
            "2    16\n",
            "Name: label, dtype: int64\n",
            "\n",
            "## 교차 검증: 2\n",
            "학습 레이블 데이터 분포:\n",
            " 1    34\n",
            "2    33\n",
            "0    33\n",
            "Name: label, dtype: int64\n",
            "검증 레이블 데이터 분포:\n",
            " 2    17\n",
            "0    17\n",
            "1    16\n",
            "Name: label, dtype: int64\n",
            "\n",
            "## 교차 검증: 3\n",
            "학습 레이블 데이터 분포:\n",
            " 0    34\n",
            "2    33\n",
            "1    33\n",
            "Name: label, dtype: int64\n",
            "검증 레이블 데이터 분포:\n",
            " 2    17\n",
            "1    17\n",
            "0    16\n",
            "Name: label, dtype: int64\n"
          ],
          "name": "stdout"
        }
      ]
    },
    {
      "cell_type": "code",
      "metadata": {
        "id": "vXhjcK2y7cNU",
        "colab_type": "code",
        "colab": {
          "base_uri": "https://localhost:8080/",
          "height": 449
        },
        "outputId": "314c1f19-6bc4-4d19-f858-b9a4954a99fe"
      },
      "source": [
        "# StratifiedKFold를 활용한 iris data 교차 검증\n",
        "\n",
        "dt_clf = DecisionTreeClassifier(random_state=13)\n",
        "\n",
        "skfold = StratifiedKFold(n_splits=3)\n",
        "n_iter = 0\n",
        "cv_accuracy = []\n",
        "\n",
        "# StratifiedKFold의 split() 호출시 반드시 레이블 데이터 세트도 추가 입력 필요\n",
        "for train_index, test_index in skfold.split(features, label):\n",
        "    # split()으로 반환된 인덱스를 이용해 학습용, 검증용 테스트 데이터 추출\n",
        "    X_train, X_test = features[train_index], features[test_index]\n",
        "    y_train, y_test = label[train_index], label[test_index]\n",
        "\n",
        "    # 학습 및 예측\n",
        "    dt_clf.fit(X_train, y_train)\n",
        "    pred = dt_clf.predict(X_test)\n",
        "\n",
        "    # 반복 시마다 정확도 측정\n",
        "    n_iter += 1\n",
        "    accuracy = np.round(accuracy_score(y_test, pred), 4)\n",
        "    train_size = X_train.shape[0]\n",
        "    test_size = X_test.shape[0]\n",
        "    print('\\n#{0} 교차 검증 정확도: {1}, 학습 데이터 크기: {2}, 검증 데이터 크기: {3}'.format(n_iter, accuracy, train_size, test_size))\n",
        "    print(\"#{0} 검증 세트 인덱스: {1}\".format(n_iter, test_index))\n",
        "    cv_accuracy.append(accuracy)\n",
        "\n",
        "    # 교차 검증별 정확도 및 평균 정확도 계산\n",
        "    print('\\n## 교차 검증별 정확도: ', np.round(cv_accuracy, 4))\n",
        "    print('## 평균 검증 정확도: ', np.mean(cv_accuracy))"
      ],
      "execution_count": 27,
      "outputs": [
        {
          "output_type": "stream",
          "text": [
            "\n",
            "#1 교차 검증 정확도: 0.98, 학습 데이터 크기: 100, 검증 데이터 크기: 50\n",
            "#1 검증 세트 인덱스: [  0   1   2   3   4   5   6   7   8   9  10  11  12  13  14  15  16  50\n",
            "  51  52  53  54  55  56  57  58  59  60  61  62  63  64  65  66 100 101\n",
            " 102 103 104 105 106 107 108 109 110 111 112 113 114 115]\n",
            "\n",
            "## 교차 검증별 정확도:  [0.98]\n",
            "## 평균 검증 정확도:  0.98\n",
            "\n",
            "#2 교차 검증 정확도: 0.92, 학습 데이터 크기: 100, 검증 데이터 크기: 50\n",
            "#2 검증 세트 인덱스: [ 17  18  19  20  21  22  23  24  25  26  27  28  29  30  31  32  33  67\n",
            "  68  69  70  71  72  73  74  75  76  77  78  79  80  81  82 116 117 118\n",
            " 119 120 121 122 123 124 125 126 127 128 129 130 131 132]\n",
            "\n",
            "## 교차 검증별 정확도:  [0.98 0.92]\n",
            "## 평균 검증 정확도:  0.95\n",
            "\n",
            "#3 교차 검증 정확도: 1.0, 학습 데이터 크기: 100, 검증 데이터 크기: 50\n",
            "#3 검증 세트 인덱스: [ 34  35  36  37  38  39  40  41  42  43  44  45  46  47  48  49  83  84\n",
            "  85  86  87  88  89  90  91  92  93  94  95  96  97  98  99 133 134 135\n",
            " 136 137 138 139 140 141 142 143 144 145 146 147 148 149]\n",
            "\n",
            "## 교차 검증별 정확도:  [0.98 0.92 1.  ]\n",
            "## 평균 검증 정확도:  0.9666666666666667\n"
          ],
          "name": "stdout"
        }
      ]
    },
    {
      "cell_type": "markdown",
      "metadata": {
        "id": "5nFUnOxg9gxu",
        "colab_type": "text"
      },
      "source": [
        "#### 교차 검증을 보다 간편하게 - cross_val_score()\n",
        "\n",
        "* KFold 로 데이터를 학습하고 예측하는 프로세스\n",
        "    1. 폴드 세트를 설정\n",
        "    2. for 루프에서 반복으로 학습 및 테스트 데이터의 인덱스를 추출\n",
        "    3. 반복적으로 학습과 예측을 수행하고 예측 성능을 반환\n",
        "\n",
        "* cross_val_score()는 위의 일련의 과정을 한번에 수행해줌\n",
        "    * estimator, X, y, scoring, cv가 주요 파라미터\n",
        "* return 값은 scoring 파라미터로 지정된 성능 지표 측정값을 배열 형태로 반환\n",
        "\n",
        "* **cross_validate**: 여러 개의 평가 지표 반환, 학습 데이터에 대한 성능 지표와 수행 시간도 제공"
      ]
    },
    {
      "cell_type": "code",
      "metadata": {
        "id": "WLhapVgt-mgo",
        "colab_type": "code",
        "colab": {
          "base_uri": "https://localhost:8080/",
          "height": 53
        },
        "outputId": "86df761d-91bb-4bad-f174-0d0c023b706f"
      },
      "source": [
        "from sklearn.tree import DecisionTreeClassifier\n",
        "from sklearn.model_selection import cross_val_score, cross_validate\n",
        "from sklearn.datasets import load_iris\n",
        "\n",
        "iris_data = load_iris()\n",
        "dt_clf = DecisionTreeClassifier(random_state=13)\n",
        "\n",
        "data = iris_data.data\n",
        "label = iris_data.target\n",
        "\n",
        "# 성능 지표는 정확도(accuracy), 교차 검증 세트는 3개\n",
        "scores = cross_val_score(dt_clf, data, label, scoring='accuracy', cv=3)\n",
        "print('교차 검증별 정확도: ', np.round(scores, 4))\n",
        "print('평균 검증 정확도: {:.4f}'.format(np.mean(scores)))"
      ],
      "execution_count": 28,
      "outputs": [
        {
          "output_type": "stream",
          "text": [
            "교차 검증별 정확도:  [0.98 0.92 1.  ]\n",
            "평균 검증 정확도: 0.9667\n"
          ],
          "name": "stdout"
        }
      ]
    },
    {
      "cell_type": "markdown",
      "metadata": {
        "id": "Ylk92yH8EkH7",
        "colab_type": "text"
      },
      "source": [
        "### GridSearchCV - 교차 검증과 최적 하이퍼 파라미터 튜닝을 한 번에\n",
        "\n",
        "* Classifier나 Regressor와 같은 알고리즘에 사용되는 하이퍼 파라미터를 순차적으로 입력하면서 편리하게 최적의 파라미터를 도출할 수 있는 방안 제공\n",
        "* 데이터 세트를 cross-validation을 위한 학습/테스트 세트로 자동으로 분할한 뒤에 하이퍼 파라미터 그리드에 기술된 모든 파라미터를 순차적으로 적용해 최적의 파라미터를 찾을 수 있게 해준다.\n",
        "\n",
        "* **학습 데이터를 GridSearchCV를 이용해 최적 하이퍼 파라미터 튜닝을 수행한 뒤에 별도의 테스트 세트에서 이를 평가하는 것이 일반적인 머신러닝 모델 적용 방법**"
      ]
    },
    {
      "cell_type": "code",
      "metadata": {
        "id": "dxhOx5RGFNrT",
        "colab_type": "code",
        "colab": {
          "base_uri": "https://localhost:8080/",
          "height": 235
        },
        "outputId": "dec04fca-0800-4034-b837-c40f9b11b6e1"
      },
      "source": [
        "\"\"\"\n",
        "iris data 예측에 GridSearchCV 이용\n",
        "train_test_split() 으로 학습 데이터와 테스트 데이터를 분리\n",
        "학습 데이터에서 GridSearchCV를 이용해 최적 하이퍼 파라미터 추출\n",
        "DecisionTreeClassifier의 중요 하이퍼 파라미터인 max_depth, min_samples_split에 대하여 최적화\n",
        "\n",
        "estimator 객체 생성\n",
        "estimator의 튜닝할 파라미터 설정\n",
        "GridSearchCV 객체 생성\n",
        "fit(X, y)\n",
        ".cv_result_를 통해 결과 확인\n",
        "\"\"\"\n",
        "\n",
        "import pandas as pd\n",
        "from sklearn.datasets import load_iris\n",
        "from sklearn.tree import DecisionTreeClassifier\n",
        "from sklearn.model_selection import GridSearchCV\n",
        "\n",
        "# 데이터를 로딩하고 학습 데이터와 테스트 데이터 분리\n",
        "iris_data = load_iris()\n",
        "X_train, X_test, y_train, y_test = train_test_split(iris_data.data, iris_data.target,\n",
        "                                                    test_size=0.2, random_state=13)\n",
        "dtree = DecisionTreeClassifier()\n",
        "\n",
        "### 파라미터를 딕셔너리 형태로 설정\n",
        "parameters = {'max_depth': [1, 2, 3],\n",
        "              'min_samples_split': [2, 3]}\n",
        "\n",
        "# param_grid의 하이퍼 파라미터를 3개의 train, test set fold로 나누어 테스트 수행 설정.\n",
        "### refit=True 가 default. True이면 가장 좋은 파라미터 설정으로 재학습시킴\n",
        "grid_dtree = GridSearchCV(dtree, param_grid=parameters, cv=3, refit=True)\n",
        "\n",
        "# iris 학습 데이터로 param_grid의 하이퍼 파라미터를 순차적으로 학습/평가\n",
        "grid_dtree.fit(X_train, y_train)\n",
        "\n",
        "# GridSearchCV 결과를 추출해 DataFrame으로 변환\n",
        "scores_df = pd.DataFrame(grid_dtree.cv_results_)\n",
        "scores_df[['params', 'mean_test_score', 'rank_test_score',\n",
        "           'split0_test_score', 'split1_test_score', 'split2_test_score']]"
      ],
      "execution_count": 30,
      "outputs": [
        {
          "output_type": "execute_result",
          "data": {
            "text/html": [
              "<div>\n",
              "<style scoped>\n",
              "    .dataframe tbody tr th:only-of-type {\n",
              "        vertical-align: middle;\n",
              "    }\n",
              "\n",
              "    .dataframe tbody tr th {\n",
              "        vertical-align: top;\n",
              "    }\n",
              "\n",
              "    .dataframe thead th {\n",
              "        text-align: right;\n",
              "    }\n",
              "</style>\n",
              "<table border=\"1\" class=\"dataframe\">\n",
              "  <thead>\n",
              "    <tr style=\"text-align: right;\">\n",
              "      <th></th>\n",
              "      <th>params</th>\n",
              "      <th>mean_test_score</th>\n",
              "      <th>rank_test_score</th>\n",
              "      <th>split0_test_score</th>\n",
              "      <th>split1_test_score</th>\n",
              "      <th>split2_test_score</th>\n",
              "    </tr>\n",
              "  </thead>\n",
              "  <tbody>\n",
              "    <tr>\n",
              "      <th>0</th>\n",
              "      <td>{'max_depth': 1, 'min_samples_split': 2}</td>\n",
              "      <td>0.691667</td>\n",
              "      <td>5</td>\n",
              "      <td>0.675</td>\n",
              "      <td>0.700</td>\n",
              "      <td>0.70</td>\n",
              "    </tr>\n",
              "    <tr>\n",
              "      <th>1</th>\n",
              "      <td>{'max_depth': 1, 'min_samples_split': 3}</td>\n",
              "      <td>0.691667</td>\n",
              "      <td>5</td>\n",
              "      <td>0.675</td>\n",
              "      <td>0.700</td>\n",
              "      <td>0.70</td>\n",
              "    </tr>\n",
              "    <tr>\n",
              "      <th>2</th>\n",
              "      <td>{'max_depth': 2, 'min_samples_split': 2}</td>\n",
              "      <td>0.933333</td>\n",
              "      <td>3</td>\n",
              "      <td>0.925</td>\n",
              "      <td>0.925</td>\n",
              "      <td>0.95</td>\n",
              "    </tr>\n",
              "    <tr>\n",
              "      <th>3</th>\n",
              "      <td>{'max_depth': 2, 'min_samples_split': 3}</td>\n",
              "      <td>0.933333</td>\n",
              "      <td>3</td>\n",
              "      <td>0.925</td>\n",
              "      <td>0.925</td>\n",
              "      <td>0.95</td>\n",
              "    </tr>\n",
              "    <tr>\n",
              "      <th>4</th>\n",
              "      <td>{'max_depth': 3, 'min_samples_split': 2}</td>\n",
              "      <td>0.941667</td>\n",
              "      <td>1</td>\n",
              "      <td>0.950</td>\n",
              "      <td>0.925</td>\n",
              "      <td>0.95</td>\n",
              "    </tr>\n",
              "    <tr>\n",
              "      <th>5</th>\n",
              "      <td>{'max_depth': 3, 'min_samples_split': 3}</td>\n",
              "      <td>0.941667</td>\n",
              "      <td>1</td>\n",
              "      <td>0.950</td>\n",
              "      <td>0.925</td>\n",
              "      <td>0.95</td>\n",
              "    </tr>\n",
              "  </tbody>\n",
              "</table>\n",
              "</div>"
            ],
            "text/plain": [
              "                                     params  ...  split2_test_score\n",
              "0  {'max_depth': 1, 'min_samples_split': 2}  ...               0.70\n",
              "1  {'max_depth': 1, 'min_samples_split': 3}  ...               0.70\n",
              "2  {'max_depth': 2, 'min_samples_split': 2}  ...               0.95\n",
              "3  {'max_depth': 2, 'min_samples_split': 3}  ...               0.95\n",
              "4  {'max_depth': 3, 'min_samples_split': 2}  ...               0.95\n",
              "5  {'max_depth': 3, 'min_samples_split': 3}  ...               0.95\n",
              "\n",
              "[6 rows x 6 columns]"
            ]
          },
          "metadata": {
            "tags": []
          },
          "execution_count": 30
        }
      ]
    },
    {
      "cell_type": "markdown",
      "metadata": {
        "id": "gjObNGPzJmSH",
        "colab_type": "text"
      },
      "source": [
        "* params: 수행할 때마다 적용된 개별 하이퍼 파라미터 값\n",
        "* rank_test_score: 하이퍼 파라미터 별로 성능이 좋은 score 순위\n",
        "* mean_test_score: 개별 하이퍼 파라미터별로 CV의 폴딩 테스트 세트에 대해 총 수행한 평가 평균 값"
      ]
    },
    {
      "cell_type": "code",
      "metadata": {
        "id": "kRnEZen4Ka9O",
        "colab_type": "code",
        "colab": {
          "base_uri": "https://localhost:8080/",
          "height": 53
        },
        "outputId": "00fe48ed-fccf-461c-868a-799d47215dd9"
      },
      "source": [
        "print('GridSearchCV 최적 파라미터: ', grid_dtree.best_params_)\n",
        "print('GridSearchCV 최고 정확도: {:.4f}'.format(grid_dtree.best_score_))"
      ],
      "execution_count": 34,
      "outputs": [
        {
          "output_type": "stream",
          "text": [
            "GridSearchCV 최적 파라미터:  {'max_depth': 3, 'min_samples_split': 2}\n",
            "GridSearchCV 최고 정확도: 0.9417\n"
          ],
          "name": "stdout"
        }
      ]
    },
    {
      "cell_type": "code",
      "metadata": {
        "id": "1YHR32hmLV24",
        "colab_type": "code",
        "colab": {
          "base_uri": "https://localhost:8080/",
          "height": 35
        },
        "outputId": "ff519a4f-d427-4bbe-c13e-5a312cf94873"
      },
      "source": [
        "\"\"\"\n",
        "refit=True 이면 GridSearchCV가 최적 성능을 나타내는 하이퍼 파리미터로 Estimator를 학습해 best_estimator_로 저장\n",
        "best_estimator_를 이용해서 테스트 세트에 대한 예측, 성능 평가\n",
        "\"\"\"\n",
        "\n",
        "# GridSearchCV의 refit으로 이미 학습된 estimator 반환\n",
        "estimator = grid_dtree.best_estimator_\n",
        "\n",
        "# GridSearchCV의 best_estimator_는 이미 최적 학습이 됐으므로 별도 학습이 필요없음\n",
        "pred = estimator.predict(X_test)\n",
        "print(\"테스트 데이터 세트 정확도: {:.4f}\".format(accuracy_score(y_test, pred)))"
      ],
      "execution_count": 35,
      "outputs": [
        {
          "output_type": "stream",
          "text": [
            "테스트 데이터 세트 정확도: 0.9333\n"
          ],
          "name": "stdout"
        }
      ]
    },
    {
      "cell_type": "markdown",
      "metadata": {
        "id": "3p7UkMufMASC",
        "colab_type": "text"
      },
      "source": [
        "## 05. 데이터 전처리\n",
        "\n",
        "* ML 알고리즘은 데이터에 기반하기 때문에 입력 데이터에 따라 결과가 크게 바뀐다. (Garbage In, Garbage Out)\n",
        "* 결손값(NaN, Null)값은 고정된 다른 값으로 변환해야 한다.\n",
        "* 사이킷런의 머신러닝 알고리즘은 **문자열**을 입력 값으로 허용하지 않기 때문에 인코딩을 통해 숫자형으로 변환해야 한다.\n",
        "    * 카테고리형 피처: 코드 값으로 이해\n",
        "    * 텍스트형 피처: 벡터화(feature vectorization), 불필요하다면 삭제(식별자 피처 같은 경우, 주민번호, id 등)"
      ]
    },
    {
      "cell_type": "markdown",
      "metadata": {
        "id": "Mxk-z9FMZycG",
        "colab_type": "text"
      },
      "source": [
        "### 데이터 인코딩\n",
        "\n",
        "* **레이블 인코딩(Label Encoding)**\n",
        "    * 카테고리 피처를 코드형 숫자 값으로 변환\n",
        "\n",
        "* **원-핫 인코딩(One Hot Encoding)**"
      ]
    },
    {
      "cell_type": "markdown",
      "metadata": {
        "id": "spi-Cu5FbeQt",
        "colab_type": "text"
      },
      "source": [
        "#### Label Encoding\n",
        "\n",
        "* Label Encoding을 통해 변환할 경우 특정 ML 알고리즘에서 숫자 값에 가중치가 부여되거나 중요하게 인식할 가능성이 있어 예측 성능이 떨어질 수 있다.\n",
        "* 따라서 **선형 회귀**와 같은 ML 알고리즘에는 적용하지 않아야 한다.\n",
        "* **트리** 계열의 ML 알고리즘은 숫자의 이런 특성을 반영하지 않으므로 문제가 없다."
      ]
    },
    {
      "cell_type": "code",
      "metadata": {
        "id": "CEhWXqdtbySx",
        "colab_type": "code",
        "colab": {
          "base_uri": "https://localhost:8080/",
          "height": 35
        },
        "outputId": "8410ee11-0245-4e3e-a7ff-f8112b3e7201"
      },
      "source": [
        "from sklearn.preprocessing import LabelEncoder\n",
        "\n",
        "items = ['TV', '냉장고', '전자레인지', '컴퓨터', '선풍기', '선풍기', '믹서', '믹서']\n",
        "\n",
        "# LabelEncoder를 객체로 생성한 후, fit()과 transform()으로 레이블 인코딩 수행.\n",
        "encoder = LabelEncoder()\n",
        "encoder.fit(items)\n",
        "labels = encoder.transform(items)\n",
        "print('인코딩 변환 값: ', labels)"
      ],
      "execution_count": 37,
      "outputs": [
        {
          "output_type": "stream",
          "text": [
            "인코딩 변환 값:  [0 1 4 5 3 3 2 2]\n"
          ],
          "name": "stdout"
        }
      ]
    },
    {
      "cell_type": "code",
      "metadata": {
        "id": "VQR9DtxtcEmD",
        "colab_type": "code",
        "colab": {
          "base_uri": "https://localhost:8080/",
          "height": 35
        },
        "outputId": "126959fe-23b0-4449-c931-d8291c094586"
      },
      "source": [
        "# 데이터가 큰 경우 어떤 문자열이 인코딩 됐는지 알기 힘들다.\n",
        "# classes_로 확인 가능\n",
        "print('인코딩 클래스: ', encoder.classes_)"
      ],
      "execution_count": 38,
      "outputs": [
        {
          "output_type": "stream",
          "text": [
            "인코딩 클래스:  ['TV' '냉장고' '믹서' '선풍기' '전자레인지' '컴퓨터']\n"
          ],
          "name": "stdout"
        }
      ]
    },
    {
      "cell_type": "code",
      "metadata": {
        "id": "REGpKCc9cea9",
        "colab_type": "code",
        "colab": {
          "base_uri": "https://localhost:8080/",
          "height": 35
        },
        "outputId": "d54afaf4-dc14-4902-a3de-8422663d9d0b"
      },
      "source": [
        "# 디코딩\n",
        "print('디코딩 원본 값: ', encoder.inverse_transform([0, 1, 4, 5, 3, 3, 2, 2]))"
      ],
      "execution_count": 40,
      "outputs": [
        {
          "output_type": "stream",
          "text": [
            "디코딩 원본 값:  ['TV' '냉장고' '전자레인지' '컴퓨터' '선풍기' '선풍기' '믹서' '믹서']\n"
          ],
          "name": "stdout"
        }
      ]
    },
    {
      "cell_type": "markdown",
      "metadata": {
        "id": "AJmzj00Rcu0x",
        "colab_type": "text"
      },
      "source": [
        "#### 원-핫 인코딩 (One-Hot Encoding)\n",
        "\n",
        "* 피처 값의 유형에 따라 새로운 피처를 추가해 고유 값에 해당하는 컬럼에만 1을 표시하고 나머지 컬럼에는 0을 표시하는 방식\n",
        "* 주의할 점\n",
        "    1. OneHotEncoder로 변환하기 전에 모든 문자열 값이 숫자형 값으로 변환돼야 한다는 것\n",
        "    2. 입력 값으로 2차원 데이터가 필요하다는 점\n",
        "\n",
        "* pandas의 get_dummies()를 이용하면 더 쉽다."
      ]
    },
    {
      "cell_type": "code",
      "metadata": {
        "id": "XcdyyeU3dyEQ",
        "colab_type": "code",
        "colab": {
          "base_uri": "https://localhost:8080/",
          "height": 215
        },
        "outputId": "baa40d2e-b581-4572-81ea-2b6a9a84ce77"
      },
      "source": [
        "from sklearn.preprocessing import OneHotEncoder\n",
        "import numpy as np\n",
        "\n",
        "items = ['TV', '냉장고', '전자레인지', '컴퓨터', '선풍기', '선풍기', '믹서', '믹서']\n",
        "\n",
        "# 먼저 숫자 값으로 변환을 위해 LabelEncoder로 변환\n",
        "encoder = LabelEncoder()\n",
        "encoder.fit(items)\n",
        "labels = encoder.transform(items)\n",
        "\n",
        "# 2차원 데이터로 변환\n",
        "labels = labels.reshape(-1, 1)\n",
        "\n",
        "# 원-핫 인코딩을 적용\n",
        "oh_encoder = OneHotEncoder()\n",
        "oh_encoder.fit(labels)\n",
        "oh_labels = oh_encoder.transform(labels)\n",
        "\n",
        "print('원-핫 인코딩 데이터')\n",
        "print(oh_labels.toarray())\n",
        "print('원-핫 인코딩 데이터 차원')\n",
        "print(oh_labels.shape)"
      ],
      "execution_count": 42,
      "outputs": [
        {
          "output_type": "stream",
          "text": [
            "원-핫 인코딩 데이터\n",
            "[[1. 0. 0. 0. 0. 0.]\n",
            " [0. 1. 0. 0. 0. 0.]\n",
            " [0. 0. 0. 0. 1. 0.]\n",
            " [0. 0. 0. 0. 0. 1.]\n",
            " [0. 0. 0. 1. 0. 0.]\n",
            " [0. 0. 0. 1. 0. 0.]\n",
            " [0. 0. 1. 0. 0. 0.]\n",
            " [0. 0. 1. 0. 0. 0.]]\n",
            "원-핫 인코딩 데이터 차원\n",
            "(8, 6)\n"
          ],
          "name": "stdout"
        }
      ]
    },
    {
      "cell_type": "code",
      "metadata": {
        "id": "G4Y1BYYLfhPG",
        "colab_type": "code",
        "colab": {
          "base_uri": "https://localhost:8080/",
          "height": 297
        },
        "outputId": "fc4eafd6-6474-4720-ffce-e3ea58430899"
      },
      "source": [
        "import pandas as pd\n",
        "\n",
        "df = pd.DataFrame({'item': ['TV', '냉장고', '전자레인지', '컴퓨터', '선풍기', '선풍기', '믹서', '믹서']})\n",
        "pd.get_dummies(df)"
      ],
      "execution_count": 45,
      "outputs": [
        {
          "output_type": "execute_result",
          "data": {
            "text/html": [
              "<div>\n",
              "<style scoped>\n",
              "    .dataframe tbody tr th:only-of-type {\n",
              "        vertical-align: middle;\n",
              "    }\n",
              "\n",
              "    .dataframe tbody tr th {\n",
              "        vertical-align: top;\n",
              "    }\n",
              "\n",
              "    .dataframe thead th {\n",
              "        text-align: right;\n",
              "    }\n",
              "</style>\n",
              "<table border=\"1\" class=\"dataframe\">\n",
              "  <thead>\n",
              "    <tr style=\"text-align: right;\">\n",
              "      <th></th>\n",
              "      <th>item_TV</th>\n",
              "      <th>item_냉장고</th>\n",
              "      <th>item_믹서</th>\n",
              "      <th>item_선풍기</th>\n",
              "      <th>item_전자레인지</th>\n",
              "      <th>item_컴퓨터</th>\n",
              "    </tr>\n",
              "  </thead>\n",
              "  <tbody>\n",
              "    <tr>\n",
              "      <th>0</th>\n",
              "      <td>1</td>\n",
              "      <td>0</td>\n",
              "      <td>0</td>\n",
              "      <td>0</td>\n",
              "      <td>0</td>\n",
              "      <td>0</td>\n",
              "    </tr>\n",
              "    <tr>\n",
              "      <th>1</th>\n",
              "      <td>0</td>\n",
              "      <td>1</td>\n",
              "      <td>0</td>\n",
              "      <td>0</td>\n",
              "      <td>0</td>\n",
              "      <td>0</td>\n",
              "    </tr>\n",
              "    <tr>\n",
              "      <th>2</th>\n",
              "      <td>0</td>\n",
              "      <td>0</td>\n",
              "      <td>0</td>\n",
              "      <td>0</td>\n",
              "      <td>1</td>\n",
              "      <td>0</td>\n",
              "    </tr>\n",
              "    <tr>\n",
              "      <th>3</th>\n",
              "      <td>0</td>\n",
              "      <td>0</td>\n",
              "      <td>0</td>\n",
              "      <td>0</td>\n",
              "      <td>0</td>\n",
              "      <td>1</td>\n",
              "    </tr>\n",
              "    <tr>\n",
              "      <th>4</th>\n",
              "      <td>0</td>\n",
              "      <td>0</td>\n",
              "      <td>0</td>\n",
              "      <td>1</td>\n",
              "      <td>0</td>\n",
              "      <td>0</td>\n",
              "    </tr>\n",
              "    <tr>\n",
              "      <th>5</th>\n",
              "      <td>0</td>\n",
              "      <td>0</td>\n",
              "      <td>0</td>\n",
              "      <td>1</td>\n",
              "      <td>0</td>\n",
              "      <td>0</td>\n",
              "    </tr>\n",
              "    <tr>\n",
              "      <th>6</th>\n",
              "      <td>0</td>\n",
              "      <td>0</td>\n",
              "      <td>1</td>\n",
              "      <td>0</td>\n",
              "      <td>0</td>\n",
              "      <td>0</td>\n",
              "    </tr>\n",
              "    <tr>\n",
              "      <th>7</th>\n",
              "      <td>0</td>\n",
              "      <td>0</td>\n",
              "      <td>1</td>\n",
              "      <td>0</td>\n",
              "      <td>0</td>\n",
              "      <td>0</td>\n",
              "    </tr>\n",
              "  </tbody>\n",
              "</table>\n",
              "</div>"
            ],
            "text/plain": [
              "   item_TV  item_냉장고  item_믹서  item_선풍기  item_전자레인지  item_컴퓨터\n",
              "0        1         0        0         0           0         0\n",
              "1        0         1        0         0           0         0\n",
              "2        0         0        0         0           1         0\n",
              "3        0         0        0         0           0         1\n",
              "4        0         0        0         1           0         0\n",
              "5        0         0        0         1           0         0\n",
              "6        0         0        1         0           0         0\n",
              "7        0         0        1         0           0         0"
            ]
          },
          "metadata": {
            "tags": []
          },
          "execution_count": 45
        }
      ]
    },
    {
      "cell_type": "markdown",
      "metadata": {
        "id": "_jBBrhIVf-Pp",
        "colab_type": "text"
      },
      "source": [
        "### 피처 스케일링과 정규화\n",
        "\n",
        "* **Feature Scaling**: 서로 다른 변수의 값 범위를 일정한 수준으로 맞추는 작업\n",
        "* **표준화(Standardization)**\n",
        "    * 데이터의 feature 각각이 **평균이 0이고 분산이 1인 가우시안 정규 분포**를 가진 값으로 변환하는 것\n",
        "    $$x_i \\_new = \\frac{x_i - mean(x)}{stdev(x)}$$\n",
        "\n",
        "* **정규화(Normalization)**\n",
        "    * **서로 다른 피처의 크기를 통일**하기 위해 크기를 변환해주는 개념\n",
        "    $$x_i \\_new = \\frac{x_i - min(x)}{max(x) - min(x)}$$\n",
        "\n",
        "* Scikit-Learn의 Normalizer 모듈\n",
        "    * 선형대수에서의 정규화 개념이 적용, 개별 벡터의 크기를 맞추기 위해 변환하는 것\n",
        "    $$x_i \\_new = \\frac{x_i}{\\sqrt{x_i^2 + y_i^2 + z_i^2 + \\cdots}}$$"
      ]
    },
    {
      "cell_type": "markdown",
      "metadata": {
        "id": "IqEaxYGUgVi_",
        "colab_type": "text"
      },
      "source": [
        "### StandardScaler\n",
        "\n",
        "* 표준화를 지원하는 클래스\n",
        "* 서포트 벡터 머신(Support Vector Machine), 선형 회귀(Linear Regression), 로지스틱 회귀(Logistic Regression) 의 경우 데이터가 가우시안 분포를 가지고 있다고 가정하고 구현되었기 때문에 표준화가 예측 성능에 중요한 역할을 할 수 있다."
      ]
    },
    {
      "cell_type": "code",
      "metadata": {
        "id": "-Gh90YsoI9EE",
        "colab_type": "code",
        "colab": {
          "base_uri": "https://localhost:8080/",
          "height": 251
        },
        "outputId": "e3432a01-64f1-463e-cf55-c86142c00380"
      },
      "source": [
        "from sklearn.datasets import load_iris\n",
        "import pandas as pd\n",
        "\n",
        "# iris data를 로딩하고 DataFrame으로 변환\n",
        "iris = load_iris()\n",
        "iris_data = iris.data\n",
        "iris_df = pd.DataFrame(data=iris_data, columns=iris.feature_names)\n",
        "\n",
        "print('feature 들의 평균 값')\n",
        "print(iris_df.mean())\n",
        "print('\\nfeature 들의 분산 값')\n",
        "print(iris_df.var())"
      ],
      "execution_count": 46,
      "outputs": [
        {
          "output_type": "stream",
          "text": [
            "feature 들의 평균 값\n",
            "sepal length (cm)    5.843333\n",
            "sepal width (cm)     3.057333\n",
            "petal length (cm)    3.758000\n",
            "petal width (cm)     1.199333\n",
            "dtype: float64\n",
            "\n",
            "feature 들의 분산 값\n",
            "sepal length (cm)    0.685694\n",
            "sepal width (cm)     0.189979\n",
            "petal length (cm)    3.116278\n",
            "petal width (cm)     0.581006\n",
            "dtype: float64\n"
          ],
          "name": "stdout"
        }
      ]
    },
    {
      "cell_type": "code",
      "metadata": {
        "id": "mVRnze1HJSMM",
        "colab_type": "code",
        "colab": {
          "base_uri": "https://localhost:8080/",
          "height": 251
        },
        "outputId": "f8461fc6-48d3-4ecc-9039-be7c9ff0e3cc"
      },
      "source": [
        "from sklearn.preprocessing import StandardScaler\n",
        "\n",
        "# StandardScaler 객체 생성\n",
        "scaler = StandardScaler()\n",
        "\n",
        "# StandardScaler로 데이터 세트 변환. fit()과 transform() 호출\n",
        "scaler.fit(iris_df)\n",
        "iris_scaled = scaler.transform(iris_df)\n",
        "\n",
        "# transform() 시 스케일 변환된 데이터 세트가 NumPy ndarray로 반환돼 이를 DataFrame으로 변환\n",
        "iris_df_scaled = pd.DataFrame(data=iris_scaled, columns=iris.feature_names)\n",
        "print('feature 들의 평균 값')\n",
        "print(iris_df_scaled.mean())\n",
        "print('\\nfeature 들의 분산 값')\n",
        "print(iris_df_scaled.var())"
      ],
      "execution_count": 47,
      "outputs": [
        {
          "output_type": "stream",
          "text": [
            "feature 들의 평균 값\n",
            "sepal length (cm)   -1.690315e-15\n",
            "sepal width (cm)    -1.842970e-15\n",
            "petal length (cm)   -1.698641e-15\n",
            "petal width (cm)    -1.409243e-15\n",
            "dtype: float64\n",
            "\n",
            "feature 들의 분산 값\n",
            "sepal length (cm)    1.006711\n",
            "sepal width (cm)     1.006711\n",
            "petal length (cm)    1.006711\n",
            "petal width (cm)     1.006711\n",
            "dtype: float64\n"
          ],
          "name": "stdout"
        }
      ]
    },
    {
      "cell_type": "markdown",
      "metadata": {
        "id": "MszGU1zuJ5B9",
        "colab_type": "text"
      },
      "source": [
        "### MinMaxScaler\n",
        "\n",
        "* 데이터 값을 0과 1사이의 값으로 변환 (음수 값이 있으면 -1에서 1로 변환)"
      ]
    },
    {
      "cell_type": "code",
      "metadata": {
        "id": "_Q8zl9w3KCQ2",
        "colab_type": "code",
        "colab": {
          "base_uri": "https://localhost:8080/",
          "height": 251
        },
        "outputId": "93a4d1bf-eba5-4717-af88-fc9f947430ab"
      },
      "source": [
        "from sklearn.preprocessing import MinMaxScaler\n",
        "\n",
        "# MinMaxScaler 객체 생성\n",
        "scaler = MinMaxScaler()\n",
        "\n",
        "# MinMaxScaler로 데이터 세트 변환. fit()과 transform() 호출\n",
        "scaler.fit(iris_df)\n",
        "iris_df_scaled = scaler.transform(iris_df)\n",
        "\n",
        "# transform() 시 스케일 변환된 데이터 세트가 NumPy ndarray로 반환돼 이를 DataFrame으로 변환\n",
        "iris_df_scaled = pd.DataFrame(iris_df_scaled, columns=iris.feature_names)\n",
        "\n",
        "print('feature 들의 최솟값')\n",
        "print(iris_df_scaled.min())\n",
        "print('\\nfeature들의 최댓값')\n",
        "print(iris_df_scaled.max())"
      ],
      "execution_count": 50,
      "outputs": [
        {
          "output_type": "stream",
          "text": [
            "feature 들의 최솟값\n",
            "sepal length (cm)    0.0\n",
            "sepal width (cm)     0.0\n",
            "petal length (cm)    0.0\n",
            "petal width (cm)     0.0\n",
            "dtype: float64\n",
            "\n",
            "feature들의 최댓값\n",
            "sepal length (cm)    1.0\n",
            "sepal width (cm)     1.0\n",
            "petal length (cm)    1.0\n",
            "petal width (cm)     1.0\n",
            "dtype: float64\n"
          ],
          "name": "stdout"
        }
      ]
    },
    {
      "cell_type": "markdown",
      "metadata": {
        "id": "rD8Ed80lKoPA",
        "colab_type": "text"
      },
      "source": [
        "### 학습 데이터와 테스트 데이터의 스케일링 변환 시 유의점\n",
        "\n",
        "* Scaler 객체 이용 시\n",
        "    * fit(): 데이터 변환을 위한 기준 정보 설정 (ex) 데이터 세트의 최댓값/최솟값 설정 등)\n",
        "    * transform(): 설정된 정보를 이용해 데이터를 변환\n",
        "    * fit_transform(): fit()과 transform()을 한번에 적용\n",
        "\n",
        "* 학습 데이터로 fit()을 하고 transform()을 적용할 때,  \n",
        "테스트 데이터는 학습 데이터의 새로 fit()을 적용하지 않고 transform()만 적용해야 한다. (학습 데이터의 fit()으로 정해진 기준을 바꾸면 안된다.)\n",
        "\n",
        "\n",
        "* fit_transform() 도 마찬가지로 train set에만 적용하고 test set에는 적용하면 안된다.\n",
        "\n",
        "* 요약\n",
        "    1. 가능하다면 전체 데이터의 스케일링 변환을 적용한 뒤 학습과 테스트 데이터로 분리\n",
        "    2. 1이 여의치 않다면 테스트 데이터 변환 시에는 fit()이나 fit_transform()을 적용하지 않고 학습데이터로 이미 fit()된 Scaler 객체를 이용해 transform()으로 변환"
      ]
    },
    {
      "cell_type": "code",
      "metadata": {
        "id": "B4evmg4pK8ps",
        "colab_type": "code",
        "colab": {
          "base_uri": "https://localhost:8080/",
          "height": 53
        },
        "outputId": "fa1acbef-ad86-4028-b34e-579375b8f002"
      },
      "source": [
        "from sklearn.preprocessing import MinMaxScaler\n",
        "import numpy as np\n",
        "\n",
        "# 학습 데이터는 0부터 10까지, 테스트 데이터는 0부터 5까지 값을 가지는 데이터 세트로 생성\n",
        "# Scaler 클래스의 fit(), transfrom()은 2차원 이상 데이터만 가능하므로 reshape(-1, 1)로 차원 변경\n",
        "\n",
        "train_array = np.arange(0, 11).reshape(-1, 1)\n",
        "test_array = np.arange(0, 6).reshape(-1, 1)\n",
        "\n",
        "# MinMaxScaler 객체에 별도의 feature_range 파라미터 값을 지정하지 않으면 0~1 값으로 변환\n",
        "scaler = MinMaxScaler()\n",
        "\n",
        "# fit()하게 되면 train_array 데이터의 최솟값이 0, 최댓값이 10으로 설정\n",
        "scaler.fit(train_array)\n",
        "\n",
        "# 1/10 scale로 train_array 데이터 변환.\n",
        "train_scaled = scaler.transform(train_array)\n",
        "\n",
        "print('원본 train_array 데이터: ', np.round(train_array.reshape(-1), 2))\n",
        "print('Scale된 train_array 데이터: ', np.round(train_scaled.reshape(-1), 2))"
      ],
      "execution_count": 53,
      "outputs": [
        {
          "output_type": "stream",
          "text": [
            "원본 train_array 데이터:  [ 0  1  2  3  4  5  6  7  8  9 10]\n",
            "Scale된 train_array 데이터:  [0.  0.1 0.2 0.3 0.4 0.5 0.6 0.7 0.8 0.9 1. ]\n"
          ],
          "name": "stdout"
        }
      ]
    },
    {
      "cell_type": "code",
      "metadata": {
        "id": "cC9liLDlOTOY",
        "colab_type": "code",
        "colab": {
          "base_uri": "https://localhost:8080/",
          "height": 53
        },
        "outputId": "ced79d7d-5a43-46ec-8881-254eae16acb9"
      },
      "source": [
        "# MinMaxScaler에 test_array를 fit()하게 되면 원본 데이터의 최솟값이 0, 최댓값이 5로 설정됨\n",
        "scaler.fit(test_array)\n",
        "\n",
        "# 1/5 scale로 test_array 데이터 변환\n",
        "test_scaled = scaler.transform(test_array)\n",
        "\n",
        "# test_array의 scale 변환 출력\n",
        "print('원본 test_array 데이터: ', np.round(test_array.reshape(-1), 2))\n",
        "print('Scale된 test_array 데이터: ', np.round(test_scaled.reshape(-1), 2))"
      ],
      "execution_count": 54,
      "outputs": [
        {
          "output_type": "stream",
          "text": [
            "원본 test_array 데이터:  [0 1 2 3 4 5]\n",
            "Scale된 test_array 데이터:  [0.  0.2 0.4 0.6 0.8 1. ]\n"
          ],
          "name": "stdout"
        }
      ]
    },
    {
      "cell_type": "markdown",
      "metadata": {
        "id": "LnxiYRxlOvAo",
        "colab_type": "text"
      },
      "source": [
        "fit()을 test set에 적용하게 되면 train과 test의 다른 값이 같은 값으로 변환되는 경우가 생긴다 (train의 4와 test의 2가 0.4로 변환되었다.)"
      ]
    },
    {
      "cell_type": "code",
      "metadata": {
        "id": "S9sBy1JIPNwR",
        "colab_type": "code",
        "colab": {
          "base_uri": "https://localhost:8080/",
          "height": 107
        },
        "outputId": "893985bf-8e93-4da3-cdcc-15a3c8518f4e"
      },
      "source": [
        "\"\"\"\n",
        "테스트 데이터에 fit()을 호출하지 않고 학습 데이터로 fit()을 수행한 MinMaxScaler 객체에 transform()을 이용해 데이터를 변환\n",
        "출력 결과가 모두 1/10 수준으로 스케일링 되었다.\n",
        "\"\"\"\n",
        "\n",
        "scaler = MinMaxScaler()\n",
        "scaler.fit(train_array)\n",
        "train_scaled = scaler.transform(train_array)\n",
        "\n",
        "print('원본 train_array 데이터: ', np.round(train_array.reshape(-1), 2))\n",
        "print('Scale된 train_array 데이터: ', np.round(train_scaled.reshape(-1), 2))\n",
        "\n",
        "# test_array에 Scale 변환을 할 때는 반드시 fit()을 호출하지 않고 transform()만으로 변환해야 함.\n",
        "test_scaled = scaler.transform(test_array)\n",
        "print('\\n원본 test_array 데이터: ', np.round(test_array.reshape(-1), 2))\n",
        "print('Scale된 test_array 데이터: ', np.round(test_scaled.reshape(-1), 2))"
      ],
      "execution_count": 56,
      "outputs": [
        {
          "output_type": "stream",
          "text": [
            "원본 train_array 데이터:  [ 0  1  2  3  4  5  6  7  8  9 10]\n",
            "Scale된 train_array 데이터:  [0.  0.1 0.2 0.3 0.4 0.5 0.6 0.7 0.8 0.9 1. ]\n",
            "\n",
            "원본 test_array 데이터:  [0 1 2 3 4 5]\n",
            "Scale된 test_array 데이터:  [0.  0.1 0.2 0.3 0.4 0.5]\n"
          ],
          "name": "stdout"
        }
      ]
    },
    {
      "cell_type": "code",
      "metadata": {
        "id": "AQw7EcO6P93b",
        "colab_type": "code",
        "colab": {
          "base_uri": "https://localhost:8080/",
          "height": 269
        },
        "outputId": "55cee63d-5c4e-4734-ba93-d0d4844f6271"
      },
      "source": [
        "# fit_transform()도 적용\n",
        "\n",
        "# train / test 모두 fit_transform() 적용\n",
        "scaler = MinMaxScaler()\n",
        "train_scaled = scaler.fit_transform(train_array)\n",
        "test_scaled = scaler.fit_transform(test_array)\n",
        "\n",
        "print('############################')\n",
        "print(\"train / test에 fit_transform() 적용\")\n",
        "print('원본 train_array 데이터: ', np.round(train_array.reshape(-1), 2))\n",
        "print('Scale된 train_array 데이터: ', np.round(train_scaled.reshape(-1), 2))\n",
        "\n",
        "print('\\n원본 test_array 데이터: ', np.round(test_array.reshape(-1), 2))\n",
        "print('Scale된 test_array 데이터: ', np.round(test_scaled.reshape(-1), 2))\n",
        "\n",
        "# train set에만 fit_transform() 적용 / test set에는 transform()만 적용하면 된다.\n",
        "scaler = MinMaxScaler()\n",
        "train_scaled = scaler.fit_transform(train_array)\n",
        "test_scaled = scaler.transform(test_array)\n",
        "\n",
        "print('')\n",
        "print(\"train 에만 fit_transform() 적용\")\n",
        "print('원본 train_array 데이터: ', np.round(train_array.reshape(-1), 2))\n",
        "print('Scale된 train_array 데이터: ', np.round(train_scaled.reshape(-1), 2))\n",
        "\n",
        "print('\\n원본 test_array 데이터: ', np.round(test_array.reshape(-1), 2))\n",
        "print('Scale된 test_array 데이터: ', np.round(test_scaled.reshape(-1), 2))"
      ],
      "execution_count": 58,
      "outputs": [
        {
          "output_type": "stream",
          "text": [
            "############################\n",
            "train / test에 fit_transform() 적용\n",
            "원본 train_array 데이터:  [ 0  1  2  3  4  5  6  7  8  9 10]\n",
            "Scale된 train_array 데이터:  [0.  0.1 0.2 0.3 0.4 0.5 0.6 0.7 0.8 0.9 1. ]\n",
            "\n",
            "원본 test_array 데이터:  [0 1 2 3 4 5]\n",
            "Scale된 test_array 데이터:  [0.  0.2 0.4 0.6 0.8 1. ]\n",
            "\n",
            "train 에만 fit_transform() 적용\n",
            "원본 train_array 데이터:  [ 0  1  2  3  4  5  6  7  8  9 10]\n",
            "Scale된 train_array 데이터:  [0.  0.1 0.2 0.3 0.4 0.5 0.6 0.7 0.8 0.9 1. ]\n",
            "\n",
            "원본 test_array 데이터:  [0 1 2 3 4 5]\n",
            "Scale된 test_array 데이터:  [0.  0.1 0.2 0.3 0.4 0.5]\n"
          ],
          "name": "stdout"
        }
      ]
    },
    {
      "cell_type": "code",
      "metadata": {
        "id": "gU4jVg6oRYcl",
        "colab_type": "code",
        "colab": {}
      },
      "source": [
        ""
      ],
      "execution_count": null,
      "outputs": []
    }
  ]
}
